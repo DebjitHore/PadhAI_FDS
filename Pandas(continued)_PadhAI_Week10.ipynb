{
  "nbformat": 4,
  "nbformat_minor": 0,
  "metadata": {
    "colab": {
      "name": "Pandas(continued)_PadhAI_Week10.ipynb",
      "provenance": [],
      "collapsed_sections": [],
      "authorship_tag": "ABX9TyPQM2LwtHmJ2I5WZsQPWftj",
      "include_colab_link": true
    },
    "kernelspec": {
      "name": "python3",
      "display_name": "Python 3"
    },
    "language_info": {
      "name": "python"
    }
  },
  "cells": [
    {
      "cell_type": "markdown",
      "metadata": {
        "id": "view-in-github",
        "colab_type": "text"
      },
      "source": [
        "<a href=\"https://colab.research.google.com/github/DebjitHore/PadhAI_FDS/blob/master/Pandas(continued)_PadhAI_Week10.ipynb\" target=\"_parent\"><img src=\"https://colab.research.google.com/assets/colab-badge.svg\" alt=\"Open In Colab\"/></a>"
      ]
    },
    {
      "cell_type": "code",
      "metadata": {
        "id": "S0dMLRAkDNsL"
      },
      "source": [
        "import numpy as np\n",
        "import pandas as pd"
      ],
      "execution_count": 56,
      "outputs": []
    },
    {
      "cell_type": "code",
      "metadata": {
        "colab": {
          "base_uri": "https://localhost:8080/",
          "height": 204
        },
        "id": "o6ij-WPWDVGx",
        "outputId": "98d76087-9f15-401f-89b2-5fe63cb03a0c"
      },
      "source": [
        "df= pd.DataFrame(np.random.randint(0,10,(5,3)))\n",
        "df"
      ],
      "execution_count": 57,
      "outputs": [
        {
          "output_type": "execute_result",
          "data": {
            "text/html": [
              "<div>\n",
              "<style scoped>\n",
              "    .dataframe tbody tr th:only-of-type {\n",
              "        vertical-align: middle;\n",
              "    }\n",
              "\n",
              "    .dataframe tbody tr th {\n",
              "        vertical-align: top;\n",
              "    }\n",
              "\n",
              "    .dataframe thead th {\n",
              "        text-align: right;\n",
              "    }\n",
              "</style>\n",
              "<table border=\"1\" class=\"dataframe\">\n",
              "  <thead>\n",
              "    <tr style=\"text-align: right;\">\n",
              "      <th></th>\n",
              "      <th>0</th>\n",
              "      <th>1</th>\n",
              "      <th>2</th>\n",
              "    </tr>\n",
              "  </thead>\n",
              "  <tbody>\n",
              "    <tr>\n",
              "      <th>0</th>\n",
              "      <td>3</td>\n",
              "      <td>0</td>\n",
              "      <td>5</td>\n",
              "    </tr>\n",
              "    <tr>\n",
              "      <th>1</th>\n",
              "      <td>9</td>\n",
              "      <td>5</td>\n",
              "      <td>4</td>\n",
              "    </tr>\n",
              "    <tr>\n",
              "      <th>2</th>\n",
              "      <td>4</td>\n",
              "      <td>6</td>\n",
              "      <td>9</td>\n",
              "    </tr>\n",
              "    <tr>\n",
              "      <th>3</th>\n",
              "      <td>4</td>\n",
              "      <td>6</td>\n",
              "      <td>9</td>\n",
              "    </tr>\n",
              "    <tr>\n",
              "      <th>4</th>\n",
              "      <td>3</td>\n",
              "      <td>9</td>\n",
              "      <td>7</td>\n",
              "    </tr>\n",
              "  </tbody>\n",
              "</table>\n",
              "</div>"
            ],
            "text/plain": [
              "   0  1  2\n",
              "0  3  0  5\n",
              "1  9  5  4\n",
              "2  4  6  9\n",
              "3  4  6  9\n",
              "4  3  9  7"
            ]
          },
          "metadata": {
            "tags": []
          },
          "execution_count": 57
        }
      ]
    },
    {
      "cell_type": "code",
      "metadata": {
        "id": "f1xG4hnOD0gl"
      },
      "source": [
        "df=df.rename(index= {0:'R1', 1:'R2', 2:'R3', 3:'R4', 4:'R5'},columns = {0:'C1', 1:'C2', 2:'C3'})\n",
        "#Alternative df.index= ['R1', ....'R5'] \n",
        "#df.columns = ['C1'....'C3']"
      ],
      "execution_count": 58,
      "outputs": []
    },
    {
      "cell_type": "code",
      "metadata": {
        "colab": {
          "base_uri": "https://localhost:8080/"
        },
        "id": "zhNbuCAKEz2n",
        "outputId": "3424fd57-0fa5-4296-a740-674e44c1516f"
      },
      "source": [
        "df.loc['R3', 'C2']"
      ],
      "execution_count": 59,
      "outputs": [
        {
          "output_type": "execute_result",
          "data": {
            "text/plain": [
              "6"
            ]
          },
          "metadata": {
            "tags": []
          },
          "execution_count": 59
        }
      ]
    },
    {
      "cell_type": "code",
      "metadata": {
        "colab": {
          "base_uri": "https://localhost:8080/"
        },
        "id": "fTOaOjw3E5w5",
        "outputId": "2d46fbf1-c51f-4544-ffe2-02b0e74c559b"
      },
      "source": [
        "df.iloc[2,1]"
      ],
      "execution_count": 60,
      "outputs": [
        {
          "output_type": "execute_result",
          "data": {
            "text/plain": [
              "6"
            ]
          },
          "metadata": {
            "tags": []
          },
          "execution_count": 60
        }
      ]
    },
    {
      "cell_type": "code",
      "metadata": {
        "colab": {
          "base_uri": "https://localhost:8080/",
          "height": 111
        },
        "id": "HHTpy1cnGKyu",
        "outputId": "575ac351-c951-4b69-a1e8-0ba793265831"
      },
      "source": [
        "df.iloc[2:4, 1:3]"
      ],
      "execution_count": 61,
      "outputs": [
        {
          "output_type": "execute_result",
          "data": {
            "text/html": [
              "<div>\n",
              "<style scoped>\n",
              "    .dataframe tbody tr th:only-of-type {\n",
              "        vertical-align: middle;\n",
              "    }\n",
              "\n",
              "    .dataframe tbody tr th {\n",
              "        vertical-align: top;\n",
              "    }\n",
              "\n",
              "    .dataframe thead th {\n",
              "        text-align: right;\n",
              "    }\n",
              "</style>\n",
              "<table border=\"1\" class=\"dataframe\">\n",
              "  <thead>\n",
              "    <tr style=\"text-align: right;\">\n",
              "      <th></th>\n",
              "      <th>C2</th>\n",
              "      <th>C3</th>\n",
              "    </tr>\n",
              "  </thead>\n",
              "  <tbody>\n",
              "    <tr>\n",
              "      <th>R3</th>\n",
              "      <td>6</td>\n",
              "      <td>9</td>\n",
              "    </tr>\n",
              "    <tr>\n",
              "      <th>R4</th>\n",
              "      <td>6</td>\n",
              "      <td>9</td>\n",
              "    </tr>\n",
              "  </tbody>\n",
              "</table>\n",
              "</div>"
            ],
            "text/plain": [
              "    C2  C3\n",
              "R3   6   9\n",
              "R4   6   9"
            ]
          },
          "metadata": {
            "tags": []
          },
          "execution_count": 61
        }
      ]
    },
    {
      "cell_type": "code",
      "metadata": {
        "colab": {
          "base_uri": "https://localhost:8080/",
          "height": 142
        },
        "id": "cG-uzZPZGeNE",
        "outputId": "4bce5ccf-49e1-490d-d963-85a27be34620"
      },
      "source": [
        "df.loc['R3':'R5', 'C2':'C3']"
      ],
      "execution_count": 62,
      "outputs": [
        {
          "output_type": "execute_result",
          "data": {
            "text/html": [
              "<div>\n",
              "<style scoped>\n",
              "    .dataframe tbody tr th:only-of-type {\n",
              "        vertical-align: middle;\n",
              "    }\n",
              "\n",
              "    .dataframe tbody tr th {\n",
              "        vertical-align: top;\n",
              "    }\n",
              "\n",
              "    .dataframe thead th {\n",
              "        text-align: right;\n",
              "    }\n",
              "</style>\n",
              "<table border=\"1\" class=\"dataframe\">\n",
              "  <thead>\n",
              "    <tr style=\"text-align: right;\">\n",
              "      <th></th>\n",
              "      <th>C2</th>\n",
              "      <th>C3</th>\n",
              "    </tr>\n",
              "  </thead>\n",
              "  <tbody>\n",
              "    <tr>\n",
              "      <th>R3</th>\n",
              "      <td>6</td>\n",
              "      <td>9</td>\n",
              "    </tr>\n",
              "    <tr>\n",
              "      <th>R4</th>\n",
              "      <td>6</td>\n",
              "      <td>9</td>\n",
              "    </tr>\n",
              "    <tr>\n",
              "      <th>R5</th>\n",
              "      <td>9</td>\n",
              "      <td>7</td>\n",
              "    </tr>\n",
              "  </tbody>\n",
              "</table>\n",
              "</div>"
            ],
            "text/plain": [
              "    C2  C3\n",
              "R3   6   9\n",
              "R4   6   9\n",
              "R5   9   7"
            ]
          },
          "metadata": {
            "tags": []
          },
          "execution_count": 62
        }
      ]
    },
    {
      "cell_type": "code",
      "metadata": {
        "colab": {
          "base_uri": "https://localhost:8080/"
        },
        "id": "8p2QjAJeGnVa",
        "outputId": "458d3a5e-c637-47c6-d69d-d2c8ff7b98be"
      },
      "source": [
        "df.iloc[0] #A series object containing all the first row elements is returned"
      ],
      "execution_count": 63,
      "outputs": [
        {
          "output_type": "execute_result",
          "data": {
            "text/plain": [
              "C1    3\n",
              "C2    0\n",
              "C3    5\n",
              "Name: R1, dtype: int64"
            ]
          },
          "metadata": {
            "tags": []
          },
          "execution_count": 63
        }
      ]
    },
    {
      "cell_type": "code",
      "metadata": {
        "colab": {
          "base_uri": "https://localhost:8080/"
        },
        "id": "1EvUgtQwG1DS",
        "outputId": "8c5cc0e1-b6ae-460d-a9f2-3d2dc87cd9eb"
      },
      "source": [
        "df.iloc[:,0]"
      ],
      "execution_count": 64,
      "outputs": [
        {
          "output_type": "execute_result",
          "data": {
            "text/plain": [
              "R1    3\n",
              "R2    9\n",
              "R3    4\n",
              "R4    4\n",
              "R5    3\n",
              "Name: C1, dtype: int64"
            ]
          },
          "metadata": {
            "tags": []
          },
          "execution_count": 64
        }
      ]
    },
    {
      "cell_type": "code",
      "metadata": {
        "colab": {
          "base_uri": "https://localhost:8080/",
          "height": 142
        },
        "id": "EIGOv82cG_5y",
        "outputId": "e056d1cc-6fa4-4184-a11d-9b8514b9a21f"
      },
      "source": [
        "df.T"
      ],
      "execution_count": 65,
      "outputs": [
        {
          "output_type": "execute_result",
          "data": {
            "text/html": [
              "<div>\n",
              "<style scoped>\n",
              "    .dataframe tbody tr th:only-of-type {\n",
              "        vertical-align: middle;\n",
              "    }\n",
              "\n",
              "    .dataframe tbody tr th {\n",
              "        vertical-align: top;\n",
              "    }\n",
              "\n",
              "    .dataframe thead th {\n",
              "        text-align: right;\n",
              "    }\n",
              "</style>\n",
              "<table border=\"1\" class=\"dataframe\">\n",
              "  <thead>\n",
              "    <tr style=\"text-align: right;\">\n",
              "      <th></th>\n",
              "      <th>R1</th>\n",
              "      <th>R2</th>\n",
              "      <th>R3</th>\n",
              "      <th>R4</th>\n",
              "      <th>R5</th>\n",
              "    </tr>\n",
              "  </thead>\n",
              "  <tbody>\n",
              "    <tr>\n",
              "      <th>C1</th>\n",
              "      <td>3</td>\n",
              "      <td>9</td>\n",
              "      <td>4</td>\n",
              "      <td>4</td>\n",
              "      <td>3</td>\n",
              "    </tr>\n",
              "    <tr>\n",
              "      <th>C2</th>\n",
              "      <td>0</td>\n",
              "      <td>5</td>\n",
              "      <td>6</td>\n",
              "      <td>6</td>\n",
              "      <td>9</td>\n",
              "    </tr>\n",
              "    <tr>\n",
              "      <th>C3</th>\n",
              "      <td>5</td>\n",
              "      <td>4</td>\n",
              "      <td>9</td>\n",
              "      <td>9</td>\n",
              "      <td>7</td>\n",
              "    </tr>\n",
              "  </tbody>\n",
              "</table>\n",
              "</div>"
            ],
            "text/plain": [
              "    R1  R2  R3  R4  R5\n",
              "C1   3   9   4   4   3\n",
              "C2   0   5   6   6   9\n",
              "C3   5   4   9   9   7"
            ]
          },
          "metadata": {
            "tags": []
          },
          "execution_count": 65
        }
      ]
    },
    {
      "cell_type": "code",
      "metadata": {
        "id": "dy6AQ3rJHSGC"
      },
      "source": [
        "def create_df(nRows, nCols, maxValue):\n",
        "  arr= np.random.randint(0, maxValue, (nRows, nCols))\n",
        "  df=pd.DataFrame(arr)\n",
        "  df.index= ['R'+ str(x) for x in np.arange(1, nRows+1)]\n",
        "  df.columns= ['C'+ str(x) for x in np.arange(1, nCols+1)]\n",
        "  return df"
      ],
      "execution_count": 66,
      "outputs": []
    },
    {
      "cell_type": "code",
      "metadata": {
        "colab": {
          "base_uri": "https://localhost:8080/",
          "height": 204
        },
        "id": "daWXRZWYLyy4",
        "outputId": "6d67d73b-70a8-4d05-f99e-d00dd76f2ec4"
      },
      "source": [
        "create_df(5,3, 15)"
      ],
      "execution_count": 67,
      "outputs": [
        {
          "output_type": "execute_result",
          "data": {
            "text/html": [
              "<div>\n",
              "<style scoped>\n",
              "    .dataframe tbody tr th:only-of-type {\n",
              "        vertical-align: middle;\n",
              "    }\n",
              "\n",
              "    .dataframe tbody tr th {\n",
              "        vertical-align: top;\n",
              "    }\n",
              "\n",
              "    .dataframe thead th {\n",
              "        text-align: right;\n",
              "    }\n",
              "</style>\n",
              "<table border=\"1\" class=\"dataframe\">\n",
              "  <thead>\n",
              "    <tr style=\"text-align: right;\">\n",
              "      <th></th>\n",
              "      <th>C1</th>\n",
              "      <th>C2</th>\n",
              "      <th>C3</th>\n",
              "    </tr>\n",
              "  </thead>\n",
              "  <tbody>\n",
              "    <tr>\n",
              "      <th>R1</th>\n",
              "      <td>12</td>\n",
              "      <td>5</td>\n",
              "      <td>6</td>\n",
              "    </tr>\n",
              "    <tr>\n",
              "      <th>R2</th>\n",
              "      <td>1</td>\n",
              "      <td>7</td>\n",
              "      <td>11</td>\n",
              "    </tr>\n",
              "    <tr>\n",
              "      <th>R3</th>\n",
              "      <td>0</td>\n",
              "      <td>6</td>\n",
              "      <td>7</td>\n",
              "    </tr>\n",
              "    <tr>\n",
              "      <th>R4</th>\n",
              "      <td>13</td>\n",
              "      <td>5</td>\n",
              "      <td>0</td>\n",
              "    </tr>\n",
              "    <tr>\n",
              "      <th>R5</th>\n",
              "      <td>1</td>\n",
              "      <td>10</td>\n",
              "      <td>8</td>\n",
              "    </tr>\n",
              "  </tbody>\n",
              "</table>\n",
              "</div>"
            ],
            "text/plain": [
              "    C1  C2  C3\n",
              "R1  12   5   6\n",
              "R2   1   7  11\n",
              "R3   0   6   7\n",
              "R4  13   5   0\n",
              "R5   1  10   8"
            ]
          },
          "metadata": {
            "tags": []
          },
          "execution_count": 67
        }
      ]
    },
    {
      "cell_type": "code",
      "metadata": {
        "colab": {
          "base_uri": "https://localhost:8080/"
        },
        "id": "w9yaM-NtL4V6",
        "outputId": "75ae3c61-76e5-403c-eb7d-e7c54c9c4b88"
      },
      "source": [
        "mass = pd.Series([0.33, 4.87, 5.97, 0.642, 1898, 568, 86.8, 102, 0.0146], \n",
        "                 index=['Mercury', 'Venus', 'Earth', 'Mars', 'Jupiter', 'Saturn', 'Uranus', 'Neptune', 'Pluto'])\n",
        "diameter = pd.Series([4879, 12104, 12756, 3475, 6792, 142984, 120536, 51118, 49528, 2370], \n",
        "                     index=['Mercury', 'Venus', 'Earth', 'Moon', 'Mars', 'Jupiter', 'Saturn', 'Uranus', 'Neptune', 'Pluto'])\n",
        "print(mass, diameter)\n",
        "np.mean(mass)"
      ],
      "execution_count": 68,
      "outputs": [
        {
          "output_type": "stream",
          "text": [
            "Mercury       0.3300\n",
            "Venus         4.8700\n",
            "Earth         5.9700\n",
            "Mars          0.6420\n",
            "Jupiter    1898.0000\n",
            "Saturn      568.0000\n",
            "Uranus       86.8000\n",
            "Neptune     102.0000\n",
            "Pluto         0.0146\n",
            "dtype: float64 Mercury      4879\n",
            "Venus       12104\n",
            "Earth       12756\n",
            "Moon         3475\n",
            "Mars         6792\n",
            "Jupiter    142984\n",
            "Saturn     120536\n",
            "Uranus      51118\n",
            "Neptune     49528\n",
            "Pluto        2370\n",
            "dtype: int64\n"
          ],
          "name": "stdout"
        },
        {
          "output_type": "execute_result",
          "data": {
            "text/plain": [
              "296.29184444444445"
            ]
          },
          "metadata": {
            "tags": []
          },
          "execution_count": 68
        }
      ]
    },
    {
      "cell_type": "code",
      "metadata": {
        "colab": {
          "base_uri": "https://localhost:8080/",
          "height": 359
        },
        "id": "ZuT9cpF7MZmJ",
        "outputId": "7ab61bc2-d089-4263-dea9-ccf3f82d0909"
      },
      "source": [
        "df= pd.DataFrame({\n",
        "    'Mass': mass,\n",
        "    'Diameter':diameter\n",
        "})\n",
        "df"
      ],
      "execution_count": 69,
      "outputs": [
        {
          "output_type": "execute_result",
          "data": {
            "text/html": [
              "<div>\n",
              "<style scoped>\n",
              "    .dataframe tbody tr th:only-of-type {\n",
              "        vertical-align: middle;\n",
              "    }\n",
              "\n",
              "    .dataframe tbody tr th {\n",
              "        vertical-align: top;\n",
              "    }\n",
              "\n",
              "    .dataframe thead th {\n",
              "        text-align: right;\n",
              "    }\n",
              "</style>\n",
              "<table border=\"1\" class=\"dataframe\">\n",
              "  <thead>\n",
              "    <tr style=\"text-align: right;\">\n",
              "      <th></th>\n",
              "      <th>Mass</th>\n",
              "      <th>Diameter</th>\n",
              "    </tr>\n",
              "  </thead>\n",
              "  <tbody>\n",
              "    <tr>\n",
              "      <th>Earth</th>\n",
              "      <td>5.9700</td>\n",
              "      <td>12756</td>\n",
              "    </tr>\n",
              "    <tr>\n",
              "      <th>Jupiter</th>\n",
              "      <td>1898.0000</td>\n",
              "      <td>142984</td>\n",
              "    </tr>\n",
              "    <tr>\n",
              "      <th>Mars</th>\n",
              "      <td>0.6420</td>\n",
              "      <td>6792</td>\n",
              "    </tr>\n",
              "    <tr>\n",
              "      <th>Mercury</th>\n",
              "      <td>0.3300</td>\n",
              "      <td>4879</td>\n",
              "    </tr>\n",
              "    <tr>\n",
              "      <th>Moon</th>\n",
              "      <td>NaN</td>\n",
              "      <td>3475</td>\n",
              "    </tr>\n",
              "    <tr>\n",
              "      <th>Neptune</th>\n",
              "      <td>102.0000</td>\n",
              "      <td>49528</td>\n",
              "    </tr>\n",
              "    <tr>\n",
              "      <th>Pluto</th>\n",
              "      <td>0.0146</td>\n",
              "      <td>2370</td>\n",
              "    </tr>\n",
              "    <tr>\n",
              "      <th>Saturn</th>\n",
              "      <td>568.0000</td>\n",
              "      <td>120536</td>\n",
              "    </tr>\n",
              "    <tr>\n",
              "      <th>Uranus</th>\n",
              "      <td>86.8000</td>\n",
              "      <td>51118</td>\n",
              "    </tr>\n",
              "    <tr>\n",
              "      <th>Venus</th>\n",
              "      <td>4.8700</td>\n",
              "      <td>12104</td>\n",
              "    </tr>\n",
              "  </tbody>\n",
              "</table>\n",
              "</div>"
            ],
            "text/plain": [
              "              Mass  Diameter\n",
              "Earth       5.9700     12756\n",
              "Jupiter  1898.0000    142984\n",
              "Mars        0.6420      6792\n",
              "Mercury     0.3300      4879\n",
              "Moon           NaN      3475\n",
              "Neptune   102.0000     49528\n",
              "Pluto       0.0146      2370\n",
              "Saturn    568.0000    120536\n",
              "Uranus     86.8000     51118\n",
              "Venus       4.8700     12104"
            ]
          },
          "metadata": {
            "tags": []
          },
          "execution_count": 69
        }
      ]
    },
    {
      "cell_type": "code",
      "metadata": {
        "colab": {
          "base_uri": "https://localhost:8080/"
        },
        "id": "DM5ZRKmfMxY6",
        "outputId": "82de6552-6eb7-429f-ef8e-190ef9944fdb"
      },
      "source": [
        "df.loc['Earth', 'Mass']"
      ],
      "execution_count": 70,
      "outputs": [
        {
          "output_type": "execute_result",
          "data": {
            "text/plain": [
              "5.97"
            ]
          },
          "metadata": {
            "tags": []
          },
          "execution_count": 70
        }
      ]
    },
    {
      "cell_type": "code",
      "metadata": {
        "id": "UwnlaUBGOOHL"
      },
      "source": [
        "df['Population']= 0 \n",
        "#lambda x: x=10e9 if df.index=='Earth' else x=0"
      ],
      "execution_count": 71,
      "outputs": []
    },
    {
      "cell_type": "code",
      "metadata": {
        "colab": {
          "base_uri": "https://localhost:8080/",
          "height": 359
        },
        "id": "gD91d6N1Ou_Q",
        "outputId": "00f05dc9-b02a-456d-bb29-2e466c2b889a"
      },
      "source": [
        "df.loc['Earth', 'Population']= 8*10e9\n",
        "df"
      ],
      "execution_count": 72,
      "outputs": [
        {
          "output_type": "execute_result",
          "data": {
            "text/html": [
              "<div>\n",
              "<style scoped>\n",
              "    .dataframe tbody tr th:only-of-type {\n",
              "        vertical-align: middle;\n",
              "    }\n",
              "\n",
              "    .dataframe tbody tr th {\n",
              "        vertical-align: top;\n",
              "    }\n",
              "\n",
              "    .dataframe thead th {\n",
              "        text-align: right;\n",
              "    }\n",
              "</style>\n",
              "<table border=\"1\" class=\"dataframe\">\n",
              "  <thead>\n",
              "    <tr style=\"text-align: right;\">\n",
              "      <th></th>\n",
              "      <th>Mass</th>\n",
              "      <th>Diameter</th>\n",
              "      <th>Population</th>\n",
              "    </tr>\n",
              "  </thead>\n",
              "  <tbody>\n",
              "    <tr>\n",
              "      <th>Earth</th>\n",
              "      <td>5.9700</td>\n",
              "      <td>12756</td>\n",
              "      <td>80000000000</td>\n",
              "    </tr>\n",
              "    <tr>\n",
              "      <th>Jupiter</th>\n",
              "      <td>1898.0000</td>\n",
              "      <td>142984</td>\n",
              "      <td>0</td>\n",
              "    </tr>\n",
              "    <tr>\n",
              "      <th>Mars</th>\n",
              "      <td>0.6420</td>\n",
              "      <td>6792</td>\n",
              "      <td>0</td>\n",
              "    </tr>\n",
              "    <tr>\n",
              "      <th>Mercury</th>\n",
              "      <td>0.3300</td>\n",
              "      <td>4879</td>\n",
              "      <td>0</td>\n",
              "    </tr>\n",
              "    <tr>\n",
              "      <th>Moon</th>\n",
              "      <td>NaN</td>\n",
              "      <td>3475</td>\n",
              "      <td>0</td>\n",
              "    </tr>\n",
              "    <tr>\n",
              "      <th>Neptune</th>\n",
              "      <td>102.0000</td>\n",
              "      <td>49528</td>\n",
              "      <td>0</td>\n",
              "    </tr>\n",
              "    <tr>\n",
              "      <th>Pluto</th>\n",
              "      <td>0.0146</td>\n",
              "      <td>2370</td>\n",
              "      <td>0</td>\n",
              "    </tr>\n",
              "    <tr>\n",
              "      <th>Saturn</th>\n",
              "      <td>568.0000</td>\n",
              "      <td>120536</td>\n",
              "      <td>0</td>\n",
              "    </tr>\n",
              "    <tr>\n",
              "      <th>Uranus</th>\n",
              "      <td>86.8000</td>\n",
              "      <td>51118</td>\n",
              "      <td>0</td>\n",
              "    </tr>\n",
              "    <tr>\n",
              "      <th>Venus</th>\n",
              "      <td>4.8700</td>\n",
              "      <td>12104</td>\n",
              "      <td>0</td>\n",
              "    </tr>\n",
              "  </tbody>\n",
              "</table>\n",
              "</div>"
            ],
            "text/plain": [
              "              Mass  Diameter   Population\n",
              "Earth       5.9700     12756  80000000000\n",
              "Jupiter  1898.0000    142984            0\n",
              "Mars        0.6420      6792            0\n",
              "Mercury     0.3300      4879            0\n",
              "Moon           NaN      3475            0\n",
              "Neptune   102.0000     49528            0\n",
              "Pluto       0.0146      2370            0\n",
              "Saturn    568.0000    120536            0\n",
              "Uranus     86.8000     51118            0\n",
              "Venus       4.8700     12104            0"
            ]
          },
          "metadata": {
            "tags": []
          },
          "execution_count": 72
        }
      ]
    },
    {
      "cell_type": "code",
      "metadata": {
        "colab": {
          "base_uri": "https://localhost:8080/"
        },
        "id": "cMJcTHJuRTVL",
        "outputId": "19baaff7-cf53-47f6-b4cb-7c46e579edf7"
      },
      "source": [
        "df.loc['Column Mean']=0\n",
        "#df=df.drop('Moon') \n",
        "np.mean(df['Mass'])"
      ],
      "execution_count": 73,
      "outputs": [
        {
          "output_type": "execute_result",
          "data": {
            "text/plain": [
              "266.66266"
            ]
          },
          "metadata": {
            "tags": []
          },
          "execution_count": 73
        }
      ]
    },
    {
      "cell_type": "code",
      "metadata": {
        "id": "v8SZpFsiPlvm"
      },
      "source": [
        "def create_meanrow(df):\n",
        "  #mean_mass= np.mean(df.loc[:, 'Mass'])\n",
        "  #mean_dia= np.mean(df.loc[:, 'Diameter'])\n",
        "  #mean_pop= np.mean(df.loc[:, 'Population'])\n",
        "  #df.loc['Column Mean']= [mean_mass, mean_dia, mean_pop]\n",
        "  #df.loc['Column Mean']= [np.mean(df[col] for col in df.columns)]\n",
        "  df.loc['Column Mean']= df.mean()\n",
        "  return df"
      ],
      "execution_count": 74,
      "outputs": []
    },
    {
      "cell_type": "code",
      "metadata": {
        "colab": {
          "base_uri": "https://localhost:8080/",
          "height": 390
        },
        "id": "IN2iMvTBSsdt",
        "outputId": "618b2b7e-5713-429b-963f-82ee359f98c8"
      },
      "source": [
        "create_meanrow(df)"
      ],
      "execution_count": 75,
      "outputs": [
        {
          "output_type": "execute_result",
          "data": {
            "text/html": [
              "<div>\n",
              "<style scoped>\n",
              "    .dataframe tbody tr th:only-of-type {\n",
              "        vertical-align: middle;\n",
              "    }\n",
              "\n",
              "    .dataframe tbody tr th {\n",
              "        vertical-align: top;\n",
              "    }\n",
              "\n",
              "    .dataframe thead th {\n",
              "        text-align: right;\n",
              "    }\n",
              "</style>\n",
              "<table border=\"1\" class=\"dataframe\">\n",
              "  <thead>\n",
              "    <tr style=\"text-align: right;\">\n",
              "      <th></th>\n",
              "      <th>Mass</th>\n",
              "      <th>Diameter</th>\n",
              "      <th>Population</th>\n",
              "    </tr>\n",
              "  </thead>\n",
              "  <tbody>\n",
              "    <tr>\n",
              "      <th>Earth</th>\n",
              "      <td>5.97000</td>\n",
              "      <td>12756.000000</td>\n",
              "      <td>8.000000e+10</td>\n",
              "    </tr>\n",
              "    <tr>\n",
              "      <th>Jupiter</th>\n",
              "      <td>1898.00000</td>\n",
              "      <td>142984.000000</td>\n",
              "      <td>0.000000e+00</td>\n",
              "    </tr>\n",
              "    <tr>\n",
              "      <th>Mars</th>\n",
              "      <td>0.64200</td>\n",
              "      <td>6792.000000</td>\n",
              "      <td>0.000000e+00</td>\n",
              "    </tr>\n",
              "    <tr>\n",
              "      <th>Mercury</th>\n",
              "      <td>0.33000</td>\n",
              "      <td>4879.000000</td>\n",
              "      <td>0.000000e+00</td>\n",
              "    </tr>\n",
              "    <tr>\n",
              "      <th>Moon</th>\n",
              "      <td>NaN</td>\n",
              "      <td>3475.000000</td>\n",
              "      <td>0.000000e+00</td>\n",
              "    </tr>\n",
              "    <tr>\n",
              "      <th>Neptune</th>\n",
              "      <td>102.00000</td>\n",
              "      <td>49528.000000</td>\n",
              "      <td>0.000000e+00</td>\n",
              "    </tr>\n",
              "    <tr>\n",
              "      <th>Pluto</th>\n",
              "      <td>0.01460</td>\n",
              "      <td>2370.000000</td>\n",
              "      <td>0.000000e+00</td>\n",
              "    </tr>\n",
              "    <tr>\n",
              "      <th>Saturn</th>\n",
              "      <td>568.00000</td>\n",
              "      <td>120536.000000</td>\n",
              "      <td>0.000000e+00</td>\n",
              "    </tr>\n",
              "    <tr>\n",
              "      <th>Uranus</th>\n",
              "      <td>86.80000</td>\n",
              "      <td>51118.000000</td>\n",
              "      <td>0.000000e+00</td>\n",
              "    </tr>\n",
              "    <tr>\n",
              "      <th>Venus</th>\n",
              "      <td>4.87000</td>\n",
              "      <td>12104.000000</td>\n",
              "      <td>0.000000e+00</td>\n",
              "    </tr>\n",
              "    <tr>\n",
              "      <th>Column Mean</th>\n",
              "      <td>266.66266</td>\n",
              "      <td>36958.363636</td>\n",
              "      <td>7.272727e+09</td>\n",
              "    </tr>\n",
              "  </tbody>\n",
              "</table>\n",
              "</div>"
            ],
            "text/plain": [
              "                   Mass       Diameter    Population\n",
              "Earth           5.97000   12756.000000  8.000000e+10\n",
              "Jupiter      1898.00000  142984.000000  0.000000e+00\n",
              "Mars            0.64200    6792.000000  0.000000e+00\n",
              "Mercury         0.33000    4879.000000  0.000000e+00\n",
              "Moon                NaN    3475.000000  0.000000e+00\n",
              "Neptune       102.00000   49528.000000  0.000000e+00\n",
              "Pluto           0.01460    2370.000000  0.000000e+00\n",
              "Saturn        568.00000  120536.000000  0.000000e+00\n",
              "Uranus         86.80000   51118.000000  0.000000e+00\n",
              "Venus           4.87000   12104.000000  0.000000e+00\n",
              "Column Mean   266.66266   36958.363636  7.272727e+09"
            ]
          },
          "metadata": {
            "tags": []
          },
          "execution_count": 75
        }
      ]
    },
    {
      "cell_type": "code",
      "metadata": {
        "colab": {
          "base_uri": "https://localhost:8080/",
          "height": 297
        },
        "id": "QU18ra8bStXT",
        "outputId": "fee2b6e0-7386-4bf8-b27b-7109928b3cf9"
      },
      "source": [
        "df.describe()"
      ],
      "execution_count": 76,
      "outputs": [
        {
          "output_type": "execute_result",
          "data": {
            "text/html": [
              "<div>\n",
              "<style scoped>\n",
              "    .dataframe tbody tr th:only-of-type {\n",
              "        vertical-align: middle;\n",
              "    }\n",
              "\n",
              "    .dataframe tbody tr th {\n",
              "        vertical-align: top;\n",
              "    }\n",
              "\n",
              "    .dataframe thead th {\n",
              "        text-align: right;\n",
              "    }\n",
              "</style>\n",
              "<table border=\"1\" class=\"dataframe\">\n",
              "  <thead>\n",
              "    <tr style=\"text-align: right;\">\n",
              "      <th></th>\n",
              "      <th>Mass</th>\n",
              "      <th>Diameter</th>\n",
              "      <th>Population</th>\n",
              "    </tr>\n",
              "  </thead>\n",
              "  <tbody>\n",
              "    <tr>\n",
              "      <th>count</th>\n",
              "      <td>10.000000</td>\n",
              "      <td>11.000000</td>\n",
              "      <td>1.100000e+01</td>\n",
              "    </tr>\n",
              "    <tr>\n",
              "      <th>mean</th>\n",
              "      <td>293.328926</td>\n",
              "      <td>40318.214876</td>\n",
              "      <td>7.933884e+09</td>\n",
              "    </tr>\n",
              "    <tr>\n",
              "      <th>std</th>\n",
              "      <td>591.956878</td>\n",
              "      <td>48909.153260</td>\n",
              "      <td>2.400100e+10</td>\n",
              "    </tr>\n",
              "    <tr>\n",
              "      <th>min</th>\n",
              "      <td>0.014600</td>\n",
              "      <td>2370.000000</td>\n",
              "      <td>0.000000e+00</td>\n",
              "    </tr>\n",
              "    <tr>\n",
              "      <th>25%</th>\n",
              "      <td>1.699000</td>\n",
              "      <td>5835.500000</td>\n",
              "      <td>0.000000e+00</td>\n",
              "    </tr>\n",
              "    <tr>\n",
              "      <th>50%</th>\n",
              "      <td>46.385000</td>\n",
              "      <td>12756.000000</td>\n",
              "      <td>0.000000e+00</td>\n",
              "    </tr>\n",
              "    <tr>\n",
              "      <th>75%</th>\n",
              "      <td>225.496995</td>\n",
              "      <td>50323.000000</td>\n",
              "      <td>0.000000e+00</td>\n",
              "    </tr>\n",
              "    <tr>\n",
              "      <th>max</th>\n",
              "      <td>1898.000000</td>\n",
              "      <td>142984.000000</td>\n",
              "      <td>8.000000e+10</td>\n",
              "    </tr>\n",
              "  </tbody>\n",
              "</table>\n",
              "</div>"
            ],
            "text/plain": [
              "              Mass       Diameter    Population\n",
              "count    10.000000      11.000000  1.100000e+01\n",
              "mean    293.328926   40318.214876  7.933884e+09\n",
              "std     591.956878   48909.153260  2.400100e+10\n",
              "min       0.014600    2370.000000  0.000000e+00\n",
              "25%       1.699000    5835.500000  0.000000e+00\n",
              "50%      46.385000   12756.000000  0.000000e+00\n",
              "75%     225.496995   50323.000000  0.000000e+00\n",
              "max    1898.000000  142984.000000  8.000000e+10"
            ]
          },
          "metadata": {
            "tags": []
          },
          "execution_count": 76
        }
      ]
    },
    {
      "cell_type": "code",
      "metadata": {
        "id": "7eKgvQUlXZbh"
      },
      "source": [
        "import seaborn as sns"
      ],
      "execution_count": 77,
      "outputs": []
    },
    {
      "cell_type": "code",
      "metadata": {
        "colab": {
          "base_uri": "https://localhost:8080/"
        },
        "id": "xFyMkj5yYhD_",
        "outputId": "7a5f3189-58d3-47fb-d9be-ee6369a6e105"
      },
      "source": [
        "planets= sns.load_dataset('planets')\n",
        "planets.shape"
      ],
      "execution_count": 78,
      "outputs": [
        {
          "output_type": "execute_result",
          "data": {
            "text/plain": [
              "(1035, 6)"
            ]
          },
          "metadata": {
            "tags": []
          },
          "execution_count": 78
        }
      ]
    },
    {
      "cell_type": "code",
      "metadata": {
        "colab": {
          "base_uri": "https://localhost:8080/"
        },
        "id": "9-bgUxzaY1qa",
        "outputId": "593e8e00-ae19-471d-b7c4-b2edcc54a3a7"
      },
      "source": [
        "type(planets)"
      ],
      "execution_count": 79,
      "outputs": [
        {
          "output_type": "execute_result",
          "data": {
            "text/plain": [
              "pandas.core.frame.DataFrame"
            ]
          },
          "metadata": {
            "tags": []
          },
          "execution_count": 79
        }
      ]
    },
    {
      "cell_type": "code",
      "metadata": {
        "colab": {
          "base_uri": "https://localhost:8080/"
        },
        "id": "JBSmXuLaY342",
        "outputId": "4e97a811-8d65-41bf-865e-ef55c5610433"
      },
      "source": [
        "planets.info()"
      ],
      "execution_count": 80,
      "outputs": [
        {
          "output_type": "stream",
          "text": [
            "<class 'pandas.core.frame.DataFrame'>\n",
            "RangeIndex: 1035 entries, 0 to 1034\n",
            "Data columns (total 6 columns):\n",
            " #   Column          Non-Null Count  Dtype  \n",
            "---  ------          --------------  -----  \n",
            " 0   method          1035 non-null   object \n",
            " 1   number          1035 non-null   int64  \n",
            " 2   orbital_period  992 non-null    float64\n",
            " 3   mass            513 non-null    float64\n",
            " 4   distance        808 non-null    float64\n",
            " 5   year            1035 non-null   int64  \n",
            "dtypes: float64(3), int64(2), object(1)\n",
            "memory usage: 48.6+ KB\n"
          ],
          "name": "stdout"
        }
      ]
    },
    {
      "cell_type": "code",
      "metadata": {
        "colab": {
          "base_uri": "https://localhost:8080/",
          "height": 204
        },
        "id": "tEBck1TIZJue",
        "outputId": "0442dd74-0853-416a-c5e6-ec46c718743b"
      },
      "source": [
        "planets.head(5)"
      ],
      "execution_count": 81,
      "outputs": [
        {
          "output_type": "execute_result",
          "data": {
            "text/html": [
              "<div>\n",
              "<style scoped>\n",
              "    .dataframe tbody tr th:only-of-type {\n",
              "        vertical-align: middle;\n",
              "    }\n",
              "\n",
              "    .dataframe tbody tr th {\n",
              "        vertical-align: top;\n",
              "    }\n",
              "\n",
              "    .dataframe thead th {\n",
              "        text-align: right;\n",
              "    }\n",
              "</style>\n",
              "<table border=\"1\" class=\"dataframe\">\n",
              "  <thead>\n",
              "    <tr style=\"text-align: right;\">\n",
              "      <th></th>\n",
              "      <th>method</th>\n",
              "      <th>number</th>\n",
              "      <th>orbital_period</th>\n",
              "      <th>mass</th>\n",
              "      <th>distance</th>\n",
              "      <th>year</th>\n",
              "    </tr>\n",
              "  </thead>\n",
              "  <tbody>\n",
              "    <tr>\n",
              "      <th>0</th>\n",
              "      <td>Radial Velocity</td>\n",
              "      <td>1</td>\n",
              "      <td>269.300</td>\n",
              "      <td>7.10</td>\n",
              "      <td>77.40</td>\n",
              "      <td>2006</td>\n",
              "    </tr>\n",
              "    <tr>\n",
              "      <th>1</th>\n",
              "      <td>Radial Velocity</td>\n",
              "      <td>1</td>\n",
              "      <td>874.774</td>\n",
              "      <td>2.21</td>\n",
              "      <td>56.95</td>\n",
              "      <td>2008</td>\n",
              "    </tr>\n",
              "    <tr>\n",
              "      <th>2</th>\n",
              "      <td>Radial Velocity</td>\n",
              "      <td>1</td>\n",
              "      <td>763.000</td>\n",
              "      <td>2.60</td>\n",
              "      <td>19.84</td>\n",
              "      <td>2011</td>\n",
              "    </tr>\n",
              "    <tr>\n",
              "      <th>3</th>\n",
              "      <td>Radial Velocity</td>\n",
              "      <td>1</td>\n",
              "      <td>326.030</td>\n",
              "      <td>19.40</td>\n",
              "      <td>110.62</td>\n",
              "      <td>2007</td>\n",
              "    </tr>\n",
              "    <tr>\n",
              "      <th>4</th>\n",
              "      <td>Radial Velocity</td>\n",
              "      <td>1</td>\n",
              "      <td>516.220</td>\n",
              "      <td>10.50</td>\n",
              "      <td>119.47</td>\n",
              "      <td>2009</td>\n",
              "    </tr>\n",
              "  </tbody>\n",
              "</table>\n",
              "</div>"
            ],
            "text/plain": [
              "            method  number  orbital_period   mass  distance  year\n",
              "0  Radial Velocity       1         269.300   7.10     77.40  2006\n",
              "1  Radial Velocity       1         874.774   2.21     56.95  2008\n",
              "2  Radial Velocity       1         763.000   2.60     19.84  2011\n",
              "3  Radial Velocity       1         326.030  19.40    110.62  2007\n",
              "4  Radial Velocity       1         516.220  10.50    119.47  2009"
            ]
          },
          "metadata": {
            "tags": []
          },
          "execution_count": 81
        }
      ]
    },
    {
      "cell_type": "code",
      "metadata": {
        "colab": {
          "base_uri": "https://localhost:8080/",
          "height": 297
        },
        "id": "mHncchFmZ7r7",
        "outputId": "767fc706-4ccf-4a67-d0e8-4325fa9317a6"
      },
      "source": [
        "planets.describe()"
      ],
      "execution_count": 82,
      "outputs": [
        {
          "output_type": "execute_result",
          "data": {
            "text/html": [
              "<div>\n",
              "<style scoped>\n",
              "    .dataframe tbody tr th:only-of-type {\n",
              "        vertical-align: middle;\n",
              "    }\n",
              "\n",
              "    .dataframe tbody tr th {\n",
              "        vertical-align: top;\n",
              "    }\n",
              "\n",
              "    .dataframe thead th {\n",
              "        text-align: right;\n",
              "    }\n",
              "</style>\n",
              "<table border=\"1\" class=\"dataframe\">\n",
              "  <thead>\n",
              "    <tr style=\"text-align: right;\">\n",
              "      <th></th>\n",
              "      <th>number</th>\n",
              "      <th>orbital_period</th>\n",
              "      <th>mass</th>\n",
              "      <th>distance</th>\n",
              "      <th>year</th>\n",
              "    </tr>\n",
              "  </thead>\n",
              "  <tbody>\n",
              "    <tr>\n",
              "      <th>count</th>\n",
              "      <td>1035.000000</td>\n",
              "      <td>992.000000</td>\n",
              "      <td>513.000000</td>\n",
              "      <td>808.000000</td>\n",
              "      <td>1035.000000</td>\n",
              "    </tr>\n",
              "    <tr>\n",
              "      <th>mean</th>\n",
              "      <td>1.785507</td>\n",
              "      <td>2002.917596</td>\n",
              "      <td>2.638161</td>\n",
              "      <td>264.069282</td>\n",
              "      <td>2009.070531</td>\n",
              "    </tr>\n",
              "    <tr>\n",
              "      <th>std</th>\n",
              "      <td>1.240976</td>\n",
              "      <td>26014.728304</td>\n",
              "      <td>3.818617</td>\n",
              "      <td>733.116493</td>\n",
              "      <td>3.972567</td>\n",
              "    </tr>\n",
              "    <tr>\n",
              "      <th>min</th>\n",
              "      <td>1.000000</td>\n",
              "      <td>0.090706</td>\n",
              "      <td>0.003600</td>\n",
              "      <td>1.350000</td>\n",
              "      <td>1989.000000</td>\n",
              "    </tr>\n",
              "    <tr>\n",
              "      <th>25%</th>\n",
              "      <td>1.000000</td>\n",
              "      <td>5.442540</td>\n",
              "      <td>0.229000</td>\n",
              "      <td>32.560000</td>\n",
              "      <td>2007.000000</td>\n",
              "    </tr>\n",
              "    <tr>\n",
              "      <th>50%</th>\n",
              "      <td>1.000000</td>\n",
              "      <td>39.979500</td>\n",
              "      <td>1.260000</td>\n",
              "      <td>55.250000</td>\n",
              "      <td>2010.000000</td>\n",
              "    </tr>\n",
              "    <tr>\n",
              "      <th>75%</th>\n",
              "      <td>2.000000</td>\n",
              "      <td>526.005000</td>\n",
              "      <td>3.040000</td>\n",
              "      <td>178.500000</td>\n",
              "      <td>2012.000000</td>\n",
              "    </tr>\n",
              "    <tr>\n",
              "      <th>max</th>\n",
              "      <td>7.000000</td>\n",
              "      <td>730000.000000</td>\n",
              "      <td>25.000000</td>\n",
              "      <td>8500.000000</td>\n",
              "      <td>2014.000000</td>\n",
              "    </tr>\n",
              "  </tbody>\n",
              "</table>\n",
              "</div>"
            ],
            "text/plain": [
              "            number  orbital_period        mass     distance         year\n",
              "count  1035.000000      992.000000  513.000000   808.000000  1035.000000\n",
              "mean      1.785507     2002.917596    2.638161   264.069282  2009.070531\n",
              "std       1.240976    26014.728304    3.818617   733.116493     3.972567\n",
              "min       1.000000        0.090706    0.003600     1.350000  1989.000000\n",
              "25%       1.000000        5.442540    0.229000    32.560000  2007.000000\n",
              "50%       1.000000       39.979500    1.260000    55.250000  2010.000000\n",
              "75%       2.000000      526.005000    3.040000   178.500000  2012.000000\n",
              "max       7.000000   730000.000000   25.000000  8500.000000  2014.000000"
            ]
          },
          "metadata": {
            "tags": []
          },
          "execution_count": 82
        }
      ]
    },
    {
      "cell_type": "markdown",
      "metadata": {
        "id": "AGhlBw6da4E7"
      },
      "source": [
        "#Tasks\n",
        "1.Go through each row and delete if NaN value is present in any of the columns"
      ]
    },
    {
      "cell_type": "code",
      "metadata": {
        "id": "1mkXndtcaFx7"
      },
      "source": [
        "for r in planets.index:\n",
        "  for c in planets.columns:\n",
        "    if pd.isnull(planets.loc[r,c]):\n",
        "      planets.drop(r, inplace=True)\n",
        "      break"
      ],
      "execution_count": 83,
      "outputs": []
    },
    {
      "cell_type": "code",
      "metadata": {
        "colab": {
          "base_uri": "https://localhost:8080/",
          "height": 297
        },
        "id": "dg0iFpwIbwUt",
        "outputId": "cb6d2810-aded-4ad4-da52-ea7fb3faaae8"
      },
      "source": [
        "planets.describe()"
      ],
      "execution_count": 84,
      "outputs": [
        {
          "output_type": "execute_result",
          "data": {
            "text/html": [
              "<div>\n",
              "<style scoped>\n",
              "    .dataframe tbody tr th:only-of-type {\n",
              "        vertical-align: middle;\n",
              "    }\n",
              "\n",
              "    .dataframe tbody tr th {\n",
              "        vertical-align: top;\n",
              "    }\n",
              "\n",
              "    .dataframe thead th {\n",
              "        text-align: right;\n",
              "    }\n",
              "</style>\n",
              "<table border=\"1\" class=\"dataframe\">\n",
              "  <thead>\n",
              "    <tr style=\"text-align: right;\">\n",
              "      <th></th>\n",
              "      <th>number</th>\n",
              "      <th>orbital_period</th>\n",
              "      <th>mass</th>\n",
              "      <th>distance</th>\n",
              "      <th>year</th>\n",
              "    </tr>\n",
              "  </thead>\n",
              "  <tbody>\n",
              "    <tr>\n",
              "      <th>count</th>\n",
              "      <td>498.00000</td>\n",
              "      <td>498.000000</td>\n",
              "      <td>498.000000</td>\n",
              "      <td>498.000000</td>\n",
              "      <td>498.000000</td>\n",
              "    </tr>\n",
              "    <tr>\n",
              "      <th>mean</th>\n",
              "      <td>1.73494</td>\n",
              "      <td>835.778671</td>\n",
              "      <td>2.509320</td>\n",
              "      <td>52.068213</td>\n",
              "      <td>2007.377510</td>\n",
              "    </tr>\n",
              "    <tr>\n",
              "      <th>std</th>\n",
              "      <td>1.17572</td>\n",
              "      <td>1469.128259</td>\n",
              "      <td>3.636274</td>\n",
              "      <td>46.596041</td>\n",
              "      <td>4.167284</td>\n",
              "    </tr>\n",
              "    <tr>\n",
              "      <th>min</th>\n",
              "      <td>1.00000</td>\n",
              "      <td>1.328300</td>\n",
              "      <td>0.003600</td>\n",
              "      <td>1.350000</td>\n",
              "      <td>1989.000000</td>\n",
              "    </tr>\n",
              "    <tr>\n",
              "      <th>25%</th>\n",
              "      <td>1.00000</td>\n",
              "      <td>38.272250</td>\n",
              "      <td>0.212500</td>\n",
              "      <td>24.497500</td>\n",
              "      <td>2005.000000</td>\n",
              "    </tr>\n",
              "    <tr>\n",
              "      <th>50%</th>\n",
              "      <td>1.00000</td>\n",
              "      <td>357.000000</td>\n",
              "      <td>1.245000</td>\n",
              "      <td>39.940000</td>\n",
              "      <td>2009.000000</td>\n",
              "    </tr>\n",
              "    <tr>\n",
              "      <th>75%</th>\n",
              "      <td>2.00000</td>\n",
              "      <td>999.600000</td>\n",
              "      <td>2.867500</td>\n",
              "      <td>59.332500</td>\n",
              "      <td>2011.000000</td>\n",
              "    </tr>\n",
              "    <tr>\n",
              "      <th>max</th>\n",
              "      <td>6.00000</td>\n",
              "      <td>17337.500000</td>\n",
              "      <td>25.000000</td>\n",
              "      <td>354.000000</td>\n",
              "      <td>2014.000000</td>\n",
              "    </tr>\n",
              "  </tbody>\n",
              "</table>\n",
              "</div>"
            ],
            "text/plain": [
              "          number  orbital_period        mass    distance         year\n",
              "count  498.00000      498.000000  498.000000  498.000000   498.000000\n",
              "mean     1.73494      835.778671    2.509320   52.068213  2007.377510\n",
              "std      1.17572     1469.128259    3.636274   46.596041     4.167284\n",
              "min      1.00000        1.328300    0.003600    1.350000  1989.000000\n",
              "25%      1.00000       38.272250    0.212500   24.497500  2005.000000\n",
              "50%      1.00000      357.000000    1.245000   39.940000  2009.000000\n",
              "75%      2.00000      999.600000    2.867500   59.332500  2011.000000\n",
              "max      6.00000    17337.500000   25.000000  354.000000  2014.000000"
            ]
          },
          "metadata": {
            "tags": []
          },
          "execution_count": 84
        }
      ]
    },
    {
      "cell_type": "code",
      "metadata": {
        "id": "CM-APPOOdoB4"
      },
      "source": [
        "#Alternate way of doing it with iterrows\n",
        "#for i, r in planets.iterrows():     r returns the entire i-th row as a series slice and then we check if there are any NaN values in that series object\n",
        "  #if pd.isnull(r).any():\n",
        "    #planets.drop(i, inplace=True) "
      ],
      "execution_count": 85,
      "outputs": []
    },
    {
      "cell_type": "code",
      "metadata": {
        "id": "8AcX29cmesjE"
      },
      "source": [
        "#Alternative 2\n",
        "#planets.dropna(inplace=True)"
      ],
      "execution_count": 86,
      "outputs": []
    },
    {
      "cell_type": "markdown",
      "metadata": {
        "id": "BLjL0DwBjCPY"
      },
      "source": [
        "#Querying a database"
      ]
    },
    {
      "cell_type": "markdown",
      "metadata": {
        "id": "u2xo4YJPgqBR"
      },
      "source": [
        "Filter and show only those rows which have planets that are found in 2010s and method is 'Radial Velocity' and 'Transit' and distance is large (>75 percentile)"
      ]
    },
    {
      "cell_type": "code",
      "metadata": {
        "id": "nY5J1USZfaTA"
      },
      "source": [
        "planets_= planets.copy()\n",
        "distance_percentile75= planets_.distance.quantile(0.75)\n",
        "for i, r in planets_.iterrows():\n",
        "  if planets_.loc[i, 'year']< 2010:\n",
        "    planets_.drop(i, inplace=True)\n",
        "    continue\n",
        "  if (planets_.loc[i, 'method'] != 'Radial Velocity') and  (planets_.loc[i, 'method'] != 'Transit'):\n",
        "    planets_.drop(i, inplace=True)\n",
        "    continue\n",
        "  if (planets_.loc[i, 'distance']) < distance_percentile75:\n",
        "    planets_.drop(i, inplace=True)\n",
        "    continue\n",
        "\n"
      ],
      "execution_count": 87,
      "outputs": []
    },
    {
      "cell_type": "code",
      "metadata": {
        "colab": {
          "base_uri": "https://localhost:8080/",
          "height": 297
        },
        "id": "SQHiZB8niMnL",
        "outputId": "4723d0cc-ed82-4c34-fd65-d13833a2745f"
      },
      "source": [
        "\n",
        "planets_.describe()"
      ],
      "execution_count": 88,
      "outputs": [
        {
          "output_type": "execute_result",
          "data": {
            "text/html": [
              "<div>\n",
              "<style scoped>\n",
              "    .dataframe tbody tr th:only-of-type {\n",
              "        vertical-align: middle;\n",
              "    }\n",
              "\n",
              "    .dataframe tbody tr th {\n",
              "        vertical-align: top;\n",
              "    }\n",
              "\n",
              "    .dataframe thead th {\n",
              "        text-align: right;\n",
              "    }\n",
              "</style>\n",
              "<table border=\"1\" class=\"dataframe\">\n",
              "  <thead>\n",
              "    <tr style=\"text-align: right;\">\n",
              "      <th></th>\n",
              "      <th>number</th>\n",
              "      <th>orbital_period</th>\n",
              "      <th>mass</th>\n",
              "      <th>distance</th>\n",
              "      <th>year</th>\n",
              "    </tr>\n",
              "  </thead>\n",
              "  <tbody>\n",
              "    <tr>\n",
              "      <th>count</th>\n",
              "      <td>50.000000</td>\n",
              "      <td>50.000000</td>\n",
              "      <td>50.000000</td>\n",
              "      <td>50.000000</td>\n",
              "      <td>50.000000</td>\n",
              "    </tr>\n",
              "    <tr>\n",
              "      <th>mean</th>\n",
              "      <td>1.300000</td>\n",
              "      <td>763.904808</td>\n",
              "      <td>3.322740</td>\n",
              "      <td>133.142600</td>\n",
              "      <td>2011.360000</td>\n",
              "    </tr>\n",
              "    <tr>\n",
              "      <th>std</th>\n",
              "      <td>0.505076</td>\n",
              "      <td>966.789870</td>\n",
              "      <td>3.648002</td>\n",
              "      <td>70.378699</td>\n",
              "      <td>1.120496</td>\n",
              "    </tr>\n",
              "    <tr>\n",
              "      <th>min</th>\n",
              "      <td>1.000000</td>\n",
              "      <td>2.703390</td>\n",
              "      <td>0.770000</td>\n",
              "      <td>65.620000</td>\n",
              "      <td>2010.000000</td>\n",
              "    </tr>\n",
              "    <tr>\n",
              "      <th>25%</th>\n",
              "      <td>1.000000</td>\n",
              "      <td>255.555000</td>\n",
              "      <td>1.325000</td>\n",
              "      <td>80.205000</td>\n",
              "      <td>2011.000000</td>\n",
              "    </tr>\n",
              "    <tr>\n",
              "      <th>50%</th>\n",
              "      <td>1.000000</td>\n",
              "      <td>550.500000</td>\n",
              "      <td>1.875000</td>\n",
              "      <td>121.070000</td>\n",
              "      <td>2011.000000</td>\n",
              "    </tr>\n",
              "    <tr>\n",
              "      <th>75%</th>\n",
              "      <td>2.000000</td>\n",
              "      <td>873.625000</td>\n",
              "      <td>3.400000</td>\n",
              "      <td>150.097500</td>\n",
              "      <td>2012.000000</td>\n",
              "    </tr>\n",
              "    <tr>\n",
              "      <th>max</th>\n",
              "      <td>3.000000</td>\n",
              "      <td>5584.000000</td>\n",
              "      <td>20.600000</td>\n",
              "      <td>354.000000</td>\n",
              "      <td>2014.000000</td>\n",
              "    </tr>\n",
              "  </tbody>\n",
              "</table>\n",
              "</div>"
            ],
            "text/plain": [
              "          number  orbital_period       mass    distance         year\n",
              "count  50.000000       50.000000  50.000000   50.000000    50.000000\n",
              "mean    1.300000      763.904808   3.322740  133.142600  2011.360000\n",
              "std     0.505076      966.789870   3.648002   70.378699     1.120496\n",
              "min     1.000000        2.703390   0.770000   65.620000  2010.000000\n",
              "25%     1.000000      255.555000   1.325000   80.205000  2011.000000\n",
              "50%     1.000000      550.500000   1.875000  121.070000  2011.000000\n",
              "75%     2.000000      873.625000   3.400000  150.097500  2012.000000\n",
              "max     3.000000     5584.000000  20.600000  354.000000  2014.000000"
            ]
          },
          "metadata": {
            "tags": []
          },
          "execution_count": 88
        }
      ]
    },
    {
      "cell_type": "code",
      "metadata": {
        "id": "lXIgEu5biwte",
        "colab": {
          "base_uri": "https://localhost:8080/"
        },
        "outputId": "530040f4-260d-4387-d6e1-b3bdcdd5cedd"
      },
      "source": [
        "planets2_= planets.copy()\n",
        "distance_percentile75"
      ],
      "execution_count": 89,
      "outputs": [
        {
          "output_type": "execute_result",
          "data": {
            "text/plain": [
              "59.3325"
            ]
          },
          "metadata": {
            "tags": []
          },
          "execution_count": 89
        }
      ]
    },
    {
      "cell_type": "markdown",
      "metadata": {
        "id": "sLpBk771o2Gb"
      },
      "source": [
        "Indexing using Query"
      ]
    },
    {
      "cell_type": "code",
      "metadata": {
        "id": "yN_Odpdblooa"
      },
      "source": [
        "planets2_= planets2_[\n",
        "            (planets2_['year']>=2010) & \n",
        "            ((planets2_['method'] == 'Radial Velocity') | (planets2_['method'] == 'Transit')) &\n",
        "            (planets2_['distance']> distance_percentile75)\n",
        "]"
      ],
      "execution_count": 90,
      "outputs": []
    },
    {
      "cell_type": "code",
      "metadata": {
        "colab": {
          "base_uri": "https://localhost:8080/",
          "height": 297
        },
        "id": "i-GeTmB_nwBc",
        "outputId": "0dca45d4-9be1-4088-ae85-32f08a7e882a"
      },
      "source": [
        "planets2_.describe()"
      ],
      "execution_count": 91,
      "outputs": [
        {
          "output_type": "execute_result",
          "data": {
            "text/html": [
              "<div>\n",
              "<style scoped>\n",
              "    .dataframe tbody tr th:only-of-type {\n",
              "        vertical-align: middle;\n",
              "    }\n",
              "\n",
              "    .dataframe tbody tr th {\n",
              "        vertical-align: top;\n",
              "    }\n",
              "\n",
              "    .dataframe thead th {\n",
              "        text-align: right;\n",
              "    }\n",
              "</style>\n",
              "<table border=\"1\" class=\"dataframe\">\n",
              "  <thead>\n",
              "    <tr style=\"text-align: right;\">\n",
              "      <th></th>\n",
              "      <th>number</th>\n",
              "      <th>orbital_period</th>\n",
              "      <th>mass</th>\n",
              "      <th>distance</th>\n",
              "      <th>year</th>\n",
              "    </tr>\n",
              "  </thead>\n",
              "  <tbody>\n",
              "    <tr>\n",
              "      <th>count</th>\n",
              "      <td>50.000000</td>\n",
              "      <td>50.000000</td>\n",
              "      <td>50.000000</td>\n",
              "      <td>50.000000</td>\n",
              "      <td>50.000000</td>\n",
              "    </tr>\n",
              "    <tr>\n",
              "      <th>mean</th>\n",
              "      <td>1.300000</td>\n",
              "      <td>763.904808</td>\n",
              "      <td>3.322740</td>\n",
              "      <td>133.142600</td>\n",
              "      <td>2011.360000</td>\n",
              "    </tr>\n",
              "    <tr>\n",
              "      <th>std</th>\n",
              "      <td>0.505076</td>\n",
              "      <td>966.789870</td>\n",
              "      <td>3.648002</td>\n",
              "      <td>70.378699</td>\n",
              "      <td>1.120496</td>\n",
              "    </tr>\n",
              "    <tr>\n",
              "      <th>min</th>\n",
              "      <td>1.000000</td>\n",
              "      <td>2.703390</td>\n",
              "      <td>0.770000</td>\n",
              "      <td>65.620000</td>\n",
              "      <td>2010.000000</td>\n",
              "    </tr>\n",
              "    <tr>\n",
              "      <th>25%</th>\n",
              "      <td>1.000000</td>\n",
              "      <td>255.555000</td>\n",
              "      <td>1.325000</td>\n",
              "      <td>80.205000</td>\n",
              "      <td>2011.000000</td>\n",
              "    </tr>\n",
              "    <tr>\n",
              "      <th>50%</th>\n",
              "      <td>1.000000</td>\n",
              "      <td>550.500000</td>\n",
              "      <td>1.875000</td>\n",
              "      <td>121.070000</td>\n",
              "      <td>2011.000000</td>\n",
              "    </tr>\n",
              "    <tr>\n",
              "      <th>75%</th>\n",
              "      <td>2.000000</td>\n",
              "      <td>873.625000</td>\n",
              "      <td>3.400000</td>\n",
              "      <td>150.097500</td>\n",
              "      <td>2012.000000</td>\n",
              "    </tr>\n",
              "    <tr>\n",
              "      <th>max</th>\n",
              "      <td>3.000000</td>\n",
              "      <td>5584.000000</td>\n",
              "      <td>20.600000</td>\n",
              "      <td>354.000000</td>\n",
              "      <td>2014.000000</td>\n",
              "    </tr>\n",
              "  </tbody>\n",
              "</table>\n",
              "</div>"
            ],
            "text/plain": [
              "          number  orbital_period       mass    distance         year\n",
              "count  50.000000       50.000000  50.000000   50.000000    50.000000\n",
              "mean    1.300000      763.904808   3.322740  133.142600  2011.360000\n",
              "std     0.505076      966.789870   3.648002   70.378699     1.120496\n",
              "min     1.000000        2.703390   0.770000   65.620000  2010.000000\n",
              "25%     1.000000      255.555000   1.325000   80.205000  2011.000000\n",
              "50%     1.000000      550.500000   1.875000  121.070000  2011.000000\n",
              "75%     2.000000      873.625000   3.400000  150.097500  2012.000000\n",
              "max     3.000000     5584.000000  20.600000  354.000000  2014.000000"
            ]
          },
          "metadata": {
            "tags": []
          },
          "execution_count": 91
        }
      ]
    },
    {
      "cell_type": "markdown",
      "metadata": {
        "id": "xKNjqRsxo9MS"
      },
      "source": [
        "#Manipulating a database \n",
        "\n",
        "Modify each row in the method column to have only the abbreviation of each method\n",
        "\n"
      ]
    },
    {
      "cell_type": "code",
      "metadata": {
        "colab": {
          "base_uri": "https://localhost:8080/"
        },
        "id": "czgrDUF-rvUq",
        "outputId": "322cf9d3-3f0b-4188-b70c-ae8502c34146"
      },
      "source": [
        "planets.method.unique() #Original Dataset"
      ],
      "execution_count": 92,
      "outputs": [
        {
          "output_type": "execute_result",
          "data": {
            "text/plain": [
              "array(['Radial Velocity', 'Transit'], dtype=object)"
            ]
          },
          "metadata": {
            "tags": []
          },
          "execution_count": 92
        }
      ]
    },
    {
      "cell_type": "code",
      "metadata": {
        "colab": {
          "base_uri": "https://localhost:8080/"
        },
        "id": "TDB2s1LEsLb-",
        "outputId": "70989f4c-8312-4343-d7fd-c1aa9df36350"
      },
      "source": [
        "planets2_.method.unique() #Filtered Dataset"
      ],
      "execution_count": 93,
      "outputs": [
        {
          "output_type": "execute_result",
          "data": {
            "text/plain": [
              "array(['Radial Velocity', 'Transit'], dtype=object)"
            ]
          },
          "metadata": {
            "tags": []
          },
          "execution_count": 93
        }
      ]
    },
    {
      "cell_type": "code",
      "metadata": {
        "colab": {
          "base_uri": "https://localhost:8080/",
          "height": 35
        },
        "id": "PCkHHQV_tF4A",
        "outputId": "fe006317-41b5-450b-a44a-a7f47162f714"
      },
      "source": [
        "s= 'Radial Velocity'\n",
        "''.join(x[0] for x in s.split())"
      ],
      "execution_count": 94,
      "outputs": [
        {
          "output_type": "execute_result",
          "data": {
            "application/vnd.google.colaboratory.intrinsic+json": {
              "type": "string"
            },
            "text/plain": [
              "'RV'"
            ]
          },
          "metadata": {
            "tags": []
          },
          "execution_count": 94
        }
      ]
    },
    {
      "cell_type": "code",
      "metadata": {
        "colab": {
          "base_uri": "https://localhost:8080/"
        },
        "id": "w3gD-Ckht75j",
        "outputId": "e361bdc4-9be3-49e0-d27d-93b0f90bd2b8"
      },
      "source": [
        "short_names={}\n",
        "for s in planets.method.unique():\n",
        "  short_names[s]= ''.join(x[0] for x in s.split())\n",
        "short_names"
      ],
      "execution_count": 95,
      "outputs": [
        {
          "output_type": "execute_result",
          "data": {
            "text/plain": [
              "{'Radial Velocity': 'RV', 'Transit': 'T'}"
            ]
          },
          "metadata": {
            "tags": []
          },
          "execution_count": 95
        }
      ]
    },
    {
      "cell_type": "code",
      "metadata": {
        "id": "ZQ4vLqJHn5r_"
      },
      "source": [
        "planets_new= planets.copy()\n",
        "for i, r in planets_new.iterrows():\n",
        "  planets_new.loc[i, 'method_new']= short_names[r['method']]\n",
        "\n",
        "#shortnames.get(r['method'], r['method']) ---> Alternative way of assigning the values by matching keys from the method column"
      ],
      "execution_count": 96,
      "outputs": []
    },
    {
      "cell_type": "code",
      "metadata": {
        "colab": {
          "base_uri": "https://localhost:8080/",
          "height": 419
        },
        "id": "P_eFoW1OrA_l",
        "outputId": "c7a5115e-badc-46ef-d016-eea3b9956248"
      },
      "source": [
        "planets_new"
      ],
      "execution_count": 97,
      "outputs": [
        {
          "output_type": "execute_result",
          "data": {
            "text/html": [
              "<div>\n",
              "<style scoped>\n",
              "    .dataframe tbody tr th:only-of-type {\n",
              "        vertical-align: middle;\n",
              "    }\n",
              "\n",
              "    .dataframe tbody tr th {\n",
              "        vertical-align: top;\n",
              "    }\n",
              "\n",
              "    .dataframe thead th {\n",
              "        text-align: right;\n",
              "    }\n",
              "</style>\n",
              "<table border=\"1\" class=\"dataframe\">\n",
              "  <thead>\n",
              "    <tr style=\"text-align: right;\">\n",
              "      <th></th>\n",
              "      <th>method</th>\n",
              "      <th>number</th>\n",
              "      <th>orbital_period</th>\n",
              "      <th>mass</th>\n",
              "      <th>distance</th>\n",
              "      <th>year</th>\n",
              "      <th>method_new</th>\n",
              "    </tr>\n",
              "  </thead>\n",
              "  <tbody>\n",
              "    <tr>\n",
              "      <th>0</th>\n",
              "      <td>Radial Velocity</td>\n",
              "      <td>1</td>\n",
              "      <td>269.30000</td>\n",
              "      <td>7.100</td>\n",
              "      <td>77.40</td>\n",
              "      <td>2006</td>\n",
              "      <td>RV</td>\n",
              "    </tr>\n",
              "    <tr>\n",
              "      <th>1</th>\n",
              "      <td>Radial Velocity</td>\n",
              "      <td>1</td>\n",
              "      <td>874.77400</td>\n",
              "      <td>2.210</td>\n",
              "      <td>56.95</td>\n",
              "      <td>2008</td>\n",
              "      <td>RV</td>\n",
              "    </tr>\n",
              "    <tr>\n",
              "      <th>2</th>\n",
              "      <td>Radial Velocity</td>\n",
              "      <td>1</td>\n",
              "      <td>763.00000</td>\n",
              "      <td>2.600</td>\n",
              "      <td>19.84</td>\n",
              "      <td>2011</td>\n",
              "      <td>RV</td>\n",
              "    </tr>\n",
              "    <tr>\n",
              "      <th>3</th>\n",
              "      <td>Radial Velocity</td>\n",
              "      <td>1</td>\n",
              "      <td>326.03000</td>\n",
              "      <td>19.400</td>\n",
              "      <td>110.62</td>\n",
              "      <td>2007</td>\n",
              "      <td>RV</td>\n",
              "    </tr>\n",
              "    <tr>\n",
              "      <th>4</th>\n",
              "      <td>Radial Velocity</td>\n",
              "      <td>1</td>\n",
              "      <td>516.22000</td>\n",
              "      <td>10.500</td>\n",
              "      <td>119.47</td>\n",
              "      <td>2009</td>\n",
              "      <td>RV</td>\n",
              "    </tr>\n",
              "    <tr>\n",
              "      <th>...</th>\n",
              "      <td>...</td>\n",
              "      <td>...</td>\n",
              "      <td>...</td>\n",
              "      <td>...</td>\n",
              "      <td>...</td>\n",
              "      <td>...</td>\n",
              "      <td>...</td>\n",
              "    </tr>\n",
              "    <tr>\n",
              "      <th>640</th>\n",
              "      <td>Radial Velocity</td>\n",
              "      <td>1</td>\n",
              "      <td>111.70000</td>\n",
              "      <td>2.100</td>\n",
              "      <td>14.90</td>\n",
              "      <td>2009</td>\n",
              "      <td>RV</td>\n",
              "    </tr>\n",
              "    <tr>\n",
              "      <th>641</th>\n",
              "      <td>Radial Velocity</td>\n",
              "      <td>1</td>\n",
              "      <td>5.05050</td>\n",
              "      <td>1.068</td>\n",
              "      <td>44.46</td>\n",
              "      <td>2013</td>\n",
              "      <td>RV</td>\n",
              "    </tr>\n",
              "    <tr>\n",
              "      <th>642</th>\n",
              "      <td>Radial Velocity</td>\n",
              "      <td>1</td>\n",
              "      <td>311.28800</td>\n",
              "      <td>1.940</td>\n",
              "      <td>17.24</td>\n",
              "      <td>1999</td>\n",
              "      <td>RV</td>\n",
              "    </tr>\n",
              "    <tr>\n",
              "      <th>649</th>\n",
              "      <td>Transit</td>\n",
              "      <td>1</td>\n",
              "      <td>2.70339</td>\n",
              "      <td>1.470</td>\n",
              "      <td>178.00</td>\n",
              "      <td>2013</td>\n",
              "      <td>T</td>\n",
              "    </tr>\n",
              "    <tr>\n",
              "      <th>784</th>\n",
              "      <td>Radial Velocity</td>\n",
              "      <td>3</td>\n",
              "      <td>580.00000</td>\n",
              "      <td>0.947</td>\n",
              "      <td>135.00</td>\n",
              "      <td>2012</td>\n",
              "      <td>RV</td>\n",
              "    </tr>\n",
              "  </tbody>\n",
              "</table>\n",
              "<p>498 rows × 7 columns</p>\n",
              "</div>"
            ],
            "text/plain": [
              "              method  number  orbital_period    mass  distance  year method_new\n",
              "0    Radial Velocity       1       269.30000   7.100     77.40  2006         RV\n",
              "1    Radial Velocity       1       874.77400   2.210     56.95  2008         RV\n",
              "2    Radial Velocity       1       763.00000   2.600     19.84  2011         RV\n",
              "3    Radial Velocity       1       326.03000  19.400    110.62  2007         RV\n",
              "4    Radial Velocity       1       516.22000  10.500    119.47  2009         RV\n",
              "..               ...     ...             ...     ...       ...   ...        ...\n",
              "640  Radial Velocity       1       111.70000   2.100     14.90  2009         RV\n",
              "641  Radial Velocity       1         5.05050   1.068     44.46  2013         RV\n",
              "642  Radial Velocity       1       311.28800   1.940     17.24  1999         RV\n",
              "649          Transit       1         2.70339   1.470    178.00  2013          T\n",
              "784  Radial Velocity       3       580.00000   0.947    135.00  2012         RV\n",
              "\n",
              "[498 rows x 7 columns]"
            ]
          },
          "metadata": {
            "tags": []
          },
          "execution_count": 97
        }
      ]
    },
    {
      "cell_type": "code",
      "metadata": {
        "id": "B5YhFbtTs4J4"
      },
      "source": [
        "planets_reloaded= sns.load_dataset('planets')\n",
        "def shorten_methods(s):\n",
        "  return short_names.get(s,s)\n",
        "\n",
        "planets_reloaded['short methods']= planets_reloaded['method'].apply(shorten_methods)\n"
      ],
      "execution_count": 98,
      "outputs": []
    },
    {
      "cell_type": "code",
      "metadata": {
        "colab": {
          "base_uri": "https://localhost:8080/",
          "height": 419
        },
        "id": "JjkAyQymwrL5",
        "outputId": "2269fdad-0e8f-4343-dc59-de03f36a3875"
      },
      "source": [
        "planets_reloaded"
      ],
      "execution_count": 99,
      "outputs": [
        {
          "output_type": "execute_result",
          "data": {
            "text/html": [
              "<div>\n",
              "<style scoped>\n",
              "    .dataframe tbody tr th:only-of-type {\n",
              "        vertical-align: middle;\n",
              "    }\n",
              "\n",
              "    .dataframe tbody tr th {\n",
              "        vertical-align: top;\n",
              "    }\n",
              "\n",
              "    .dataframe thead th {\n",
              "        text-align: right;\n",
              "    }\n",
              "</style>\n",
              "<table border=\"1\" class=\"dataframe\">\n",
              "  <thead>\n",
              "    <tr style=\"text-align: right;\">\n",
              "      <th></th>\n",
              "      <th>method</th>\n",
              "      <th>number</th>\n",
              "      <th>orbital_period</th>\n",
              "      <th>mass</th>\n",
              "      <th>distance</th>\n",
              "      <th>year</th>\n",
              "      <th>short methods</th>\n",
              "    </tr>\n",
              "  </thead>\n",
              "  <tbody>\n",
              "    <tr>\n",
              "      <th>0</th>\n",
              "      <td>Radial Velocity</td>\n",
              "      <td>1</td>\n",
              "      <td>269.300000</td>\n",
              "      <td>7.10</td>\n",
              "      <td>77.40</td>\n",
              "      <td>2006</td>\n",
              "      <td>RV</td>\n",
              "    </tr>\n",
              "    <tr>\n",
              "      <th>1</th>\n",
              "      <td>Radial Velocity</td>\n",
              "      <td>1</td>\n",
              "      <td>874.774000</td>\n",
              "      <td>2.21</td>\n",
              "      <td>56.95</td>\n",
              "      <td>2008</td>\n",
              "      <td>RV</td>\n",
              "    </tr>\n",
              "    <tr>\n",
              "      <th>2</th>\n",
              "      <td>Radial Velocity</td>\n",
              "      <td>1</td>\n",
              "      <td>763.000000</td>\n",
              "      <td>2.60</td>\n",
              "      <td>19.84</td>\n",
              "      <td>2011</td>\n",
              "      <td>RV</td>\n",
              "    </tr>\n",
              "    <tr>\n",
              "      <th>3</th>\n",
              "      <td>Radial Velocity</td>\n",
              "      <td>1</td>\n",
              "      <td>326.030000</td>\n",
              "      <td>19.40</td>\n",
              "      <td>110.62</td>\n",
              "      <td>2007</td>\n",
              "      <td>RV</td>\n",
              "    </tr>\n",
              "    <tr>\n",
              "      <th>4</th>\n",
              "      <td>Radial Velocity</td>\n",
              "      <td>1</td>\n",
              "      <td>516.220000</td>\n",
              "      <td>10.50</td>\n",
              "      <td>119.47</td>\n",
              "      <td>2009</td>\n",
              "      <td>RV</td>\n",
              "    </tr>\n",
              "    <tr>\n",
              "      <th>...</th>\n",
              "      <td>...</td>\n",
              "      <td>...</td>\n",
              "      <td>...</td>\n",
              "      <td>...</td>\n",
              "      <td>...</td>\n",
              "      <td>...</td>\n",
              "      <td>...</td>\n",
              "    </tr>\n",
              "    <tr>\n",
              "      <th>1030</th>\n",
              "      <td>Transit</td>\n",
              "      <td>1</td>\n",
              "      <td>3.941507</td>\n",
              "      <td>NaN</td>\n",
              "      <td>172.00</td>\n",
              "      <td>2006</td>\n",
              "      <td>T</td>\n",
              "    </tr>\n",
              "    <tr>\n",
              "      <th>1031</th>\n",
              "      <td>Transit</td>\n",
              "      <td>1</td>\n",
              "      <td>2.615864</td>\n",
              "      <td>NaN</td>\n",
              "      <td>148.00</td>\n",
              "      <td>2007</td>\n",
              "      <td>T</td>\n",
              "    </tr>\n",
              "    <tr>\n",
              "      <th>1032</th>\n",
              "      <td>Transit</td>\n",
              "      <td>1</td>\n",
              "      <td>3.191524</td>\n",
              "      <td>NaN</td>\n",
              "      <td>174.00</td>\n",
              "      <td>2007</td>\n",
              "      <td>T</td>\n",
              "    </tr>\n",
              "    <tr>\n",
              "      <th>1033</th>\n",
              "      <td>Transit</td>\n",
              "      <td>1</td>\n",
              "      <td>4.125083</td>\n",
              "      <td>NaN</td>\n",
              "      <td>293.00</td>\n",
              "      <td>2008</td>\n",
              "      <td>T</td>\n",
              "    </tr>\n",
              "    <tr>\n",
              "      <th>1034</th>\n",
              "      <td>Transit</td>\n",
              "      <td>1</td>\n",
              "      <td>4.187757</td>\n",
              "      <td>NaN</td>\n",
              "      <td>260.00</td>\n",
              "      <td>2008</td>\n",
              "      <td>T</td>\n",
              "    </tr>\n",
              "  </tbody>\n",
              "</table>\n",
              "<p>1035 rows × 7 columns</p>\n",
              "</div>"
            ],
            "text/plain": [
              "               method  number  orbital_period  ...  distance  year  short methods\n",
              "0     Radial Velocity       1      269.300000  ...     77.40  2006             RV\n",
              "1     Radial Velocity       1      874.774000  ...     56.95  2008             RV\n",
              "2     Radial Velocity       1      763.000000  ...     19.84  2011             RV\n",
              "3     Radial Velocity       1      326.030000  ...    110.62  2007             RV\n",
              "4     Radial Velocity       1      516.220000  ...    119.47  2009             RV\n",
              "...               ...     ...             ...  ...       ...   ...            ...\n",
              "1030          Transit       1        3.941507  ...    172.00  2006              T\n",
              "1031          Transit       1        2.615864  ...    148.00  2007              T\n",
              "1032          Transit       1        3.191524  ...    174.00  2007              T\n",
              "1033          Transit       1        4.125083  ...    293.00  2008              T\n",
              "1034          Transit       1        4.187757  ...    260.00  2008              T\n",
              "\n",
              "[1035 rows x 7 columns]"
            ]
          },
          "metadata": {
            "tags": []
          },
          "execution_count": 99
        }
      ]
    },
    {
      "cell_type": "markdown",
      "metadata": {
        "id": "pk5xZ0sYw4KR"
      },
      "source": [
        "#Trying some analysis with these methods\n",
        "\n",
        "Count the number of planets with each method type"
      ]
    },
    {
      "cell_type": "markdown",
      "metadata": {
        "id": "WVid3gjx9LJK"
      },
      "source": [
        "1. **Split** the dataframe into smaller chunks (in this case they should have the same method)\n",
        "2. **Apply** some function in each smaller chunk ( in this case the count function)\n",
        "3. **Aggregate** the results from each chunk together"
      ]
    },
    {
      "cell_type": "code",
      "metadata": {
        "colab": {
          "base_uri": "https://localhost:8080/"
        },
        "id": "08GoAcHJ-32a",
        "outputId": "4c697c8c-2694-439e-bcbb-19776c940684"
      },
      "source": [
        "planets_reloaded[planets_reloaded['method']== 'Radial Velocity']['method'].count()"
      ],
      "execution_count": 100,
      "outputs": [
        {
          "output_type": "execute_result",
          "data": {
            "text/plain": [
              "553"
            ]
          },
          "metadata": {
            "tags": []
          },
          "execution_count": 100
        }
      ]
    },
    {
      "cell_type": "code",
      "metadata": {
        "colab": {
          "base_uri": "https://localhost:8080/"
        },
        "id": "-E2CqW30wuG6",
        "outputId": "f9c1b61b-585e-46cb-ba3a-265a6ee940fe"
      },
      "source": [
        "count={}\n",
        "for m in planets_reloaded.method.unique():\n",
        "  count[m]=planets_reloaded[planets_reloaded['method'] == m]['method'].count()\n",
        "print(count)"
      ],
      "execution_count": 101,
      "outputs": [
        {
          "output_type": "stream",
          "text": [
            "{'Radial Velocity': 553, 'Imaging': 38, 'Eclipse Timing Variations': 9, 'Transit': 397, 'Astrometry': 2, 'Transit Timing Variations': 4, 'Orbital Brightness Modulation': 3, 'Microlensing': 23, 'Pulsar Timing': 5, 'Pulsation Timing Variations': 1}\n"
          ],
          "name": "stdout"
        }
      ]
    },
    {
      "cell_type": "code",
      "metadata": {
        "colab": {
          "base_uri": "https://localhost:8080/"
        },
        "id": "00swx_et-g7D",
        "outputId": "28e8f7f4-236d-4671-d9fc-162e03dd85d2"
      },
      "source": [
        "#Alternative \n",
        "planets_reloaded.groupby('method')['method'].count()"
      ],
      "execution_count": 102,
      "outputs": [
        {
          "output_type": "execute_result",
          "data": {
            "text/plain": [
              "method\n",
              "Astrometry                         2\n",
              "Eclipse Timing Variations          9\n",
              "Imaging                           38\n",
              "Microlensing                      23\n",
              "Orbital Brightness Modulation      3\n",
              "Pulsar Timing                      5\n",
              "Pulsation Timing Variations        1\n",
              "Radial Velocity                  553\n",
              "Transit                          397\n",
              "Transit Timing Variations          4\n",
              "Name: method, dtype: int64"
            ]
          },
          "metadata": {
            "tags": []
          },
          "execution_count": 102
        }
      ]
    },
    {
      "cell_type": "code",
      "metadata": {
        "colab": {
          "base_uri": "https://localhost:8080/"
        },
        "id": "h1XqFXY6_eQP",
        "outputId": "7a66726d-6ab3-4974-bcec-c75c313cb505"
      },
      "source": [
        "planets_reloaded.groupby('method')['distance'].mean()"
      ],
      "execution_count": 103,
      "outputs": [
        {
          "output_type": "execute_result",
          "data": {
            "text/plain": [
              "method\n",
              "Astrometry                         17.875000\n",
              "Eclipse Timing Variations         315.360000\n",
              "Imaging                            67.715937\n",
              "Microlensing                     4144.000000\n",
              "Orbital Brightness Modulation    1180.000000\n",
              "Pulsar Timing                    1200.000000\n",
              "Pulsation Timing Variations              NaN\n",
              "Radial Velocity                    51.600208\n",
              "Transit                           599.298080\n",
              "Transit Timing Variations        1104.333333\n",
              "Name: distance, dtype: float64"
            ]
          },
          "metadata": {
            "tags": []
          },
          "execution_count": 103
        }
      ]
    },
    {
      "cell_type": "markdown",
      "metadata": {
        "id": "xrS8kEuXAfMd"
      },
      "source": [
        "Find out what fraction of the planets have been found in the last decaded (i.e 2010s) across each method type"
      ]
    },
    {
      "cell_type": "markdown",
      "metadata": {
        "id": "tDAYAHLzEDOA"
      },
      "source": [
        "1. Filtering operation\n",
        "2. Split.\n",
        "3. Apply\n",
        "4. Aggregate"
      ]
    },
    {
      "cell_type": "code",
      "metadata": {
        "colab": {
          "base_uri": "https://localhost:8080/",
          "height": 419
        },
        "id": "MWYp7DtYEOBw",
        "outputId": "13b3e28b-07c5-476d-f644-58980f8fb972"
      },
      "source": [
        "planets_reloaded[planets_reloaded['year']>=2010]"
      ],
      "execution_count": 104,
      "outputs": [
        {
          "output_type": "execute_result",
          "data": {
            "text/html": [
              "<div>\n",
              "<style scoped>\n",
              "    .dataframe tbody tr th:only-of-type {\n",
              "        vertical-align: middle;\n",
              "    }\n",
              "\n",
              "    .dataframe tbody tr th {\n",
              "        vertical-align: top;\n",
              "    }\n",
              "\n",
              "    .dataframe thead th {\n",
              "        text-align: right;\n",
              "    }\n",
              "</style>\n",
              "<table border=\"1\" class=\"dataframe\">\n",
              "  <thead>\n",
              "    <tr style=\"text-align: right;\">\n",
              "      <th></th>\n",
              "      <th>method</th>\n",
              "      <th>number</th>\n",
              "      <th>orbital_period</th>\n",
              "      <th>mass</th>\n",
              "      <th>distance</th>\n",
              "      <th>year</th>\n",
              "      <th>short methods</th>\n",
              "    </tr>\n",
              "  </thead>\n",
              "  <tbody>\n",
              "    <tr>\n",
              "      <th>2</th>\n",
              "      <td>Radial Velocity</td>\n",
              "      <td>1</td>\n",
              "      <td>763.000000</td>\n",
              "      <td>2.60</td>\n",
              "      <td>19.84</td>\n",
              "      <td>2011</td>\n",
              "      <td>RV</td>\n",
              "    </tr>\n",
              "    <tr>\n",
              "      <th>9</th>\n",
              "      <td>Radial Velocity</td>\n",
              "      <td>2</td>\n",
              "      <td>452.800000</td>\n",
              "      <td>1.99</td>\n",
              "      <td>74.79</td>\n",
              "      <td>2010</td>\n",
              "      <td>RV</td>\n",
              "    </tr>\n",
              "    <tr>\n",
              "      <th>10</th>\n",
              "      <td>Radial Velocity</td>\n",
              "      <td>2</td>\n",
              "      <td>883.000000</td>\n",
              "      <td>0.86</td>\n",
              "      <td>74.79</td>\n",
              "      <td>2010</td>\n",
              "      <td>RV</td>\n",
              "    </tr>\n",
              "    <tr>\n",
              "      <th>20</th>\n",
              "      <td>Radial Velocity</td>\n",
              "      <td>5</td>\n",
              "      <td>0.736540</td>\n",
              "      <td>NaN</td>\n",
              "      <td>12.53</td>\n",
              "      <td>2011</td>\n",
              "      <td>RV</td>\n",
              "    </tr>\n",
              "    <tr>\n",
              "      <th>26</th>\n",
              "      <td>Radial Velocity</td>\n",
              "      <td>1</td>\n",
              "      <td>691.900000</td>\n",
              "      <td>NaN</td>\n",
              "      <td>81.50</td>\n",
              "      <td>2012</td>\n",
              "      <td>RV</td>\n",
              "    </tr>\n",
              "    <tr>\n",
              "      <th>...</th>\n",
              "      <td>...</td>\n",
              "      <td>...</td>\n",
              "      <td>...</td>\n",
              "      <td>...</td>\n",
              "      <td>...</td>\n",
              "      <td>...</td>\n",
              "      <td>...</td>\n",
              "    </tr>\n",
              "    <tr>\n",
              "      <th>1025</th>\n",
              "      <td>Transit</td>\n",
              "      <td>1</td>\n",
              "      <td>3.067850</td>\n",
              "      <td>NaN</td>\n",
              "      <td>60.00</td>\n",
              "      <td>2012</td>\n",
              "      <td>T</td>\n",
              "    </tr>\n",
              "    <tr>\n",
              "      <th>1026</th>\n",
              "      <td>Transit</td>\n",
              "      <td>1</td>\n",
              "      <td>0.925542</td>\n",
              "      <td>NaN</td>\n",
              "      <td>470.00</td>\n",
              "      <td>2014</td>\n",
              "      <td>T</td>\n",
              "    </tr>\n",
              "    <tr>\n",
              "      <th>1027</th>\n",
              "      <td>Imaging</td>\n",
              "      <td>1</td>\n",
              "      <td>NaN</td>\n",
              "      <td>NaN</td>\n",
              "      <td>19.20</td>\n",
              "      <td>2011</td>\n",
              "      <td>Imaging</td>\n",
              "    </tr>\n",
              "    <tr>\n",
              "      <th>1028</th>\n",
              "      <td>Transit</td>\n",
              "      <td>1</td>\n",
              "      <td>3.352057</td>\n",
              "      <td>NaN</td>\n",
              "      <td>3200.00</td>\n",
              "      <td>2012</td>\n",
              "      <td>T</td>\n",
              "    </tr>\n",
              "    <tr>\n",
              "      <th>1029</th>\n",
              "      <td>Imaging</td>\n",
              "      <td>1</td>\n",
              "      <td>NaN</td>\n",
              "      <td>NaN</td>\n",
              "      <td>10.10</td>\n",
              "      <td>2012</td>\n",
              "      <td>Imaging</td>\n",
              "    </tr>\n",
              "  </tbody>\n",
              "</table>\n",
              "<p>597 rows × 7 columns</p>\n",
              "</div>"
            ],
            "text/plain": [
              "               method  number  orbital_period  ...  distance  year  short methods\n",
              "2     Radial Velocity       1      763.000000  ...     19.84  2011             RV\n",
              "9     Radial Velocity       2      452.800000  ...     74.79  2010             RV\n",
              "10    Radial Velocity       2      883.000000  ...     74.79  2010             RV\n",
              "20    Radial Velocity       5        0.736540  ...     12.53  2011             RV\n",
              "26    Radial Velocity       1      691.900000  ...     81.50  2012             RV\n",
              "...               ...     ...             ...  ...       ...   ...            ...\n",
              "1025          Transit       1        3.067850  ...     60.00  2012              T\n",
              "1026          Transit       1        0.925542  ...    470.00  2014              T\n",
              "1027          Imaging       1             NaN  ...     19.20  2011        Imaging\n",
              "1028          Transit       1        3.352057  ...   3200.00  2012              T\n",
              "1029          Imaging       1             NaN  ...     10.10  2012        Imaging\n",
              "\n",
              "[597 rows x 7 columns]"
            ]
          },
          "metadata": {
            "tags": []
          },
          "execution_count": 104
        }
      ]
    },
    {
      "cell_type": "code",
      "metadata": {
        "id": "KZRjnpdqXuIN"
      },
      "source": [
        "#planets_reloaded[planets_reloaded['year']>=2010]\n"
      ],
      "execution_count": 105,
      "outputs": []
    },
    {
      "cell_type": "code",
      "metadata": {
        "id": "N4VnRdC_Eatd"
      },
      "source": [
        "s_2010s= planets_reloaded[planets_reloaded['year']>=2010].groupby('method')['method'].count()  #With Filter  "
      ],
      "execution_count": 106,
      "outputs": []
    },
    {
      "cell_type": "code",
      "metadata": {
        "id": "J-X4b07jExTX"
      },
      "source": [
        "s_AllTime= planets_reloaded.groupby('method')['method'].count() #Without Filter"
      ],
      "execution_count": 107,
      "outputs": []
    },
    {
      "cell_type": "code",
      "metadata": {
        "colab": {
          "base_uri": "https://localhost:8080/"
        },
        "id": "19j9ATdkFIn3",
        "outputId": "2e837542-bbda-4961-afc1-88bdc5e44da9"
      },
      "source": [
        "s_2010s/s_AllTime"
      ],
      "execution_count": 108,
      "outputs": [
        {
          "output_type": "execute_result",
          "data": {
            "text/plain": [
              "method\n",
              "Astrometry                       1.000000\n",
              "Eclipse Timing Variations        0.666667\n",
              "Imaging                          0.473684\n",
              "Microlensing                     0.565217\n",
              "Orbital Brightness Modulation    1.000000\n",
              "Pulsar Timing                    0.200000\n",
              "Pulsation Timing Variations           NaN\n",
              "Radial Velocity                  0.388788\n",
              "Transit                          0.843829\n",
              "Transit Timing Variations        1.000000\n",
              "Name: method, dtype: float64"
            ]
          },
          "metadata": {
            "tags": []
          },
          "execution_count": 108
        }
      ]
    },
    {
      "cell_type": "code",
      "metadata": {
        "id": "4Ky6l_STFbW9"
      },
      "source": [
        "nifty50_2018= pd.read_csv('NIFTY50_2018.csv')"
      ],
      "execution_count": 109,
      "outputs": []
    },
    {
      "cell_type": "code",
      "metadata": {
        "colab": {
          "base_uri": "https://localhost:8080/",
          "height": 204
        },
        "id": "yP8_iVF7qADp",
        "outputId": "ed146319-aa53-4a63-80e1-18f1a4145d17"
      },
      "source": [
        "nifty50_2018.head()"
      ],
      "execution_count": 110,
      "outputs": [
        {
          "output_type": "execute_result",
          "data": {
            "text/html": [
              "<div>\n",
              "<style scoped>\n",
              "    .dataframe tbody tr th:only-of-type {\n",
              "        vertical-align: middle;\n",
              "    }\n",
              "\n",
              "    .dataframe tbody tr th {\n",
              "        vertical-align: top;\n",
              "    }\n",
              "\n",
              "    .dataframe thead th {\n",
              "        text-align: right;\n",
              "    }\n",
              "</style>\n",
              "<table border=\"1\" class=\"dataframe\">\n",
              "  <thead>\n",
              "    <tr style=\"text-align: right;\">\n",
              "      <th></th>\n",
              "      <th>Date</th>\n",
              "      <th>Open</th>\n",
              "      <th>High</th>\n",
              "      <th>Low</th>\n",
              "      <th>Close</th>\n",
              "    </tr>\n",
              "  </thead>\n",
              "  <tbody>\n",
              "    <tr>\n",
              "      <th>0</th>\n",
              "      <td>31 Dec 2018</td>\n",
              "      <td>10913.20</td>\n",
              "      <td>10923.55</td>\n",
              "      <td>10853.20</td>\n",
              "      <td>10862.55</td>\n",
              "    </tr>\n",
              "    <tr>\n",
              "      <th>1</th>\n",
              "      <td>28 Dec 2018</td>\n",
              "      <td>10820.95</td>\n",
              "      <td>10893.60</td>\n",
              "      <td>10817.15</td>\n",
              "      <td>10859.90</td>\n",
              "    </tr>\n",
              "    <tr>\n",
              "      <th>2</th>\n",
              "      <td>27 Dec 2018</td>\n",
              "      <td>10817.90</td>\n",
              "      <td>10834.20</td>\n",
              "      <td>10764.45</td>\n",
              "      <td>10779.80</td>\n",
              "    </tr>\n",
              "    <tr>\n",
              "      <th>3</th>\n",
              "      <td>26 Dec 2018</td>\n",
              "      <td>10635.45</td>\n",
              "      <td>10747.50</td>\n",
              "      <td>10534.55</td>\n",
              "      <td>10729.85</td>\n",
              "    </tr>\n",
              "    <tr>\n",
              "      <th>4</th>\n",
              "      <td>24 Dec 2018</td>\n",
              "      <td>10780.90</td>\n",
              "      <td>10782.30</td>\n",
              "      <td>10649.25</td>\n",
              "      <td>10663.50</td>\n",
              "    </tr>\n",
              "  </tbody>\n",
              "</table>\n",
              "</div>"
            ],
            "text/plain": [
              "          Date      Open      High       Low     Close\n",
              "0  31 Dec 2018  10913.20  10923.55  10853.20  10862.55\n",
              "1  28 Dec 2018  10820.95  10893.60  10817.15  10859.90\n",
              "2  27 Dec 2018  10817.90  10834.20  10764.45  10779.80\n",
              "3  26 Dec 2018  10635.45  10747.50  10534.55  10729.85\n",
              "4  24 Dec 2018  10780.90  10782.30  10649.25  10663.50"
            ]
          },
          "metadata": {
            "tags": []
          },
          "execution_count": 110
        }
      ]
    },
    {
      "cell_type": "code",
      "metadata": {
        "id": "dOelqqZ3qUUn"
      },
      "source": [
        "nifty50_2018= pd.read_csv('NIFTY50_2018.csv', index_col=0) #Assigning the date the index column"
      ],
      "execution_count": 111,
      "outputs": []
    },
    {
      "cell_type": "code",
      "metadata": {
        "colab": {
          "base_uri": "https://localhost:8080/",
          "height": 235
        },
        "id": "RJNNaJY-qhtl",
        "outputId": "7621630d-cf2d-4415-af56-a531a7036155"
      },
      "source": [
        "nifty50_2018.head()"
      ],
      "execution_count": 112,
      "outputs": [
        {
          "output_type": "execute_result",
          "data": {
            "text/html": [
              "<div>\n",
              "<style scoped>\n",
              "    .dataframe tbody tr th:only-of-type {\n",
              "        vertical-align: middle;\n",
              "    }\n",
              "\n",
              "    .dataframe tbody tr th {\n",
              "        vertical-align: top;\n",
              "    }\n",
              "\n",
              "    .dataframe thead th {\n",
              "        text-align: right;\n",
              "    }\n",
              "</style>\n",
              "<table border=\"1\" class=\"dataframe\">\n",
              "  <thead>\n",
              "    <tr style=\"text-align: right;\">\n",
              "      <th></th>\n",
              "      <th>Open</th>\n",
              "      <th>High</th>\n",
              "      <th>Low</th>\n",
              "      <th>Close</th>\n",
              "    </tr>\n",
              "    <tr>\n",
              "      <th>Date</th>\n",
              "      <th></th>\n",
              "      <th></th>\n",
              "      <th></th>\n",
              "      <th></th>\n",
              "    </tr>\n",
              "  </thead>\n",
              "  <tbody>\n",
              "    <tr>\n",
              "      <th>31 Dec 2018</th>\n",
              "      <td>10913.20</td>\n",
              "      <td>10923.55</td>\n",
              "      <td>10853.20</td>\n",
              "      <td>10862.55</td>\n",
              "    </tr>\n",
              "    <tr>\n",
              "      <th>28 Dec 2018</th>\n",
              "      <td>10820.95</td>\n",
              "      <td>10893.60</td>\n",
              "      <td>10817.15</td>\n",
              "      <td>10859.90</td>\n",
              "    </tr>\n",
              "    <tr>\n",
              "      <th>27 Dec 2018</th>\n",
              "      <td>10817.90</td>\n",
              "      <td>10834.20</td>\n",
              "      <td>10764.45</td>\n",
              "      <td>10779.80</td>\n",
              "    </tr>\n",
              "    <tr>\n",
              "      <th>26 Dec 2018</th>\n",
              "      <td>10635.45</td>\n",
              "      <td>10747.50</td>\n",
              "      <td>10534.55</td>\n",
              "      <td>10729.85</td>\n",
              "    </tr>\n",
              "    <tr>\n",
              "      <th>24 Dec 2018</th>\n",
              "      <td>10780.90</td>\n",
              "      <td>10782.30</td>\n",
              "      <td>10649.25</td>\n",
              "      <td>10663.50</td>\n",
              "    </tr>\n",
              "  </tbody>\n",
              "</table>\n",
              "</div>"
            ],
            "text/plain": [
              "                 Open      High       Low     Close\n",
              "Date                                               \n",
              "31 Dec 2018  10913.20  10923.55  10853.20  10862.55\n",
              "28 Dec 2018  10820.95  10893.60  10817.15  10859.90\n",
              "27 Dec 2018  10817.90  10834.20  10764.45  10779.80\n",
              "26 Dec 2018  10635.45  10747.50  10534.55  10729.85\n",
              "24 Dec 2018  10780.90  10782.30  10649.25  10663.50"
            ]
          },
          "metadata": {
            "tags": []
          },
          "execution_count": 112
        }
      ]
    },
    {
      "cell_type": "code",
      "metadata": {
        "colab": {
          "base_uri": "https://localhost:8080/",
          "height": 235
        },
        "id": "GsesFYw8qjmF",
        "outputId": "4c397b28-c177-4d1e-ec6c-5de4a9140169"
      },
      "source": [
        "nifty50_2019= pd.read_csv('NIFTY50_2019.csv', index_col=0)\n",
        "nifty50_2019.head()"
      ],
      "execution_count": 113,
      "outputs": [
        {
          "output_type": "execute_result",
          "data": {
            "text/html": [
              "<div>\n",
              "<style scoped>\n",
              "    .dataframe tbody tr th:only-of-type {\n",
              "        vertical-align: middle;\n",
              "    }\n",
              "\n",
              "    .dataframe tbody tr th {\n",
              "        vertical-align: top;\n",
              "    }\n",
              "\n",
              "    .dataframe thead th {\n",
              "        text-align: right;\n",
              "    }\n",
              "</style>\n",
              "<table border=\"1\" class=\"dataframe\">\n",
              "  <thead>\n",
              "    <tr style=\"text-align: right;\">\n",
              "      <th></th>\n",
              "      <th>Open</th>\n",
              "      <th>High</th>\n",
              "      <th>Low</th>\n",
              "      <th>Close</th>\n",
              "    </tr>\n",
              "    <tr>\n",
              "      <th>Date</th>\n",
              "      <th></th>\n",
              "      <th></th>\n",
              "      <th></th>\n",
              "      <th></th>\n",
              "    </tr>\n",
              "  </thead>\n",
              "  <tbody>\n",
              "    <tr>\n",
              "      <th>31 Dec 2019</th>\n",
              "      <td>12247.10</td>\n",
              "      <td>12247.10</td>\n",
              "      <td>12151.80</td>\n",
              "      <td>12168.45</td>\n",
              "    </tr>\n",
              "    <tr>\n",
              "      <th>30 Dec 2019</th>\n",
              "      <td>12274.90</td>\n",
              "      <td>12286.45</td>\n",
              "      <td>12213.80</td>\n",
              "      <td>12255.85</td>\n",
              "    </tr>\n",
              "    <tr>\n",
              "      <th>27 Dec 2019</th>\n",
              "      <td>12172.90</td>\n",
              "      <td>12258.45</td>\n",
              "      <td>12157.90</td>\n",
              "      <td>12245.80</td>\n",
              "    </tr>\n",
              "    <tr>\n",
              "      <th>26 Dec 2019</th>\n",
              "      <td>12211.85</td>\n",
              "      <td>12221.55</td>\n",
              "      <td>12118.85</td>\n",
              "      <td>12126.55</td>\n",
              "    </tr>\n",
              "    <tr>\n",
              "      <th>24 Dec 2019</th>\n",
              "      <td>12269.25</td>\n",
              "      <td>12283.70</td>\n",
              "      <td>12202.10</td>\n",
              "      <td>12214.55</td>\n",
              "    </tr>\n",
              "  </tbody>\n",
              "</table>\n",
              "</div>"
            ],
            "text/plain": [
              "                 Open      High       Low     Close\n",
              "Date                                               \n",
              "31 Dec 2019  12247.10  12247.10  12151.80  12168.45\n",
              "30 Dec 2019  12274.90  12286.45  12213.80  12255.85\n",
              "27 Dec 2019  12172.90  12258.45  12157.90  12245.80\n",
              "26 Dec 2019  12211.85  12221.55  12118.85  12126.55\n",
              "24 Dec 2019  12269.25  12283.70  12202.10  12214.55"
            ]
          },
          "metadata": {
            "tags": []
          },
          "execution_count": 113
        }
      ]
    },
    {
      "cell_type": "code",
      "metadata": {
        "id": "9pQj_C_br6z7"
      },
      "source": [
        "nifty_50= pd.concat([nifty50_2018, nifty50_2019])"
      ],
      "execution_count": 114,
      "outputs": []
    },
    {
      "cell_type": "code",
      "metadata": {
        "id": "eCHuAe0SsTCC"
      },
      "source": [
        "#pd.merge(left= nifty50_2018, right=nifty50_2019, how= 'outer', on= 'Date') Alternative"
      ],
      "execution_count": 115,
      "outputs": []
    },
    {
      "cell_type": "code",
      "metadata": {
        "colab": {
          "base_uri": "https://localhost:8080/",
          "height": 235
        },
        "id": "AjlPmOXPsZOL",
        "outputId": "5212a447-80aa-4f66-dfb2-99642422019b"
      },
      "source": [
        "niftynext50_2019= pd.read_csv('NIFTYNext50_2019.csv', index_col=0)\n",
        "niftynext50_2019.head()"
      ],
      "execution_count": 116,
      "outputs": [
        {
          "output_type": "execute_result",
          "data": {
            "text/html": [
              "<div>\n",
              "<style scoped>\n",
              "    .dataframe tbody tr th:only-of-type {\n",
              "        vertical-align: middle;\n",
              "    }\n",
              "\n",
              "    .dataframe tbody tr th {\n",
              "        vertical-align: top;\n",
              "    }\n",
              "\n",
              "    .dataframe thead th {\n",
              "        text-align: right;\n",
              "    }\n",
              "</style>\n",
              "<table border=\"1\" class=\"dataframe\">\n",
              "  <thead>\n",
              "    <tr style=\"text-align: right;\">\n",
              "      <th></th>\n",
              "      <th>Open</th>\n",
              "      <th>High</th>\n",
              "      <th>Low</th>\n",
              "      <th>Close</th>\n",
              "    </tr>\n",
              "    <tr>\n",
              "      <th>Date</th>\n",
              "      <th></th>\n",
              "      <th></th>\n",
              "      <th></th>\n",
              "      <th></th>\n",
              "    </tr>\n",
              "  </thead>\n",
              "  <tbody>\n",
              "    <tr>\n",
              "      <th>31 Dec 2019</th>\n",
              "      <td>28495.00</td>\n",
              "      <td>28549.50</td>\n",
              "      <td>28270.25</td>\n",
              "      <td>28307.55</td>\n",
              "    </tr>\n",
              "    <tr>\n",
              "      <th>30 Dec 2019</th>\n",
              "      <td>28528.95</td>\n",
              "      <td>28612.95</td>\n",
              "      <td>28406.70</td>\n",
              "      <td>28484.85</td>\n",
              "    </tr>\n",
              "    <tr>\n",
              "      <th>27 Dec 2019</th>\n",
              "      <td>28354.50</td>\n",
              "      <td>28500.25</td>\n",
              "      <td>28319.90</td>\n",
              "      <td>28476.80</td>\n",
              "    </tr>\n",
              "    <tr>\n",
              "      <th>26 Dec 2019</th>\n",
              "      <td>28409.10</td>\n",
              "      <td>28435.25</td>\n",
              "      <td>28259.75</td>\n",
              "      <td>28280.25</td>\n",
              "    </tr>\n",
              "    <tr>\n",
              "      <th>24 Dec 2019</th>\n",
              "      <td>28423.70</td>\n",
              "      <td>28430.40</td>\n",
              "      <td>28318.75</td>\n",
              "      <td>28382.85</td>\n",
              "    </tr>\n",
              "  </tbody>\n",
              "</table>\n",
              "</div>"
            ],
            "text/plain": [
              "                 Open      High       Low     Close\n",
              "Date                                               \n",
              "31 Dec 2019  28495.00  28549.50  28270.25  28307.55\n",
              "30 Dec 2019  28528.95  28612.95  28406.70  28484.85\n",
              "27 Dec 2019  28354.50  28500.25  28319.90  28476.80\n",
              "26 Dec 2019  28409.10  28435.25  28259.75  28280.25\n",
              "24 Dec 2019  28423.70  28430.40  28318.75  28382.85"
            ]
          },
          "metadata": {
            "tags": []
          },
          "execution_count": 116
        }
      ]
    },
    {
      "cell_type": "code",
      "metadata": {
        "colab": {
          "base_uri": "https://localhost:8080/",
          "height": 450
        },
        "id": "nA0eI8j_s_KR",
        "outputId": "f2d3b62c-abc5-4118-a06e-1d5d88c663a7"
      },
      "source": [
        "nifty_2019= pd.concat([nifty50_2019, niftynext50_2019], axis=1) #Concatenating breadthwise\n",
        "nifty_2019"
      ],
      "execution_count": 117,
      "outputs": [
        {
          "output_type": "execute_result",
          "data": {
            "text/html": [
              "<div>\n",
              "<style scoped>\n",
              "    .dataframe tbody tr th:only-of-type {\n",
              "        vertical-align: middle;\n",
              "    }\n",
              "\n",
              "    .dataframe tbody tr th {\n",
              "        vertical-align: top;\n",
              "    }\n",
              "\n",
              "    .dataframe thead th {\n",
              "        text-align: right;\n",
              "    }\n",
              "</style>\n",
              "<table border=\"1\" class=\"dataframe\">\n",
              "  <thead>\n",
              "    <tr style=\"text-align: right;\">\n",
              "      <th></th>\n",
              "      <th>Open</th>\n",
              "      <th>High</th>\n",
              "      <th>Low</th>\n",
              "      <th>Close</th>\n",
              "      <th>Open</th>\n",
              "      <th>High</th>\n",
              "      <th>Low</th>\n",
              "      <th>Close</th>\n",
              "    </tr>\n",
              "    <tr>\n",
              "      <th>Date</th>\n",
              "      <th></th>\n",
              "      <th></th>\n",
              "      <th></th>\n",
              "      <th></th>\n",
              "      <th></th>\n",
              "      <th></th>\n",
              "      <th></th>\n",
              "      <th></th>\n",
              "    </tr>\n",
              "  </thead>\n",
              "  <tbody>\n",
              "    <tr>\n",
              "      <th>31 Dec 2019</th>\n",
              "      <td>12247.10</td>\n",
              "      <td>12247.10</td>\n",
              "      <td>12151.80</td>\n",
              "      <td>12168.45</td>\n",
              "      <td>28495.00</td>\n",
              "      <td>28549.50</td>\n",
              "      <td>28270.25</td>\n",
              "      <td>28307.55</td>\n",
              "    </tr>\n",
              "    <tr>\n",
              "      <th>30 Dec 2019</th>\n",
              "      <td>12274.90</td>\n",
              "      <td>12286.45</td>\n",
              "      <td>12213.80</td>\n",
              "      <td>12255.85</td>\n",
              "      <td>28528.95</td>\n",
              "      <td>28612.95</td>\n",
              "      <td>28406.70</td>\n",
              "      <td>28484.85</td>\n",
              "    </tr>\n",
              "    <tr>\n",
              "      <th>27 Dec 2019</th>\n",
              "      <td>12172.90</td>\n",
              "      <td>12258.45</td>\n",
              "      <td>12157.90</td>\n",
              "      <td>12245.80</td>\n",
              "      <td>28354.50</td>\n",
              "      <td>28500.25</td>\n",
              "      <td>28319.90</td>\n",
              "      <td>28476.80</td>\n",
              "    </tr>\n",
              "    <tr>\n",
              "      <th>26 Dec 2019</th>\n",
              "      <td>12211.85</td>\n",
              "      <td>12221.55</td>\n",
              "      <td>12118.85</td>\n",
              "      <td>12126.55</td>\n",
              "      <td>28409.10</td>\n",
              "      <td>28435.25</td>\n",
              "      <td>28259.75</td>\n",
              "      <td>28280.25</td>\n",
              "    </tr>\n",
              "    <tr>\n",
              "      <th>24 Dec 2019</th>\n",
              "      <td>12269.25</td>\n",
              "      <td>12283.70</td>\n",
              "      <td>12202.10</td>\n",
              "      <td>12214.55</td>\n",
              "      <td>28423.70</td>\n",
              "      <td>28430.40</td>\n",
              "      <td>28318.75</td>\n",
              "      <td>28382.85</td>\n",
              "    </tr>\n",
              "    <tr>\n",
              "      <th>...</th>\n",
              "      <td>...</td>\n",
              "      <td>...</td>\n",
              "      <td>...</td>\n",
              "      <td>...</td>\n",
              "      <td>...</td>\n",
              "      <td>...</td>\n",
              "      <td>...</td>\n",
              "      <td>...</td>\n",
              "    </tr>\n",
              "    <tr>\n",
              "      <th>07 Jan 2019</th>\n",
              "      <td>10804.85</td>\n",
              "      <td>10835.95</td>\n",
              "      <td>10750.15</td>\n",
              "      <td>10771.80</td>\n",
              "      <td>27893.95</td>\n",
              "      <td>27932.00</td>\n",
              "      <td>27652.95</td>\n",
              "      <td>27706.60</td>\n",
              "    </tr>\n",
              "    <tr>\n",
              "      <th>04 Jan 2019</th>\n",
              "      <td>10699.70</td>\n",
              "      <td>10741.05</td>\n",
              "      <td>10628.65</td>\n",
              "      <td>10727.35</td>\n",
              "      <td>27707.20</td>\n",
              "      <td>27842.75</td>\n",
              "      <td>27533.90</td>\n",
              "      <td>27719.50</td>\n",
              "    </tr>\n",
              "    <tr>\n",
              "      <th>03 Jan 2019</th>\n",
              "      <td>10796.80</td>\n",
              "      <td>10814.05</td>\n",
              "      <td>10661.25</td>\n",
              "      <td>10672.25</td>\n",
              "      <td>27874.05</td>\n",
              "      <td>28045.30</td>\n",
              "      <td>27630.20</td>\n",
              "      <td>27674.65</td>\n",
              "    </tr>\n",
              "    <tr>\n",
              "      <th>02 Jan 2019</th>\n",
              "      <td>10868.85</td>\n",
              "      <td>10895.35</td>\n",
              "      <td>10735.05</td>\n",
              "      <td>10792.50</td>\n",
              "      <td>28074.05</td>\n",
              "      <td>28188.40</td>\n",
              "      <td>27801.75</td>\n",
              "      <td>27876.95</td>\n",
              "    </tr>\n",
              "    <tr>\n",
              "      <th>01 Jan 2019</th>\n",
              "      <td>10881.70</td>\n",
              "      <td>10923.60</td>\n",
              "      <td>10807.10</td>\n",
              "      <td>10910.10</td>\n",
              "      <td>28243.95</td>\n",
              "      <td>28252.20</td>\n",
              "      <td>27988.60</td>\n",
              "      <td>28111.65</td>\n",
              "    </tr>\n",
              "  </tbody>\n",
              "</table>\n",
              "<p>245 rows × 8 columns</p>\n",
              "</div>"
            ],
            "text/plain": [
              "                 Open      High       Low  ...      High       Low     Close\n",
              "Date                                       ...                              \n",
              "31 Dec 2019  12247.10  12247.10  12151.80  ...  28549.50  28270.25  28307.55\n",
              "30 Dec 2019  12274.90  12286.45  12213.80  ...  28612.95  28406.70  28484.85\n",
              "27 Dec 2019  12172.90  12258.45  12157.90  ...  28500.25  28319.90  28476.80\n",
              "26 Dec 2019  12211.85  12221.55  12118.85  ...  28435.25  28259.75  28280.25\n",
              "24 Dec 2019  12269.25  12283.70  12202.10  ...  28430.40  28318.75  28382.85\n",
              "...               ...       ...       ...  ...       ...       ...       ...\n",
              "07 Jan 2019  10804.85  10835.95  10750.15  ...  27932.00  27652.95  27706.60\n",
              "04 Jan 2019  10699.70  10741.05  10628.65  ...  27842.75  27533.90  27719.50\n",
              "03 Jan 2019  10796.80  10814.05  10661.25  ...  28045.30  27630.20  27674.65\n",
              "02 Jan 2019  10868.85  10895.35  10735.05  ...  28188.40  27801.75  27876.95\n",
              "01 Jan 2019  10881.70  10923.60  10807.10  ...  28252.20  27988.60  28111.65\n",
              "\n",
              "[245 rows x 8 columns]"
            ]
          },
          "metadata": {
            "tags": []
          },
          "execution_count": 117
        }
      ]
    },
    {
      "cell_type": "code",
      "metadata": {
        "colab": {
          "base_uri": "https://localhost:8080/",
          "height": 481
        },
        "id": "WLGR9JT0uYFg",
        "outputId": "5b96b5b0-84ff-4832-cd2e-97b0a85e0310"
      },
      "source": [
        "#Hierarchial Indexing\n",
        "nifty_2019= pd.concat([nifty50_2019, niftynext50_2019], axis=1, keys=['nifty50', 'niftynext50']) #Concatenating breadthwise\n",
        "nifty_2019"
      ],
      "execution_count": 118,
      "outputs": [
        {
          "output_type": "execute_result",
          "data": {
            "text/html": [
              "<div>\n",
              "<style scoped>\n",
              "    .dataframe tbody tr th:only-of-type {\n",
              "        vertical-align: middle;\n",
              "    }\n",
              "\n",
              "    .dataframe tbody tr th {\n",
              "        vertical-align: top;\n",
              "    }\n",
              "\n",
              "    .dataframe thead tr th {\n",
              "        text-align: left;\n",
              "    }\n",
              "\n",
              "    .dataframe thead tr:last-of-type th {\n",
              "        text-align: right;\n",
              "    }\n",
              "</style>\n",
              "<table border=\"1\" class=\"dataframe\">\n",
              "  <thead>\n",
              "    <tr>\n",
              "      <th></th>\n",
              "      <th colspan=\"4\" halign=\"left\">nifty50</th>\n",
              "      <th colspan=\"4\" halign=\"left\">niftynext50</th>\n",
              "    </tr>\n",
              "    <tr>\n",
              "      <th></th>\n",
              "      <th>Open</th>\n",
              "      <th>High</th>\n",
              "      <th>Low</th>\n",
              "      <th>Close</th>\n",
              "      <th>Open</th>\n",
              "      <th>High</th>\n",
              "      <th>Low</th>\n",
              "      <th>Close</th>\n",
              "    </tr>\n",
              "    <tr>\n",
              "      <th>Date</th>\n",
              "      <th></th>\n",
              "      <th></th>\n",
              "      <th></th>\n",
              "      <th></th>\n",
              "      <th></th>\n",
              "      <th></th>\n",
              "      <th></th>\n",
              "      <th></th>\n",
              "    </tr>\n",
              "  </thead>\n",
              "  <tbody>\n",
              "    <tr>\n",
              "      <th>31 Dec 2019</th>\n",
              "      <td>12247.10</td>\n",
              "      <td>12247.10</td>\n",
              "      <td>12151.80</td>\n",
              "      <td>12168.45</td>\n",
              "      <td>28495.00</td>\n",
              "      <td>28549.50</td>\n",
              "      <td>28270.25</td>\n",
              "      <td>28307.55</td>\n",
              "    </tr>\n",
              "    <tr>\n",
              "      <th>30 Dec 2019</th>\n",
              "      <td>12274.90</td>\n",
              "      <td>12286.45</td>\n",
              "      <td>12213.80</td>\n",
              "      <td>12255.85</td>\n",
              "      <td>28528.95</td>\n",
              "      <td>28612.95</td>\n",
              "      <td>28406.70</td>\n",
              "      <td>28484.85</td>\n",
              "    </tr>\n",
              "    <tr>\n",
              "      <th>27 Dec 2019</th>\n",
              "      <td>12172.90</td>\n",
              "      <td>12258.45</td>\n",
              "      <td>12157.90</td>\n",
              "      <td>12245.80</td>\n",
              "      <td>28354.50</td>\n",
              "      <td>28500.25</td>\n",
              "      <td>28319.90</td>\n",
              "      <td>28476.80</td>\n",
              "    </tr>\n",
              "    <tr>\n",
              "      <th>26 Dec 2019</th>\n",
              "      <td>12211.85</td>\n",
              "      <td>12221.55</td>\n",
              "      <td>12118.85</td>\n",
              "      <td>12126.55</td>\n",
              "      <td>28409.10</td>\n",
              "      <td>28435.25</td>\n",
              "      <td>28259.75</td>\n",
              "      <td>28280.25</td>\n",
              "    </tr>\n",
              "    <tr>\n",
              "      <th>24 Dec 2019</th>\n",
              "      <td>12269.25</td>\n",
              "      <td>12283.70</td>\n",
              "      <td>12202.10</td>\n",
              "      <td>12214.55</td>\n",
              "      <td>28423.70</td>\n",
              "      <td>28430.40</td>\n",
              "      <td>28318.75</td>\n",
              "      <td>28382.85</td>\n",
              "    </tr>\n",
              "    <tr>\n",
              "      <th>...</th>\n",
              "      <td>...</td>\n",
              "      <td>...</td>\n",
              "      <td>...</td>\n",
              "      <td>...</td>\n",
              "      <td>...</td>\n",
              "      <td>...</td>\n",
              "      <td>...</td>\n",
              "      <td>...</td>\n",
              "    </tr>\n",
              "    <tr>\n",
              "      <th>07 Jan 2019</th>\n",
              "      <td>10804.85</td>\n",
              "      <td>10835.95</td>\n",
              "      <td>10750.15</td>\n",
              "      <td>10771.80</td>\n",
              "      <td>27893.95</td>\n",
              "      <td>27932.00</td>\n",
              "      <td>27652.95</td>\n",
              "      <td>27706.60</td>\n",
              "    </tr>\n",
              "    <tr>\n",
              "      <th>04 Jan 2019</th>\n",
              "      <td>10699.70</td>\n",
              "      <td>10741.05</td>\n",
              "      <td>10628.65</td>\n",
              "      <td>10727.35</td>\n",
              "      <td>27707.20</td>\n",
              "      <td>27842.75</td>\n",
              "      <td>27533.90</td>\n",
              "      <td>27719.50</td>\n",
              "    </tr>\n",
              "    <tr>\n",
              "      <th>03 Jan 2019</th>\n",
              "      <td>10796.80</td>\n",
              "      <td>10814.05</td>\n",
              "      <td>10661.25</td>\n",
              "      <td>10672.25</td>\n",
              "      <td>27874.05</td>\n",
              "      <td>28045.30</td>\n",
              "      <td>27630.20</td>\n",
              "      <td>27674.65</td>\n",
              "    </tr>\n",
              "    <tr>\n",
              "      <th>02 Jan 2019</th>\n",
              "      <td>10868.85</td>\n",
              "      <td>10895.35</td>\n",
              "      <td>10735.05</td>\n",
              "      <td>10792.50</td>\n",
              "      <td>28074.05</td>\n",
              "      <td>28188.40</td>\n",
              "      <td>27801.75</td>\n",
              "      <td>27876.95</td>\n",
              "    </tr>\n",
              "    <tr>\n",
              "      <th>01 Jan 2019</th>\n",
              "      <td>10881.70</td>\n",
              "      <td>10923.60</td>\n",
              "      <td>10807.10</td>\n",
              "      <td>10910.10</td>\n",
              "      <td>28243.95</td>\n",
              "      <td>28252.20</td>\n",
              "      <td>27988.60</td>\n",
              "      <td>28111.65</td>\n",
              "    </tr>\n",
              "  </tbody>\n",
              "</table>\n",
              "<p>245 rows × 8 columns</p>\n",
              "</div>"
            ],
            "text/plain": [
              "              nifty50                      ... niftynext50                    \n",
              "                 Open      High       Low  ...        High       Low     Close\n",
              "Date                                       ...                                \n",
              "31 Dec 2019  12247.10  12247.10  12151.80  ...    28549.50  28270.25  28307.55\n",
              "30 Dec 2019  12274.90  12286.45  12213.80  ...    28612.95  28406.70  28484.85\n",
              "27 Dec 2019  12172.90  12258.45  12157.90  ...    28500.25  28319.90  28476.80\n",
              "26 Dec 2019  12211.85  12221.55  12118.85  ...    28435.25  28259.75  28280.25\n",
              "24 Dec 2019  12269.25  12283.70  12202.10  ...    28430.40  28318.75  28382.85\n",
              "...               ...       ...       ...  ...         ...       ...       ...\n",
              "07 Jan 2019  10804.85  10835.95  10750.15  ...    27932.00  27652.95  27706.60\n",
              "04 Jan 2019  10699.70  10741.05  10628.65  ...    27842.75  27533.90  27719.50\n",
              "03 Jan 2019  10796.80  10814.05  10661.25  ...    28045.30  27630.20  27674.65\n",
              "02 Jan 2019  10868.85  10895.35  10735.05  ...    28188.40  27801.75  27876.95\n",
              "01 Jan 2019  10881.70  10923.60  10807.10  ...    28252.20  27988.60  28111.65\n",
              "\n",
              "[245 rows x 8 columns]"
            ]
          },
          "metadata": {
            "tags": []
          },
          "execution_count": 118
        }
      ]
    },
    {
      "cell_type": "code",
      "metadata": {
        "colab": {
          "base_uri": "https://localhost:8080/",
          "height": 450
        },
        "id": "KsAscW04uzjL",
        "outputId": "5879b48f-9743-408a-ad8d-4a71b4684130"
      },
      "source": [
        "nifty_2019['nifty50'] #First half slice based on top level index"
      ],
      "execution_count": 119,
      "outputs": [
        {
          "output_type": "execute_result",
          "data": {
            "text/html": [
              "<div>\n",
              "<style scoped>\n",
              "    .dataframe tbody tr th:only-of-type {\n",
              "        vertical-align: middle;\n",
              "    }\n",
              "\n",
              "    .dataframe tbody tr th {\n",
              "        vertical-align: top;\n",
              "    }\n",
              "\n",
              "    .dataframe thead th {\n",
              "        text-align: right;\n",
              "    }\n",
              "</style>\n",
              "<table border=\"1\" class=\"dataframe\">\n",
              "  <thead>\n",
              "    <tr style=\"text-align: right;\">\n",
              "      <th></th>\n",
              "      <th>Open</th>\n",
              "      <th>High</th>\n",
              "      <th>Low</th>\n",
              "      <th>Close</th>\n",
              "    </tr>\n",
              "    <tr>\n",
              "      <th>Date</th>\n",
              "      <th></th>\n",
              "      <th></th>\n",
              "      <th></th>\n",
              "      <th></th>\n",
              "    </tr>\n",
              "  </thead>\n",
              "  <tbody>\n",
              "    <tr>\n",
              "      <th>31 Dec 2019</th>\n",
              "      <td>12247.10</td>\n",
              "      <td>12247.10</td>\n",
              "      <td>12151.80</td>\n",
              "      <td>12168.45</td>\n",
              "    </tr>\n",
              "    <tr>\n",
              "      <th>30 Dec 2019</th>\n",
              "      <td>12274.90</td>\n",
              "      <td>12286.45</td>\n",
              "      <td>12213.80</td>\n",
              "      <td>12255.85</td>\n",
              "    </tr>\n",
              "    <tr>\n",
              "      <th>27 Dec 2019</th>\n",
              "      <td>12172.90</td>\n",
              "      <td>12258.45</td>\n",
              "      <td>12157.90</td>\n",
              "      <td>12245.80</td>\n",
              "    </tr>\n",
              "    <tr>\n",
              "      <th>26 Dec 2019</th>\n",
              "      <td>12211.85</td>\n",
              "      <td>12221.55</td>\n",
              "      <td>12118.85</td>\n",
              "      <td>12126.55</td>\n",
              "    </tr>\n",
              "    <tr>\n",
              "      <th>24 Dec 2019</th>\n",
              "      <td>12269.25</td>\n",
              "      <td>12283.70</td>\n",
              "      <td>12202.10</td>\n",
              "      <td>12214.55</td>\n",
              "    </tr>\n",
              "    <tr>\n",
              "      <th>...</th>\n",
              "      <td>...</td>\n",
              "      <td>...</td>\n",
              "      <td>...</td>\n",
              "      <td>...</td>\n",
              "    </tr>\n",
              "    <tr>\n",
              "      <th>07 Jan 2019</th>\n",
              "      <td>10804.85</td>\n",
              "      <td>10835.95</td>\n",
              "      <td>10750.15</td>\n",
              "      <td>10771.80</td>\n",
              "    </tr>\n",
              "    <tr>\n",
              "      <th>04 Jan 2019</th>\n",
              "      <td>10699.70</td>\n",
              "      <td>10741.05</td>\n",
              "      <td>10628.65</td>\n",
              "      <td>10727.35</td>\n",
              "    </tr>\n",
              "    <tr>\n",
              "      <th>03 Jan 2019</th>\n",
              "      <td>10796.80</td>\n",
              "      <td>10814.05</td>\n",
              "      <td>10661.25</td>\n",
              "      <td>10672.25</td>\n",
              "    </tr>\n",
              "    <tr>\n",
              "      <th>02 Jan 2019</th>\n",
              "      <td>10868.85</td>\n",
              "      <td>10895.35</td>\n",
              "      <td>10735.05</td>\n",
              "      <td>10792.50</td>\n",
              "    </tr>\n",
              "    <tr>\n",
              "      <th>01 Jan 2019</th>\n",
              "      <td>10881.70</td>\n",
              "      <td>10923.60</td>\n",
              "      <td>10807.10</td>\n",
              "      <td>10910.10</td>\n",
              "    </tr>\n",
              "  </tbody>\n",
              "</table>\n",
              "<p>245 rows × 4 columns</p>\n",
              "</div>"
            ],
            "text/plain": [
              "                 Open      High       Low     Close\n",
              "Date                                               \n",
              "31 Dec 2019  12247.10  12247.10  12151.80  12168.45\n",
              "30 Dec 2019  12274.90  12286.45  12213.80  12255.85\n",
              "27 Dec 2019  12172.90  12258.45  12157.90  12245.80\n",
              "26 Dec 2019  12211.85  12221.55  12118.85  12126.55\n",
              "24 Dec 2019  12269.25  12283.70  12202.10  12214.55\n",
              "...               ...       ...       ...       ...\n",
              "07 Jan 2019  10804.85  10835.95  10750.15  10771.80\n",
              "04 Jan 2019  10699.70  10741.05  10628.65  10727.35\n",
              "03 Jan 2019  10796.80  10814.05  10661.25  10672.25\n",
              "02 Jan 2019  10868.85  10895.35  10735.05  10792.50\n",
              "01 Jan 2019  10881.70  10923.60  10807.10  10910.10\n",
              "\n",
              "[245 rows x 4 columns]"
            ]
          },
          "metadata": {
            "tags": []
          },
          "execution_count": 119
        }
      ]
    },
    {
      "cell_type": "code",
      "metadata": {
        "colab": {
          "base_uri": "https://localhost:8080/"
        },
        "id": "pbL-xtxzvDrx",
        "outputId": "12652540-3c78-4e8b-cc62-e53ce758c462"
      },
      "source": [
        "nifty_2019['nifty50']['Open']"
      ],
      "execution_count": 120,
      "outputs": [
        {
          "output_type": "execute_result",
          "data": {
            "text/plain": [
              "Date\n",
              "31 Dec 2019    12247.10\n",
              "30 Dec 2019    12274.90\n",
              "27 Dec 2019    12172.90\n",
              "26 Dec 2019    12211.85\n",
              "24 Dec 2019    12269.25\n",
              "                 ...   \n",
              "07 Jan 2019    10804.85\n",
              "04 Jan 2019    10699.70\n",
              "03 Jan 2019    10796.80\n",
              "02 Jan 2019    10868.85\n",
              "01 Jan 2019    10881.70\n",
              "Name: Open, Length: 245, dtype: float64"
            ]
          },
          "metadata": {
            "tags": []
          },
          "execution_count": 120
        }
      ]
    },
    {
      "cell_type": "markdown",
      "metadata": {
        "id": "HS1qDl0Iv24_"
      },
      "source": [
        "#Tasks"
      ]
    },
    {
      "cell_type": "markdown",
      "metadata": {
        "id": "VvyUMXOmv4ql"
      },
      "source": [
        "In 2019, how many days was NIFTY50 volatile (high> 105% of low)"
      ]
    },
    {
      "cell_type": "code",
      "metadata": {
        "colab": {
          "base_uri": "https://localhost:8080/"
        },
        "id": "oBAT6PsXvPpq",
        "outputId": "6fc711d3-900b-4658-caec-3a0965114ad1"
      },
      "source": [
        "nifty50_2019[nifty50_2019['High']> 1.05*nifty50_2019['Low']].shape[0]"
      ],
      "execution_count": 121,
      "outputs": [
        {
          "output_type": "execute_result",
          "data": {
            "text/plain": [
              "1"
            ]
          },
          "metadata": {
            "tags": []
          },
          "execution_count": 121
        }
      ]
    },
    {
      "cell_type": "markdown",
      "metadata": {
        "id": "Gcs9uQMewcvQ"
      },
      "source": [
        "Same thing but for NIFTY50NEXT"
      ]
    },
    {
      "cell_type": "code",
      "metadata": {
        "colab": {
          "base_uri": "https://localhost:8080/"
        },
        "id": "4_ktR785wRJX",
        "outputId": "1fa69845-a4db-473c-8336-788b42cc341c"
      },
      "source": [
        "niftynext50_2019[niftynext50_2019['High']> 1.05*niftynext50_2019['Low']].shape[0]"
      ],
      "execution_count": 122,
      "outputs": [
        {
          "output_type": "execute_result",
          "data": {
            "text/plain": [
              "1"
            ]
          },
          "metadata": {
            "tags": []
          },
          "execution_count": 122
        }
      ]
    },
    {
      "cell_type": "markdown",
      "metadata": {
        "id": "YTh46IzQwzO2"
      },
      "source": [
        "# Compute mean, median, std, variance of closing values for each weekday in NIFTY50 for 2019"
      ]
    },
    {
      "cell_type": "code",
      "metadata": {
        "id": "wbZnGmi0wn4D"
      },
      "source": [
        "new_index_nifty50_2019= map(pd.Timestamp, nifty50_2019.index)\n",
        "nifty50_2019_newindex= pd.DataFrame(nifty50_2019, index=new_index_nifty50_2019)"
      ],
      "execution_count": 123,
      "outputs": []
    },
    {
      "cell_type": "code",
      "metadata": {
        "colab": {
          "base_uri": "https://localhost:8080/",
          "height": 419
        },
        "id": "PS3VVwbRzVzg",
        "outputId": "e9d66807-29ac-4303-bb2c-bb005ef25192"
      },
      "source": [
        "nifty50_2019_newindex"
      ],
      "execution_count": 124,
      "outputs": [
        {
          "output_type": "execute_result",
          "data": {
            "text/html": [
              "<div>\n",
              "<style scoped>\n",
              "    .dataframe tbody tr th:only-of-type {\n",
              "        vertical-align: middle;\n",
              "    }\n",
              "\n",
              "    .dataframe tbody tr th {\n",
              "        vertical-align: top;\n",
              "    }\n",
              "\n",
              "    .dataframe thead th {\n",
              "        text-align: right;\n",
              "    }\n",
              "</style>\n",
              "<table border=\"1\" class=\"dataframe\">\n",
              "  <thead>\n",
              "    <tr style=\"text-align: right;\">\n",
              "      <th></th>\n",
              "      <th>Open</th>\n",
              "      <th>High</th>\n",
              "      <th>Low</th>\n",
              "      <th>Close</th>\n",
              "    </tr>\n",
              "  </thead>\n",
              "  <tbody>\n",
              "    <tr>\n",
              "      <th>2019-12-31</th>\n",
              "      <td>12247.10</td>\n",
              "      <td>12247.10</td>\n",
              "      <td>12151.80</td>\n",
              "      <td>12168.45</td>\n",
              "    </tr>\n",
              "    <tr>\n",
              "      <th>2019-12-30</th>\n",
              "      <td>12274.90</td>\n",
              "      <td>12286.45</td>\n",
              "      <td>12213.80</td>\n",
              "      <td>12255.85</td>\n",
              "    </tr>\n",
              "    <tr>\n",
              "      <th>2019-12-27</th>\n",
              "      <td>12172.90</td>\n",
              "      <td>12258.45</td>\n",
              "      <td>12157.90</td>\n",
              "      <td>12245.80</td>\n",
              "    </tr>\n",
              "    <tr>\n",
              "      <th>2019-12-26</th>\n",
              "      <td>12211.85</td>\n",
              "      <td>12221.55</td>\n",
              "      <td>12118.85</td>\n",
              "      <td>12126.55</td>\n",
              "    </tr>\n",
              "    <tr>\n",
              "      <th>2019-12-24</th>\n",
              "      <td>12269.25</td>\n",
              "      <td>12283.70</td>\n",
              "      <td>12202.10</td>\n",
              "      <td>12214.55</td>\n",
              "    </tr>\n",
              "    <tr>\n",
              "      <th>...</th>\n",
              "      <td>...</td>\n",
              "      <td>...</td>\n",
              "      <td>...</td>\n",
              "      <td>...</td>\n",
              "    </tr>\n",
              "    <tr>\n",
              "      <th>2019-01-07</th>\n",
              "      <td>10804.85</td>\n",
              "      <td>10835.95</td>\n",
              "      <td>10750.15</td>\n",
              "      <td>10771.80</td>\n",
              "    </tr>\n",
              "    <tr>\n",
              "      <th>2019-01-04</th>\n",
              "      <td>10699.70</td>\n",
              "      <td>10741.05</td>\n",
              "      <td>10628.65</td>\n",
              "      <td>10727.35</td>\n",
              "    </tr>\n",
              "    <tr>\n",
              "      <th>2019-01-03</th>\n",
              "      <td>10796.80</td>\n",
              "      <td>10814.05</td>\n",
              "      <td>10661.25</td>\n",
              "      <td>10672.25</td>\n",
              "    </tr>\n",
              "    <tr>\n",
              "      <th>2019-01-02</th>\n",
              "      <td>10868.85</td>\n",
              "      <td>10895.35</td>\n",
              "      <td>10735.05</td>\n",
              "      <td>10792.50</td>\n",
              "    </tr>\n",
              "    <tr>\n",
              "      <th>2019-01-01</th>\n",
              "      <td>10881.70</td>\n",
              "      <td>10923.60</td>\n",
              "      <td>10807.10</td>\n",
              "      <td>10910.10</td>\n",
              "    </tr>\n",
              "  </tbody>\n",
              "</table>\n",
              "<p>245 rows × 4 columns</p>\n",
              "</div>"
            ],
            "text/plain": [
              "                Open      High       Low     Close\n",
              "2019-12-31  12247.10  12247.10  12151.80  12168.45\n",
              "2019-12-30  12274.90  12286.45  12213.80  12255.85\n",
              "2019-12-27  12172.90  12258.45  12157.90  12245.80\n",
              "2019-12-26  12211.85  12221.55  12118.85  12126.55\n",
              "2019-12-24  12269.25  12283.70  12202.10  12214.55\n",
              "...              ...       ...       ...       ...\n",
              "2019-01-07  10804.85  10835.95  10750.15  10771.80\n",
              "2019-01-04  10699.70  10741.05  10628.65  10727.35\n",
              "2019-01-03  10796.80  10814.05  10661.25  10672.25\n",
              "2019-01-02  10868.85  10895.35  10735.05  10792.50\n",
              "2019-01-01  10881.70  10923.60  10807.10  10910.10\n",
              "\n",
              "[245 rows x 4 columns]"
            ]
          },
          "metadata": {
            "tags": []
          },
          "execution_count": 124
        }
      ]
    },
    {
      "cell_type": "code",
      "metadata": {
        "colab": {
          "base_uri": "https://localhost:8080/",
          "height": 419
        },
        "id": "YH-VuMZPzX4q",
        "outputId": "7469f4e4-4b4b-4147-d097-e6002d41b244"
      },
      "source": [
        "nifty50_2019_newindex['Day of Week']= nifty50_2019_newindex.index.dayofweek\n",
        "nifty50_2019_newindex"
      ],
      "execution_count": 125,
      "outputs": [
        {
          "output_type": "execute_result",
          "data": {
            "text/html": [
              "<div>\n",
              "<style scoped>\n",
              "    .dataframe tbody tr th:only-of-type {\n",
              "        vertical-align: middle;\n",
              "    }\n",
              "\n",
              "    .dataframe tbody tr th {\n",
              "        vertical-align: top;\n",
              "    }\n",
              "\n",
              "    .dataframe thead th {\n",
              "        text-align: right;\n",
              "    }\n",
              "</style>\n",
              "<table border=\"1\" class=\"dataframe\">\n",
              "  <thead>\n",
              "    <tr style=\"text-align: right;\">\n",
              "      <th></th>\n",
              "      <th>Open</th>\n",
              "      <th>High</th>\n",
              "      <th>Low</th>\n",
              "      <th>Close</th>\n",
              "      <th>Day of Week</th>\n",
              "    </tr>\n",
              "  </thead>\n",
              "  <tbody>\n",
              "    <tr>\n",
              "      <th>2019-12-31</th>\n",
              "      <td>12247.10</td>\n",
              "      <td>12247.10</td>\n",
              "      <td>12151.80</td>\n",
              "      <td>12168.45</td>\n",
              "      <td>1</td>\n",
              "    </tr>\n",
              "    <tr>\n",
              "      <th>2019-12-30</th>\n",
              "      <td>12274.90</td>\n",
              "      <td>12286.45</td>\n",
              "      <td>12213.80</td>\n",
              "      <td>12255.85</td>\n",
              "      <td>0</td>\n",
              "    </tr>\n",
              "    <tr>\n",
              "      <th>2019-12-27</th>\n",
              "      <td>12172.90</td>\n",
              "      <td>12258.45</td>\n",
              "      <td>12157.90</td>\n",
              "      <td>12245.80</td>\n",
              "      <td>4</td>\n",
              "    </tr>\n",
              "    <tr>\n",
              "      <th>2019-12-26</th>\n",
              "      <td>12211.85</td>\n",
              "      <td>12221.55</td>\n",
              "      <td>12118.85</td>\n",
              "      <td>12126.55</td>\n",
              "      <td>3</td>\n",
              "    </tr>\n",
              "    <tr>\n",
              "      <th>2019-12-24</th>\n",
              "      <td>12269.25</td>\n",
              "      <td>12283.70</td>\n",
              "      <td>12202.10</td>\n",
              "      <td>12214.55</td>\n",
              "      <td>1</td>\n",
              "    </tr>\n",
              "    <tr>\n",
              "      <th>...</th>\n",
              "      <td>...</td>\n",
              "      <td>...</td>\n",
              "      <td>...</td>\n",
              "      <td>...</td>\n",
              "      <td>...</td>\n",
              "    </tr>\n",
              "    <tr>\n",
              "      <th>2019-01-07</th>\n",
              "      <td>10804.85</td>\n",
              "      <td>10835.95</td>\n",
              "      <td>10750.15</td>\n",
              "      <td>10771.80</td>\n",
              "      <td>0</td>\n",
              "    </tr>\n",
              "    <tr>\n",
              "      <th>2019-01-04</th>\n",
              "      <td>10699.70</td>\n",
              "      <td>10741.05</td>\n",
              "      <td>10628.65</td>\n",
              "      <td>10727.35</td>\n",
              "      <td>4</td>\n",
              "    </tr>\n",
              "    <tr>\n",
              "      <th>2019-01-03</th>\n",
              "      <td>10796.80</td>\n",
              "      <td>10814.05</td>\n",
              "      <td>10661.25</td>\n",
              "      <td>10672.25</td>\n",
              "      <td>3</td>\n",
              "    </tr>\n",
              "    <tr>\n",
              "      <th>2019-01-02</th>\n",
              "      <td>10868.85</td>\n",
              "      <td>10895.35</td>\n",
              "      <td>10735.05</td>\n",
              "      <td>10792.50</td>\n",
              "      <td>2</td>\n",
              "    </tr>\n",
              "    <tr>\n",
              "      <th>2019-01-01</th>\n",
              "      <td>10881.70</td>\n",
              "      <td>10923.60</td>\n",
              "      <td>10807.10</td>\n",
              "      <td>10910.10</td>\n",
              "      <td>1</td>\n",
              "    </tr>\n",
              "  </tbody>\n",
              "</table>\n",
              "<p>245 rows × 5 columns</p>\n",
              "</div>"
            ],
            "text/plain": [
              "                Open      High       Low     Close  Day of Week\n",
              "2019-12-31  12247.10  12247.10  12151.80  12168.45            1\n",
              "2019-12-30  12274.90  12286.45  12213.80  12255.85            0\n",
              "2019-12-27  12172.90  12258.45  12157.90  12245.80            4\n",
              "2019-12-26  12211.85  12221.55  12118.85  12126.55            3\n",
              "2019-12-24  12269.25  12283.70  12202.10  12214.55            1\n",
              "...              ...       ...       ...       ...          ...\n",
              "2019-01-07  10804.85  10835.95  10750.15  10771.80            0\n",
              "2019-01-04  10699.70  10741.05  10628.65  10727.35            4\n",
              "2019-01-03  10796.80  10814.05  10661.25  10672.25            3\n",
              "2019-01-02  10868.85  10895.35  10735.05  10792.50            2\n",
              "2019-01-01  10881.70  10923.60  10807.10  10910.10            1\n",
              "\n",
              "[245 rows x 5 columns]"
            ]
          },
          "metadata": {
            "tags": []
          },
          "execution_count": 125
        }
      ]
    },
    {
      "cell_type": "code",
      "metadata": {
        "colab": {
          "base_uri": "https://localhost:8080/"
        },
        "id": "i8f-odR8kpUL",
        "outputId": "3d375207-25e1-4ac1-df83-2244b159cf1b"
      },
      "source": [
        "nifty50_2019_newindex.groupby('Day of Week')['Close'].mean()"
      ],
      "execution_count": 162,
      "outputs": [
        {
          "output_type": "execute_result",
          "data": {
            "text/plain": [
              "Day of Week\n",
              "0    11463.535870\n",
              "1    11444.318000\n",
              "2    11385.222340\n",
              "3    11430.373000\n",
              "4    11435.394118\n",
              "6    11627.150000\n",
              "Name: Close, dtype: float64"
            ]
          },
          "metadata": {
            "tags": []
          },
          "execution_count": 162
        }
      ]
    },
    {
      "cell_type": "code",
      "metadata": {
        "colab": {
          "base_uri": "https://localhost:8080/"
        },
        "id": "sQOTw5hflPFi",
        "outputId": "e373a89f-82ac-4449-ad1f-53242297640f"
      },
      "source": [
        "nifty50_2019_newindex.groupby('Day of Week')['Close'].median()"
      ],
      "execution_count": 163,
      "outputs": [
        {
          "output_type": "execute_result",
          "data": {
            "text/plain": [
              "Day of Week\n",
              "0    11573.475\n",
              "1    11544.150\n",
              "2    11440.200\n",
              "3    11576.900\n",
              "4    11456.900\n",
              "6    11627.150\n",
              "Name: Close, dtype: float64"
            ]
          },
          "metadata": {
            "tags": []
          },
          "execution_count": 163
        }
      ]
    },
    {
      "cell_type": "code",
      "metadata": {
        "colab": {
          "base_uri": "https://localhost:8080/"
        },
        "id": "fgBbr9Ubn9ym",
        "outputId": "b2931ff6-8ba7-4ef9-e98d-1c112808424f"
      },
      "source": [
        "nifty50_2019_newindex.groupby('Day of Week')['Close'].std()"
      ],
      "execution_count": 164,
      "outputs": [
        {
          "output_type": "execute_result",
          "data": {
            "text/plain": [
              "Day of Week\n",
              "0    463.019749\n",
              "1    462.829541\n",
              "2    449.850387\n",
              "3    470.461726\n",
              "4    443.779665\n",
              "6           NaN\n",
              "Name: Close, dtype: float64"
            ]
          },
          "metadata": {
            "tags": []
          },
          "execution_count": 164
        }
      ]
    },
    {
      "cell_type": "code",
      "metadata": {
        "colab": {
          "base_uri": "https://localhost:8080/"
        },
        "id": "M_ahS625oARD",
        "outputId": "8d5fadc2-c152-47c1-94aa-3b6bd393bfcb"
      },
      "source": [
        "nifty50_2019_newindex.groupby('Day of Week')['Close'].var()"
      ],
      "execution_count": 165,
      "outputs": [
        {
          "output_type": "execute_result",
          "data": {
            "text/plain": [
              "Day of Week\n",
              "0    214387.288296\n",
              "1    214211.183649\n",
              "2    202365.370740\n",
              "3    221334.235430\n",
              "4    196940.391065\n",
              "6              NaN\n",
              "Name: Close, dtype: float64"
            ]
          },
          "metadata": {
            "tags": []
          },
          "execution_count": 165
        }
      ]
    },
    {
      "cell_type": "markdown",
      "metadata": {
        "id": "s72cLwl3oTJ4"
      },
      "source": [
        "# Compute mean, median, std, var for each month"
      ]
    },
    {
      "cell_type": "code",
      "metadata": {
        "colab": {
          "base_uri": "https://localhost:8080/",
          "height": 419
        },
        "id": "loxdFAJnoCXj",
        "outputId": "4beab63c-3f68-4ad3-bb3e-dade209da2ab"
      },
      "source": [
        "nifty50_2019_newindex['Month Of Year']= nifty50_2019_newindex.index.month\n",
        "nifty50_2019_newindex"
      ],
      "execution_count": 166,
      "outputs": [
        {
          "output_type": "execute_result",
          "data": {
            "text/html": [
              "<div>\n",
              "<style scoped>\n",
              "    .dataframe tbody tr th:only-of-type {\n",
              "        vertical-align: middle;\n",
              "    }\n",
              "\n",
              "    .dataframe tbody tr th {\n",
              "        vertical-align: top;\n",
              "    }\n",
              "\n",
              "    .dataframe thead th {\n",
              "        text-align: right;\n",
              "    }\n",
              "</style>\n",
              "<table border=\"1\" class=\"dataframe\">\n",
              "  <thead>\n",
              "    <tr style=\"text-align: right;\">\n",
              "      <th></th>\n",
              "      <th>Open</th>\n",
              "      <th>High</th>\n",
              "      <th>Low</th>\n",
              "      <th>Close</th>\n",
              "      <th>Day of Week</th>\n",
              "      <th>Month Of Year</th>\n",
              "    </tr>\n",
              "  </thead>\n",
              "  <tbody>\n",
              "    <tr>\n",
              "      <th>2019-12-31</th>\n",
              "      <td>12247.10</td>\n",
              "      <td>12247.10</td>\n",
              "      <td>12151.80</td>\n",
              "      <td>12168.45</td>\n",
              "      <td>1</td>\n",
              "      <td>12</td>\n",
              "    </tr>\n",
              "    <tr>\n",
              "      <th>2019-12-30</th>\n",
              "      <td>12274.90</td>\n",
              "      <td>12286.45</td>\n",
              "      <td>12213.80</td>\n",
              "      <td>12255.85</td>\n",
              "      <td>0</td>\n",
              "      <td>12</td>\n",
              "    </tr>\n",
              "    <tr>\n",
              "      <th>2019-12-27</th>\n",
              "      <td>12172.90</td>\n",
              "      <td>12258.45</td>\n",
              "      <td>12157.90</td>\n",
              "      <td>12245.80</td>\n",
              "      <td>4</td>\n",
              "      <td>12</td>\n",
              "    </tr>\n",
              "    <tr>\n",
              "      <th>2019-12-26</th>\n",
              "      <td>12211.85</td>\n",
              "      <td>12221.55</td>\n",
              "      <td>12118.85</td>\n",
              "      <td>12126.55</td>\n",
              "      <td>3</td>\n",
              "      <td>12</td>\n",
              "    </tr>\n",
              "    <tr>\n",
              "      <th>2019-12-24</th>\n",
              "      <td>12269.25</td>\n",
              "      <td>12283.70</td>\n",
              "      <td>12202.10</td>\n",
              "      <td>12214.55</td>\n",
              "      <td>1</td>\n",
              "      <td>12</td>\n",
              "    </tr>\n",
              "    <tr>\n",
              "      <th>...</th>\n",
              "      <td>...</td>\n",
              "      <td>...</td>\n",
              "      <td>...</td>\n",
              "      <td>...</td>\n",
              "      <td>...</td>\n",
              "      <td>...</td>\n",
              "    </tr>\n",
              "    <tr>\n",
              "      <th>2019-01-07</th>\n",
              "      <td>10804.85</td>\n",
              "      <td>10835.95</td>\n",
              "      <td>10750.15</td>\n",
              "      <td>10771.80</td>\n",
              "      <td>0</td>\n",
              "      <td>1</td>\n",
              "    </tr>\n",
              "    <tr>\n",
              "      <th>2019-01-04</th>\n",
              "      <td>10699.70</td>\n",
              "      <td>10741.05</td>\n",
              "      <td>10628.65</td>\n",
              "      <td>10727.35</td>\n",
              "      <td>4</td>\n",
              "      <td>1</td>\n",
              "    </tr>\n",
              "    <tr>\n",
              "      <th>2019-01-03</th>\n",
              "      <td>10796.80</td>\n",
              "      <td>10814.05</td>\n",
              "      <td>10661.25</td>\n",
              "      <td>10672.25</td>\n",
              "      <td>3</td>\n",
              "      <td>1</td>\n",
              "    </tr>\n",
              "    <tr>\n",
              "      <th>2019-01-02</th>\n",
              "      <td>10868.85</td>\n",
              "      <td>10895.35</td>\n",
              "      <td>10735.05</td>\n",
              "      <td>10792.50</td>\n",
              "      <td>2</td>\n",
              "      <td>1</td>\n",
              "    </tr>\n",
              "    <tr>\n",
              "      <th>2019-01-01</th>\n",
              "      <td>10881.70</td>\n",
              "      <td>10923.60</td>\n",
              "      <td>10807.10</td>\n",
              "      <td>10910.10</td>\n",
              "      <td>1</td>\n",
              "      <td>1</td>\n",
              "    </tr>\n",
              "  </tbody>\n",
              "</table>\n",
              "<p>245 rows × 6 columns</p>\n",
              "</div>"
            ],
            "text/plain": [
              "                Open      High       Low     Close  Day of Week  Month Of Year\n",
              "2019-12-31  12247.10  12247.10  12151.80  12168.45            1             12\n",
              "2019-12-30  12274.90  12286.45  12213.80  12255.85            0             12\n",
              "2019-12-27  12172.90  12258.45  12157.90  12245.80            4             12\n",
              "2019-12-26  12211.85  12221.55  12118.85  12126.55            3             12\n",
              "2019-12-24  12269.25  12283.70  12202.10  12214.55            1             12\n",
              "...              ...       ...       ...       ...          ...            ...\n",
              "2019-01-07  10804.85  10835.95  10750.15  10771.80            0              1\n",
              "2019-01-04  10699.70  10741.05  10628.65  10727.35            4              1\n",
              "2019-01-03  10796.80  10814.05  10661.25  10672.25            3              1\n",
              "2019-01-02  10868.85  10895.35  10735.05  10792.50            2              1\n",
              "2019-01-01  10881.70  10923.60  10807.10  10910.10            1              1\n",
              "\n",
              "[245 rows x 6 columns]"
            ]
          },
          "metadata": {
            "tags": []
          },
          "execution_count": 166
        }
      ]
    },
    {
      "cell_type": "code",
      "metadata": {
        "colab": {
          "base_uri": "https://localhost:8080/"
        },
        "id": "MthA8chlo3s4",
        "outputId": "a43f2593-75bb-4db3-8587-1fdbe45a4133"
      },
      "source": [
        "nifty50_2019_newindex.groupby('Month Of Year')['Close'].mean()"
      ],
      "execution_count": 167,
      "outputs": [
        {
          "output_type": "execute_result",
          "data": {
            "text/plain": [
              "Month Of Year\n",
              "1     10809.463043\n",
              "2     10833.840000\n",
              "3     11317.242105\n",
              "4     11666.452632\n",
              "5     11592.022727\n",
              "6     11839.023684\n",
              "7     11523.110870\n",
              "8     10976.500000\n",
              "9     11124.289474\n",
              "10    11490.205000\n",
              "11    11964.132500\n",
              "12    12096.880952\n",
              "Name: Close, dtype: float64"
            ]
          },
          "metadata": {
            "tags": []
          },
          "execution_count": 167
        }
      ]
    },
    {
      "cell_type": "code",
      "metadata": {
        "id": "x8anxYlRpBuI"
      },
      "source": [
        ""
      ],
      "execution_count": null,
      "outputs": []
    }
  ]
}