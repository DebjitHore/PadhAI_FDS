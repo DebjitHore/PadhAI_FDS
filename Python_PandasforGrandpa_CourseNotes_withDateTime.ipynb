{
  "nbformat": 4,
  "nbformat_minor": 0,
  "metadata": {
    "colab": {
      "name": "Python_PandasforGrandpa_CourseNotes_withDateTime.ipynb",
      "provenance": [],
      "collapsed_sections": [
        "VEdOVqmy3qha",
        "dBTg8Cyu92ko",
        "dVe1s1ZiD-Pf",
        "FmyTdYmpHbTi"
      ],
      "authorship_tag": "ABX9TyOPj+IyZWcEnwiC5CMcRtrh",
      "include_colab_link": true
    },
    "kernelspec": {
      "name": "python3",
      "display_name": "Python 3"
    },
    "language_info": {
      "name": "python"
    }
  },
  "cells": [
    {
      "cell_type": "markdown",
      "metadata": {
        "id": "view-in-github",
        "colab_type": "text"
      },
      "source": [
        "<a href=\"https://colab.research.google.com/github/DebjitHore/PadhAI_FDS/blob/master/Python_PandasforGrandpa_CourseNotes_withDateTime.ipynb\" target=\"_parent\"><img src=\"https://colab.research.google.com/assets/colab-badge.svg\" alt=\"Open In Colab\"/></a>"
      ]
    },
    {
      "cell_type": "code",
      "metadata": {
        "colab": {
          "base_uri": "https://localhost:8080/"
        },
        "id": "d6tvjOv5nPvN",
        "outputId": "8460e8de-116c-4be2-c2d2-d3baaf4edf6c"
      },
      "source": [
        "!pip install pandas"
      ],
      "execution_count": 1,
      "outputs": [
        {
          "output_type": "stream",
          "text": [
            "Requirement already satisfied: pandas in /usr/local/lib/python3.7/dist-packages (1.1.5)\n",
            "Requirement already satisfied: numpy>=1.15.4 in /usr/local/lib/python3.7/dist-packages (from pandas) (1.19.5)\n",
            "Requirement already satisfied: pytz>=2017.2 in /usr/local/lib/python3.7/dist-packages (from pandas) (2018.9)\n",
            "Requirement already satisfied: python-dateutil>=2.7.3 in /usr/local/lib/python3.7/dist-packages (from pandas) (2.8.1)\n",
            "Requirement already satisfied: six>=1.5 in /usr/local/lib/python3.7/dist-packages (from python-dateutil>=2.7.3->pandas) (1.15.0)\n"
          ],
          "name": "stdout"
        }
      ]
    },
    {
      "cell_type": "code",
      "metadata": {
        "id": "q55BHI80oX41"
      },
      "source": [
        "import pandas as pd\n",
        "import numpy as np"
      ],
      "execution_count": 2,
      "outputs": []
    },
    {
      "cell_type": "code",
      "metadata": {
        "id": "m5khSvvPoaGa"
      },
      "source": [
        "x= pd.Series([1,2,3,4,5,6,7])"
      ],
      "execution_count": 3,
      "outputs": []
    },
    {
      "cell_type": "code",
      "metadata": {
        "colab": {
          "base_uri": "https://localhost:8080/"
        },
        "id": "9fHL9AdfogTh",
        "outputId": "2172f02b-6202-4308-918f-06e9aface4db"
      },
      "source": [
        "print(x)"
      ],
      "execution_count": 4,
      "outputs": [
        {
          "output_type": "stream",
          "text": [
            "0    1\n",
            "1    2\n",
            "2    3\n",
            "3    4\n",
            "4    5\n",
            "5    6\n",
            "6    7\n",
            "dtype: int64\n"
          ],
          "name": "stdout"
        }
      ]
    },
    {
      "cell_type": "markdown",
      "metadata": {
        "id": "KKfDN0miolDx"
      },
      "source": [
        "First column represents the series index. Homogenous data type, like numpy arrays\n"
      ]
    },
    {
      "cell_type": "code",
      "metadata": {
        "colab": {
          "base_uri": "https://localhost:8080/"
        },
        "id": "2IcCf7NGohtY",
        "outputId": "fa06286c-f9ae-4aa3-c0a0-f204961ea9e2"
      },
      "source": [
        "x.dtype"
      ],
      "execution_count": 5,
      "outputs": [
        {
          "output_type": "execute_result",
          "data": {
            "text/plain": [
              "dtype('int64')"
            ]
          },
          "metadata": {
            "tags": []
          },
          "execution_count": 5
        }
      ]
    },
    {
      "cell_type": "code",
      "metadata": {
        "colab": {
          "base_uri": "https://localhost:8080/"
        },
        "id": "Si1E2o1Ko1ZY",
        "outputId": "db832a5a-9714-48c9-d1f9-d788a4c7f185"
      },
      "source": [
        "x.values #deprecated, don't do"
      ],
      "execution_count": 6,
      "outputs": [
        {
          "output_type": "execute_result",
          "data": {
            "text/plain": [
              "array([1, 2, 3, 4, 5, 6, 7])"
            ]
          },
          "metadata": {
            "tags": []
          },
          "execution_count": 6
        }
      ]
    },
    {
      "cell_type": "code",
      "metadata": {
        "colab": {
          "base_uri": "https://localhost:8080/"
        },
        "id": "Oe_05WlQo4Rw",
        "outputId": "55aa1fb6-59fa-4d6c-9ea9-1cc1ec483dd4"
      },
      "source": [
        "x.head() #first five values   "
      ],
      "execution_count": 7,
      "outputs": [
        {
          "output_type": "execute_result",
          "data": {
            "text/plain": [
              "0    1\n",
              "1    2\n",
              "2    3\n",
              "3    4\n",
              "4    5\n",
              "dtype: int64"
            ]
          },
          "metadata": {
            "tags": []
          },
          "execution_count": 7
        }
      ]
    },
    {
      "cell_type": "code",
      "metadata": {
        "colab": {
          "base_uri": "https://localhost:8080/"
        },
        "id": "Wz7v_H8ro9lv",
        "outputId": "b56a2875-9db3-47d9-ec91-5d45f771af9a"
      },
      "source": [
        "x.tail() #last five values"
      ],
      "execution_count": 8,
      "outputs": [
        {
          "output_type": "execute_result",
          "data": {
            "text/plain": [
              "2    3\n",
              "3    4\n",
              "4    5\n",
              "5    6\n",
              "6    7\n",
              "dtype: int64"
            ]
          },
          "metadata": {
            "tags": []
          },
          "execution_count": 8
        }
      ]
    },
    {
      "cell_type": "code",
      "metadata": {
        "colab": {
          "base_uri": "https://localhost:8080/"
        },
        "id": "j6abYrlfo_Uo",
        "outputId": "09599783-4210-46a2-bc1b-fb98d5b45313"
      },
      "source": [
        "x.head(3)"
      ],
      "execution_count": 9,
      "outputs": [
        {
          "output_type": "execute_result",
          "data": {
            "text/plain": [
              "0    1\n",
              "1    2\n",
              "2    3\n",
              "dtype: int64"
            ]
          },
          "metadata": {
            "tags": []
          },
          "execution_count": 9
        }
      ]
    },
    {
      "cell_type": "code",
      "metadata": {
        "colab": {
          "base_uri": "https://localhost:8080/"
        },
        "id": "nuLUAoECpR7H",
        "outputId": "7a0fb044-d85a-4094-91c0-eeee4303a5cf"
      },
      "source": [
        "data= {'a': 0.,  'b':1., 'c':2., 'd':3.}\n",
        "y=pd.Series(data)\n",
        "y #Dictionary key used as index"
      ],
      "execution_count": 10,
      "outputs": [
        {
          "output_type": "execute_result",
          "data": {
            "text/plain": [
              "a    0.0\n",
              "b    1.0\n",
              "c    2.0\n",
              "d    3.0\n",
              "dtype: float64"
            ]
          },
          "metadata": {
            "tags": []
          },
          "execution_count": 10
        }
      ]
    },
    {
      "cell_type": "code",
      "metadata": {
        "colab": {
          "base_uri": "https://localhost:8080/"
        },
        "id": "B99DEe8UpcKO",
        "outputId": "690a0c3c-f935-4447-9b45-2905124f79c8"
      },
      "source": [
        "z= pd.Series(['Debjit', 'DebjitAgain'])\n",
        "z"
      ],
      "execution_count": 11,
      "outputs": [
        {
          "output_type": "execute_result",
          "data": {
            "text/plain": [
              "0         Debjit\n",
              "1    DebjitAgain\n",
              "dtype: object"
            ]
          },
          "metadata": {
            "tags": []
          },
          "execution_count": 11
        }
      ]
    },
    {
      "cell_type": "code",
      "metadata": {
        "colab": {
          "base_uri": "https://localhost:8080/"
        },
        "id": "_8bDSPoqpuk5",
        "outputId": "c87f1206-8bdb-48d6-83e8-8c08d8cff794"
      },
      "source": [
        "xx= np.array([10,20,30,40])\n",
        "pd.Series(xx)"
      ],
      "execution_count": 12,
      "outputs": [
        {
          "output_type": "execute_result",
          "data": {
            "text/plain": [
              "0    10\n",
              "1    20\n",
              "2    30\n",
              "3    40\n",
              "dtype: int64"
            ]
          },
          "metadata": {
            "tags": []
          },
          "execution_count": 12
        }
      ]
    },
    {
      "cell_type": "code",
      "metadata": {
        "colab": {
          "base_uri": "https://localhost:8080/"
        },
        "id": "O4ioY6ODqJl9",
        "outputId": "a25fcc92-cf26-4d5e-f6aa-2bd34def7c95"
      },
      "source": [
        "pd.Series(np.random.normal(size=5))"
      ],
      "execution_count": 13,
      "outputs": [
        {
          "output_type": "execute_result",
          "data": {
            "text/plain": [
              "0   -0.024608\n",
              "1    0.186469\n",
              "2    0.953795\n",
              "3    0.754316\n",
              "4   -0.711816\n",
              "dtype: float64"
            ]
          },
          "metadata": {
            "tags": []
          },
          "execution_count": 13
        }
      ]
    },
    {
      "cell_type": "code",
      "metadata": {
        "colab": {
          "base_uri": "https://localhost:8080/"
        },
        "id": "-4jFigdpqXIk",
        "outputId": "6810a787-7c24-4a25-8347-3f19383c6f33"
      },
      "source": [
        "x"
      ],
      "execution_count": 14,
      "outputs": [
        {
          "output_type": "execute_result",
          "data": {
            "text/plain": [
              "0    1\n",
              "1    2\n",
              "2    3\n",
              "3    4\n",
              "4    5\n",
              "5    6\n",
              "6    7\n",
              "dtype: int64"
            ]
          },
          "metadata": {
            "tags": []
          },
          "execution_count": 14
        }
      ]
    },
    {
      "cell_type": "markdown",
      "metadata": {
        "id": "J4tF8vtB3zKO"
      },
      "source": [
        "# Pandas Series Indexing"
      ]
    },
    {
      "cell_type": "code",
      "metadata": {
        "colab": {
          "base_uri": "https://localhost:8080/"
        },
        "id": "LHgotV43qyuz",
        "outputId": "4d4f2d7c-d8be-48aa-be65-ffc2457e9e4e"
      },
      "source": [
        "x[1] #Actually returns the value of series at index labelled 3, not necessarily 3rd index. Indices in a pandas series can be modified check next cell"
      ],
      "execution_count": 15,
      "outputs": [
        {
          "output_type": "execute_result",
          "data": {
            "text/plain": [
              "2"
            ]
          },
          "metadata": {
            "tags": []
          },
          "execution_count": 15
        }
      ]
    },
    {
      "cell_type": "code",
      "metadata": {
        "colab": {
          "base_uri": "https://localhost:8080/"
        },
        "id": "fyMYzrWnrPEy",
        "outputId": "585c21cb-a750-402b-cf6e-d42f709e849e"
      },
      "source": [
        "x.index= [6, 5, 4, 3, 2, 1, 0]\n",
        "x  "
      ],
      "execution_count": 16,
      "outputs": [
        {
          "output_type": "execute_result",
          "data": {
            "text/plain": [
              "6    1\n",
              "5    2\n",
              "4    3\n",
              "3    4\n",
              "2    5\n",
              "1    6\n",
              "0    7\n",
              "dtype: int64"
            ]
          },
          "metadata": {
            "tags": []
          },
          "execution_count": 16
        }
      ]
    },
    {
      "cell_type": "code",
      "metadata": {
        "colab": {
          "base_uri": "https://localhost:8080/"
        },
        "id": "sPZmRRh9tHmG",
        "outputId": "fa60eab3-d398-46fc-88ce-ad474c36a97e"
      },
      "source": [
        "x[1] #Acessing via index labels"
      ],
      "execution_count": 17,
      "outputs": [
        {
          "output_type": "execute_result",
          "data": {
            "text/plain": [
              "6"
            ]
          },
          "metadata": {
            "tags": []
          },
          "execution_count": 17
        }
      ]
    },
    {
      "cell_type": "code",
      "metadata": {
        "colab": {
          "base_uri": "https://localhost:8080/"
        },
        "id": "-07rSTBhra9X",
        "outputId": "45c3beec-d70b-44d9-851c-3d2ec0c3c518"
      },
      "source": [
        "x.iloc[1] #Accessing via index positions"
      ],
      "execution_count": 18,
      "outputs": [
        {
          "output_type": "execute_result",
          "data": {
            "text/plain": [
              "2"
            ]
          },
          "metadata": {
            "tags": []
          },
          "execution_count": 18
        }
      ]
    },
    {
      "cell_type": "code",
      "metadata": {
        "colab": {
          "base_uri": "https://localhost:8080/"
        },
        "id": "hoD6L6tvskWf",
        "outputId": "f62a91dd-5c3b-4d97-d6f3-ea5ed9f16e6d"
      },
      "source": [
        "x.iloc[-1]"
      ],
      "execution_count": 19,
      "outputs": [
        {
          "output_type": "execute_result",
          "data": {
            "text/plain": [
              "7"
            ]
          },
          "metadata": {
            "tags": []
          },
          "execution_count": 19
        }
      ]
    },
    {
      "cell_type": "code",
      "metadata": {
        "colab": {
          "base_uri": "https://localhost:8080/"
        },
        "id": "DHozJfA6sudu",
        "outputId": "f8dc7392-fb31-4f2d-aa55-29c3de3ed6f2"
      },
      "source": [
        "x.iloc[1:4:2]"
      ],
      "execution_count": 20,
      "outputs": [
        {
          "output_type": "execute_result",
          "data": {
            "text/plain": [
              "5    2\n",
              "3    4\n",
              "dtype: int64"
            ]
          },
          "metadata": {
            "tags": []
          },
          "execution_count": 20
        }
      ]
    },
    {
      "cell_type": "code",
      "metadata": {
        "id": "RaJMEovzs9g_"
      },
      "source": [
        "grades= pd.Series([88, 89, 92, 94, 100, 75])\n",
        "grades.index= ['Debjit', 'Kapas', 'Shubhro', 'Sita', 'Durbadal', 'Mahato']"
      ],
      "execution_count": 21,
      "outputs": []
    },
    {
      "cell_type": "code",
      "metadata": {
        "colab": {
          "base_uri": "https://localhost:8080/"
        },
        "id": "Xb97m3a2uSta",
        "outputId": "6070db04-3a8c-43cf-f07f-5addf026ba2a"
      },
      "source": [
        "grades[0] #Actually returns series value at index 0 since the labels are STRINGS"
      ],
      "execution_count": 22,
      "outputs": [
        {
          "output_type": "execute_result",
          "data": {
            "text/plain": [
              "88"
            ]
          },
          "metadata": {
            "tags": []
          },
          "execution_count": 22
        }
      ]
    },
    {
      "cell_type": "code",
      "metadata": {
        "colab": {
          "base_uri": "https://localhost:8080/"
        },
        "id": "5wx2qxSQugQT",
        "outputId": "d3cbb056-5253-4a23-bcf2-78956ef793b5"
      },
      "source": [
        "grades['Debjit']"
      ],
      "execution_count": 23,
      "outputs": [
        {
          "output_type": "execute_result",
          "data": {
            "text/plain": [
              "88"
            ]
          },
          "metadata": {
            "tags": []
          },
          "execution_count": 23
        }
      ]
    },
    {
      "cell_type": "code",
      "metadata": {
        "colab": {
          "base_uri": "https://localhost:8080/"
        },
        "id": "p804K228uUyr",
        "outputId": "e98df0cd-6eea-4ac4-8793-7beaa2c4f5fc"
      },
      "source": [
        "grades.iloc[0]"
      ],
      "execution_count": 24,
      "outputs": [
        {
          "output_type": "execute_result",
          "data": {
            "text/plain": [
              "88"
            ]
          },
          "metadata": {
            "tags": []
          },
          "execution_count": 24
        }
      ]
    },
    {
      "cell_type": "code",
      "metadata": {
        "colab": {
          "base_uri": "https://localhost:8080/"
        },
        "id": "3OyC9FSDudKj",
        "outputId": "eb498820-588a-41d1-ccd4-52ec36d0fd77"
      },
      "source": [
        "grades.loc['Debjit']"
      ],
      "execution_count": 25,
      "outputs": [
        {
          "output_type": "execute_result",
          "data": {
            "text/plain": [
              "88"
            ]
          },
          "metadata": {
            "tags": []
          },
          "execution_count": 25
        }
      ]
    },
    {
      "cell_type": "code",
      "metadata": {
        "colab": {
          "base_uri": "https://localhost:8080/"
        },
        "id": "RxMk9sR2uk3S",
        "outputId": "2ef056c1-5747-4fdf-e159-8ffecb5e011d"
      },
      "source": [
        "grades.loc[\n",
        "          'Debjit'\n",
        "          :\n",
        "           'Sita'\n",
        "]"
      ],
      "execution_count": 26,
      "outputs": [
        {
          "output_type": "execute_result",
          "data": {
            "text/plain": [
              "Debjit     88\n",
              "Kapas      89\n",
              "Shubhro    92\n",
              "Sita       94\n",
              "dtype: int64"
            ]
          },
          "metadata": {
            "tags": []
          },
          "execution_count": 26
        }
      ]
    },
    {
      "cell_type": "code",
      "metadata": {
        "colab": {
          "base_uri": "https://localhost:8080/"
        },
        "id": "NplcUWxTu0vy",
        "outputId": "7b81a19c-9966-4d4c-c550-4ae876f7676f"
      },
      "source": [
        "xy= pd.Series(np.random.normal(size=10**7))\n",
        "print(xy.index) #Range of indices is returned"
      ],
      "execution_count": 27,
      "outputs": [
        {
          "output_type": "stream",
          "text": [
            "RangeIndex(start=0, stop=10000000, step=1)\n"
          ],
          "name": "stdout"
        }
      ]
    },
    {
      "cell_type": "code",
      "metadata": {
        "colab": {
          "base_uri": "https://localhost:8080/"
        },
        "id": "-aas92h5vsKZ",
        "outputId": "e139249e-5530-4a49-80e6-7a6bc5061749"
      },
      "source": [
        "A= pd.Series([1,2,3,4,5])\n",
        "A"
      ],
      "execution_count": 28,
      "outputs": [
        {
          "output_type": "execute_result",
          "data": {
            "text/plain": [
              "0    1\n",
              "1    2\n",
              "2    3\n",
              "3    4\n",
              "4    5\n",
              "dtype: int64"
            ]
          },
          "metadata": {
            "tags": []
          },
          "execution_count": 28
        }
      ]
    },
    {
      "cell_type": "code",
      "metadata": {
        "colab": {
          "base_uri": "https://localhost:8080/"
        },
        "id": "uxXrFr4LxdqM",
        "outputId": "84c175af-918e-4772-d79e-7ddd59b441ef"
      },
      "source": [
        "A+1 #Broadcasting"
      ],
      "execution_count": 29,
      "outputs": [
        {
          "output_type": "execute_result",
          "data": {
            "text/plain": [
              "0    2\n",
              "1    3\n",
              "2    4\n",
              "3    5\n",
              "4    6\n",
              "dtype: int64"
            ]
          },
          "metadata": {
            "tags": []
          },
          "execution_count": 29
        }
      ]
    },
    {
      "cell_type": "code",
      "metadata": {
        "colab": {
          "base_uri": "https://localhost:8080/"
        },
        "id": "NJKYNsPbxilA",
        "outputId": "b9380ad0-c398-421b-af10-594cae7cf486"
      },
      "source": [
        "A+ pd.Series(1) #Index alignment"
      ],
      "execution_count": 30,
      "outputs": [
        {
          "output_type": "execute_result",
          "data": {
            "text/plain": [
              "0    2.0\n",
              "1    NaN\n",
              "2    NaN\n",
              "3    NaN\n",
              "4    NaN\n",
              "dtype: float64"
            ]
          },
          "metadata": {
            "tags": []
          },
          "execution_count": 30
        }
      ]
    },
    {
      "cell_type": "code",
      "metadata": {
        "colab": {
          "base_uri": "https://localhost:8080/"
        },
        "id": "k7bBMUVPxpmv",
        "outputId": "4c79e1ab-73cc-4b87-9003-f594e72cbdc1"
      },
      "source": [
        "pd.Series(1)"
      ],
      "execution_count": 31,
      "outputs": [
        {
          "output_type": "execute_result",
          "data": {
            "text/plain": [
              "0    1\n",
              "dtype: int64"
            ]
          },
          "metadata": {
            "tags": []
          },
          "execution_count": 31
        }
      ]
    },
    {
      "cell_type": "code",
      "metadata": {
        "colab": {
          "base_uri": "https://localhost:8080/"
        },
        "id": "CPMiQoyjxvIM",
        "outputId": "4f39a5d4-cdff-4c2f-97c3-3a1bee18fe59"
      },
      "source": [
        "B=pd.Series(np.arange(10, 60, 10))\n",
        "C= pd.Series(np.arange(1,6,1))\n",
        "print(B, '\\n', C)"
      ],
      "execution_count": 32,
      "outputs": [
        {
          "output_type": "stream",
          "text": [
            "0    10\n",
            "1    20\n",
            "2    30\n",
            "3    40\n",
            "4    50\n",
            "dtype: int64 \n",
            " 0    1\n",
            "1    2\n",
            "2    3\n",
            "3    4\n",
            "4    5\n",
            "dtype: int64\n"
          ],
          "name": "stdout"
        }
      ]
    },
    {
      "cell_type": "code",
      "metadata": {
        "colab": {
          "base_uri": "https://localhost:8080/"
        },
        "id": "ZKmltM9X0o5I",
        "outputId": "b85b78a6-3476-4134-e4aa-f71b24633ee9"
      },
      "source": [
        "B+C"
      ],
      "execution_count": 33,
      "outputs": [
        {
          "output_type": "execute_result",
          "data": {
            "text/plain": [
              "0    11\n",
              "1    22\n",
              "2    33\n",
              "3    44\n",
              "4    55\n",
              "dtype: int64"
            ]
          },
          "metadata": {
            "tags": []
          },
          "execution_count": 33
        }
      ]
    },
    {
      "cell_type": "markdown",
      "metadata": {
        "id": "KGVAg_Ic1LJP"
      },
      "source": [
        "Addition also happens by index labels, not index positions which can be seen by reversing the order of index labels"
      ]
    },
    {
      "cell_type": "code",
      "metadata": {
        "colab": {
          "base_uri": "https://localhost:8080/"
        },
        "id": "sVsM4TjM0_Gx",
        "outputId": "6f109148-5967-42f6-e3e3-c506800a781e"
      },
      "source": [
        "B.index= [4,3,2,1,0]\n",
        "B+C"
      ],
      "execution_count": 34,
      "outputs": [
        {
          "output_type": "execute_result",
          "data": {
            "text/plain": [
              "0    51\n",
              "1    42\n",
              "2    33\n",
              "3    24\n",
              "4    15\n",
              "dtype: int64"
            ]
          },
          "metadata": {
            "tags": []
          },
          "execution_count": 34
        }
      ]
    },
    {
      "cell_type": "code",
      "metadata": {
        "colab": {
          "base_uri": "https://localhost:8080/"
        },
        "id": "VgOOXs_m1IAM",
        "outputId": "02839373-44bc-4b5a-90ab-79d25a7c3d26"
      },
      "source": [
        "#Index based addition can be done by changing the series to numpy arrays and converting them back to a series\n",
        "pd.Series(B.to_numpy()+C.to_numpy())"
      ],
      "execution_count": 35,
      "outputs": [
        {
          "output_type": "execute_result",
          "data": {
            "text/plain": [
              "0    11\n",
              "1    22\n",
              "2    33\n",
              "3    44\n",
              "4    55\n",
              "dtype: int64"
            ]
          },
          "metadata": {
            "tags": []
          },
          "execution_count": 35
        }
      ]
    },
    {
      "cell_type": "markdown",
      "metadata": {
        "id": "VEdOVqmy3qha"
      },
      "source": [
        "# Boolean Indexing"
      ]
    },
    {
      "cell_type": "code",
      "metadata": {
        "id": "zNx_BfEU1_R5"
      },
      "source": [
        "foo= pd.Series([20, 15, 37, 22, 12, 9, 71, 31])"
      ],
      "execution_count": 36,
      "outputs": []
    },
    {
      "cell_type": "code",
      "metadata": {
        "id": "gLoLvAVQ4Qn3"
      },
      "source": [
        "mask =foo<20"
      ],
      "execution_count": 37,
      "outputs": []
    },
    {
      "cell_type": "code",
      "metadata": {
        "colab": {
          "base_uri": "https://localhost:8080/"
        },
        "id": "pVUMW1154UUC",
        "outputId": "b457d3da-ea7a-46c2-f963-7f7d04231c63"
      },
      "source": [
        "foo.loc[mask]"
      ],
      "execution_count": 38,
      "outputs": [
        {
          "output_type": "execute_result",
          "data": {
            "text/plain": [
              "1    15\n",
              "4    12\n",
              "5     9\n",
              "dtype: int64"
            ]
          },
          "metadata": {
            "tags": []
          },
          "execution_count": 38
        }
      ]
    },
    {
      "cell_type": "code",
      "metadata": {
        "colab": {
          "base_uri": "https://localhost:8080/"
        },
        "id": "EImCas0L4bSR",
        "outputId": "3948dd8d-0a7f-45d4-cf02-45a4a23cef7e"
      },
      "source": [
        "foo.loc[mask.to_numpy()] #Use this  "
      ],
      "execution_count": 39,
      "outputs": [
        {
          "output_type": "execute_result",
          "data": {
            "text/plain": [
              "1    15\n",
              "4    12\n",
              "5     9\n",
              "dtype: int64"
            ]
          },
          "metadata": {
            "tags": []
          },
          "execution_count": 39
        }
      ]
    },
    {
      "cell_type": "code",
      "metadata": {
        "id": "fDwnSHJq56VC"
      },
      "source": [
        "age= pd.Series(\n",
        "    data= [18, 22, 15, 35, 50],\n",
        "    index= ['Chris', 'Ana', 'Peter', 'Lewie', 'Matilda'],\n",
        "    dtype= 'int64'\n",
        ")"
      ],
      "execution_count": 40,
      "outputs": []
    },
    {
      "cell_type": "code",
      "metadata": {
        "id": "btXGmO5S6tqe"
      },
      "source": [
        "genders= pd.Series(\n",
        "    data= ['female', 'male', 'female', 'male', 'male'],\n",
        "    index= ['Ana', 'Chris', 'Matilda', 'Peter', 'Lewie'],\n",
        "    dtype='string'\n",
        ")"
      ],
      "execution_count": 41,
      "outputs": []
    },
    {
      "cell_type": "code",
      "metadata": {
        "colab": {
          "base_uri": "https://localhost:8080/"
        },
        "id": "Yatg_XdJ7BEO",
        "outputId": "4fd53b79-f3b3-44de-f17a-2d0d3e06c5b8"
      },
      "source": [
        "#who's a male below 18 years of age?\n",
        "mask= (genders== 'male') & (age<18)\n",
        "mask"
      ],
      "execution_count": 42,
      "outputs": [
        {
          "output_type": "execute_result",
          "data": {
            "text/plain": [
              "Ana        False\n",
              "Chris      False\n",
              "Lewie      False\n",
              "Matilda    False\n",
              "Peter       True\n",
              "dtype: bool"
            ]
          },
          "metadata": {
            "tags": []
          },
          "execution_count": 42
        }
      ]
    },
    {
      "cell_type": "code",
      "metadata": {
        "colab": {
          "base_uri": "https://localhost:8080/"
        },
        "id": "3YOcXyj77meT",
        "outputId": "090ec3c9-ed45-42ff-d9fc-033a2dcf7806"
      },
      "source": [
        "mask.loc[mask.to_numpy()]"
      ],
      "execution_count": 43,
      "outputs": [
        {
          "output_type": "execute_result",
          "data": {
            "text/plain": [
              "Peter    True\n",
              "dtype: bool"
            ]
          },
          "metadata": {
            "tags": []
          },
          "execution_count": 43
        }
      ]
    },
    {
      "cell_type": "code",
      "metadata": {
        "colab": {
          "base_uri": "https://localhost:8080/"
        },
        "id": "aMQKRVE_9RSR",
        "outputId": "b48e009c-a082-4531-fba4-beb1ce1299c7"
      },
      "source": [
        "~mask"
      ],
      "execution_count": 44,
      "outputs": [
        {
          "output_type": "execute_result",
          "data": {
            "text/plain": [
              "Ana         True\n",
              "Chris       True\n",
              "Lewie       True\n",
              "Matilda     True\n",
              "Peter      False\n",
              "dtype: bool"
            ]
          },
          "metadata": {
            "tags": []
          },
          "execution_count": 44
        }
      ]
    },
    {
      "cell_type": "markdown",
      "metadata": {
        "id": "1hknuCgM9iQo"
      },
      "source": [
        "Wrap each individual condition in brackets for the interpretor"
      ]
    },
    {
      "cell_type": "markdown",
      "metadata": {
        "id": "dBTg8Cyu92ko"
      },
      "source": [
        "# Series Missing Values"
      ]
    },
    {
      "cell_type": "code",
      "metadata": {
        "colab": {
          "base_uri": "https://localhost:8080/"
        },
        "id": "34k_kvaa9d0R",
        "outputId": "d6153b29-dfdd-4833-820b-6745b38f069c"
      },
      "source": [
        "roux= pd.Series([1,2,3], dtype= 'Int64')\n",
        "roux"
      ],
      "execution_count": 45,
      "outputs": [
        {
          "output_type": "execute_result",
          "data": {
            "text/plain": [
              "0    1\n",
              "1    2\n",
              "2    3\n",
              "dtype: Int64"
            ]
          },
          "metadata": {
            "tags": []
          },
          "execution_count": 45
        }
      ]
    },
    {
      "cell_type": "code",
      "metadata": {
        "colab": {
          "base_uri": "https://localhost:8080/"
        },
        "id": "7-rT6HCl_ADL",
        "outputId": "4a1b74b5-8f31-47f1-f9aa-354195c1b5a5"
      },
      "source": [
        "roux.iloc[1]=np.nan #OR pd.NA\n",
        "roux"
      ],
      "execution_count": 46,
      "outputs": [
        {
          "output_type": "execute_result",
          "data": {
            "text/plain": [
              "0       1\n",
              "1    <NA>\n",
              "2       3\n",
              "dtype: Int64"
            ]
          },
          "metadata": {
            "tags": []
          },
          "execution_count": 46
        }
      ]
    },
    {
      "cell_type": "code",
      "metadata": {
        "id": "yP1ZxKPN_AfV",
        "colab": {
          "base_uri": "https://localhost:8080/"
        },
        "outputId": "b0846fbc-25f9-4d9e-ea42-c237357e84c9"
      },
      "source": [
        "pd.isna(roux)"
      ],
      "execution_count": 47,
      "outputs": [
        {
          "output_type": "execute_result",
          "data": {
            "text/plain": [
              "0    False\n",
              "1     True\n",
              "2    False\n",
              "dtype: bool"
            ]
          },
          "metadata": {
            "tags": []
          },
          "execution_count": 47
        }
      ]
    },
    {
      "cell_type": "code",
      "metadata": {
        "colab": {
          "base_uri": "https://localhost:8080/"
        },
        "id": "AtgjUTRvBNCI",
        "outputId": "b3e57c1d-15b4-4e9a-8225-050481b971db"
      },
      "source": [
        "pd.notna(roux)"
      ],
      "execution_count": 48,
      "outputs": [
        {
          "output_type": "execute_result",
          "data": {
            "text/plain": [
              "0     True\n",
              "1    False\n",
              "2     True\n",
              "dtype: bool"
            ]
          },
          "metadata": {
            "tags": []
          },
          "execution_count": 48
        }
      ]
    },
    {
      "cell_type": "code",
      "metadata": {
        "colab": {
          "base_uri": "https://localhost:8080/"
        },
        "id": "J67VVyNBBQCl",
        "outputId": "71e86f38-27a0-4614-bf2a-50fe04974ef9"
      },
      "source": [
        "roux.fillna(-1)  #Returns a modified value of roux, without actually changing the series  "
      ],
      "execution_count": 49,
      "outputs": [
        {
          "output_type": "execute_result",
          "data": {
            "text/plain": [
              "0     1\n",
              "1    -1\n",
              "2     3\n",
              "dtype: Int64"
            ]
          },
          "metadata": {
            "tags": []
          },
          "execution_count": 49
        }
      ]
    },
    {
      "cell_type": "code",
      "metadata": {
        "colab": {
          "base_uri": "https://localhost:8080/"
        },
        "id": "nDNy1-M7BdDC",
        "outputId": "61da92a7-d6bb-4425-b05e-7dab5fc638cb"
      },
      "source": [
        "roux"
      ],
      "execution_count": 50,
      "outputs": [
        {
          "output_type": "execute_result",
          "data": {
            "text/plain": [
              "0       1\n",
              "1    <NA>\n",
              "2       3\n",
              "dtype: Int64"
            ]
          },
          "metadata": {
            "tags": []
          },
          "execution_count": 50
        }
      ]
    },
    {
      "cell_type": "code",
      "metadata": {
        "colab": {
          "base_uri": "https://localhost:8080/"
        },
        "id": "ltnt92yUB6CE",
        "outputId": "078d3653-9597-4301-befa-061de3293584"
      },
      "source": [
        "roux.fillna(-1, inplace=True) #Changes the original\n",
        "roux"
      ],
      "execution_count": 51,
      "outputs": [
        {
          "output_type": "execute_result",
          "data": {
            "text/plain": [
              "0     1\n",
              "1    -1\n",
              "2     3\n",
              "dtype: Int64"
            ]
          },
          "metadata": {
            "tags": []
          },
          "execution_count": 51
        }
      ]
    },
    {
      "cell_type": "code",
      "metadata": {
        "colab": {
          "base_uri": "https://localhost:8080/"
        },
        "id": "uNLEimb0CB8A",
        "outputId": "c381d03d-b248-4ba0-8d7d-6bf741ca5802"
      },
      "source": [
        "goo= pd.Series([10, 20, 30, 50])\n",
        "goo"
      ],
      "execution_count": 52,
      "outputs": [
        {
          "output_type": "execute_result",
          "data": {
            "text/plain": [
              "0    10\n",
              "1    20\n",
              "2    30\n",
              "3    50\n",
              "dtype: int64"
            ]
          },
          "metadata": {
            "tags": []
          },
          "execution_count": 52
        }
      ]
    },
    {
      "cell_type": "code",
      "metadata": {
        "colab": {
          "base_uri": "https://localhost:8080/"
        },
        "id": "jdY0C5G4CsIq",
        "outputId": "51db6f2e-e4f8-4f7e-9191-5c592d568df8"
      },
      "source": [
        "choo= pd.Series([True, False, pd.NA, True])\n",
        "choo\n",
        "#Notice the dtype is object"
      ],
      "execution_count": 53,
      "outputs": [
        {
          "output_type": "execute_result",
          "data": {
            "text/plain": [
              "0     True\n",
              "1    False\n",
              "2     <NA>\n",
              "3     True\n",
              "dtype: object"
            ]
          },
          "metadata": {
            "tags": []
          },
          "execution_count": 53
        }
      ]
    },
    {
      "cell_type": "code",
      "metadata": {
        "id": "l8RaQykBDAex"
      },
      "source": [
        "#goo.loc[choo] ; This will throw an error"
      ],
      "execution_count": 54,
      "outputs": []
    },
    {
      "cell_type": "code",
      "metadata": {
        "colab": {
          "base_uri": "https://localhost:8080/"
        },
        "id": "ckgwYp9vDFKa",
        "outputId": "6c8d9206-69f3-43d3-e0ae-c929109fc661"
      },
      "source": [
        "choo= pd.Series([True, False, pd.NA, True], dtype='boolean')\n",
        "choo\n",
        "#Doing this takes care of the nan value"
      ],
      "execution_count": 55,
      "outputs": [
        {
          "output_type": "execute_result",
          "data": {
            "text/plain": [
              "0     True\n",
              "1    False\n",
              "2     <NA>\n",
              "3     True\n",
              "dtype: boolean"
            ]
          },
          "metadata": {
            "tags": []
          },
          "execution_count": 55
        }
      ]
    },
    {
      "cell_type": "code",
      "metadata": {
        "colab": {
          "base_uri": "https://localhost:8080/"
        },
        "id": "yFD3oVMQDTbT",
        "outputId": "3753e8c1-836b-4788-a379-9294cf3f0fc5"
      },
      "source": [
        "goo.loc[choo]\n",
        "#goo[choo]"
      ],
      "execution_count": 56,
      "outputs": [
        {
          "output_type": "execute_result",
          "data": {
            "text/plain": [
              "0    10\n",
              "3    50\n",
              "dtype: int64"
            ]
          },
          "metadata": {
            "tags": []
          },
          "execution_count": 56
        }
      ]
    },
    {
      "cell_type": "markdown",
      "metadata": {
        "id": "dVe1s1ZiD-Pf"
      },
      "source": [
        "# Series Vectorisation"
      ]
    },
    {
      "cell_type": "code",
      "metadata": {
        "colab": {
          "base_uri": "https://localhost:8080/"
        },
        "id": "D8AHHvJ7DW9C",
        "outputId": "8b753fbd-8774-4fe4-a3e4-44d41574fd1f"
      },
      "source": [
        "x= pd.Series(np.random.normal(size=10**6))\n",
        "x.mean()"
      ],
      "execution_count": 57,
      "outputs": [
        {
          "output_type": "execute_result",
          "data": {
            "text/plain": [
              "-0.0002655681763473576"
            ]
          },
          "metadata": {
            "tags": []
          },
          "execution_count": 57
        }
      ]
    },
    {
      "cell_type": "markdown",
      "metadata": {
        "id": "FmyTdYmpHbTi"
      },
      "source": [
        "# Functions available in Series"
      ]
    },
    {
      "cell_type": "code",
      "metadata": {
        "colab": {
          "base_uri": "https://localhost:8080/"
        },
        "id": "VXZxitBND8zb",
        "outputId": "5663c096-e305-487b-947d-d27c9bd72372"
      },
      "source": [
        "foo= pd.Series([3,8,9,1,2,7])\n",
        "foo"
      ],
      "execution_count": 58,
      "outputs": [
        {
          "output_type": "execute_result",
          "data": {
            "text/plain": [
              "0    3\n",
              "1    8\n",
              "2    9\n",
              "3    1\n",
              "4    2\n",
              "5    7\n",
              "dtype: int64"
            ]
          },
          "metadata": {
            "tags": []
          },
          "execution_count": 58
        }
      ]
    },
    {
      "cell_type": "code",
      "metadata": {
        "id": "IIF11nrUH2_g"
      },
      "source": [
        "def my_fun(x):\n",
        "  return x-1 if x%2 == 0 else x+3"
      ],
      "execution_count": 59,
      "outputs": []
    },
    {
      "cell_type": "code",
      "metadata": {
        "colab": {
          "base_uri": "https://localhost:8080/"
        },
        "id": "4SRyTVufIGZP",
        "outputId": "a3bad7e0-66c7-49c4-b005-18ae80b3f6de"
      },
      "source": [
        "foo.apply(my_fun)"
      ],
      "execution_count": 60,
      "outputs": [
        {
          "output_type": "execute_result",
          "data": {
            "text/plain": [
              "0     6\n",
              "1     7\n",
              "2    12\n",
              "3     4\n",
              "4     1\n",
              "5    10\n",
              "dtype: int64"
            ]
          },
          "metadata": {
            "tags": []
          },
          "execution_count": 60
        }
      ]
    },
    {
      "cell_type": "code",
      "metadata": {
        "colab": {
          "base_uri": "https://localhost:8080/"
        },
        "id": "yXB_SG4rILq_",
        "outputId": "da68eb69-0f8a-497c-a37a-3896c65afe07"
      },
      "source": [
        "zoo= pd.Series(['lion', 'tiger','zebra','lion'])\n",
        "zoo"
      ],
      "execution_count": 61,
      "outputs": [
        {
          "output_type": "execute_result",
          "data": {
            "text/plain": [
              "0     lion\n",
              "1    tiger\n",
              "2    zebra\n",
              "3     lion\n",
              "dtype: object"
            ]
          },
          "metadata": {
            "tags": []
          },
          "execution_count": 61
        }
      ]
    },
    {
      "cell_type": "code",
      "metadata": {
        "colab": {
          "base_uri": "https://localhost:8080/"
        },
        "id": "DpMEXIaLOKN0",
        "outputId": "3c3034b3-a2cc-4bb0-9d86-bae0be9389fa"
      },
      "source": [
        "new_zoo= zoo.replace({'lion':'hamster'})\n",
        "new_zoo #creates a copy of zoo and does not assign by reference even if it were not assigned to a new variable"
      ],
      "execution_count": 62,
      "outputs": [
        {
          "output_type": "execute_result",
          "data": {
            "text/plain": [
              "0    hamster\n",
              "1      tiger\n",
              "2      zebra\n",
              "3    hamster\n",
              "dtype: object"
            ]
          },
          "metadata": {
            "tags": []
          },
          "execution_count": 62
        }
      ]
    },
    {
      "cell_type": "markdown",
      "metadata": {
        "id": "mYV6-KrGO0bZ"
      },
      "source": [
        "# Challenges: Baby Names"
      ]
    },
    {
      "cell_type": "code",
      "metadata": {
        "id": "-TsHskJwOV_L"
      },
      "source": [
        "babynames= pd.Series(['Jato', 'Zeltron', 'Ruger', 'Phreddy', 'Ruger', 'Chad', 'Chad', 'Ruger', 'Ryan', 'Chad','Phreddy','Phreddy', 'Phreddy', 'Jato', 'Jato', 'Zeltron'], dtype='string')"
      ],
      "execution_count": 63,
      "outputs": []
    },
    {
      "cell_type": "code",
      "metadata": {
        "id": "_pTcU7aPPEqG"
      },
      "source": [
        "mask= (babynames=='Chad') | (babynames == 'Zeltron')| (babynames=='Ruger')"
      ],
      "execution_count": 64,
      "outputs": []
    },
    {
      "cell_type": "code",
      "metadata": {
        "colab": {
          "base_uri": "https://localhost:8080/"
        },
        "id": "KHHMHscyQcYD",
        "outputId": "d6459856-a121-4164-c36f-9e0b34fd270d"
      },
      "source": [
        "count_of_people_who_voted_these_names= babynames[mask].count()\n",
        "count_of_people_who_voted_these_names"
      ],
      "execution_count": 65,
      "outputs": [
        {
          "output_type": "execute_result",
          "data": {
            "text/plain": [
              "8"
            ]
          },
          "metadata": {
            "tags": []
          },
          "execution_count": 65
        }
      ]
    },
    {
      "cell_type": "markdown",
      "metadata": {
        "id": "DYRKCjnISAOi"
      },
      "source": [
        "# Dataframe Creation"
      ]
    },
    {
      "cell_type": "code",
      "metadata": {
        "colab": {
          "base_uri": "https://localhost:8080/",
          "height": 142
        },
        "id": "za1p9s1vQu5D",
        "outputId": "386ec018-346a-4538-d2aa-5bc208483959"
      },
      "source": [
        "df= pd.DataFrame({'name': ['Bob', 'Sue', 'Mary'], 'age': [39, 57,21]})\n",
        "df"
      ],
      "execution_count": 66,
      "outputs": [
        {
          "output_type": "execute_result",
          "data": {
            "text/html": [
              "<div>\n",
              "<style scoped>\n",
              "    .dataframe tbody tr th:only-of-type {\n",
              "        vertical-align: middle;\n",
              "    }\n",
              "\n",
              "    .dataframe tbody tr th {\n",
              "        vertical-align: top;\n",
              "    }\n",
              "\n",
              "    .dataframe thead th {\n",
              "        text-align: right;\n",
              "    }\n",
              "</style>\n",
              "<table border=\"1\" class=\"dataframe\">\n",
              "  <thead>\n",
              "    <tr style=\"text-align: right;\">\n",
              "      <th></th>\n",
              "      <th>name</th>\n",
              "      <th>age</th>\n",
              "    </tr>\n",
              "  </thead>\n",
              "  <tbody>\n",
              "    <tr>\n",
              "      <th>0</th>\n",
              "      <td>Bob</td>\n",
              "      <td>39</td>\n",
              "    </tr>\n",
              "    <tr>\n",
              "      <th>1</th>\n",
              "      <td>Sue</td>\n",
              "      <td>57</td>\n",
              "    </tr>\n",
              "    <tr>\n",
              "      <th>2</th>\n",
              "      <td>Mary</td>\n",
              "      <td>21</td>\n",
              "    </tr>\n",
              "  </tbody>\n",
              "</table>\n",
              "</div>"
            ],
            "text/plain": [
              "   name  age\n",
              "0   Bob   39\n",
              "1   Sue   57\n",
              "2  Mary   21"
            ]
          },
          "metadata": {
            "tags": []
          },
          "execution_count": 66
        }
      ]
    },
    {
      "cell_type": "code",
      "metadata": {
        "colab": {
          "base_uri": "https://localhost:8080/",
          "height": 142
        },
        "id": "jHg2-f-NWOv9",
        "outputId": "488f05a8-0b95-4a14-f323-80e2fd31d16d"
      },
      "source": [
        "#Dataframe from a list of lists\n",
        "df= pd.DataFrame([\n",
        "    ['Bob',40],\n",
        "    ['Sue',58],\n",
        "    ['Mary',22]\n",
        "], columns= ['name', 'age'])\n",
        "df"
      ],
      "execution_count": 67,
      "outputs": [
        {
          "output_type": "execute_result",
          "data": {
            "text/html": [
              "<div>\n",
              "<style scoped>\n",
              "    .dataframe tbody tr th:only-of-type {\n",
              "        vertical-align: middle;\n",
              "    }\n",
              "\n",
              "    .dataframe tbody tr th {\n",
              "        vertical-align: top;\n",
              "    }\n",
              "\n",
              "    .dataframe thead th {\n",
              "        text-align: right;\n",
              "    }\n",
              "</style>\n",
              "<table border=\"1\" class=\"dataframe\">\n",
              "  <thead>\n",
              "    <tr style=\"text-align: right;\">\n",
              "      <th></th>\n",
              "      <th>name</th>\n",
              "      <th>age</th>\n",
              "    </tr>\n",
              "  </thead>\n",
              "  <tbody>\n",
              "    <tr>\n",
              "      <th>0</th>\n",
              "      <td>Bob</td>\n",
              "      <td>40</td>\n",
              "    </tr>\n",
              "    <tr>\n",
              "      <th>1</th>\n",
              "      <td>Sue</td>\n",
              "      <td>58</td>\n",
              "    </tr>\n",
              "    <tr>\n",
              "      <th>2</th>\n",
              "      <td>Mary</td>\n",
              "      <td>22</td>\n",
              "    </tr>\n",
              "  </tbody>\n",
              "</table>\n",
              "</div>"
            ],
            "text/plain": [
              "   name  age\n",
              "0   Bob   40\n",
              "1   Sue   58\n",
              "2  Mary   22"
            ]
          },
          "metadata": {
            "tags": []
          },
          "execution_count": 67
        }
      ]
    },
    {
      "cell_type": "code",
      "metadata": {
        "colab": {
          "base_uri": "https://localhost:8080/"
        },
        "id": "gjlmN-82WzLy",
        "outputId": "83d4b614-89dc-43ea-a24b-b93e9584aca7"
      },
      "source": [
        "df.info()"
      ],
      "execution_count": 68,
      "outputs": [
        {
          "output_type": "stream",
          "text": [
            "<class 'pandas.core.frame.DataFrame'>\n",
            "RangeIndex: 3 entries, 0 to 2\n",
            "Data columns (total 2 columns):\n",
            " #   Column  Non-Null Count  Dtype \n",
            "---  ------  --------------  ----- \n",
            " 0   name    3 non-null      object\n",
            " 1   age     3 non-null      int64 \n",
            "dtypes: int64(1), object(1)\n",
            "memory usage: 176.0+ bytes\n"
          ],
          "name": "stdout"
        }
      ]
    },
    {
      "cell_type": "code",
      "metadata": {
        "colab": {
          "base_uri": "https://localhost:8080/"
        },
        "id": "wdsB-K_AXJZt",
        "outputId": "9ed748ed-0988-4997-bf1b-3a7c63e413e4"
      },
      "source": [
        "df.shape"
      ],
      "execution_count": 69,
      "outputs": [
        {
          "output_type": "execute_result",
          "data": {
            "text/plain": [
              "(3, 2)"
            ]
          },
          "metadata": {
            "tags": []
          },
          "execution_count": 69
        }
      ]
    },
    {
      "cell_type": "code",
      "metadata": {
        "colab": {
          "base_uri": "https://localhost:8080/"
        },
        "id": "mDLjL2qJXPQ9",
        "outputId": "708923d8-b11d-4d20-c472-0ff144bb7df0"
      },
      "source": [
        "df.axes"
      ],
      "execution_count": 70,
      "outputs": [
        {
          "output_type": "execute_result",
          "data": {
            "text/plain": [
              "[RangeIndex(start=0, stop=3, step=1), Index(['name', 'age'], dtype='object')]"
            ]
          },
          "metadata": {
            "tags": []
          },
          "execution_count": 70
        }
      ]
    },
    {
      "cell_type": "code",
      "metadata": {
        "colab": {
          "base_uri": "https://localhost:8080/"
        },
        "id": "CAfxUrUNXSbV",
        "outputId": "4e185acb-e247-4f3f-c96c-32a7f6cfd00c"
      },
      "source": [
        "df.size"
      ],
      "execution_count": 71,
      "outputs": [
        {
          "output_type": "execute_result",
          "data": {
            "text/plain": [
              "6"
            ]
          },
          "metadata": {
            "tags": []
          },
          "execution_count": 71
        }
      ]
    },
    {
      "cell_type": "code",
      "metadata": {
        "colab": {
          "base_uri": "https://localhost:8080/",
          "height": 142
        },
        "id": "8fpxhA1RXUVO",
        "outputId": "1f98742a-2c0e-492c-98e4-a8bd4def5b60"
      },
      "source": [
        "df.rename(columns={'age':'years'}, inplace=True)\n",
        "df"
      ],
      "execution_count": 72,
      "outputs": [
        {
          "output_type": "execute_result",
          "data": {
            "text/html": [
              "<div>\n",
              "<style scoped>\n",
              "    .dataframe tbody tr th:only-of-type {\n",
              "        vertical-align: middle;\n",
              "    }\n",
              "\n",
              "    .dataframe tbody tr th {\n",
              "        vertical-align: top;\n",
              "    }\n",
              "\n",
              "    .dataframe thead th {\n",
              "        text-align: right;\n",
              "    }\n",
              "</style>\n",
              "<table border=\"1\" class=\"dataframe\">\n",
              "  <thead>\n",
              "    <tr style=\"text-align: right;\">\n",
              "      <th></th>\n",
              "      <th>name</th>\n",
              "      <th>years</th>\n",
              "    </tr>\n",
              "  </thead>\n",
              "  <tbody>\n",
              "    <tr>\n",
              "      <th>0</th>\n",
              "      <td>Bob</td>\n",
              "      <td>40</td>\n",
              "    </tr>\n",
              "    <tr>\n",
              "      <th>1</th>\n",
              "      <td>Sue</td>\n",
              "      <td>58</td>\n",
              "    </tr>\n",
              "    <tr>\n",
              "      <th>2</th>\n",
              "      <td>Mary</td>\n",
              "      <td>22</td>\n",
              "    </tr>\n",
              "  </tbody>\n",
              "</table>\n",
              "</div>"
            ],
            "text/plain": [
              "   name  years\n",
              "0   Bob     40\n",
              "1   Sue     58\n",
              "2  Mary     22"
            ]
          },
          "metadata": {
            "tags": []
          },
          "execution_count": 72
        }
      ]
    },
    {
      "cell_type": "code",
      "metadata": {
        "id": "FtJ88qiSXjMM",
        "colab": {
          "base_uri": "https://localhost:8080/",
          "height": 419
        },
        "outputId": "5c5cb122-62c7-47b8-eec8-c13bf9f9f2c0"
      },
      "source": [
        "df= pd.DataFrame({\n",
        "    'ID' : np.arange(1000),\n",
        "    'b': np.random.normal(1000),\n",
        "    'c': pd.Series(np.random.choice(['cat', 'dog', 'hippo'], size=1000, replace=True))\n",
        "})\n",
        "df"
      ],
      "execution_count": 73,
      "outputs": [
        {
          "output_type": "execute_result",
          "data": {
            "text/html": [
              "<div>\n",
              "<style scoped>\n",
              "    .dataframe tbody tr th:only-of-type {\n",
              "        vertical-align: middle;\n",
              "    }\n",
              "\n",
              "    .dataframe tbody tr th {\n",
              "        vertical-align: top;\n",
              "    }\n",
              "\n",
              "    .dataframe thead th {\n",
              "        text-align: right;\n",
              "    }\n",
              "</style>\n",
              "<table border=\"1\" class=\"dataframe\">\n",
              "  <thead>\n",
              "    <tr style=\"text-align: right;\">\n",
              "      <th></th>\n",
              "      <th>ID</th>\n",
              "      <th>b</th>\n",
              "      <th>c</th>\n",
              "    </tr>\n",
              "  </thead>\n",
              "  <tbody>\n",
              "    <tr>\n",
              "      <th>0</th>\n",
              "      <td>0</td>\n",
              "      <td>1000.636278</td>\n",
              "      <td>cat</td>\n",
              "    </tr>\n",
              "    <tr>\n",
              "      <th>1</th>\n",
              "      <td>1</td>\n",
              "      <td>1000.636278</td>\n",
              "      <td>cat</td>\n",
              "    </tr>\n",
              "    <tr>\n",
              "      <th>2</th>\n",
              "      <td>2</td>\n",
              "      <td>1000.636278</td>\n",
              "      <td>dog</td>\n",
              "    </tr>\n",
              "    <tr>\n",
              "      <th>3</th>\n",
              "      <td>3</td>\n",
              "      <td>1000.636278</td>\n",
              "      <td>hippo</td>\n",
              "    </tr>\n",
              "    <tr>\n",
              "      <th>4</th>\n",
              "      <td>4</td>\n",
              "      <td>1000.636278</td>\n",
              "      <td>cat</td>\n",
              "    </tr>\n",
              "    <tr>\n",
              "      <th>...</th>\n",
              "      <td>...</td>\n",
              "      <td>...</td>\n",
              "      <td>...</td>\n",
              "    </tr>\n",
              "    <tr>\n",
              "      <th>995</th>\n",
              "      <td>995</td>\n",
              "      <td>1000.636278</td>\n",
              "      <td>cat</td>\n",
              "    </tr>\n",
              "    <tr>\n",
              "      <th>996</th>\n",
              "      <td>996</td>\n",
              "      <td>1000.636278</td>\n",
              "      <td>hippo</td>\n",
              "    </tr>\n",
              "    <tr>\n",
              "      <th>997</th>\n",
              "      <td>997</td>\n",
              "      <td>1000.636278</td>\n",
              "      <td>hippo</td>\n",
              "    </tr>\n",
              "    <tr>\n",
              "      <th>998</th>\n",
              "      <td>998</td>\n",
              "      <td>1000.636278</td>\n",
              "      <td>cat</td>\n",
              "    </tr>\n",
              "    <tr>\n",
              "      <th>999</th>\n",
              "      <td>999</td>\n",
              "      <td>1000.636278</td>\n",
              "      <td>cat</td>\n",
              "    </tr>\n",
              "  </tbody>\n",
              "</table>\n",
              "<p>1000 rows × 3 columns</p>\n",
              "</div>"
            ],
            "text/plain": [
              "      ID            b      c\n",
              "0      0  1000.636278    cat\n",
              "1      1  1000.636278    cat\n",
              "2      2  1000.636278    dog\n",
              "3      3  1000.636278  hippo\n",
              "4      4  1000.636278    cat\n",
              "..   ...          ...    ...\n",
              "995  995  1000.636278    cat\n",
              "996  996  1000.636278  hippo\n",
              "997  997  1000.636278  hippo\n",
              "998  998  1000.636278    cat\n",
              "999  999  1000.636278    cat\n",
              "\n",
              "[1000 rows x 3 columns]"
            ]
          },
          "metadata": {
            "tags": []
          },
          "execution_count": 73
        }
      ]
    },
    {
      "cell_type": "code",
      "metadata": {
        "id": "wcwkv6qjQu6L"
      },
      "source": [
        "df.to_csv(\"Pets.CSV\", index= False)"
      ],
      "execution_count": 74,
      "outputs": []
    },
    {
      "cell_type": "code",
      "metadata": {
        "colab": {
          "base_uri": "https://localhost:8080/",
          "height": 419
        },
        "id": "mmIuwleORLeN",
        "outputId": "b6a95b4e-e0ee-4570-e9e5-af9817108bbf"
      },
      "source": [
        "Pets= pd.read_csv(\"Pets.CSV\")\n",
        "Pets"
      ],
      "execution_count": 75,
      "outputs": [
        {
          "output_type": "execute_result",
          "data": {
            "text/html": [
              "<div>\n",
              "<style scoped>\n",
              "    .dataframe tbody tr th:only-of-type {\n",
              "        vertical-align: middle;\n",
              "    }\n",
              "\n",
              "    .dataframe tbody tr th {\n",
              "        vertical-align: top;\n",
              "    }\n",
              "\n",
              "    .dataframe thead th {\n",
              "        text-align: right;\n",
              "    }\n",
              "</style>\n",
              "<table border=\"1\" class=\"dataframe\">\n",
              "  <thead>\n",
              "    <tr style=\"text-align: right;\">\n",
              "      <th></th>\n",
              "      <th>ID</th>\n",
              "      <th>b</th>\n",
              "      <th>c</th>\n",
              "    </tr>\n",
              "  </thead>\n",
              "  <tbody>\n",
              "    <tr>\n",
              "      <th>0</th>\n",
              "      <td>0</td>\n",
              "      <td>1000.636278</td>\n",
              "      <td>cat</td>\n",
              "    </tr>\n",
              "    <tr>\n",
              "      <th>1</th>\n",
              "      <td>1</td>\n",
              "      <td>1000.636278</td>\n",
              "      <td>cat</td>\n",
              "    </tr>\n",
              "    <tr>\n",
              "      <th>2</th>\n",
              "      <td>2</td>\n",
              "      <td>1000.636278</td>\n",
              "      <td>dog</td>\n",
              "    </tr>\n",
              "    <tr>\n",
              "      <th>3</th>\n",
              "      <td>3</td>\n",
              "      <td>1000.636278</td>\n",
              "      <td>hippo</td>\n",
              "    </tr>\n",
              "    <tr>\n",
              "      <th>4</th>\n",
              "      <td>4</td>\n",
              "      <td>1000.636278</td>\n",
              "      <td>cat</td>\n",
              "    </tr>\n",
              "    <tr>\n",
              "      <th>...</th>\n",
              "      <td>...</td>\n",
              "      <td>...</td>\n",
              "      <td>...</td>\n",
              "    </tr>\n",
              "    <tr>\n",
              "      <th>995</th>\n",
              "      <td>995</td>\n",
              "      <td>1000.636278</td>\n",
              "      <td>cat</td>\n",
              "    </tr>\n",
              "    <tr>\n",
              "      <th>996</th>\n",
              "      <td>996</td>\n",
              "      <td>1000.636278</td>\n",
              "      <td>hippo</td>\n",
              "    </tr>\n",
              "    <tr>\n",
              "      <th>997</th>\n",
              "      <td>997</td>\n",
              "      <td>1000.636278</td>\n",
              "      <td>hippo</td>\n",
              "    </tr>\n",
              "    <tr>\n",
              "      <th>998</th>\n",
              "      <td>998</td>\n",
              "      <td>1000.636278</td>\n",
              "      <td>cat</td>\n",
              "    </tr>\n",
              "    <tr>\n",
              "      <th>999</th>\n",
              "      <td>999</td>\n",
              "      <td>1000.636278</td>\n",
              "      <td>cat</td>\n",
              "    </tr>\n",
              "  </tbody>\n",
              "</table>\n",
              "<p>1000 rows × 3 columns</p>\n",
              "</div>"
            ],
            "text/plain": [
              "      ID            b      c\n",
              "0      0  1000.636278    cat\n",
              "1      1  1000.636278    cat\n",
              "2      2  1000.636278    dog\n",
              "3      3  1000.636278  hippo\n",
              "4      4  1000.636278    cat\n",
              "..   ...          ...    ...\n",
              "995  995  1000.636278    cat\n",
              "996  996  1000.636278  hippo\n",
              "997  997  1000.636278  hippo\n",
              "998  998  1000.636278    cat\n",
              "999  999  1000.636278    cat\n",
              "\n",
              "[1000 rows x 3 columns]"
            ]
          },
          "metadata": {
            "tags": []
          },
          "execution_count": 75
        }
      ]
    },
    {
      "cell_type": "markdown",
      "metadata": {
        "id": "GfWWUBBgUCqF"
      },
      "source": [
        "# DataFrame Indexing"
      ]
    },
    {
      "cell_type": "code",
      "metadata": {
        "colab": {
          "base_uri": "https://localhost:8080/"
        },
        "id": "QbebBdX4R2JC",
        "outputId": "73d06cc2-c057-4c41-cc27-94af14a494f8"
      },
      "source": [
        "df.b #Dot Notation"
      ],
      "execution_count": 76,
      "outputs": [
        {
          "output_type": "execute_result",
          "data": {
            "text/plain": [
              "0      1000.636278\n",
              "1      1000.636278\n",
              "2      1000.636278\n",
              "3      1000.636278\n",
              "4      1000.636278\n",
              "          ...     \n",
              "995    1000.636278\n",
              "996    1000.636278\n",
              "997    1000.636278\n",
              "998    1000.636278\n",
              "999    1000.636278\n",
              "Name: b, Length: 1000, dtype: float64"
            ]
          },
          "metadata": {
            "tags": []
          },
          "execution_count": 76
        }
      ]
    },
    {
      "cell_type": "code",
      "metadata": {
        "colab": {
          "base_uri": "https://localhost:8080/"
        },
        "id": "Uw1bNiRpUJUW",
        "outputId": "8ed46dc2-6b53-4f4f-c364-986a9b7d9aad"
      },
      "source": [
        "df['b'] #Useful if the column names have spaces"
      ],
      "execution_count": 77,
      "outputs": [
        {
          "output_type": "execute_result",
          "data": {
            "text/plain": [
              "0      1000.636278\n",
              "1      1000.636278\n",
              "2      1000.636278\n",
              "3      1000.636278\n",
              "4      1000.636278\n",
              "          ...     \n",
              "995    1000.636278\n",
              "996    1000.636278\n",
              "997    1000.636278\n",
              "998    1000.636278\n",
              "999    1000.636278\n",
              "Name: b, Length: 1000, dtype: float64"
            ]
          },
          "metadata": {
            "tags": []
          },
          "execution_count": 77
        }
      ]
    },
    {
      "cell_type": "code",
      "metadata": {
        "colab": {
          "base_uri": "https://localhost:8080/",
          "height": 419
        },
        "id": "RqHYyFNcUUFz",
        "outputId": "9f50d421-2461-4b5d-dc22-f5bc35b6e053"
      },
      "source": [
        "df[['b', 'c']] #List of column names is returned"
      ],
      "execution_count": 78,
      "outputs": [
        {
          "output_type": "execute_result",
          "data": {
            "text/html": [
              "<div>\n",
              "<style scoped>\n",
              "    .dataframe tbody tr th:only-of-type {\n",
              "        vertical-align: middle;\n",
              "    }\n",
              "\n",
              "    .dataframe tbody tr th {\n",
              "        vertical-align: top;\n",
              "    }\n",
              "\n",
              "    .dataframe thead th {\n",
              "        text-align: right;\n",
              "    }\n",
              "</style>\n",
              "<table border=\"1\" class=\"dataframe\">\n",
              "  <thead>\n",
              "    <tr style=\"text-align: right;\">\n",
              "      <th></th>\n",
              "      <th>b</th>\n",
              "      <th>c</th>\n",
              "    </tr>\n",
              "  </thead>\n",
              "  <tbody>\n",
              "    <tr>\n",
              "      <th>0</th>\n",
              "      <td>1000.636278</td>\n",
              "      <td>cat</td>\n",
              "    </tr>\n",
              "    <tr>\n",
              "      <th>1</th>\n",
              "      <td>1000.636278</td>\n",
              "      <td>cat</td>\n",
              "    </tr>\n",
              "    <tr>\n",
              "      <th>2</th>\n",
              "      <td>1000.636278</td>\n",
              "      <td>dog</td>\n",
              "    </tr>\n",
              "    <tr>\n",
              "      <th>3</th>\n",
              "      <td>1000.636278</td>\n",
              "      <td>hippo</td>\n",
              "    </tr>\n",
              "    <tr>\n",
              "      <th>4</th>\n",
              "      <td>1000.636278</td>\n",
              "      <td>cat</td>\n",
              "    </tr>\n",
              "    <tr>\n",
              "      <th>...</th>\n",
              "      <td>...</td>\n",
              "      <td>...</td>\n",
              "    </tr>\n",
              "    <tr>\n",
              "      <th>995</th>\n",
              "      <td>1000.636278</td>\n",
              "      <td>cat</td>\n",
              "    </tr>\n",
              "    <tr>\n",
              "      <th>996</th>\n",
              "      <td>1000.636278</td>\n",
              "      <td>hippo</td>\n",
              "    </tr>\n",
              "    <tr>\n",
              "      <th>997</th>\n",
              "      <td>1000.636278</td>\n",
              "      <td>hippo</td>\n",
              "    </tr>\n",
              "    <tr>\n",
              "      <th>998</th>\n",
              "      <td>1000.636278</td>\n",
              "      <td>cat</td>\n",
              "    </tr>\n",
              "    <tr>\n",
              "      <th>999</th>\n",
              "      <td>1000.636278</td>\n",
              "      <td>cat</td>\n",
              "    </tr>\n",
              "  </tbody>\n",
              "</table>\n",
              "<p>1000 rows × 2 columns</p>\n",
              "</div>"
            ],
            "text/plain": [
              "               b      c\n",
              "0    1000.636278    cat\n",
              "1    1000.636278    cat\n",
              "2    1000.636278    dog\n",
              "3    1000.636278  hippo\n",
              "4    1000.636278    cat\n",
              "..           ...    ...\n",
              "995  1000.636278    cat\n",
              "996  1000.636278  hippo\n",
              "997  1000.636278  hippo\n",
              "998  1000.636278    cat\n",
              "999  1000.636278    cat\n",
              "\n",
              "[1000 rows x 2 columns]"
            ]
          },
          "metadata": {
            "tags": []
          },
          "execution_count": 78
        }
      ]
    },
    {
      "cell_type": "code",
      "metadata": {
        "colab": {
          "base_uri": "https://localhost:8080/",
          "height": 142
        },
        "id": "jVhtvbz4UfBk",
        "outputId": "912f20e5-abe3-454f-af69-fdd1ef4565c6"
      },
      "source": [
        "df.iloc[[0,2,4]] "
      ],
      "execution_count": 79,
      "outputs": [
        {
          "output_type": "execute_result",
          "data": {
            "text/html": [
              "<div>\n",
              "<style scoped>\n",
              "    .dataframe tbody tr th:only-of-type {\n",
              "        vertical-align: middle;\n",
              "    }\n",
              "\n",
              "    .dataframe tbody tr th {\n",
              "        vertical-align: top;\n",
              "    }\n",
              "\n",
              "    .dataframe thead th {\n",
              "        text-align: right;\n",
              "    }\n",
              "</style>\n",
              "<table border=\"1\" class=\"dataframe\">\n",
              "  <thead>\n",
              "    <tr style=\"text-align: right;\">\n",
              "      <th></th>\n",
              "      <th>ID</th>\n",
              "      <th>b</th>\n",
              "      <th>c</th>\n",
              "    </tr>\n",
              "  </thead>\n",
              "  <tbody>\n",
              "    <tr>\n",
              "      <th>0</th>\n",
              "      <td>0</td>\n",
              "      <td>1000.636278</td>\n",
              "      <td>cat</td>\n",
              "    </tr>\n",
              "    <tr>\n",
              "      <th>2</th>\n",
              "      <td>2</td>\n",
              "      <td>1000.636278</td>\n",
              "      <td>dog</td>\n",
              "    </tr>\n",
              "    <tr>\n",
              "      <th>4</th>\n",
              "      <td>4</td>\n",
              "      <td>1000.636278</td>\n",
              "      <td>cat</td>\n",
              "    </tr>\n",
              "  </tbody>\n",
              "</table>\n",
              "</div>"
            ],
            "text/plain": [
              "   ID            b    c\n",
              "0   0  1000.636278  cat\n",
              "2   2  1000.636278  dog\n",
              "4   4  1000.636278  cat"
            ]
          },
          "metadata": {
            "tags": []
          },
          "execution_count": 79
        }
      ]
    },
    {
      "cell_type": "code",
      "metadata": {
        "colab": {
          "base_uri": "https://localhost:8080/",
          "height": 142
        },
        "id": "qHy5D0mxUrLy",
        "outputId": "7d2057b8-1e34-49a2-96d1-d42dfe791d3b"
      },
      "source": [
        "df[0:5:2]"
      ],
      "execution_count": 80,
      "outputs": [
        {
          "output_type": "execute_result",
          "data": {
            "text/html": [
              "<div>\n",
              "<style scoped>\n",
              "    .dataframe tbody tr th:only-of-type {\n",
              "        vertical-align: middle;\n",
              "    }\n",
              "\n",
              "    .dataframe tbody tr th {\n",
              "        vertical-align: top;\n",
              "    }\n",
              "\n",
              "    .dataframe thead th {\n",
              "        text-align: right;\n",
              "    }\n",
              "</style>\n",
              "<table border=\"1\" class=\"dataframe\">\n",
              "  <thead>\n",
              "    <tr style=\"text-align: right;\">\n",
              "      <th></th>\n",
              "      <th>ID</th>\n",
              "      <th>b</th>\n",
              "      <th>c</th>\n",
              "    </tr>\n",
              "  </thead>\n",
              "  <tbody>\n",
              "    <tr>\n",
              "      <th>0</th>\n",
              "      <td>0</td>\n",
              "      <td>1000.636278</td>\n",
              "      <td>cat</td>\n",
              "    </tr>\n",
              "    <tr>\n",
              "      <th>2</th>\n",
              "      <td>2</td>\n",
              "      <td>1000.636278</td>\n",
              "      <td>dog</td>\n",
              "    </tr>\n",
              "    <tr>\n",
              "      <th>4</th>\n",
              "      <td>4</td>\n",
              "      <td>1000.636278</td>\n",
              "      <td>cat</td>\n",
              "    </tr>\n",
              "  </tbody>\n",
              "</table>\n",
              "</div>"
            ],
            "text/plain": [
              "   ID            b    c\n",
              "0   0  1000.636278  cat\n",
              "2   2  1000.636278  dog\n",
              "4   4  1000.636278  cat"
            ]
          },
          "metadata": {
            "tags": []
          },
          "execution_count": 80
        }
      ]
    },
    {
      "cell_type": "code",
      "metadata": {
        "colab": {
          "base_uri": "https://localhost:8080/",
          "height": 419
        },
        "id": "0mqBjA7aUyhy",
        "outputId": "460d2da6-d9af-4945-fb4f-7b2dfe96478a"
      },
      "source": [
        "df.iloc[:, [1,2]]  #All rows of columns 1 and 2"
      ],
      "execution_count": 81,
      "outputs": [
        {
          "output_type": "execute_result",
          "data": {
            "text/html": [
              "<div>\n",
              "<style scoped>\n",
              "    .dataframe tbody tr th:only-of-type {\n",
              "        vertical-align: middle;\n",
              "    }\n",
              "\n",
              "    .dataframe tbody tr th {\n",
              "        vertical-align: top;\n",
              "    }\n",
              "\n",
              "    .dataframe thead th {\n",
              "        text-align: right;\n",
              "    }\n",
              "</style>\n",
              "<table border=\"1\" class=\"dataframe\">\n",
              "  <thead>\n",
              "    <tr style=\"text-align: right;\">\n",
              "      <th></th>\n",
              "      <th>b</th>\n",
              "      <th>c</th>\n",
              "    </tr>\n",
              "  </thead>\n",
              "  <tbody>\n",
              "    <tr>\n",
              "      <th>0</th>\n",
              "      <td>1000.636278</td>\n",
              "      <td>cat</td>\n",
              "    </tr>\n",
              "    <tr>\n",
              "      <th>1</th>\n",
              "      <td>1000.636278</td>\n",
              "      <td>cat</td>\n",
              "    </tr>\n",
              "    <tr>\n",
              "      <th>2</th>\n",
              "      <td>1000.636278</td>\n",
              "      <td>dog</td>\n",
              "    </tr>\n",
              "    <tr>\n",
              "      <th>3</th>\n",
              "      <td>1000.636278</td>\n",
              "      <td>hippo</td>\n",
              "    </tr>\n",
              "    <tr>\n",
              "      <th>4</th>\n",
              "      <td>1000.636278</td>\n",
              "      <td>cat</td>\n",
              "    </tr>\n",
              "    <tr>\n",
              "      <th>...</th>\n",
              "      <td>...</td>\n",
              "      <td>...</td>\n",
              "    </tr>\n",
              "    <tr>\n",
              "      <th>995</th>\n",
              "      <td>1000.636278</td>\n",
              "      <td>cat</td>\n",
              "    </tr>\n",
              "    <tr>\n",
              "      <th>996</th>\n",
              "      <td>1000.636278</td>\n",
              "      <td>hippo</td>\n",
              "    </tr>\n",
              "    <tr>\n",
              "      <th>997</th>\n",
              "      <td>1000.636278</td>\n",
              "      <td>hippo</td>\n",
              "    </tr>\n",
              "    <tr>\n",
              "      <th>998</th>\n",
              "      <td>1000.636278</td>\n",
              "      <td>cat</td>\n",
              "    </tr>\n",
              "    <tr>\n",
              "      <th>999</th>\n",
              "      <td>1000.636278</td>\n",
              "      <td>cat</td>\n",
              "    </tr>\n",
              "  </tbody>\n",
              "</table>\n",
              "<p>1000 rows × 2 columns</p>\n",
              "</div>"
            ],
            "text/plain": [
              "               b      c\n",
              "0    1000.636278    cat\n",
              "1    1000.636278    cat\n",
              "2    1000.636278    dog\n",
              "3    1000.636278  hippo\n",
              "4    1000.636278    cat\n",
              "..           ...    ...\n",
              "995  1000.636278    cat\n",
              "996  1000.636278  hippo\n",
              "997  1000.636278  hippo\n",
              "998  1000.636278    cat\n",
              "999  1000.636278    cat\n",
              "\n",
              "[1000 rows x 2 columns]"
            ]
          },
          "metadata": {
            "tags": []
          },
          "execution_count": 81
        }
      ]
    },
    {
      "cell_type": "code",
      "metadata": {
        "colab": {
          "base_uri": "https://localhost:8080/",
          "height": 173
        },
        "id": "z3HFHkFHVCzZ",
        "outputId": "d4d4a10a-cb47-4fe0-98d5-e9ddab983175"
      },
      "source": [
        "df.iloc[[0,1,5,6], [1,2]]"
      ],
      "execution_count": 82,
      "outputs": [
        {
          "output_type": "execute_result",
          "data": {
            "text/html": [
              "<div>\n",
              "<style scoped>\n",
              "    .dataframe tbody tr th:only-of-type {\n",
              "        vertical-align: middle;\n",
              "    }\n",
              "\n",
              "    .dataframe tbody tr th {\n",
              "        vertical-align: top;\n",
              "    }\n",
              "\n",
              "    .dataframe thead th {\n",
              "        text-align: right;\n",
              "    }\n",
              "</style>\n",
              "<table border=\"1\" class=\"dataframe\">\n",
              "  <thead>\n",
              "    <tr style=\"text-align: right;\">\n",
              "      <th></th>\n",
              "      <th>b</th>\n",
              "      <th>c</th>\n",
              "    </tr>\n",
              "  </thead>\n",
              "  <tbody>\n",
              "    <tr>\n",
              "      <th>0</th>\n",
              "      <td>1000.636278</td>\n",
              "      <td>cat</td>\n",
              "    </tr>\n",
              "    <tr>\n",
              "      <th>1</th>\n",
              "      <td>1000.636278</td>\n",
              "      <td>cat</td>\n",
              "    </tr>\n",
              "    <tr>\n",
              "      <th>5</th>\n",
              "      <td>1000.636278</td>\n",
              "      <td>cat</td>\n",
              "    </tr>\n",
              "    <tr>\n",
              "      <th>6</th>\n",
              "      <td>1000.636278</td>\n",
              "      <td>cat</td>\n",
              "    </tr>\n",
              "  </tbody>\n",
              "</table>\n",
              "</div>"
            ],
            "text/plain": [
              "             b    c\n",
              "0  1000.636278  cat\n",
              "1  1000.636278  cat\n",
              "5  1000.636278  cat\n",
              "6  1000.636278  cat"
            ]
          },
          "metadata": {
            "tags": []
          },
          "execution_count": 82
        }
      ]
    },
    {
      "cell_type": "code",
      "metadata": {
        "colab": {
          "base_uri": "https://localhost:8080/",
          "height": 421
        },
        "id": "TuJKR7mkW8db",
        "outputId": "09a39305-4e2a-4ccf-a486-de522648c60c"
      },
      "source": [
        "#iloc can only take index values not string column names\n",
        "df.iloc[:12, [df.columns.get_loc(c) for c in ['b', 'c']]]"
      ],
      "execution_count": 83,
      "outputs": [
        {
          "output_type": "execute_result",
          "data": {
            "text/html": [
              "<div>\n",
              "<style scoped>\n",
              "    .dataframe tbody tr th:only-of-type {\n",
              "        vertical-align: middle;\n",
              "    }\n",
              "\n",
              "    .dataframe tbody tr th {\n",
              "        vertical-align: top;\n",
              "    }\n",
              "\n",
              "    .dataframe thead th {\n",
              "        text-align: right;\n",
              "    }\n",
              "</style>\n",
              "<table border=\"1\" class=\"dataframe\">\n",
              "  <thead>\n",
              "    <tr style=\"text-align: right;\">\n",
              "      <th></th>\n",
              "      <th>b</th>\n",
              "      <th>c</th>\n",
              "    </tr>\n",
              "  </thead>\n",
              "  <tbody>\n",
              "    <tr>\n",
              "      <th>0</th>\n",
              "      <td>1000.636278</td>\n",
              "      <td>cat</td>\n",
              "    </tr>\n",
              "    <tr>\n",
              "      <th>1</th>\n",
              "      <td>1000.636278</td>\n",
              "      <td>cat</td>\n",
              "    </tr>\n",
              "    <tr>\n",
              "      <th>2</th>\n",
              "      <td>1000.636278</td>\n",
              "      <td>dog</td>\n",
              "    </tr>\n",
              "    <tr>\n",
              "      <th>3</th>\n",
              "      <td>1000.636278</td>\n",
              "      <td>hippo</td>\n",
              "    </tr>\n",
              "    <tr>\n",
              "      <th>4</th>\n",
              "      <td>1000.636278</td>\n",
              "      <td>cat</td>\n",
              "    </tr>\n",
              "    <tr>\n",
              "      <th>5</th>\n",
              "      <td>1000.636278</td>\n",
              "      <td>cat</td>\n",
              "    </tr>\n",
              "    <tr>\n",
              "      <th>6</th>\n",
              "      <td>1000.636278</td>\n",
              "      <td>cat</td>\n",
              "    </tr>\n",
              "    <tr>\n",
              "      <th>7</th>\n",
              "      <td>1000.636278</td>\n",
              "      <td>dog</td>\n",
              "    </tr>\n",
              "    <tr>\n",
              "      <th>8</th>\n",
              "      <td>1000.636278</td>\n",
              "      <td>cat</td>\n",
              "    </tr>\n",
              "    <tr>\n",
              "      <th>9</th>\n",
              "      <td>1000.636278</td>\n",
              "      <td>dog</td>\n",
              "    </tr>\n",
              "    <tr>\n",
              "      <th>10</th>\n",
              "      <td>1000.636278</td>\n",
              "      <td>cat</td>\n",
              "    </tr>\n",
              "    <tr>\n",
              "      <th>11</th>\n",
              "      <td>1000.636278</td>\n",
              "      <td>hippo</td>\n",
              "    </tr>\n",
              "  </tbody>\n",
              "</table>\n",
              "</div>"
            ],
            "text/plain": [
              "              b      c\n",
              "0   1000.636278    cat\n",
              "1   1000.636278    cat\n",
              "2   1000.636278    dog\n",
              "3   1000.636278  hippo\n",
              "4   1000.636278    cat\n",
              "5   1000.636278    cat\n",
              "6   1000.636278    cat\n",
              "7   1000.636278    dog\n",
              "8   1000.636278    cat\n",
              "9   1000.636278    dog\n",
              "10  1000.636278    cat\n",
              "11  1000.636278  hippo"
            ]
          },
          "metadata": {
            "tags": []
          },
          "execution_count": 83
        }
      ]
    },
    {
      "cell_type": "code",
      "metadata": {
        "colab": {
          "base_uri": "https://localhost:8080/"
        },
        "id": "XOe589tBXJm6",
        "outputId": "8f17e892-9d43-444d-d50c-de59be50151e"
      },
      "source": [
        "mask= df.c == 'cat'\n",
        "mask"
      ],
      "execution_count": 84,
      "outputs": [
        {
          "output_type": "execute_result",
          "data": {
            "text/plain": [
              "0       True\n",
              "1       True\n",
              "2      False\n",
              "3      False\n",
              "4       True\n",
              "       ...  \n",
              "995     True\n",
              "996    False\n",
              "997    False\n",
              "998     True\n",
              "999     True\n",
              "Name: c, Length: 1000, dtype: bool"
            ]
          },
          "metadata": {
            "tags": []
          },
          "execution_count": 84
        }
      ]
    },
    {
      "cell_type": "code",
      "metadata": {
        "colab": {
          "base_uri": "https://localhost:8080/",
          "height": 419
        },
        "id": "9t0OYz-RYoMH",
        "outputId": "5e1171a1-475b-4ea0-d263-fd273b77c7ca"
      },
      "source": [
        "df[mask]"
      ],
      "execution_count": 85,
      "outputs": [
        {
          "output_type": "execute_result",
          "data": {
            "text/html": [
              "<div>\n",
              "<style scoped>\n",
              "    .dataframe tbody tr th:only-of-type {\n",
              "        vertical-align: middle;\n",
              "    }\n",
              "\n",
              "    .dataframe tbody tr th {\n",
              "        vertical-align: top;\n",
              "    }\n",
              "\n",
              "    .dataframe thead th {\n",
              "        text-align: right;\n",
              "    }\n",
              "</style>\n",
              "<table border=\"1\" class=\"dataframe\">\n",
              "  <thead>\n",
              "    <tr style=\"text-align: right;\">\n",
              "      <th></th>\n",
              "      <th>ID</th>\n",
              "      <th>b</th>\n",
              "      <th>c</th>\n",
              "    </tr>\n",
              "  </thead>\n",
              "  <tbody>\n",
              "    <tr>\n",
              "      <th>0</th>\n",
              "      <td>0</td>\n",
              "      <td>1000.636278</td>\n",
              "      <td>cat</td>\n",
              "    </tr>\n",
              "    <tr>\n",
              "      <th>1</th>\n",
              "      <td>1</td>\n",
              "      <td>1000.636278</td>\n",
              "      <td>cat</td>\n",
              "    </tr>\n",
              "    <tr>\n",
              "      <th>4</th>\n",
              "      <td>4</td>\n",
              "      <td>1000.636278</td>\n",
              "      <td>cat</td>\n",
              "    </tr>\n",
              "    <tr>\n",
              "      <th>5</th>\n",
              "      <td>5</td>\n",
              "      <td>1000.636278</td>\n",
              "      <td>cat</td>\n",
              "    </tr>\n",
              "    <tr>\n",
              "      <th>6</th>\n",
              "      <td>6</td>\n",
              "      <td>1000.636278</td>\n",
              "      <td>cat</td>\n",
              "    </tr>\n",
              "    <tr>\n",
              "      <th>...</th>\n",
              "      <td>...</td>\n",
              "      <td>...</td>\n",
              "      <td>...</td>\n",
              "    </tr>\n",
              "    <tr>\n",
              "      <th>990</th>\n",
              "      <td>990</td>\n",
              "      <td>1000.636278</td>\n",
              "      <td>cat</td>\n",
              "    </tr>\n",
              "    <tr>\n",
              "      <th>992</th>\n",
              "      <td>992</td>\n",
              "      <td>1000.636278</td>\n",
              "      <td>cat</td>\n",
              "    </tr>\n",
              "    <tr>\n",
              "      <th>995</th>\n",
              "      <td>995</td>\n",
              "      <td>1000.636278</td>\n",
              "      <td>cat</td>\n",
              "    </tr>\n",
              "    <tr>\n",
              "      <th>998</th>\n",
              "      <td>998</td>\n",
              "      <td>1000.636278</td>\n",
              "      <td>cat</td>\n",
              "    </tr>\n",
              "    <tr>\n",
              "      <th>999</th>\n",
              "      <td>999</td>\n",
              "      <td>1000.636278</td>\n",
              "      <td>cat</td>\n",
              "    </tr>\n",
              "  </tbody>\n",
              "</table>\n",
              "<p>367 rows × 3 columns</p>\n",
              "</div>"
            ],
            "text/plain": [
              "      ID            b    c\n",
              "0      0  1000.636278  cat\n",
              "1      1  1000.636278  cat\n",
              "4      4  1000.636278  cat\n",
              "5      5  1000.636278  cat\n",
              "6      6  1000.636278  cat\n",
              "..   ...          ...  ...\n",
              "990  990  1000.636278  cat\n",
              "992  992  1000.636278  cat\n",
              "995  995  1000.636278  cat\n",
              "998  998  1000.636278  cat\n",
              "999  999  1000.636278  cat\n",
              "\n",
              "[367 rows x 3 columns]"
            ]
          },
          "metadata": {
            "tags": []
          },
          "execution_count": 85
        }
      ]
    },
    {
      "cell_type": "code",
      "metadata": {
        "colab": {
          "base_uri": "https://localhost:8080/",
          "height": 419
        },
        "id": "giokwaemYvgu",
        "outputId": "66d6d6dd-d9ec-4905-a9d2-580681f28571"
      },
      "source": [
        "df.loc[mask]"
      ],
      "execution_count": 86,
      "outputs": [
        {
          "output_type": "execute_result",
          "data": {
            "text/html": [
              "<div>\n",
              "<style scoped>\n",
              "    .dataframe tbody tr th:only-of-type {\n",
              "        vertical-align: middle;\n",
              "    }\n",
              "\n",
              "    .dataframe tbody tr th {\n",
              "        vertical-align: top;\n",
              "    }\n",
              "\n",
              "    .dataframe thead th {\n",
              "        text-align: right;\n",
              "    }\n",
              "</style>\n",
              "<table border=\"1\" class=\"dataframe\">\n",
              "  <thead>\n",
              "    <tr style=\"text-align: right;\">\n",
              "      <th></th>\n",
              "      <th>ID</th>\n",
              "      <th>b</th>\n",
              "      <th>c</th>\n",
              "    </tr>\n",
              "  </thead>\n",
              "  <tbody>\n",
              "    <tr>\n",
              "      <th>0</th>\n",
              "      <td>0</td>\n",
              "      <td>1000.636278</td>\n",
              "      <td>cat</td>\n",
              "    </tr>\n",
              "    <tr>\n",
              "      <th>1</th>\n",
              "      <td>1</td>\n",
              "      <td>1000.636278</td>\n",
              "      <td>cat</td>\n",
              "    </tr>\n",
              "    <tr>\n",
              "      <th>4</th>\n",
              "      <td>4</td>\n",
              "      <td>1000.636278</td>\n",
              "      <td>cat</td>\n",
              "    </tr>\n",
              "    <tr>\n",
              "      <th>5</th>\n",
              "      <td>5</td>\n",
              "      <td>1000.636278</td>\n",
              "      <td>cat</td>\n",
              "    </tr>\n",
              "    <tr>\n",
              "      <th>6</th>\n",
              "      <td>6</td>\n",
              "      <td>1000.636278</td>\n",
              "      <td>cat</td>\n",
              "    </tr>\n",
              "    <tr>\n",
              "      <th>...</th>\n",
              "      <td>...</td>\n",
              "      <td>...</td>\n",
              "      <td>...</td>\n",
              "    </tr>\n",
              "    <tr>\n",
              "      <th>990</th>\n",
              "      <td>990</td>\n",
              "      <td>1000.636278</td>\n",
              "      <td>cat</td>\n",
              "    </tr>\n",
              "    <tr>\n",
              "      <th>992</th>\n",
              "      <td>992</td>\n",
              "      <td>1000.636278</td>\n",
              "      <td>cat</td>\n",
              "    </tr>\n",
              "    <tr>\n",
              "      <th>995</th>\n",
              "      <td>995</td>\n",
              "      <td>1000.636278</td>\n",
              "      <td>cat</td>\n",
              "    </tr>\n",
              "    <tr>\n",
              "      <th>998</th>\n",
              "      <td>998</td>\n",
              "      <td>1000.636278</td>\n",
              "      <td>cat</td>\n",
              "    </tr>\n",
              "    <tr>\n",
              "      <th>999</th>\n",
              "      <td>999</td>\n",
              "      <td>1000.636278</td>\n",
              "      <td>cat</td>\n",
              "    </tr>\n",
              "  </tbody>\n",
              "</table>\n",
              "<p>367 rows × 3 columns</p>\n",
              "</div>"
            ],
            "text/plain": [
              "      ID            b    c\n",
              "0      0  1000.636278  cat\n",
              "1      1  1000.636278  cat\n",
              "4      4  1000.636278  cat\n",
              "5      5  1000.636278  cat\n",
              "6      6  1000.636278  cat\n",
              "..   ...          ...  ...\n",
              "990  990  1000.636278  cat\n",
              "992  992  1000.636278  cat\n",
              "995  995  1000.636278  cat\n",
              "998  998  1000.636278  cat\n",
              "999  999  1000.636278  cat\n",
              "\n",
              "[367 rows x 3 columns]"
            ]
          },
          "metadata": {
            "tags": []
          },
          "execution_count": 86
        }
      ]
    },
    {
      "cell_type": "markdown",
      "metadata": {
        "id": "cg0bT6yK1zDk"
      },
      "source": [
        "# Basic DataFrame Operations"
      ]
    },
    {
      "cell_type": "code",
      "metadata": {
        "colab": {
          "base_uri": "https://localhost:8080/",
          "height": 204
        },
        "id": "5Ni_UzavYxhF",
        "outputId": "791d3555-8bc0-43a6-ce45-adee2879c358"
      },
      "source": [
        "new_df= df.iloc[0:5]\n",
        "new_df"
      ],
      "execution_count": 87,
      "outputs": [
        {
          "output_type": "execute_result",
          "data": {
            "text/html": [
              "<div>\n",
              "<style scoped>\n",
              "    .dataframe tbody tr th:only-of-type {\n",
              "        vertical-align: middle;\n",
              "    }\n",
              "\n",
              "    .dataframe tbody tr th {\n",
              "        vertical-align: top;\n",
              "    }\n",
              "\n",
              "    .dataframe thead th {\n",
              "        text-align: right;\n",
              "    }\n",
              "</style>\n",
              "<table border=\"1\" class=\"dataframe\">\n",
              "  <thead>\n",
              "    <tr style=\"text-align: right;\">\n",
              "      <th></th>\n",
              "      <th>ID</th>\n",
              "      <th>b</th>\n",
              "      <th>c</th>\n",
              "    </tr>\n",
              "  </thead>\n",
              "  <tbody>\n",
              "    <tr>\n",
              "      <th>0</th>\n",
              "      <td>0</td>\n",
              "      <td>1000.636278</td>\n",
              "      <td>cat</td>\n",
              "    </tr>\n",
              "    <tr>\n",
              "      <th>1</th>\n",
              "      <td>1</td>\n",
              "      <td>1000.636278</td>\n",
              "      <td>cat</td>\n",
              "    </tr>\n",
              "    <tr>\n",
              "      <th>2</th>\n",
              "      <td>2</td>\n",
              "      <td>1000.636278</td>\n",
              "      <td>dog</td>\n",
              "    </tr>\n",
              "    <tr>\n",
              "      <th>3</th>\n",
              "      <td>3</td>\n",
              "      <td>1000.636278</td>\n",
              "      <td>hippo</td>\n",
              "    </tr>\n",
              "    <tr>\n",
              "      <th>4</th>\n",
              "      <td>4</td>\n",
              "      <td>1000.636278</td>\n",
              "      <td>cat</td>\n",
              "    </tr>\n",
              "  </tbody>\n",
              "</table>\n",
              "</div>"
            ],
            "text/plain": [
              "   ID            b      c\n",
              "0   0  1000.636278    cat\n",
              "1   1  1000.636278    cat\n",
              "2   2  1000.636278    dog\n",
              "3   3  1000.636278  hippo\n",
              "4   4  1000.636278    cat"
            ]
          },
          "metadata": {
            "tags": []
          },
          "execution_count": 87
        }
      ]
    },
    {
      "cell_type": "markdown",
      "metadata": {
        "id": "VdvvXxIG2mlQ"
      },
      "source": [
        "New Column Insertion"
      ]
    },
    {
      "cell_type": "code",
      "metadata": {
        "colab": {
          "base_uri": "https://localhost:8080/",
          "height": 326
        },
        "id": "CVRzo9Oi2JnL",
        "outputId": "32b40f3a-2103-4c06-d762-3cd538f8f948"
      },
      "source": [
        "new_df['a']= [0,1,2,3,4]\n",
        "new_df"
      ],
      "execution_count": 88,
      "outputs": [
        {
          "output_type": "stream",
          "text": [
            "/usr/local/lib/python3.7/dist-packages/ipykernel_launcher.py:1: SettingWithCopyWarning: \n",
            "A value is trying to be set on a copy of a slice from a DataFrame.\n",
            "Try using .loc[row_indexer,col_indexer] = value instead\n",
            "\n",
            "See the caveats in the documentation: https://pandas.pydata.org/pandas-docs/stable/user_guide/indexing.html#returning-a-view-versus-a-copy\n",
            "  \"\"\"Entry point for launching an IPython kernel.\n"
          ],
          "name": "stderr"
        },
        {
          "output_type": "execute_result",
          "data": {
            "text/html": [
              "<div>\n",
              "<style scoped>\n",
              "    .dataframe tbody tr th:only-of-type {\n",
              "        vertical-align: middle;\n",
              "    }\n",
              "\n",
              "    .dataframe tbody tr th {\n",
              "        vertical-align: top;\n",
              "    }\n",
              "\n",
              "    .dataframe thead th {\n",
              "        text-align: right;\n",
              "    }\n",
              "</style>\n",
              "<table border=\"1\" class=\"dataframe\">\n",
              "  <thead>\n",
              "    <tr style=\"text-align: right;\">\n",
              "      <th></th>\n",
              "      <th>ID</th>\n",
              "      <th>b</th>\n",
              "      <th>c</th>\n",
              "      <th>a</th>\n",
              "    </tr>\n",
              "  </thead>\n",
              "  <tbody>\n",
              "    <tr>\n",
              "      <th>0</th>\n",
              "      <td>0</td>\n",
              "      <td>1000.636278</td>\n",
              "      <td>cat</td>\n",
              "      <td>0</td>\n",
              "    </tr>\n",
              "    <tr>\n",
              "      <th>1</th>\n",
              "      <td>1</td>\n",
              "      <td>1000.636278</td>\n",
              "      <td>cat</td>\n",
              "      <td>1</td>\n",
              "    </tr>\n",
              "    <tr>\n",
              "      <th>2</th>\n",
              "      <td>2</td>\n",
              "      <td>1000.636278</td>\n",
              "      <td>dog</td>\n",
              "      <td>2</td>\n",
              "    </tr>\n",
              "    <tr>\n",
              "      <th>3</th>\n",
              "      <td>3</td>\n",
              "      <td>1000.636278</td>\n",
              "      <td>hippo</td>\n",
              "      <td>3</td>\n",
              "    </tr>\n",
              "    <tr>\n",
              "      <th>4</th>\n",
              "      <td>4</td>\n",
              "      <td>1000.636278</td>\n",
              "      <td>cat</td>\n",
              "      <td>4</td>\n",
              "    </tr>\n",
              "  </tbody>\n",
              "</table>\n",
              "</div>"
            ],
            "text/plain": [
              "   ID            b      c  a\n",
              "0   0  1000.636278    cat  0\n",
              "1   1  1000.636278    cat  1\n",
              "2   2  1000.636278    dog  2\n",
              "3   3  1000.636278  hippo  3\n",
              "4   4  1000.636278    cat  4"
            ]
          },
          "metadata": {
            "tags": []
          },
          "execution_count": 88
        }
      ]
    },
    {
      "cell_type": "code",
      "metadata": {
        "colab": {
          "base_uri": "https://localhost:8080/",
          "height": 326
        },
        "id": "0JaqtIks2b1Q",
        "outputId": "54646779-db58-4b9b-c422-87fec466e5f3"
      },
      "source": [
        "new_df['sum column']=new_df.a+new_df.a\n",
        "new_df"
      ],
      "execution_count": 89,
      "outputs": [
        {
          "output_type": "stream",
          "text": [
            "/usr/local/lib/python3.7/dist-packages/ipykernel_launcher.py:1: SettingWithCopyWarning: \n",
            "A value is trying to be set on a copy of a slice from a DataFrame.\n",
            "Try using .loc[row_indexer,col_indexer] = value instead\n",
            "\n",
            "See the caveats in the documentation: https://pandas.pydata.org/pandas-docs/stable/user_guide/indexing.html#returning-a-view-versus-a-copy\n",
            "  \"\"\"Entry point for launching an IPython kernel.\n"
          ],
          "name": "stderr"
        },
        {
          "output_type": "execute_result",
          "data": {
            "text/html": [
              "<div>\n",
              "<style scoped>\n",
              "    .dataframe tbody tr th:only-of-type {\n",
              "        vertical-align: middle;\n",
              "    }\n",
              "\n",
              "    .dataframe tbody tr th {\n",
              "        vertical-align: top;\n",
              "    }\n",
              "\n",
              "    .dataframe thead th {\n",
              "        text-align: right;\n",
              "    }\n",
              "</style>\n",
              "<table border=\"1\" class=\"dataframe\">\n",
              "  <thead>\n",
              "    <tr style=\"text-align: right;\">\n",
              "      <th></th>\n",
              "      <th>ID</th>\n",
              "      <th>b</th>\n",
              "      <th>c</th>\n",
              "      <th>a</th>\n",
              "      <th>sum column</th>\n",
              "    </tr>\n",
              "  </thead>\n",
              "  <tbody>\n",
              "    <tr>\n",
              "      <th>0</th>\n",
              "      <td>0</td>\n",
              "      <td>1000.636278</td>\n",
              "      <td>cat</td>\n",
              "      <td>0</td>\n",
              "      <td>0</td>\n",
              "    </tr>\n",
              "    <tr>\n",
              "      <th>1</th>\n",
              "      <td>1</td>\n",
              "      <td>1000.636278</td>\n",
              "      <td>cat</td>\n",
              "      <td>1</td>\n",
              "      <td>2</td>\n",
              "    </tr>\n",
              "    <tr>\n",
              "      <th>2</th>\n",
              "      <td>2</td>\n",
              "      <td>1000.636278</td>\n",
              "      <td>dog</td>\n",
              "      <td>2</td>\n",
              "      <td>4</td>\n",
              "    </tr>\n",
              "    <tr>\n",
              "      <th>3</th>\n",
              "      <td>3</td>\n",
              "      <td>1000.636278</td>\n",
              "      <td>hippo</td>\n",
              "      <td>3</td>\n",
              "      <td>6</td>\n",
              "    </tr>\n",
              "    <tr>\n",
              "      <th>4</th>\n",
              "      <td>4</td>\n",
              "      <td>1000.636278</td>\n",
              "      <td>cat</td>\n",
              "      <td>4</td>\n",
              "      <td>8</td>\n",
              "    </tr>\n",
              "  </tbody>\n",
              "</table>\n",
              "</div>"
            ],
            "text/plain": [
              "   ID            b      c  a  sum column\n",
              "0   0  1000.636278    cat  0           0\n",
              "1   1  1000.636278    cat  1           2\n",
              "2   2  1000.636278    dog  2           4\n",
              "3   3  1000.636278  hippo  3           6\n",
              "4   4  1000.636278    cat  4           8"
            ]
          },
          "metadata": {
            "tags": []
          },
          "execution_count": 89
        }
      ]
    },
    {
      "cell_type": "code",
      "metadata": {
        "colab": {
          "base_uri": "https://localhost:8080/",
          "height": 428
        },
        "id": "QGhUTUdi2zrv",
        "outputId": "59038a03-7097-4e14-99fe-0878439f40e4"
      },
      "source": [
        "new_df.loc[new_df.c == 'cat', 'insertion through booleanindexing']= 0\n",
        "new_df"
      ],
      "execution_count": 90,
      "outputs": [
        {
          "output_type": "stream",
          "text": [
            "/usr/local/lib/python3.7/dist-packages/pandas/core/indexing.py:1596: SettingWithCopyWarning: \n",
            "A value is trying to be set on a copy of a slice from a DataFrame.\n",
            "Try using .loc[row_indexer,col_indexer] = value instead\n",
            "\n",
            "See the caveats in the documentation: https://pandas.pydata.org/pandas-docs/stable/user_guide/indexing.html#returning-a-view-versus-a-copy\n",
            "  self.obj[key] = _infer_fill_value(value)\n",
            "/usr/local/lib/python3.7/dist-packages/pandas/core/indexing.py:1763: SettingWithCopyWarning: \n",
            "A value is trying to be set on a copy of a slice from a DataFrame.\n",
            "Try using .loc[row_indexer,col_indexer] = value instead\n",
            "\n",
            "See the caveats in the documentation: https://pandas.pydata.org/pandas-docs/stable/user_guide/indexing.html#returning-a-view-versus-a-copy\n",
            "  isetter(loc, value)\n"
          ],
          "name": "stderr"
        },
        {
          "output_type": "execute_result",
          "data": {
            "text/html": [
              "<div>\n",
              "<style scoped>\n",
              "    .dataframe tbody tr th:only-of-type {\n",
              "        vertical-align: middle;\n",
              "    }\n",
              "\n",
              "    .dataframe tbody tr th {\n",
              "        vertical-align: top;\n",
              "    }\n",
              "\n",
              "    .dataframe thead th {\n",
              "        text-align: right;\n",
              "    }\n",
              "</style>\n",
              "<table border=\"1\" class=\"dataframe\">\n",
              "  <thead>\n",
              "    <tr style=\"text-align: right;\">\n",
              "      <th></th>\n",
              "      <th>ID</th>\n",
              "      <th>b</th>\n",
              "      <th>c</th>\n",
              "      <th>a</th>\n",
              "      <th>sum column</th>\n",
              "      <th>insertion through booleanindexing</th>\n",
              "    </tr>\n",
              "  </thead>\n",
              "  <tbody>\n",
              "    <tr>\n",
              "      <th>0</th>\n",
              "      <td>0</td>\n",
              "      <td>1000.636278</td>\n",
              "      <td>cat</td>\n",
              "      <td>0</td>\n",
              "      <td>0</td>\n",
              "      <td>0.0</td>\n",
              "    </tr>\n",
              "    <tr>\n",
              "      <th>1</th>\n",
              "      <td>1</td>\n",
              "      <td>1000.636278</td>\n",
              "      <td>cat</td>\n",
              "      <td>1</td>\n",
              "      <td>2</td>\n",
              "      <td>0.0</td>\n",
              "    </tr>\n",
              "    <tr>\n",
              "      <th>2</th>\n",
              "      <td>2</td>\n",
              "      <td>1000.636278</td>\n",
              "      <td>dog</td>\n",
              "      <td>2</td>\n",
              "      <td>4</td>\n",
              "      <td>NaN</td>\n",
              "    </tr>\n",
              "    <tr>\n",
              "      <th>3</th>\n",
              "      <td>3</td>\n",
              "      <td>1000.636278</td>\n",
              "      <td>hippo</td>\n",
              "      <td>3</td>\n",
              "      <td>6</td>\n",
              "      <td>NaN</td>\n",
              "    </tr>\n",
              "    <tr>\n",
              "      <th>4</th>\n",
              "      <td>4</td>\n",
              "      <td>1000.636278</td>\n",
              "      <td>cat</td>\n",
              "      <td>4</td>\n",
              "      <td>8</td>\n",
              "      <td>0.0</td>\n",
              "    </tr>\n",
              "  </tbody>\n",
              "</table>\n",
              "</div>"
            ],
            "text/plain": [
              "   ID            b      c  a  sum column  insertion through booleanindexing\n",
              "0   0  1000.636278    cat  0           0                                0.0\n",
              "1   1  1000.636278    cat  1           2                                0.0\n",
              "2   2  1000.636278    dog  2           4                                NaN\n",
              "3   3  1000.636278  hippo  3           6                                NaN\n",
              "4   4  1000.636278    cat  4           8                                0.0"
            ]
          },
          "metadata": {
            "tags": []
          },
          "execution_count": 90
        }
      ]
    },
    {
      "cell_type": "markdown",
      "metadata": {
        "id": "j5BRRYBkObLs"
      },
      "source": [
        "Deleting columns"
      ]
    },
    {
      "cell_type": "code",
      "metadata": {
        "colab": {
          "base_uri": "https://localhost:8080/",
          "height": 309
        },
        "id": "e9gTorpD3LtB",
        "outputId": "4f255ca7-7e85-42a7-81c7-d805773b76a9"
      },
      "source": [
        "new_df.drop(columns= ['a', 'sum column'], inplace=True )\n",
        "new_df"
      ],
      "execution_count": 91,
      "outputs": [
        {
          "output_type": "stream",
          "text": [
            "/usr/local/lib/python3.7/dist-packages/pandas/core/frame.py:4174: SettingWithCopyWarning: \n",
            "A value is trying to be set on a copy of a slice from a DataFrame\n",
            "\n",
            "See the caveats in the documentation: https://pandas.pydata.org/pandas-docs/stable/user_guide/indexing.html#returning-a-view-versus-a-copy\n",
            "  errors=errors,\n"
          ],
          "name": "stderr"
        },
        {
          "output_type": "execute_result",
          "data": {
            "text/html": [
              "<div>\n",
              "<style scoped>\n",
              "    .dataframe tbody tr th:only-of-type {\n",
              "        vertical-align: middle;\n",
              "    }\n",
              "\n",
              "    .dataframe tbody tr th {\n",
              "        vertical-align: top;\n",
              "    }\n",
              "\n",
              "    .dataframe thead th {\n",
              "        text-align: right;\n",
              "    }\n",
              "</style>\n",
              "<table border=\"1\" class=\"dataframe\">\n",
              "  <thead>\n",
              "    <tr style=\"text-align: right;\">\n",
              "      <th></th>\n",
              "      <th>ID</th>\n",
              "      <th>b</th>\n",
              "      <th>c</th>\n",
              "      <th>insertion through booleanindexing</th>\n",
              "    </tr>\n",
              "  </thead>\n",
              "  <tbody>\n",
              "    <tr>\n",
              "      <th>0</th>\n",
              "      <td>0</td>\n",
              "      <td>1000.636278</td>\n",
              "      <td>cat</td>\n",
              "      <td>0.0</td>\n",
              "    </tr>\n",
              "    <tr>\n",
              "      <th>1</th>\n",
              "      <td>1</td>\n",
              "      <td>1000.636278</td>\n",
              "      <td>cat</td>\n",
              "      <td>0.0</td>\n",
              "    </tr>\n",
              "    <tr>\n",
              "      <th>2</th>\n",
              "      <td>2</td>\n",
              "      <td>1000.636278</td>\n",
              "      <td>dog</td>\n",
              "      <td>NaN</td>\n",
              "    </tr>\n",
              "    <tr>\n",
              "      <th>3</th>\n",
              "      <td>3</td>\n",
              "      <td>1000.636278</td>\n",
              "      <td>hippo</td>\n",
              "      <td>NaN</td>\n",
              "    </tr>\n",
              "    <tr>\n",
              "      <th>4</th>\n",
              "      <td>4</td>\n",
              "      <td>1000.636278</td>\n",
              "      <td>cat</td>\n",
              "      <td>0.0</td>\n",
              "    </tr>\n",
              "  </tbody>\n",
              "</table>\n",
              "</div>"
            ],
            "text/plain": [
              "   ID            b      c  insertion through booleanindexing\n",
              "0   0  1000.636278    cat                                0.0\n",
              "1   1  1000.636278    cat                                0.0\n",
              "2   2  1000.636278    dog                                NaN\n",
              "3   3  1000.636278  hippo                                NaN\n",
              "4   4  1000.636278    cat                                0.0"
            ]
          },
          "metadata": {
            "tags": []
          },
          "execution_count": 91
        }
      ]
    },
    {
      "cell_type": "code",
      "metadata": {
        "id": "v2tI_D_dOVgS"
      },
      "source": [
        "#.apply method"
      ],
      "execution_count": 92,
      "outputs": []
    },
    {
      "cell_type": "code",
      "metadata": {
        "id": "2hXBwvYJO8lU"
      },
      "source": [
        "kids= pd.DataFrame({\n",
        "    'Name': ['Alice', 'Mary', 'Jimmy', 'Johnny', 'Susan' ],\n",
        "    'Age':[ 9,13, 11,15,8],\n",
        "    'with_adult': [True, False, False, True, True]\n",
        "})\n",
        "#Only allowed on ride if above 12 or with adult"
      ],
      "execution_count": 93,
      "outputs": []
    },
    {
      "cell_type": "code",
      "metadata": {
        "id": "FsX3yQFjSC6e"
      },
      "source": [
        "def is_allowed(age, with_adult):\n",
        "  return age>12 or with_adult"
      ],
      "execution_count": 94,
      "outputs": []
    },
    {
      "cell_type": "code",
      "metadata": {
        "colab": {
          "base_uri": "https://localhost:8080/"
        },
        "id": "vINOhdrSSbGK",
        "outputId": "4b1169e0-1d73-4ee8-cef3-d0d8d74b98c3"
      },
      "source": [
        "kids.apply(lambda row: is_allowed(row.Age, row.with_adult), axis=1)"
      ],
      "execution_count": 95,
      "outputs": [
        {
          "output_type": "execute_result",
          "data": {
            "text/plain": [
              "0     True\n",
              "1     True\n",
              "2    False\n",
              "3     True\n",
              "4     True\n",
              "dtype: bool"
            ]
          },
          "metadata": {
            "tags": []
          },
          "execution_count": 95
        }
      ]
    },
    {
      "cell_type": "code",
      "metadata": {
        "colab": {
          "base_uri": "https://localhost:8080/",
          "height": 204
        },
        "id": "Goean5KuVM-t",
        "outputId": "cabbfd48-e852-47a3-a80e-cc9e67ad0429"
      },
      "source": [
        "kids['Is Allowed']= kids.apply(lambda row: is_allowed(row.Age, row.with_adult), axis=1)\n",
        "kids"
      ],
      "execution_count": 96,
      "outputs": [
        {
          "output_type": "execute_result",
          "data": {
            "text/html": [
              "<div>\n",
              "<style scoped>\n",
              "    .dataframe tbody tr th:only-of-type {\n",
              "        vertical-align: middle;\n",
              "    }\n",
              "\n",
              "    .dataframe tbody tr th {\n",
              "        vertical-align: top;\n",
              "    }\n",
              "\n",
              "    .dataframe thead th {\n",
              "        text-align: right;\n",
              "    }\n",
              "</style>\n",
              "<table border=\"1\" class=\"dataframe\">\n",
              "  <thead>\n",
              "    <tr style=\"text-align: right;\">\n",
              "      <th></th>\n",
              "      <th>Name</th>\n",
              "      <th>Age</th>\n",
              "      <th>with_adult</th>\n",
              "      <th>Is Allowed</th>\n",
              "    </tr>\n",
              "  </thead>\n",
              "  <tbody>\n",
              "    <tr>\n",
              "      <th>0</th>\n",
              "      <td>Alice</td>\n",
              "      <td>9</td>\n",
              "      <td>True</td>\n",
              "      <td>True</td>\n",
              "    </tr>\n",
              "    <tr>\n",
              "      <th>1</th>\n",
              "      <td>Mary</td>\n",
              "      <td>13</td>\n",
              "      <td>False</td>\n",
              "      <td>True</td>\n",
              "    </tr>\n",
              "    <tr>\n",
              "      <th>2</th>\n",
              "      <td>Jimmy</td>\n",
              "      <td>11</td>\n",
              "      <td>False</td>\n",
              "      <td>False</td>\n",
              "    </tr>\n",
              "    <tr>\n",
              "      <th>3</th>\n",
              "      <td>Johnny</td>\n",
              "      <td>15</td>\n",
              "      <td>True</td>\n",
              "      <td>True</td>\n",
              "    </tr>\n",
              "    <tr>\n",
              "      <th>4</th>\n",
              "      <td>Susan</td>\n",
              "      <td>8</td>\n",
              "      <td>True</td>\n",
              "      <td>True</td>\n",
              "    </tr>\n",
              "  </tbody>\n",
              "</table>\n",
              "</div>"
            ],
            "text/plain": [
              "     Name  Age  with_adult  Is Allowed\n",
              "0   Alice    9        True        True\n",
              "1    Mary   13       False        True\n",
              "2   Jimmy   11       False       False\n",
              "3  Johnny   15        True        True\n",
              "4   Susan    8        True        True"
            ]
          },
          "metadata": {
            "tags": []
          },
          "execution_count": 96
        }
      ]
    },
    {
      "cell_type": "markdown",
      "metadata": {
        "id": "-yhsBKV_aW3f"
      },
      "source": [
        "# Merge DataFrames"
      ]
    },
    {
      "cell_type": "code",
      "metadata": {
        "id": "7ap6jlTAVoL3"
      },
      "source": [
        "#Left, Right, Outer and Inner joins"
      ],
      "execution_count": 97,
      "outputs": []
    },
    {
      "cell_type": "code",
      "metadata": {
        "id": "D_ylCg8YamsS"
      },
      "source": [
        "pd.merge?"
      ],
      "execution_count": 98,
      "outputs": []
    },
    {
      "cell_type": "code",
      "metadata": {
        "id": "0__scP2GbD2O",
        "colab": {
          "base_uri": "https://localhost:8080/"
        },
        "outputId": "6e3afca3-a13a-49bd-c895-659dbee66e79"
      },
      "source": [
        "pets= pd.DataFrame(\n",
        "    data= {\n",
        "    'pets': ['Mr.Snuggles', 'Honey Chew Chew', 'Professor', 'Chairman Meow', 'Neighbelline'],\n",
        "    'type': ['cat', 'dog', 'dog', 'cat', 'horse'],\n",
        "    },\n",
        "    index= [71, 42, 11, 98, 42]\n",
        ")\n",
        "print(pets)"
      ],
      "execution_count": 99,
      "outputs": [
        {
          "output_type": "stream",
          "text": [
            "               pets   type\n",
            "71      Mr.Snuggles    cat\n",
            "42  Honey Chew Chew    dog\n",
            "11        Professor    dog\n",
            "98    Chairman Meow    cat\n",
            "42     Neighbelline  horse\n"
          ],
          "name": "stdout"
        }
      ]
    },
    {
      "cell_type": "code",
      "metadata": {
        "colab": {
          "base_uri": "https://localhost:8080/",
          "height": 235
        },
        "id": "HJAElkF78FQm",
        "outputId": "536a3b0f-9a62-4383-dcc5-ac285a70bf22"
      },
      "source": [
        "visits= pd.DataFrame(\n",
        "    data= {\n",
        "        'pet_id': [42,31,71,42,98,42],\n",
        "        'date': ['2019-03-15', '2019-03-15', '2019-04-05', '2019-04-06', '2019-04-12','2019-04-12'],\n",
        "    }\n",
        ")\n",
        "visits"
      ],
      "execution_count": 100,
      "outputs": [
        {
          "output_type": "execute_result",
          "data": {
            "text/html": [
              "<div>\n",
              "<style scoped>\n",
              "    .dataframe tbody tr th:only-of-type {\n",
              "        vertical-align: middle;\n",
              "    }\n",
              "\n",
              "    .dataframe tbody tr th {\n",
              "        vertical-align: top;\n",
              "    }\n",
              "\n",
              "    .dataframe thead th {\n",
              "        text-align: right;\n",
              "    }\n",
              "</style>\n",
              "<table border=\"1\" class=\"dataframe\">\n",
              "  <thead>\n",
              "    <tr style=\"text-align: right;\">\n",
              "      <th></th>\n",
              "      <th>pet_id</th>\n",
              "      <th>date</th>\n",
              "    </tr>\n",
              "  </thead>\n",
              "  <tbody>\n",
              "    <tr>\n",
              "      <th>0</th>\n",
              "      <td>42</td>\n",
              "      <td>2019-03-15</td>\n",
              "    </tr>\n",
              "    <tr>\n",
              "      <th>1</th>\n",
              "      <td>31</td>\n",
              "      <td>2019-03-15</td>\n",
              "    </tr>\n",
              "    <tr>\n",
              "      <th>2</th>\n",
              "      <td>71</td>\n",
              "      <td>2019-04-05</td>\n",
              "    </tr>\n",
              "    <tr>\n",
              "      <th>3</th>\n",
              "      <td>42</td>\n",
              "      <td>2019-04-06</td>\n",
              "    </tr>\n",
              "    <tr>\n",
              "      <th>4</th>\n",
              "      <td>98</td>\n",
              "      <td>2019-04-12</td>\n",
              "    </tr>\n",
              "    <tr>\n",
              "      <th>5</th>\n",
              "      <td>42</td>\n",
              "      <td>2019-04-12</td>\n",
              "    </tr>\n",
              "  </tbody>\n",
              "</table>\n",
              "</div>"
            ],
            "text/plain": [
              "   pet_id        date\n",
              "0      42  2019-03-15\n",
              "1      31  2019-03-15\n",
              "2      71  2019-04-05\n",
              "3      42  2019-04-06\n",
              "4      98  2019-04-12\n",
              "5      42  2019-04-12"
            ]
          },
          "metadata": {
            "tags": []
          },
          "execution_count": 100
        }
      ]
    },
    {
      "cell_type": "markdown",
      "metadata": {
        "id": "H-WmJDzc-xJr"
      },
      "source": [
        "# Inner Join"
      ]
    },
    {
      "cell_type": "code",
      "metadata": {
        "colab": {
          "base_uri": "https://localhost:8080/",
          "height": 297
        },
        "id": "AEc5LK8w9GHa",
        "outputId": "2af963f4-805a-4b62-da79-2e58da04e2b9"
      },
      "source": [
        "pd.merge(left= pets, right= visits, how= 'inner', left_index= True, right_on='pet_id')"
      ],
      "execution_count": 101,
      "outputs": [
        {
          "output_type": "execute_result",
          "data": {
            "text/html": [
              "<div>\n",
              "<style scoped>\n",
              "    .dataframe tbody tr th:only-of-type {\n",
              "        vertical-align: middle;\n",
              "    }\n",
              "\n",
              "    .dataframe tbody tr th {\n",
              "        vertical-align: top;\n",
              "    }\n",
              "\n",
              "    .dataframe thead th {\n",
              "        text-align: right;\n",
              "    }\n",
              "</style>\n",
              "<table border=\"1\" class=\"dataframe\">\n",
              "  <thead>\n",
              "    <tr style=\"text-align: right;\">\n",
              "      <th></th>\n",
              "      <th>pets</th>\n",
              "      <th>type</th>\n",
              "      <th>pet_id</th>\n",
              "      <th>date</th>\n",
              "    </tr>\n",
              "  </thead>\n",
              "  <tbody>\n",
              "    <tr>\n",
              "      <th>2</th>\n",
              "      <td>Mr.Snuggles</td>\n",
              "      <td>cat</td>\n",
              "      <td>71</td>\n",
              "      <td>2019-04-05</td>\n",
              "    </tr>\n",
              "    <tr>\n",
              "      <th>0</th>\n",
              "      <td>Honey Chew Chew</td>\n",
              "      <td>dog</td>\n",
              "      <td>42</td>\n",
              "      <td>2019-03-15</td>\n",
              "    </tr>\n",
              "    <tr>\n",
              "      <th>3</th>\n",
              "      <td>Honey Chew Chew</td>\n",
              "      <td>dog</td>\n",
              "      <td>42</td>\n",
              "      <td>2019-04-06</td>\n",
              "    </tr>\n",
              "    <tr>\n",
              "      <th>5</th>\n",
              "      <td>Honey Chew Chew</td>\n",
              "      <td>dog</td>\n",
              "      <td>42</td>\n",
              "      <td>2019-04-12</td>\n",
              "    </tr>\n",
              "    <tr>\n",
              "      <th>0</th>\n",
              "      <td>Neighbelline</td>\n",
              "      <td>horse</td>\n",
              "      <td>42</td>\n",
              "      <td>2019-03-15</td>\n",
              "    </tr>\n",
              "    <tr>\n",
              "      <th>3</th>\n",
              "      <td>Neighbelline</td>\n",
              "      <td>horse</td>\n",
              "      <td>42</td>\n",
              "      <td>2019-04-06</td>\n",
              "    </tr>\n",
              "    <tr>\n",
              "      <th>5</th>\n",
              "      <td>Neighbelline</td>\n",
              "      <td>horse</td>\n",
              "      <td>42</td>\n",
              "      <td>2019-04-12</td>\n",
              "    </tr>\n",
              "    <tr>\n",
              "      <th>4</th>\n",
              "      <td>Chairman Meow</td>\n",
              "      <td>cat</td>\n",
              "      <td>98</td>\n",
              "      <td>2019-04-12</td>\n",
              "    </tr>\n",
              "  </tbody>\n",
              "</table>\n",
              "</div>"
            ],
            "text/plain": [
              "              pets   type  pet_id        date\n",
              "2      Mr.Snuggles    cat      71  2019-04-05\n",
              "0  Honey Chew Chew    dog      42  2019-03-15\n",
              "3  Honey Chew Chew    dog      42  2019-04-06\n",
              "5  Honey Chew Chew    dog      42  2019-04-12\n",
              "0     Neighbelline  horse      42  2019-03-15\n",
              "3     Neighbelline  horse      42  2019-04-06\n",
              "5     Neighbelline  horse      42  2019-04-12\n",
              "4    Chairman Meow    cat      98  2019-04-12"
            ]
          },
          "metadata": {
            "tags": []
          },
          "execution_count": 101
        }
      ]
    },
    {
      "cell_type": "code",
      "metadata": {
        "colab": {
          "base_uri": "https://localhost:8080/",
          "height": 235
        },
        "id": "NMLFTqOd94Jv",
        "outputId": "938b48eb-532e-41f3-f67a-97ed164dddeb"
      },
      "source": [
        "pets.index.rename('pet_id', inplace=True)\n",
        "pets #Now we can join using the common index column"
      ],
      "execution_count": 102,
      "outputs": [
        {
          "output_type": "execute_result",
          "data": {
            "text/html": [
              "<div>\n",
              "<style scoped>\n",
              "    .dataframe tbody tr th:only-of-type {\n",
              "        vertical-align: middle;\n",
              "    }\n",
              "\n",
              "    .dataframe tbody tr th {\n",
              "        vertical-align: top;\n",
              "    }\n",
              "\n",
              "    .dataframe thead th {\n",
              "        text-align: right;\n",
              "    }\n",
              "</style>\n",
              "<table border=\"1\" class=\"dataframe\">\n",
              "  <thead>\n",
              "    <tr style=\"text-align: right;\">\n",
              "      <th></th>\n",
              "      <th>pets</th>\n",
              "      <th>type</th>\n",
              "    </tr>\n",
              "    <tr>\n",
              "      <th>pet_id</th>\n",
              "      <th></th>\n",
              "      <th></th>\n",
              "    </tr>\n",
              "  </thead>\n",
              "  <tbody>\n",
              "    <tr>\n",
              "      <th>71</th>\n",
              "      <td>Mr.Snuggles</td>\n",
              "      <td>cat</td>\n",
              "    </tr>\n",
              "    <tr>\n",
              "      <th>42</th>\n",
              "      <td>Honey Chew Chew</td>\n",
              "      <td>dog</td>\n",
              "    </tr>\n",
              "    <tr>\n",
              "      <th>11</th>\n",
              "      <td>Professor</td>\n",
              "      <td>dog</td>\n",
              "    </tr>\n",
              "    <tr>\n",
              "      <th>98</th>\n",
              "      <td>Chairman Meow</td>\n",
              "      <td>cat</td>\n",
              "    </tr>\n",
              "    <tr>\n",
              "      <th>42</th>\n",
              "      <td>Neighbelline</td>\n",
              "      <td>horse</td>\n",
              "    </tr>\n",
              "  </tbody>\n",
              "</table>\n",
              "</div>"
            ],
            "text/plain": [
              "                   pets   type\n",
              "pet_id                        \n",
              "71          Mr.Snuggles    cat\n",
              "42      Honey Chew Chew    dog\n",
              "11            Professor    dog\n",
              "98        Chairman Meow    cat\n",
              "42         Neighbelline  horse"
            ]
          },
          "metadata": {
            "tags": []
          },
          "execution_count": 102
        }
      ]
    },
    {
      "cell_type": "code",
      "metadata": {
        "colab": {
          "base_uri": "https://localhost:8080/",
          "height": 297
        },
        "id": "JYbjSlZv-d-M",
        "outputId": "6e65f62c-1626-47db-9169-0dbd9ea8dd91"
      },
      "source": [
        "pd.merge(left= pets, right= visits, how= 'inner', on='pet_id')"
      ],
      "execution_count": 103,
      "outputs": [
        {
          "output_type": "execute_result",
          "data": {
            "text/html": [
              "<div>\n",
              "<style scoped>\n",
              "    .dataframe tbody tr th:only-of-type {\n",
              "        vertical-align: middle;\n",
              "    }\n",
              "\n",
              "    .dataframe tbody tr th {\n",
              "        vertical-align: top;\n",
              "    }\n",
              "\n",
              "    .dataframe thead th {\n",
              "        text-align: right;\n",
              "    }\n",
              "</style>\n",
              "<table border=\"1\" class=\"dataframe\">\n",
              "  <thead>\n",
              "    <tr style=\"text-align: right;\">\n",
              "      <th></th>\n",
              "      <th>pet_id</th>\n",
              "      <th>pets</th>\n",
              "      <th>type</th>\n",
              "      <th>date</th>\n",
              "    </tr>\n",
              "  </thead>\n",
              "  <tbody>\n",
              "    <tr>\n",
              "      <th>0</th>\n",
              "      <td>71</td>\n",
              "      <td>Mr.Snuggles</td>\n",
              "      <td>cat</td>\n",
              "      <td>2019-04-05</td>\n",
              "    </tr>\n",
              "    <tr>\n",
              "      <th>1</th>\n",
              "      <td>42</td>\n",
              "      <td>Honey Chew Chew</td>\n",
              "      <td>dog</td>\n",
              "      <td>2019-03-15</td>\n",
              "    </tr>\n",
              "    <tr>\n",
              "      <th>2</th>\n",
              "      <td>42</td>\n",
              "      <td>Honey Chew Chew</td>\n",
              "      <td>dog</td>\n",
              "      <td>2019-04-06</td>\n",
              "    </tr>\n",
              "    <tr>\n",
              "      <th>3</th>\n",
              "      <td>42</td>\n",
              "      <td>Honey Chew Chew</td>\n",
              "      <td>dog</td>\n",
              "      <td>2019-04-12</td>\n",
              "    </tr>\n",
              "    <tr>\n",
              "      <th>4</th>\n",
              "      <td>42</td>\n",
              "      <td>Neighbelline</td>\n",
              "      <td>horse</td>\n",
              "      <td>2019-03-15</td>\n",
              "    </tr>\n",
              "    <tr>\n",
              "      <th>5</th>\n",
              "      <td>42</td>\n",
              "      <td>Neighbelline</td>\n",
              "      <td>horse</td>\n",
              "      <td>2019-04-06</td>\n",
              "    </tr>\n",
              "    <tr>\n",
              "      <th>6</th>\n",
              "      <td>42</td>\n",
              "      <td>Neighbelline</td>\n",
              "      <td>horse</td>\n",
              "      <td>2019-04-12</td>\n",
              "    </tr>\n",
              "    <tr>\n",
              "      <th>7</th>\n",
              "      <td>98</td>\n",
              "      <td>Chairman Meow</td>\n",
              "      <td>cat</td>\n",
              "      <td>2019-04-12</td>\n",
              "    </tr>\n",
              "  </tbody>\n",
              "</table>\n",
              "</div>"
            ],
            "text/plain": [
              "   pet_id             pets   type        date\n",
              "0      71      Mr.Snuggles    cat  2019-04-05\n",
              "1      42  Honey Chew Chew    dog  2019-03-15\n",
              "2      42  Honey Chew Chew    dog  2019-04-06\n",
              "3      42  Honey Chew Chew    dog  2019-04-12\n",
              "4      42     Neighbelline  horse  2019-03-15\n",
              "5      42     Neighbelline  horse  2019-04-06\n",
              "6      42     Neighbelline  horse  2019-04-12\n",
              "7      98    Chairman Meow    cat  2019-04-12"
            ]
          },
          "metadata": {
            "tags": []
          },
          "execution_count": 103
        }
      ]
    },
    {
      "cell_type": "markdown",
      "metadata": {
        "id": "xr8SSjxP-0pU"
      },
      "source": [
        "# Left Join"
      ]
    },
    {
      "cell_type": "code",
      "metadata": {
        "colab": {
          "base_uri": "https://localhost:8080/",
          "height": 328
        },
        "id": "oxCdAhQZ-mHD",
        "outputId": "16b5b88f-3136-4dc1-9ae1-8d6672071846"
      },
      "source": [
        "pd.merge(left= pets, right= visits, how= 'left', on='pet_id')  #Records in pet tables that do not have matching values in the visits table are still included"
      ],
      "execution_count": 104,
      "outputs": [
        {
          "output_type": "execute_result",
          "data": {
            "text/html": [
              "<div>\n",
              "<style scoped>\n",
              "    .dataframe tbody tr th:only-of-type {\n",
              "        vertical-align: middle;\n",
              "    }\n",
              "\n",
              "    .dataframe tbody tr th {\n",
              "        vertical-align: top;\n",
              "    }\n",
              "\n",
              "    .dataframe thead th {\n",
              "        text-align: right;\n",
              "    }\n",
              "</style>\n",
              "<table border=\"1\" class=\"dataframe\">\n",
              "  <thead>\n",
              "    <tr style=\"text-align: right;\">\n",
              "      <th></th>\n",
              "      <th>pet_id</th>\n",
              "      <th>pets</th>\n",
              "      <th>type</th>\n",
              "      <th>date</th>\n",
              "    </tr>\n",
              "  </thead>\n",
              "  <tbody>\n",
              "    <tr>\n",
              "      <th>0</th>\n",
              "      <td>71</td>\n",
              "      <td>Mr.Snuggles</td>\n",
              "      <td>cat</td>\n",
              "      <td>2019-04-05</td>\n",
              "    </tr>\n",
              "    <tr>\n",
              "      <th>1</th>\n",
              "      <td>42</td>\n",
              "      <td>Honey Chew Chew</td>\n",
              "      <td>dog</td>\n",
              "      <td>2019-03-15</td>\n",
              "    </tr>\n",
              "    <tr>\n",
              "      <th>2</th>\n",
              "      <td>42</td>\n",
              "      <td>Honey Chew Chew</td>\n",
              "      <td>dog</td>\n",
              "      <td>2019-04-06</td>\n",
              "    </tr>\n",
              "    <tr>\n",
              "      <th>3</th>\n",
              "      <td>42</td>\n",
              "      <td>Honey Chew Chew</td>\n",
              "      <td>dog</td>\n",
              "      <td>2019-04-12</td>\n",
              "    </tr>\n",
              "    <tr>\n",
              "      <th>4</th>\n",
              "      <td>11</td>\n",
              "      <td>Professor</td>\n",
              "      <td>dog</td>\n",
              "      <td>NaN</td>\n",
              "    </tr>\n",
              "    <tr>\n",
              "      <th>5</th>\n",
              "      <td>98</td>\n",
              "      <td>Chairman Meow</td>\n",
              "      <td>cat</td>\n",
              "      <td>2019-04-12</td>\n",
              "    </tr>\n",
              "    <tr>\n",
              "      <th>6</th>\n",
              "      <td>42</td>\n",
              "      <td>Neighbelline</td>\n",
              "      <td>horse</td>\n",
              "      <td>2019-03-15</td>\n",
              "    </tr>\n",
              "    <tr>\n",
              "      <th>7</th>\n",
              "      <td>42</td>\n",
              "      <td>Neighbelline</td>\n",
              "      <td>horse</td>\n",
              "      <td>2019-04-06</td>\n",
              "    </tr>\n",
              "    <tr>\n",
              "      <th>8</th>\n",
              "      <td>42</td>\n",
              "      <td>Neighbelline</td>\n",
              "      <td>horse</td>\n",
              "      <td>2019-04-12</td>\n",
              "    </tr>\n",
              "  </tbody>\n",
              "</table>\n",
              "</div>"
            ],
            "text/plain": [
              "   pet_id             pets   type        date\n",
              "0      71      Mr.Snuggles    cat  2019-04-05\n",
              "1      42  Honey Chew Chew    dog  2019-03-15\n",
              "2      42  Honey Chew Chew    dog  2019-04-06\n",
              "3      42  Honey Chew Chew    dog  2019-04-12\n",
              "4      11        Professor    dog         NaN\n",
              "5      98    Chairman Meow    cat  2019-04-12\n",
              "6      42     Neighbelline  horse  2019-03-15\n",
              "7      42     Neighbelline  horse  2019-04-06\n",
              "8      42     Neighbelline  horse  2019-04-12"
            ]
          },
          "metadata": {
            "tags": []
          },
          "execution_count": 104
        }
      ]
    },
    {
      "cell_type": "markdown",
      "metadata": {
        "id": "dC7SGKaA_eOE"
      },
      "source": [
        "# Right join"
      ]
    },
    {
      "cell_type": "code",
      "metadata": {
        "colab": {
          "base_uri": "https://localhost:8080/",
          "height": 328
        },
        "id": "csoWJgqP_DEH",
        "outputId": "85b031d6-536a-46b3-c8ae-32045667f392"
      },
      "source": [
        "pd.merge(left= pets, right= visits, how= 'right', on='pet_id')"
      ],
      "execution_count": 105,
      "outputs": [
        {
          "output_type": "execute_result",
          "data": {
            "text/html": [
              "<div>\n",
              "<style scoped>\n",
              "    .dataframe tbody tr th:only-of-type {\n",
              "        vertical-align: middle;\n",
              "    }\n",
              "\n",
              "    .dataframe tbody tr th {\n",
              "        vertical-align: top;\n",
              "    }\n",
              "\n",
              "    .dataframe thead th {\n",
              "        text-align: right;\n",
              "    }\n",
              "</style>\n",
              "<table border=\"1\" class=\"dataframe\">\n",
              "  <thead>\n",
              "    <tr style=\"text-align: right;\">\n",
              "      <th></th>\n",
              "      <th>pet_id</th>\n",
              "      <th>pets</th>\n",
              "      <th>type</th>\n",
              "      <th>date</th>\n",
              "    </tr>\n",
              "  </thead>\n",
              "  <tbody>\n",
              "    <tr>\n",
              "      <th>0</th>\n",
              "      <td>42</td>\n",
              "      <td>Honey Chew Chew</td>\n",
              "      <td>dog</td>\n",
              "      <td>2019-03-15</td>\n",
              "    </tr>\n",
              "    <tr>\n",
              "      <th>1</th>\n",
              "      <td>42</td>\n",
              "      <td>Neighbelline</td>\n",
              "      <td>horse</td>\n",
              "      <td>2019-03-15</td>\n",
              "    </tr>\n",
              "    <tr>\n",
              "      <th>2</th>\n",
              "      <td>42</td>\n",
              "      <td>Honey Chew Chew</td>\n",
              "      <td>dog</td>\n",
              "      <td>2019-04-06</td>\n",
              "    </tr>\n",
              "    <tr>\n",
              "      <th>3</th>\n",
              "      <td>42</td>\n",
              "      <td>Neighbelline</td>\n",
              "      <td>horse</td>\n",
              "      <td>2019-04-06</td>\n",
              "    </tr>\n",
              "    <tr>\n",
              "      <th>4</th>\n",
              "      <td>42</td>\n",
              "      <td>Honey Chew Chew</td>\n",
              "      <td>dog</td>\n",
              "      <td>2019-04-12</td>\n",
              "    </tr>\n",
              "    <tr>\n",
              "      <th>5</th>\n",
              "      <td>42</td>\n",
              "      <td>Neighbelline</td>\n",
              "      <td>horse</td>\n",
              "      <td>2019-04-12</td>\n",
              "    </tr>\n",
              "    <tr>\n",
              "      <th>6</th>\n",
              "      <td>31</td>\n",
              "      <td>NaN</td>\n",
              "      <td>NaN</td>\n",
              "      <td>2019-03-15</td>\n",
              "    </tr>\n",
              "    <tr>\n",
              "      <th>7</th>\n",
              "      <td>71</td>\n",
              "      <td>Mr.Snuggles</td>\n",
              "      <td>cat</td>\n",
              "      <td>2019-04-05</td>\n",
              "    </tr>\n",
              "    <tr>\n",
              "      <th>8</th>\n",
              "      <td>98</td>\n",
              "      <td>Chairman Meow</td>\n",
              "      <td>cat</td>\n",
              "      <td>2019-04-12</td>\n",
              "    </tr>\n",
              "  </tbody>\n",
              "</table>\n",
              "</div>"
            ],
            "text/plain": [
              "   pet_id             pets   type        date\n",
              "0      42  Honey Chew Chew    dog  2019-03-15\n",
              "1      42     Neighbelline  horse  2019-03-15\n",
              "2      42  Honey Chew Chew    dog  2019-04-06\n",
              "3      42     Neighbelline  horse  2019-04-06\n",
              "4      42  Honey Chew Chew    dog  2019-04-12\n",
              "5      42     Neighbelline  horse  2019-04-12\n",
              "6      31              NaN    NaN  2019-03-15\n",
              "7      71      Mr.Snuggles    cat  2019-04-05\n",
              "8      98    Chairman Meow    cat  2019-04-12"
            ]
          },
          "metadata": {
            "tags": []
          },
          "execution_count": 105
        }
      ]
    },
    {
      "cell_type": "markdown",
      "metadata": {
        "id": "K3-VQBAb_rEJ"
      },
      "source": [
        "# Outer join"
      ]
    },
    {
      "cell_type": "code",
      "metadata": {
        "colab": {
          "base_uri": "https://localhost:8080/",
          "height": 359
        },
        "id": "ZG6rP6PM_gyi",
        "outputId": "e7d59096-2eb2-4d9f-ab44-c49199db6e57"
      },
      "source": [
        "pd.merge(left= pets, right= visits, how= 'outer', on='pet_id')"
      ],
      "execution_count": 106,
      "outputs": [
        {
          "output_type": "execute_result",
          "data": {
            "text/html": [
              "<div>\n",
              "<style scoped>\n",
              "    .dataframe tbody tr th:only-of-type {\n",
              "        vertical-align: middle;\n",
              "    }\n",
              "\n",
              "    .dataframe tbody tr th {\n",
              "        vertical-align: top;\n",
              "    }\n",
              "\n",
              "    .dataframe thead th {\n",
              "        text-align: right;\n",
              "    }\n",
              "</style>\n",
              "<table border=\"1\" class=\"dataframe\">\n",
              "  <thead>\n",
              "    <tr style=\"text-align: right;\">\n",
              "      <th></th>\n",
              "      <th>pet_id</th>\n",
              "      <th>pets</th>\n",
              "      <th>type</th>\n",
              "      <th>date</th>\n",
              "    </tr>\n",
              "  </thead>\n",
              "  <tbody>\n",
              "    <tr>\n",
              "      <th>0</th>\n",
              "      <td>71</td>\n",
              "      <td>Mr.Snuggles</td>\n",
              "      <td>cat</td>\n",
              "      <td>2019-04-05</td>\n",
              "    </tr>\n",
              "    <tr>\n",
              "      <th>1</th>\n",
              "      <td>42</td>\n",
              "      <td>Honey Chew Chew</td>\n",
              "      <td>dog</td>\n",
              "      <td>2019-03-15</td>\n",
              "    </tr>\n",
              "    <tr>\n",
              "      <th>2</th>\n",
              "      <td>42</td>\n",
              "      <td>Honey Chew Chew</td>\n",
              "      <td>dog</td>\n",
              "      <td>2019-04-06</td>\n",
              "    </tr>\n",
              "    <tr>\n",
              "      <th>3</th>\n",
              "      <td>42</td>\n",
              "      <td>Honey Chew Chew</td>\n",
              "      <td>dog</td>\n",
              "      <td>2019-04-12</td>\n",
              "    </tr>\n",
              "    <tr>\n",
              "      <th>4</th>\n",
              "      <td>42</td>\n",
              "      <td>Neighbelline</td>\n",
              "      <td>horse</td>\n",
              "      <td>2019-03-15</td>\n",
              "    </tr>\n",
              "    <tr>\n",
              "      <th>5</th>\n",
              "      <td>42</td>\n",
              "      <td>Neighbelline</td>\n",
              "      <td>horse</td>\n",
              "      <td>2019-04-06</td>\n",
              "    </tr>\n",
              "    <tr>\n",
              "      <th>6</th>\n",
              "      <td>42</td>\n",
              "      <td>Neighbelline</td>\n",
              "      <td>horse</td>\n",
              "      <td>2019-04-12</td>\n",
              "    </tr>\n",
              "    <tr>\n",
              "      <th>7</th>\n",
              "      <td>11</td>\n",
              "      <td>Professor</td>\n",
              "      <td>dog</td>\n",
              "      <td>NaN</td>\n",
              "    </tr>\n",
              "    <tr>\n",
              "      <th>8</th>\n",
              "      <td>98</td>\n",
              "      <td>Chairman Meow</td>\n",
              "      <td>cat</td>\n",
              "      <td>2019-04-12</td>\n",
              "    </tr>\n",
              "    <tr>\n",
              "      <th>9</th>\n",
              "      <td>31</td>\n",
              "      <td>NaN</td>\n",
              "      <td>NaN</td>\n",
              "      <td>2019-03-15</td>\n",
              "    </tr>\n",
              "  </tbody>\n",
              "</table>\n",
              "</div>"
            ],
            "text/plain": [
              "   pet_id             pets   type        date\n",
              "0      71      Mr.Snuggles    cat  2019-04-05\n",
              "1      42  Honey Chew Chew    dog  2019-03-15\n",
              "2      42  Honey Chew Chew    dog  2019-04-06\n",
              "3      42  Honey Chew Chew    dog  2019-04-12\n",
              "4      42     Neighbelline  horse  2019-03-15\n",
              "5      42     Neighbelline  horse  2019-04-06\n",
              "6      42     Neighbelline  horse  2019-04-12\n",
              "7      11        Professor    dog         NaN\n",
              "8      98    Chairman Meow    cat  2019-04-12\n",
              "9      31              NaN    NaN  2019-03-15"
            ]
          },
          "metadata": {
            "tags": []
          },
          "execution_count": 106
        }
      ]
    },
    {
      "cell_type": "markdown",
      "metadata": {
        "id": "pyed9jh-_6Yr"
      },
      "source": [
        "# Anti Joins"
      ]
    },
    {
      "cell_type": "code",
      "metadata": {
        "colab": {
          "base_uri": "https://localhost:8080/",
          "height": 359
        },
        "id": "j_XFGles_pyg",
        "outputId": "cdc0887e-44dd-49af-d428-009dad04395a"
      },
      "source": [
        "#To check which entries in one table may or may not be present in the other\n",
        "outer= pd.merge(left= pets, right= visits, how= 'outer', on='pet_id', indicator=True)\n",
        "outer"
      ],
      "execution_count": 107,
      "outputs": [
        {
          "output_type": "execute_result",
          "data": {
            "text/html": [
              "<div>\n",
              "<style scoped>\n",
              "    .dataframe tbody tr th:only-of-type {\n",
              "        vertical-align: middle;\n",
              "    }\n",
              "\n",
              "    .dataframe tbody tr th {\n",
              "        vertical-align: top;\n",
              "    }\n",
              "\n",
              "    .dataframe thead th {\n",
              "        text-align: right;\n",
              "    }\n",
              "</style>\n",
              "<table border=\"1\" class=\"dataframe\">\n",
              "  <thead>\n",
              "    <tr style=\"text-align: right;\">\n",
              "      <th></th>\n",
              "      <th>pet_id</th>\n",
              "      <th>pets</th>\n",
              "      <th>type</th>\n",
              "      <th>date</th>\n",
              "      <th>_merge</th>\n",
              "    </tr>\n",
              "  </thead>\n",
              "  <tbody>\n",
              "    <tr>\n",
              "      <th>0</th>\n",
              "      <td>71</td>\n",
              "      <td>Mr.Snuggles</td>\n",
              "      <td>cat</td>\n",
              "      <td>2019-04-05</td>\n",
              "      <td>both</td>\n",
              "    </tr>\n",
              "    <tr>\n",
              "      <th>1</th>\n",
              "      <td>42</td>\n",
              "      <td>Honey Chew Chew</td>\n",
              "      <td>dog</td>\n",
              "      <td>2019-03-15</td>\n",
              "      <td>both</td>\n",
              "    </tr>\n",
              "    <tr>\n",
              "      <th>2</th>\n",
              "      <td>42</td>\n",
              "      <td>Honey Chew Chew</td>\n",
              "      <td>dog</td>\n",
              "      <td>2019-04-06</td>\n",
              "      <td>both</td>\n",
              "    </tr>\n",
              "    <tr>\n",
              "      <th>3</th>\n",
              "      <td>42</td>\n",
              "      <td>Honey Chew Chew</td>\n",
              "      <td>dog</td>\n",
              "      <td>2019-04-12</td>\n",
              "      <td>both</td>\n",
              "    </tr>\n",
              "    <tr>\n",
              "      <th>4</th>\n",
              "      <td>42</td>\n",
              "      <td>Neighbelline</td>\n",
              "      <td>horse</td>\n",
              "      <td>2019-03-15</td>\n",
              "      <td>both</td>\n",
              "    </tr>\n",
              "    <tr>\n",
              "      <th>5</th>\n",
              "      <td>42</td>\n",
              "      <td>Neighbelline</td>\n",
              "      <td>horse</td>\n",
              "      <td>2019-04-06</td>\n",
              "      <td>both</td>\n",
              "    </tr>\n",
              "    <tr>\n",
              "      <th>6</th>\n",
              "      <td>42</td>\n",
              "      <td>Neighbelline</td>\n",
              "      <td>horse</td>\n",
              "      <td>2019-04-12</td>\n",
              "      <td>both</td>\n",
              "    </tr>\n",
              "    <tr>\n",
              "      <th>7</th>\n",
              "      <td>11</td>\n",
              "      <td>Professor</td>\n",
              "      <td>dog</td>\n",
              "      <td>NaN</td>\n",
              "      <td>left_only</td>\n",
              "    </tr>\n",
              "    <tr>\n",
              "      <th>8</th>\n",
              "      <td>98</td>\n",
              "      <td>Chairman Meow</td>\n",
              "      <td>cat</td>\n",
              "      <td>2019-04-12</td>\n",
              "      <td>both</td>\n",
              "    </tr>\n",
              "    <tr>\n",
              "      <th>9</th>\n",
              "      <td>31</td>\n",
              "      <td>NaN</td>\n",
              "      <td>NaN</td>\n",
              "      <td>2019-03-15</td>\n",
              "      <td>right_only</td>\n",
              "    </tr>\n",
              "  </tbody>\n",
              "</table>\n",
              "</div>"
            ],
            "text/plain": [
              "   pet_id             pets   type        date      _merge\n",
              "0      71      Mr.Snuggles    cat  2019-04-05        both\n",
              "1      42  Honey Chew Chew    dog  2019-03-15        both\n",
              "2      42  Honey Chew Chew    dog  2019-04-06        both\n",
              "3      42  Honey Chew Chew    dog  2019-04-12        both\n",
              "4      42     Neighbelline  horse  2019-03-15        both\n",
              "5      42     Neighbelline  horse  2019-04-06        both\n",
              "6      42     Neighbelline  horse  2019-04-12        both\n",
              "7      11        Professor    dog         NaN   left_only\n",
              "8      98    Chairman Meow    cat  2019-04-12        both\n",
              "9      31              NaN    NaN  2019-03-15  right_only"
            ]
          },
          "metadata": {
            "tags": []
          },
          "execution_count": 107
        }
      ]
    },
    {
      "cell_type": "code",
      "metadata": {
        "id": "LXLiTzlwALEf"
      },
      "source": [
        "in_left_not_in_right= outer.loc[outer._merge == 'left_only']\n"
      ],
      "execution_count": 108,
      "outputs": []
    },
    {
      "cell_type": "code",
      "metadata": {
        "colab": {
          "base_uri": "https://localhost:8080/"
        },
        "id": "ZCE93er7AefG",
        "outputId": "435a87f5-262b-4972-a880-e0943953f55a"
      },
      "source": [
        "print(in_left_not_in_right)"
      ],
      "execution_count": 109,
      "outputs": [
        {
          "output_type": "stream",
          "text": [
            "   pet_id       pets type date     _merge\n",
            "7      11  Professor  dog  NaN  left_only\n"
          ],
          "name": "stdout"
        }
      ]
    },
    {
      "cell_type": "code",
      "metadata": {
        "colab": {
          "base_uri": "https://localhost:8080/"
        },
        "id": "oT6yULUrAfmt",
        "outputId": "c1b88def-f06b-4f0b-d8e1-18aa3479bb2e"
      },
      "source": [
        "#method 2 of achieving this\n",
        "pets.index.isin(visits.pet_id)  #Which values of pets index are present in the pet_id column of visits table"
      ],
      "execution_count": 110,
      "outputs": [
        {
          "output_type": "execute_result",
          "data": {
            "text/plain": [
              "array([ True,  True, False,  True,  True])"
            ]
          },
          "metadata": {
            "tags": []
          },
          "execution_count": 110
        }
      ]
    },
    {
      "cell_type": "code",
      "metadata": {
        "colab": {
          "base_uri": "https://localhost:8080/",
          "height": 111
        },
        "id": "CxZsyYWEBNJj",
        "outputId": "eb5919f5-800c-4813-bc5a-723ba5f1d3f0"
      },
      "source": [
        "pets.loc[~pets.index.isin(visits.pet_id.unique())]"
      ],
      "execution_count": 111,
      "outputs": [
        {
          "output_type": "execute_result",
          "data": {
            "text/html": [
              "<div>\n",
              "<style scoped>\n",
              "    .dataframe tbody tr th:only-of-type {\n",
              "        vertical-align: middle;\n",
              "    }\n",
              "\n",
              "    .dataframe tbody tr th {\n",
              "        vertical-align: top;\n",
              "    }\n",
              "\n",
              "    .dataframe thead th {\n",
              "        text-align: right;\n",
              "    }\n",
              "</style>\n",
              "<table border=\"1\" class=\"dataframe\">\n",
              "  <thead>\n",
              "    <tr style=\"text-align: right;\">\n",
              "      <th></th>\n",
              "      <th>pets</th>\n",
              "      <th>type</th>\n",
              "    </tr>\n",
              "    <tr>\n",
              "      <th>pet_id</th>\n",
              "      <th></th>\n",
              "      <th></th>\n",
              "    </tr>\n",
              "  </thead>\n",
              "  <tbody>\n",
              "    <tr>\n",
              "      <th>11</th>\n",
              "      <td>Professor</td>\n",
              "      <td>dog</td>\n",
              "    </tr>\n",
              "  </tbody>\n",
              "</table>\n",
              "</div>"
            ],
            "text/plain": [
              "             pets type\n",
              "pet_id                \n",
              "11      Professor  dog"
            ]
          },
          "metadata": {
            "tags": []
          },
          "execution_count": 111
        }
      ]
    },
    {
      "cell_type": "markdown",
      "metadata": {
        "id": "ovPMnfvjC_-S"
      },
      "source": [
        "# DataFrame Aggregation"
      ]
    },
    {
      "cell_type": "code",
      "metadata": {
        "colab": {
          "base_uri": "https://localhost:8080/",
          "height": 297
        },
        "id": "aMyCtbhrBUOq",
        "outputId": "901de9ca-bcc4-496b-b086-a66f55e074aa"
      },
      "source": [
        "df= pd.DataFrame(\n",
        "    {\n",
        "        'x': [5, 4, 2,6.7, 1.2, 4.5, 77, 12 ],\n",
        "        'y' : [1.4, np.nan, 5.0, 5.8, 9.0, np.nan, 9.2, 1]\n",
        "    }\n",
        ")\n",
        "df"
      ],
      "execution_count": 112,
      "outputs": [
        {
          "output_type": "execute_result",
          "data": {
            "text/html": [
              "<div>\n",
              "<style scoped>\n",
              "    .dataframe tbody tr th:only-of-type {\n",
              "        vertical-align: middle;\n",
              "    }\n",
              "\n",
              "    .dataframe tbody tr th {\n",
              "        vertical-align: top;\n",
              "    }\n",
              "\n",
              "    .dataframe thead th {\n",
              "        text-align: right;\n",
              "    }\n",
              "</style>\n",
              "<table border=\"1\" class=\"dataframe\">\n",
              "  <thead>\n",
              "    <tr style=\"text-align: right;\">\n",
              "      <th></th>\n",
              "      <th>x</th>\n",
              "      <th>y</th>\n",
              "    </tr>\n",
              "  </thead>\n",
              "  <tbody>\n",
              "    <tr>\n",
              "      <th>0</th>\n",
              "      <td>5.0</td>\n",
              "      <td>1.4</td>\n",
              "    </tr>\n",
              "    <tr>\n",
              "      <th>1</th>\n",
              "      <td>4.0</td>\n",
              "      <td>NaN</td>\n",
              "    </tr>\n",
              "    <tr>\n",
              "      <th>2</th>\n",
              "      <td>2.0</td>\n",
              "      <td>5.0</td>\n",
              "    </tr>\n",
              "    <tr>\n",
              "      <th>3</th>\n",
              "      <td>6.7</td>\n",
              "      <td>5.8</td>\n",
              "    </tr>\n",
              "    <tr>\n",
              "      <th>4</th>\n",
              "      <td>1.2</td>\n",
              "      <td>9.0</td>\n",
              "    </tr>\n",
              "    <tr>\n",
              "      <th>5</th>\n",
              "      <td>4.5</td>\n",
              "      <td>NaN</td>\n",
              "    </tr>\n",
              "    <tr>\n",
              "      <th>6</th>\n",
              "      <td>77.0</td>\n",
              "      <td>9.2</td>\n",
              "    </tr>\n",
              "    <tr>\n",
              "      <th>7</th>\n",
              "      <td>12.0</td>\n",
              "      <td>1.0</td>\n",
              "    </tr>\n",
              "  </tbody>\n",
              "</table>\n",
              "</div>"
            ],
            "text/plain": [
              "      x    y\n",
              "0   5.0  1.4\n",
              "1   4.0  NaN\n",
              "2   2.0  5.0\n",
              "3   6.7  5.8\n",
              "4   1.2  9.0\n",
              "5   4.5  NaN\n",
              "6  77.0  9.2\n",
              "7  12.0  1.0"
            ]
          },
          "metadata": {
            "tags": []
          },
          "execution_count": 112
        }
      ]
    },
    {
      "cell_type": "code",
      "metadata": {
        "colab": {
          "base_uri": "https://localhost:8080/"
        },
        "id": "xV06e_qMDgaW",
        "outputId": "6e84fe28-a178-4961-8ed4-84790f65399f"
      },
      "source": [
        "df.agg(np.sum)"
      ],
      "execution_count": 113,
      "outputs": [
        {
          "output_type": "execute_result",
          "data": {
            "text/plain": [
              "x    112.4\n",
              "y     31.4\n",
              "dtype: float64"
            ]
          },
          "metadata": {
            "tags": []
          },
          "execution_count": 113
        }
      ]
    },
    {
      "cell_type": "code",
      "metadata": {
        "colab": {
          "base_uri": "https://localhost:8080/"
        },
        "id": "bEEbgW7yDm87",
        "outputId": "c33b2df1-0062-43e1-d2f6-378d1a22ebdd"
      },
      "source": [
        "df.agg('sum') #looks for predefined pandas or numpy functions"
      ],
      "execution_count": 114,
      "outputs": [
        {
          "output_type": "execute_result",
          "data": {
            "text/plain": [
              "x    112.4\n",
              "y     31.4\n",
              "dtype: float64"
            ]
          },
          "metadata": {
            "tags": []
          },
          "execution_count": 114
        }
      ]
    },
    {
      "cell_type": "code",
      "metadata": {
        "colab": {
          "base_uri": "https://localhost:8080/",
          "height": 111
        },
        "id": "lEctbYXxGH5Z",
        "outputId": "c8d1188d-c8f2-4421-9fde-1cdcf2cd9c7d"
      },
      "source": [
        "df.agg(['sum', 'mean'])"
      ],
      "execution_count": 115,
      "outputs": [
        {
          "output_type": "execute_result",
          "data": {
            "text/html": [
              "<div>\n",
              "<style scoped>\n",
              "    .dataframe tbody tr th:only-of-type {\n",
              "        vertical-align: middle;\n",
              "    }\n",
              "\n",
              "    .dataframe tbody tr th {\n",
              "        vertical-align: top;\n",
              "    }\n",
              "\n",
              "    .dataframe thead th {\n",
              "        text-align: right;\n",
              "    }\n",
              "</style>\n",
              "<table border=\"1\" class=\"dataframe\">\n",
              "  <thead>\n",
              "    <tr style=\"text-align: right;\">\n",
              "      <th></th>\n",
              "      <th>x</th>\n",
              "      <th>y</th>\n",
              "    </tr>\n",
              "  </thead>\n",
              "  <tbody>\n",
              "    <tr>\n",
              "      <th>sum</th>\n",
              "      <td>112.40</td>\n",
              "      <td>31.400000</td>\n",
              "    </tr>\n",
              "    <tr>\n",
              "      <th>mean</th>\n",
              "      <td>14.05</td>\n",
              "      <td>5.233333</td>\n",
              "    </tr>\n",
              "  </tbody>\n",
              "</table>\n",
              "</div>"
            ],
            "text/plain": [
              "           x          y\n",
              "sum   112.40  31.400000\n",
              "mean   14.05   5.233333"
            ]
          },
          "metadata": {
            "tags": []
          },
          "execution_count": 115
        }
      ]
    },
    {
      "cell_type": "code",
      "metadata": {
        "colab": {
          "base_uri": "https://localhost:8080/"
        },
        "id": "6MpLP1_HGLw5",
        "outputId": "77b47e89-ff6d-4b40-9c80-f596a159d0b5"
      },
      "source": [
        "def foofunc(x):\n",
        "  return x.iloc[1]\n",
        "\n",
        "df.agg(foofunc)  #For userdefined functions pass them as callable not strings"
      ],
      "execution_count": 116,
      "outputs": [
        {
          "output_type": "execute_result",
          "data": {
            "text/plain": [
              "x    4.0\n",
              "y    NaN\n",
              "dtype: float64"
            ]
          },
          "metadata": {
            "tags": []
          },
          "execution_count": 116
        }
      ]
    },
    {
      "cell_type": "code",
      "metadata": {
        "colab": {
          "base_uri": "https://localhost:8080/",
          "height": 173
        },
        "id": "G-zoh4q2GWBY",
        "outputId": "9f98d375-b7a3-44c9-8623-77f964661fa0"
      },
      "source": [
        "df.agg({'x': ['sum', 'mean'], 'y': ['min', 'max']})"
      ],
      "execution_count": 117,
      "outputs": [
        {
          "output_type": "execute_result",
          "data": {
            "text/html": [
              "<div>\n",
              "<style scoped>\n",
              "    .dataframe tbody tr th:only-of-type {\n",
              "        vertical-align: middle;\n",
              "    }\n",
              "\n",
              "    .dataframe tbody tr th {\n",
              "        vertical-align: top;\n",
              "    }\n",
              "\n",
              "    .dataframe thead th {\n",
              "        text-align: right;\n",
              "    }\n",
              "</style>\n",
              "<table border=\"1\" class=\"dataframe\">\n",
              "  <thead>\n",
              "    <tr style=\"text-align: right;\">\n",
              "      <th></th>\n",
              "      <th>x</th>\n",
              "      <th>y</th>\n",
              "    </tr>\n",
              "  </thead>\n",
              "  <tbody>\n",
              "    <tr>\n",
              "      <th>max</th>\n",
              "      <td>NaN</td>\n",
              "      <td>9.2</td>\n",
              "    </tr>\n",
              "    <tr>\n",
              "      <th>mean</th>\n",
              "      <td>14.05</td>\n",
              "      <td>NaN</td>\n",
              "    </tr>\n",
              "    <tr>\n",
              "      <th>min</th>\n",
              "      <td>NaN</td>\n",
              "      <td>1.0</td>\n",
              "    </tr>\n",
              "    <tr>\n",
              "      <th>sum</th>\n",
              "      <td>112.40</td>\n",
              "      <td>NaN</td>\n",
              "    </tr>\n",
              "  </tbody>\n",
              "</table>\n",
              "</div>"
            ],
            "text/plain": [
              "           x    y\n",
              "max      NaN  9.2\n",
              "mean   14.05  NaN\n",
              "min      NaN  1.0\n",
              "sum   112.40  NaN"
            ]
          },
          "metadata": {
            "tags": []
          },
          "execution_count": 117
        }
      ]
    },
    {
      "cell_type": "markdown",
      "metadata": {
        "id": "MQz06DQVHQK4"
      },
      "source": [
        "# Group-By"
      ]
    },
    {
      "cell_type": "markdown",
      "metadata": {
        "id": "6vEk-LZKbkY0"
      },
      "source": [
        "##Date-Time format with Python, NumPy and Pandas"
      ]
    },
    {
      "cell_type": "code",
      "metadata": {
        "id": "7BgN1y5XGm_v"
      },
      "source": [
        "#Python"
      ],
      "execution_count": 118,
      "outputs": []
    },
    {
      "cell_type": "code",
      "metadata": {
        "id": "0loDMZs1dB7R"
      },
      "source": [
        "import datetime as dt"
      ],
      "execution_count": 119,
      "outputs": []
    },
    {
      "cell_type": "code",
      "metadata": {
        "id": "7F-D69HfdFPe",
        "colab": {
          "base_uri": "https://localhost:8080/"
        },
        "outputId": "bc935a06-1d36-4a90-ec8f-ffd62b3335a2"
      },
      "source": [
        "dt.date(2019, 12, 4)"
      ],
      "execution_count": 120,
      "outputs": [
        {
          "output_type": "execute_result",
          "data": {
            "text/plain": [
              "datetime.date(2019, 12, 4)"
            ]
          },
          "metadata": {
            "tags": []
          },
          "execution_count": 120
        }
      ]
    },
    {
      "cell_type": "code",
      "metadata": {
        "id": "bNUfauAndIr9",
        "colab": {
          "base_uri": "https://localhost:8080/"
        },
        "outputId": "e53bdb8e-2235-44a0-e15e-d627c7643305"
      },
      "source": [
        "dtnaive1= dt.datetime(2020, 1,1, 8, 15,20)\n",
        "print(dtnaive1)"
      ],
      "execution_count": 121,
      "outputs": [
        {
          "output_type": "stream",
          "text": [
            "2020-01-01 08:15:20\n"
          ],
          "name": "stdout"
        }
      ]
    },
    {
      "cell_type": "code",
      "metadata": {
        "id": "5Hm7jsPcdWdF",
        "colab": {
          "base_uri": "https://localhost:8080/"
        },
        "outputId": "9956a46c-12b2-410a-87f9-9912c12c92fa"
      },
      "source": [
        "dtnaive2= dt.datetime.strptime('5/19/2020 8PM', '%m/%d/%Y %I%p')\n",
        "print(dtnaive2)"
      ],
      "execution_count": 122,
      "outputs": [
        {
          "output_type": "stream",
          "text": [
            "2020-05-19 20:00:00\n"
          ],
          "name": "stdout"
        }
      ]
    },
    {
      "cell_type": "code",
      "metadata": {
        "id": "jR_l_7RIeD_i",
        "colab": {
          "base_uri": "https://localhost:8080/"
        },
        "outputId": "ba53a34b-fa6d-4ffb-ad74-132ba2740b8c"
      },
      "source": [
        "dtnaive1+dt.timedelta(hours=24)"
      ],
      "execution_count": 123,
      "outputs": [
        {
          "output_type": "execute_result",
          "data": {
            "text/plain": [
              "datetime.datetime(2020, 1, 2, 8, 15, 20)"
            ]
          },
          "metadata": {
            "tags": []
          },
          "execution_count": 123
        }
      ]
    },
    {
      "cell_type": "code",
      "metadata": {
        "id": "9IumhF0meYSY"
      },
      "source": [
        "#NumPy"
      ],
      "execution_count": 124,
      "outputs": []
    },
    {
      "cell_type": "code",
      "metadata": {
        "id": "DDyb5BUbe8sf",
        "colab": {
          "base_uri": "https://localhost:8080/"
        },
        "outputId": "c593a271-88f6-4832-9213-9e3a44ae769d"
      },
      "source": [
        "np.datetime64('2020-02-25T03:30')"
      ],
      "execution_count": 125,
      "outputs": [
        {
          "output_type": "execute_result",
          "data": {
            "text/plain": [
              "numpy.datetime64('2020-02-25T03:30')"
            ]
          },
          "metadata": {
            "tags": []
          },
          "execution_count": 125
        }
      ]
    },
    {
      "cell_type": "code",
      "metadata": {
        "colab": {
          "base_uri": "https://localhost:8080/"
        },
        "id": "p6_gbuQffYd5",
        "outputId": "43d5e5f8-4508-45a9-b68c-923b6b94f7d2"
      },
      "source": [
        "np.array(['2020-02-25T03:30', '2002-02-03T13:56:03.172'], dtype='datetime64')"
      ],
      "execution_count": 127,
      "outputs": [
        {
          "output_type": "execute_result",
          "data": {
            "text/plain": [
              "array(['2020-02-25T03:30:00.000', '2002-02-03T13:56:03.172'],\n",
              "      dtype='datetime64[ms]')"
            ]
          },
          "metadata": {
            "tags": []
          },
          "execution_count": 127
        }
      ]
    },
    {
      "cell_type": "code",
      "metadata": {
        "id": "UnHUsp-XfsVN"
      },
      "source": [
        ""
      ],
      "execution_count": null,
      "outputs": []
    }
  ]
}