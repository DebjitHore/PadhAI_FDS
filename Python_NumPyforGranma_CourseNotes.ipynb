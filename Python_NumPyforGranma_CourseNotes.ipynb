{
  "nbformat": 4,
  "nbformat_minor": 0,
  "metadata": {
    "colab": {
      "name": "Python_NumPyforGranma_CourseNotes.ipynb",
      "provenance": [],
      "collapsed_sections": [
        "rFW8pxbGshZq"
      ],
      "authorship_tag": "ABX9TyNM1lxFJOueTviyZi39CrYC",
      "include_colab_link": true
    },
    "kernelspec": {
      "name": "python3",
      "display_name": "Python 3"
    },
    "language_info": {
      "name": "python"
    }
  },
  "cells": [
    {
      "cell_type": "markdown",
      "metadata": {
        "id": "view-in-github",
        "colab_type": "text"
      },
      "source": [
        "<a href=\"https://colab.research.google.com/github/DebjitHore/PadhAI_FDS/blob/master/Python_NumPyforGranma_CourseNotes.ipynb\" target=\"_parent\"><img src=\"https://colab.research.google.com/assets/colab-badge.svg\" alt=\"Open In Colab\"/></a>"
      ]
    },
    {
      "cell_type": "code",
      "metadata": {
        "id": "RkgkNn1u09rY"
      },
      "source": [
        "import numpy as np"
      ],
      "execution_count": null,
      "outputs": []
    },
    {
      "cell_type": "code",
      "metadata": {
        "id": "GJjsgzKciOil"
      },
      "source": [
        "arr= np.array([10,20,30,40,50])"
      ],
      "execution_count": null,
      "outputs": []
    },
    {
      "cell_type": "code",
      "metadata": {
        "colab": {
          "base_uri": "https://localhost:8080/"
        },
        "id": "pA0XidyViSdQ",
        "outputId": "6348e799-4e5a-4287-b74b-5fdf33eab304"
      },
      "source": [
        "arr.ndim"
      ],
      "execution_count": null,
      "outputs": [
        {
          "output_type": "execute_result",
          "data": {
            "text/plain": [
              "1"
            ]
          },
          "metadata": {
            "tags": []
          },
          "execution_count": 5
        }
      ]
    },
    {
      "cell_type": "code",
      "metadata": {
        "colab": {
          "base_uri": "https://localhost:8080/"
        },
        "id": "-DEowMmriYKD",
        "outputId": "901836c3-e59f-46f0-853d-a72ae4685e50"
      },
      "source": [
        "arr.shape"
      ],
      "execution_count": null,
      "outputs": [
        {
          "output_type": "execute_result",
          "data": {
            "text/plain": [
              "(5,)"
            ]
          },
          "metadata": {
            "tags": []
          },
          "execution_count": 6
        }
      ]
    },
    {
      "cell_type": "code",
      "metadata": {
        "colab": {
          "base_uri": "https://localhost:8080/"
        },
        "id": "XFMylr4aihhS",
        "outputId": "5c4268c7-b28e-4dde-f825-2986a774a637"
      },
      "source": [
        "len(arr)"
      ],
      "execution_count": null,
      "outputs": [
        {
          "output_type": "execute_result",
          "data": {
            "text/plain": [
              "5"
            ]
          },
          "metadata": {
            "tags": []
          },
          "execution_count": 7
        }
      ]
    },
    {
      "cell_type": "code",
      "metadata": {
        "id": "UiupxfoSikOS"
      },
      "source": [
        "arr_2D= np.array([[10,20,30,40,50], [100,200,300,400,500]])"
      ],
      "execution_count": null,
      "outputs": []
    },
    {
      "cell_type": "code",
      "metadata": {
        "colab": {
          "base_uri": "https://localhost:8080/"
        },
        "id": "ZIPE01P3isxV",
        "outputId": "159a7915-bd8c-4240-e3c7-6317daed8df9"
      },
      "source": [
        "print(arr_2D)"
      ],
      "execution_count": null,
      "outputs": [
        {
          "output_type": "stream",
          "text": [
            "[[ 10  20  30  40  50]\n",
            " [100 200 300 400 500]]\n"
          ],
          "name": "stdout"
        }
      ]
    },
    {
      "cell_type": "code",
      "metadata": {
        "colab": {
          "base_uri": "https://localhost:8080/"
        },
        "id": "FCudDitCiueG",
        "outputId": "21c6f486-45c2-4ddd-ef28-3f13efc449df"
      },
      "source": [
        "arr_2D.ndim"
      ],
      "execution_count": null,
      "outputs": [
        {
          "output_type": "execute_result",
          "data": {
            "text/plain": [
              "2"
            ]
          },
          "metadata": {
            "tags": []
          },
          "execution_count": 10
        }
      ]
    },
    {
      "cell_type": "code",
      "metadata": {
        "colab": {
          "base_uri": "https://localhost:8080/"
        },
        "id": "ZBjsU0Qgi0Y4",
        "outputId": "deb5ad79-a40b-4015-db56-bda19097e114"
      },
      "source": [
        "arr_2D.shape"
      ],
      "execution_count": null,
      "outputs": [
        {
          "output_type": "execute_result",
          "data": {
            "text/plain": [
              "(2, 5)"
            ]
          },
          "metadata": {
            "tags": []
          },
          "execution_count": 11
        }
      ]
    },
    {
      "cell_type": "code",
      "metadata": {
        "colab": {
          "base_uri": "https://localhost:8080/"
        },
        "id": "luUEBdDbi2Rd",
        "outputId": "1279c53a-736d-4917-b3c8-eea2d5055474"
      },
      "source": [
        "len(arr_2D)"
      ],
      "execution_count": null,
      "outputs": [
        {
          "output_type": "execute_result",
          "data": {
            "text/plain": [
              "2"
            ]
          },
          "metadata": {
            "tags": []
          },
          "execution_count": 12
        }
      ]
    },
    {
      "cell_type": "markdown",
      "metadata": {
        "id": "GwxA0AOBjBz-"
      },
      "source": [
        "arr_2D can be interpreted as an array containing two nested arrays"
      ]
    },
    {
      "cell_type": "code",
      "metadata": {
        "colab": {
          "base_uri": "https://localhost:8080/"
        },
        "id": "zpyTJwkxi74w",
        "outputId": "8069e219-4da3-449a-b530-308c6f69f174"
      },
      "source": [
        "arr_2D.size"
      ],
      "execution_count": null,
      "outputs": [
        {
          "output_type": "execute_result",
          "data": {
            "text/plain": [
              "10"
            ]
          },
          "metadata": {
            "tags": []
          },
          "execution_count": 13
        }
      ]
    },
    {
      "cell_type": "markdown",
      "metadata": {
        "id": "4QxeaSTwjOAH"
      },
      "source": [
        "Actually returns the number of nested elements"
      ]
    },
    {
      "cell_type": "code",
      "metadata": {
        "colab": {
          "base_uri": "https://localhost:8080/"
        },
        "id": "tYJ1SkPHjMzN",
        "outputId": "adbce772-6f12-42c9-d539-f0d728a0cc1a"
      },
      "source": [
        "type(arr_2D)"
      ],
      "execution_count": null,
      "outputs": [
        {
          "output_type": "execute_result",
          "data": {
            "text/plain": [
              "numpy.ndarray"
            ]
          },
          "metadata": {
            "tags": []
          },
          "execution_count": 14
        }
      ]
    },
    {
      "cell_type": "code",
      "metadata": {
        "colab": {
          "base_uri": "https://localhost:8080/"
        },
        "id": "bQcefFjMjYbT",
        "outputId": "02249d3c-f0ae-4bd6-880c-d0cbb3283403"
      },
      "source": [
        "arr_2D.dtype"
      ],
      "execution_count": null,
      "outputs": [
        {
          "output_type": "execute_result",
          "data": {
            "text/plain": [
              "dtype('int64')"
            ]
          },
          "metadata": {
            "tags": []
          },
          "execution_count": 15
        }
      ]
    },
    {
      "cell_type": "markdown",
      "metadata": {
        "id": "-U3sUIVmjfuC"
      },
      "source": [
        "Every element in the array must be of same type and size. If there's a mixture of integer and float type, numpy promotes the integer type to float to maintain homogeneity."
      ]
    },
    {
      "cell_type": "markdown",
      "metadata": {
        "id": "zlD5sznglfX2"
      },
      "source": [
        "**Creating NumPy Arrays**"
      ]
    },
    {
      "cell_type": "code",
      "metadata": {
        "colab": {
          "base_uri": "https://localhost:8080/"
        },
        "id": "sON36tG5ja_Q",
        "outputId": "ba6eca33-74a6-440e-da96-20c4c6cb8889"
      },
      "source": [
        "A= np.array([1,2,3])\n",
        "B= np.array(['a', 'b','c'])\n",
        "C= np.array([[1,2,3],\n",
        "            [4,5,6]])\n",
        "print(A,B,C)"
      ],
      "execution_count": null,
      "outputs": [
        {
          "output_type": "stream",
          "text": [
            "[1 2 3] ['a' 'b' 'c'] [[1 2 3]\n",
            " [4 5 6]]\n"
          ],
          "name": "stdout"
        }
      ]
    },
    {
      "cell_type": "code",
      "metadata": {
        "colab": {
          "base_uri": "https://localhost:8080/"
        },
        "id": "MTgNE0b4kayn",
        "outputId": "1e887954-98cb-400a-e2ce-1aa3c51e2c82"
      },
      "source": [
        "np.zeros(shape=3)"
      ],
      "execution_count": null,
      "outputs": [
        {
          "output_type": "execute_result",
          "data": {
            "text/plain": [
              "array([0., 0., 0.])"
            ]
          },
          "metadata": {
            "tags": []
          },
          "execution_count": 17
        }
      ]
    },
    {
      "cell_type": "code",
      "metadata": {
        "colab": {
          "base_uri": "https://localhost:8080/"
        },
        "id": "rA7RbFIHlfZ0",
        "outputId": "f9f43739-588b-499f-dd8f-c6822c4680ee"
      },
      "source": [
        "np.zeros(shape=(3,5))\n"
      ],
      "execution_count": null,
      "outputs": [
        {
          "output_type": "execute_result",
          "data": {
            "text/plain": [
              "array([[0., 0., 0., 0., 0.],\n",
              "       [0., 0., 0., 0., 0.],\n",
              "       [0., 0., 0., 0., 0.]])"
            ]
          },
          "metadata": {
            "tags": []
          },
          "execution_count": 18
        }
      ]
    },
    {
      "cell_type": "code",
      "metadata": {
        "colab": {
          "base_uri": "https://localhost:8080/"
        },
        "id": "JyYUswyflkLx",
        "outputId": "85052f6a-648e-4d7b-9998-4e9e9e74b7f2"
      },
      "source": [
        "np.full(shape=(3,5),fill_value='D')\n"
      ],
      "execution_count": null,
      "outputs": [
        {
          "output_type": "execute_result",
          "data": {
            "text/plain": [
              "array([['D', 'D', 'D', 'D', 'D'],\n",
              "       ['D', 'D', 'D', 'D', 'D'],\n",
              "       ['D', 'D', 'D', 'D', 'D']], dtype='<U1')"
            ]
          },
          "metadata": {
            "tags": []
          },
          "execution_count": 19
        }
      ]
    },
    {
      "cell_type": "code",
      "metadata": {
        "id": "VzRpZdSQl0jp"
      },
      "source": [
        "np.arange?"
      ],
      "execution_count": null,
      "outputs": []
    },
    {
      "cell_type": "code",
      "metadata": {
        "colab": {
          "base_uri": "https://localhost:8080/"
        },
        "id": "bBXOh4QkmHV_",
        "outputId": "4dc434da-9f69-465b-fe56-fa6a935d5ac1"
      },
      "source": [
        "np.arange(0,5,0.5)"
      ],
      "execution_count": null,
      "outputs": [
        {
          "output_type": "execute_result",
          "data": {
            "text/plain": [
              "array([0. , 0.5, 1. , 1.5, 2. , 2.5, 3. , 3.5, 4. , 4.5])"
            ]
          },
          "metadata": {
            "tags": []
          },
          "execution_count": 21
        }
      ]
    },
    {
      "cell_type": "code",
      "metadata": {
        "colab": {
          "base_uri": "https://localhost:8080/"
        },
        "id": "sPHjhWRVmMaj",
        "outputId": "63b20aae-577d-4506-ab6f-9706d26b5bb0"
      },
      "source": [
        "np.arange(10)"
      ],
      "execution_count": null,
      "outputs": [
        {
          "output_type": "execute_result",
          "data": {
            "text/plain": [
              "array([0, 1, 2, 3, 4, 5, 6, 7, 8, 9])"
            ]
          },
          "metadata": {
            "tags": []
          },
          "execution_count": 22
        }
      ]
    },
    {
      "cell_type": "markdown",
      "metadata": {
        "id": "_a8Arn0imQPU"
      },
      "source": [
        "arange= Array Range"
      ]
    },
    {
      "cell_type": "code",
      "metadata": {
        "colab": {
          "base_uri": "https://localhost:8080/"
        },
        "id": "YpqvEXtOmPEA",
        "outputId": "5bb71b0e-3423-4974-ddd9-cbee1a47be26"
      },
      "source": [
        "np.random.randint(4,10,(2,3))"
      ],
      "execution_count": null,
      "outputs": [
        {
          "output_type": "execute_result",
          "data": {
            "text/plain": [
              "array([[9, 5, 9],\n",
              "       [4, 9, 4]])"
            ]
          },
          "metadata": {
            "tags": []
          },
          "execution_count": 23
        }
      ]
    },
    {
      "cell_type": "code",
      "metadata": {
        "colab": {
          "base_uri": "https://localhost:8080/"
        },
        "id": "RzWGIp2-msM1",
        "outputId": "95a89d13-21d0-4a56-e350-e7ef7fc87f7a"
      },
      "source": [
        "np.random.randint(5)"
      ],
      "execution_count": null,
      "outputs": [
        {
          "output_type": "execute_result",
          "data": {
            "text/plain": [
              "4"
            ]
          },
          "metadata": {
            "tags": []
          },
          "execution_count": 24
        }
      ]
    },
    {
      "cell_type": "code",
      "metadata": {
        "colab": {
          "base_uri": "https://localhost:8080/"
        },
        "id": "cHyKFkcsmwij",
        "outputId": "e723a71d-24e6-426f-8a2b-c5b646ea4831"
      },
      "source": [
        "np.random.randn(5)"
      ],
      "execution_count": null,
      "outputs": [
        {
          "output_type": "execute_result",
          "data": {
            "text/plain": [
              "array([ 0.21449827, -0.03344306, -1.02087233, -0.1998313 , -0.38428821])"
            ]
          },
          "metadata": {
            "tags": []
          },
          "execution_count": 25
        }
      ]
    },
    {
      "cell_type": "code",
      "metadata": {
        "colab": {
          "base_uri": "https://localhost:8080/"
        },
        "id": "9QyNBiEHm7-e",
        "outputId": "7a5a764e-b979-44dc-fbc3-969957cc035c"
      },
      "source": [
        "foo= np.random.randint(10,50,5)\n",
        "foo"
      ],
      "execution_count": null,
      "outputs": [
        {
          "output_type": "execute_result",
          "data": {
            "text/plain": [
              "array([22, 33, 33, 38, 17])"
            ]
          },
          "metadata": {
            "tags": []
          },
          "execution_count": 26
        }
      ]
    },
    {
      "cell_type": "code",
      "metadata": {
        "colab": {
          "base_uri": "https://localhost:8080/"
        },
        "id": "OlNoONYCnHgZ",
        "outputId": "cbbb5d4d-17fd-42da-f3e5-ae79733b221b"
      },
      "source": [
        "foo[1]=99\n",
        "print(foo)"
      ],
      "execution_count": null,
      "outputs": [
        {
          "output_type": "stream",
          "text": [
            "[22 99 33 38 17]\n"
          ],
          "name": "stdout"
        }
      ]
    },
    {
      "cell_type": "code",
      "metadata": {
        "colab": {
          "base_uri": "https://localhost:8080/"
        },
        "id": "pscPXnaUnQER",
        "outputId": "19a100bc-9479-46ba-ec37-b37deb2e5e41"
      },
      "source": [
        "foo[-1]=43\n",
        "foo"
      ],
      "execution_count": null,
      "outputs": [
        {
          "output_type": "execute_result",
          "data": {
            "text/plain": [
              "array([22, 99, 33, 38, 43])"
            ]
          },
          "metadata": {
            "tags": []
          },
          "execution_count": 28
        }
      ]
    },
    {
      "cell_type": "markdown",
      "metadata": {
        "id": "ceX8_JMln39I"
      },
      "source": [
        "*Returning multiple values at once via indexing*"
      ]
    },
    {
      "cell_type": "code",
      "metadata": {
        "colab": {
          "base_uri": "https://localhost:8080/"
        },
        "id": "IA4bj-oJnZNM",
        "outputId": "32ea4eb7-bde1-4fa2-e24e-029a520eaeba"
      },
      "source": [
        "foo[[0,1,0,1]]\n"
      ],
      "execution_count": null,
      "outputs": [
        {
          "output_type": "execute_result",
          "data": {
            "text/plain": [
              "array([22, 99, 22, 99])"
            ]
          },
          "metadata": {
            "tags": []
          },
          "execution_count": 29
        }
      ]
    },
    {
      "cell_type": "code",
      "metadata": {
        "colab": {
          "base_uri": "https://localhost:8080/"
        },
        "id": "l-thIUBmnrul",
        "outputId": "fffbd863-10ad-4a03-ce91-0b2d9fe97e90"
      },
      "source": [
        "foo[1:5]"
      ],
      "execution_count": null,
      "outputs": [
        {
          "output_type": "execute_result",
          "data": {
            "text/plain": [
              "array([99, 33, 38, 43])"
            ]
          },
          "metadata": {
            "tags": []
          },
          "execution_count": 30
        }
      ]
    },
    {
      "cell_type": "code",
      "metadata": {
        "colab": {
          "base_uri": "https://localhost:8080/"
        },
        "id": "9EM7keJTpVJC",
        "outputId": "e54b32b9-9729-4365-fad1-21bfc2158553"
      },
      "source": [
        "foo[0:3]"
      ],
      "execution_count": null,
      "outputs": [
        {
          "output_type": "execute_result",
          "data": {
            "text/plain": [
              "array([22, 99, 33])"
            ]
          },
          "metadata": {
            "tags": []
          },
          "execution_count": 31
        }
      ]
    },
    {
      "cell_type": "code",
      "metadata": {
        "colab": {
          "base_uri": "https://localhost:8080/"
        },
        "id": "0O-YuiBIpW-A",
        "outputId": "075468ea-084f-4aef-e658-7831b20cb216"
      },
      "source": [
        "foo[::2]"
      ],
      "execution_count": null,
      "outputs": [
        {
          "output_type": "execute_result",
          "data": {
            "text/plain": [
              "array([22, 33, 43])"
            ]
          },
          "metadata": {
            "tags": []
          },
          "execution_count": 32
        }
      ]
    },
    {
      "cell_type": "code",
      "metadata": {
        "colab": {
          "base_uri": "https://localhost:8080/"
        },
        "id": "6rgnik_cpZ1d",
        "outputId": "65ea7df2-ca79-4b00-a2a6-25b8a81ebde1"
      },
      "source": [
        "foo[[0,1,4]]+=100\n",
        "foo "
      ],
      "execution_count": null,
      "outputs": [
        {
          "output_type": "execute_result",
          "data": {
            "text/plain": [
              "array([122, 199,  33,  38, 143])"
            ]
          },
          "metadata": {
            "tags": []
          },
          "execution_count": 33
        }
      ]
    },
    {
      "cell_type": "code",
      "metadata": {
        "colab": {
          "base_uri": "https://localhost:8080/"
        },
        "id": "V2zzxpjVplVb",
        "outputId": "b0f84348-adda-43f7-cbad-b09d76885dc3"
      },
      "source": [
        "foo[[0,1,4]]=[12,24,36]\n",
        "foo"
      ],
      "execution_count": null,
      "outputs": [
        {
          "output_type": "execute_result",
          "data": {
            "text/plain": [
              "array([12, 24, 33, 38, 36])"
            ]
          },
          "metadata": {
            "tags": []
          },
          "execution_count": 34
        }
      ]
    },
    {
      "cell_type": "code",
      "metadata": {
        "colab": {
          "base_uri": "https://localhost:8080/"
        },
        "id": "oJtZAgODp4fr",
        "outputId": "97a0d755-ae56-439a-9de3-8dce8c5d3576"
      },
      "source": [
        "bar= np.random.randint(10,45,(3,5))\n",
        "bar"
      ],
      "execution_count": null,
      "outputs": [
        {
          "output_type": "execute_result",
          "data": {
            "text/plain": [
              "array([[30, 23, 37, 20, 24],\n",
              "       [20, 10, 11, 37, 22],\n",
              "       [31, 42, 16, 28, 31]])"
            ]
          },
          "metadata": {
            "tags": []
          },
          "execution_count": 35
        }
      ]
    },
    {
      "cell_type": "markdown",
      "metadata": {
        "id": "XtLT8Q9jrICY"
      },
      "source": [
        "All rows and columns are indexed starting from 0"
      ]
    },
    {
      "cell_type": "code",
      "metadata": {
        "colab": {
          "base_uri": "https://localhost:8080/"
        },
        "id": "4K2ClJA9qcLE",
        "outputId": "a378d591-98ea-49fd-aec7-b80b5f5071e8"
      },
      "source": [
        "bar[1,2]"
      ],
      "execution_count": null,
      "outputs": [
        {
          "output_type": "execute_result",
          "data": {
            "text/plain": [
              "11"
            ]
          },
          "metadata": {
            "tags": []
          },
          "execution_count": 36
        }
      ]
    },
    {
      "cell_type": "code",
      "metadata": {
        "colab": {
          "base_uri": "https://localhost:8080/"
        },
        "id": "JMqyEAcyrngP",
        "outputId": "c060033a-50a8-448e-91f5-b2b631194342"
      },
      "source": [
        "bar[0]"
      ],
      "execution_count": null,
      "outputs": [
        {
          "output_type": "execute_result",
          "data": {
            "text/plain": [
              "array([30, 23, 37, 20, 24])"
            ]
          },
          "metadata": {
            "tags": []
          },
          "execution_count": 37
        }
      ]
    },
    {
      "cell_type": "markdown",
      "metadata": {
        "id": "EOINNp50r6GV"
      },
      "source": [
        "**Returning the first row as a 2D array**"
      ]
    },
    {
      "cell_type": "code",
      "metadata": {
        "colab": {
          "base_uri": "https://localhost:8080/"
        },
        "id": "fvEpsaQpr1RX",
        "outputId": "ed60329d-a05c-4a07-dc48-961d76392189"
      },
      "source": [
        "bar[0, None]"
      ],
      "execution_count": null,
      "outputs": [
        {
          "output_type": "execute_result",
          "data": {
            "text/plain": [
              "array([[30, 23, 37, 20, 24]])"
            ]
          },
          "metadata": {
            "tags": []
          },
          "execution_count": 38
        }
      ]
    },
    {
      "cell_type": "code",
      "metadata": {
        "colab": {
          "base_uri": "https://localhost:8080/"
        },
        "id": "5dNCpHEAruAD",
        "outputId": "7d73df88-66e0-4074-c81e-9e9c3460a6b1"
      },
      "source": [
        "bar[:2]"
      ],
      "execution_count": null,
      "outputs": [
        {
          "output_type": "execute_result",
          "data": {
            "text/plain": [
              "array([[30, 23, 37, 20, 24],\n",
              "       [20, 10, 11, 37, 22]])"
            ]
          },
          "metadata": {
            "tags": []
          },
          "execution_count": 39
        }
      ]
    },
    {
      "cell_type": "code",
      "metadata": {
        "colab": {
          "base_uri": "https://localhost:8080/"
        },
        "id": "XcyvycSCrwQb",
        "outputId": "6e7ed56e-5485-41d7-b248-57b6aeac8300"
      },
      "source": [
        "bar[1:3, [-2, -1]]"
      ],
      "execution_count": null,
      "outputs": [
        {
          "output_type": "execute_result",
          "data": {
            "text/plain": [
              "array([[37, 22],\n",
              "       [28, 31]])"
            ]
          },
          "metadata": {
            "tags": []
          },
          "execution_count": 40
        }
      ]
    },
    {
      "cell_type": "code",
      "metadata": {
        "colab": {
          "base_uri": "https://localhost:8080/"
        },
        "id": "oighAX6VsPGd",
        "outputId": "d619abea-b286-4e59-b3dd-d1494f21c868"
      },
      "source": [
        "bar[0,0]= 500\n",
        "bar"
      ],
      "execution_count": null,
      "outputs": [
        {
          "output_type": "execute_result",
          "data": {
            "text/plain": [
              "array([[500,  23,  37,  20,  24],\n",
              "       [ 20,  10,  11,  37,  22],\n",
              "       [ 31,  42,  16,  28,  31]])"
            ]
          },
          "metadata": {
            "tags": []
          },
          "execution_count": 41
        }
      ]
    },
    {
      "cell_type": "code",
      "metadata": {
        "colab": {
          "base_uri": "https://localhost:8080/"
        },
        "id": "XwsVCpVTsmNJ",
        "outputId": "0ede0546-4e8c-4f95-c96e-8265909955a3"
      },
      "source": [
        "bar[[0,1,2], [0,1,2]]= 0\n",
        "bar"
      ],
      "execution_count": null,
      "outputs": [
        {
          "output_type": "execute_result",
          "data": {
            "text/plain": [
              "array([[ 0, 23, 37, 20, 24],\n",
              "       [20,  0, 11, 37, 22],\n",
              "       [31, 42,  0, 28, 31]])"
            ]
          },
          "metadata": {
            "tags": []
          },
          "execution_count": 42
        }
      ]
    },
    {
      "cell_type": "markdown",
      "metadata": {
        "id": "dzOa7TDGuPwr"
      },
      "source": [
        "Use @ for matrix multiplication of 2D array."
      ]
    },
    {
      "cell_type": "code",
      "metadata": {
        "colab": {
          "base_uri": "https://localhost:8080/"
        },
        "id": "AUIA3caDssb5",
        "outputId": "ab80127e-01b8-49b7-f9f7-9c9fdb9f11bd"
      },
      "source": [
        "np.linspace([17,32], [28,36], 3, axis=1)"
      ],
      "execution_count": null,
      "outputs": [
        {
          "output_type": "execute_result",
          "data": {
            "text/plain": [
              "array([[17. , 22.5, 28. ],\n",
              "       [32. , 34. , 36. ]])"
            ]
          },
          "metadata": {
            "tags": []
          },
          "execution_count": 43
        }
      ]
    },
    {
      "cell_type": "markdown",
      "metadata": {
        "id": "5XgxOy79yr91"
      },
      "source": [
        "Generate an evenly spaced array with start and endpoints given as arrays, with number of samples to be generated specified"
      ]
    },
    {
      "cell_type": "code",
      "metadata": {
        "id": "X6th5dO2ykTW"
      },
      "source": [
        "A= np.array([3,20,11,45])\n",
        "B= np.array([5,0,3])"
      ],
      "execution_count": null,
      "outputs": []
    },
    {
      "cell_type": "code",
      "metadata": {
        "colab": {
          "base_uri": "https://localhost:8080/"
        },
        "id": "svDgR90j7C90",
        "outputId": "cd98982d-b838-42e5-9f6a-eacdf416996c"
      },
      "source": [
        "A[:,np.newaxis]+B[np.newaxis,:]"
      ],
      "execution_count": null,
      "outputs": [
        {
          "output_type": "execute_result",
          "data": {
            "text/plain": [
              "array([[ 8,  3,  6],\n",
              "       [25, 20, 23],\n",
              "       [16, 11, 14],\n",
              "       [50, 45, 48]])"
            ]
          },
          "metadata": {
            "tags": []
          },
          "execution_count": 45
        }
      ]
    },
    {
      "cell_type": "code",
      "metadata": {
        "colab": {
          "base_uri": "https://localhost:8080/"
        },
        "id": "Ht7awujU-fQZ",
        "outputId": "eacbb33c-a506-461a-ee57-80a163732053"
      },
      "source": [
        "foo.reshape(5,1)"
      ],
      "execution_count": null,
      "outputs": [
        {
          "output_type": "execute_result",
          "data": {
            "text/plain": [
              "array([[12],\n",
              "       [24],\n",
              "       [33],\n",
              "       [38],\n",
              "       [36]])"
            ]
          },
          "metadata": {
            "tags": []
          },
          "execution_count": 46
        }
      ]
    },
    {
      "cell_type": "code",
      "metadata": {
        "colab": {
          "base_uri": "https://localhost:8080/"
        },
        "id": "klxdK0nX_a9_",
        "outputId": "5cfe7c10-e733-45f2-9b95-192d695a91e5"
      },
      "source": [
        "bar"
      ],
      "execution_count": null,
      "outputs": [
        {
          "output_type": "execute_result",
          "data": {
            "text/plain": [
              "array([[ 0, 23, 37, 20, 24],\n",
              "       [20,  0, 11, 37, 22],\n",
              "       [31, 42,  0, 28, 31]])"
            ]
          },
          "metadata": {
            "tags": []
          },
          "execution_count": 47
        }
      ]
    },
    {
      "cell_type": "markdown",
      "metadata": {
        "id": "udQCUBnH_dYW"
      },
      "source": [
        "order= 'C' refers to row major order. OR reshape along rows.\n",
        "order= 'F' refers to column major order."
      ]
    },
    {
      "cell_type": "code",
      "metadata": {
        "colab": {
          "base_uri": "https://localhost:8080/"
        },
        "id": "hBcjuZDJ-tGb",
        "outputId": "60ea76b3-db15-4756-c244-4e79d770223b"
      },
      "source": [
        "bar.reshape((5,3), order='C')\n"
      ],
      "execution_count": null,
      "outputs": [
        {
          "output_type": "execute_result",
          "data": {
            "text/plain": [
              "array([[ 0, 23, 37],\n",
              "       [20, 24, 20],\n",
              "       [ 0, 11, 37],\n",
              "       [22, 31, 42],\n",
              "       [ 0, 28, 31]])"
            ]
          },
          "metadata": {
            "tags": []
          },
          "execution_count": 48
        }
      ]
    },
    {
      "cell_type": "code",
      "metadata": {
        "colab": {
          "base_uri": "https://localhost:8080/"
        },
        "id": "0fz2SFuk_Nf1",
        "outputId": "faca1a39-da16-4be9-c95b-25b8683d4bd5"
      },
      "source": [
        "bar.reshape((5,3), order='F')\n"
      ],
      "execution_count": null,
      "outputs": [
        {
          "output_type": "execute_result",
          "data": {
            "text/plain": [
              "array([[ 0, 42, 37],\n",
              "       [20, 37, 28],\n",
              "       [31, 11, 24],\n",
              "       [23,  0, 22],\n",
              "       [ 0, 20, 31]])"
            ]
          },
          "metadata": {
            "tags": []
          },
          "execution_count": 49
        }
      ]
    },
    {
      "cell_type": "code",
      "metadata": {
        "colab": {
          "base_uri": "https://localhost:8080/"
        },
        "id": "Z1kfwQwP_yr-",
        "outputId": "fe79b27b-0f99-43a7-8a77-8a4ce973fb02"
      },
      "source": [
        "bar.reshape(1,3,-1)"
      ],
      "execution_count": null,
      "outputs": [
        {
          "output_type": "execute_result",
          "data": {
            "text/plain": [
              "array([[[ 0, 23, 37, 20, 24],\n",
              "        [20,  0, 11, 37, 22],\n",
              "        [31, 42,  0, 28, 31]]])"
            ]
          },
          "metadata": {
            "tags": []
          },
          "execution_count": 50
        }
      ]
    },
    {
      "cell_type": "code",
      "metadata": {
        "colab": {
          "base_uri": "https://localhost:8080/"
        },
        "id": "1RgBYV6eA2v1",
        "outputId": "9bbcc620-1ad4-4091-a48f-ad264efa1ddd"
      },
      "source": [
        "np.transpose(bar)"
      ],
      "execution_count": null,
      "outputs": [
        {
          "output_type": "execute_result",
          "data": {
            "text/plain": [
              "array([[ 0, 20, 31],\n",
              "       [23,  0, 42],\n",
              "       [37, 11,  0],\n",
              "       [20, 37, 28],\n",
              "       [24, 22, 31]])"
            ]
          },
          "metadata": {
            "tags": []
          },
          "execution_count": 51
        }
      ]
    },
    {
      "cell_type": "code",
      "metadata": {
        "colab": {
          "base_uri": "https://localhost:8080/"
        },
        "id": "B33_Nt9YBk5F",
        "outputId": "d8561b89-cbf2-4aa2-b04c-a4dde68791a8"
      },
      "source": [
        "bar"
      ],
      "execution_count": null,
      "outputs": [
        {
          "output_type": "execute_result",
          "data": {
            "text/plain": [
              "array([[ 0, 23, 37, 20, 24],\n",
              "       [20,  0, 11, 37, 22],\n",
              "       [31, 42,  0, 28, 31]])"
            ]
          },
          "metadata": {
            "tags": []
          },
          "execution_count": 52
        }
      ]
    },
    {
      "cell_type": "markdown",
      "metadata": {
        "id": "3YaQJjC3JN4E"
      },
      "source": [
        "**Boolean Indexing**"
      ]
    },
    {
      "cell_type": "code",
      "metadata": {
        "id": "zsgQSAUlETD8"
      },
      "source": [
        "mask=bar==42\n",
        "#Returns a logical array."
      ],
      "execution_count": null,
      "outputs": []
    },
    {
      "cell_type": "code",
      "metadata": {
        "colab": {
          "base_uri": "https://localhost:8080/"
        },
        "id": "YnTf1A0wEXZl",
        "outputId": "890cafd5-0116-4373-9489-cfa62f28f3f3"
      },
      "source": [
        "bar[mask]=0\n",
        "print(bar)\n",
        "#Picks up and assigns zero to only those elements from bar that had an element 42"
      ],
      "execution_count": null,
      "outputs": [
        {
          "output_type": "stream",
          "text": [
            "[[ 0 23 37 20 24]\n",
            " [20  0 11 37 22]\n",
            " [31  0  0 28 31]]\n"
          ],
          "name": "stdout"
        }
      ]
    },
    {
      "cell_type": "code",
      "metadata": {
        "colab": {
          "base_uri": "https://localhost:8080/"
        },
        "id": "Xl1FOn3yFKCj",
        "outputId": "ce175477-3837-47e3-8575-0bfffbadc2b5"
      },
      "source": [
        "rows_1_and_3= np.array([True, False, True])\n",
        "bar[rows_1_and_3]"
      ],
      "execution_count": null,
      "outputs": [
        {
          "output_type": "execute_result",
          "data": {
            "text/plain": [
              "array([[ 0, 23, 37, 20, 24],\n",
              "       [31,  0,  0, 28, 31]])"
            ]
          },
          "metadata": {
            "tags": []
          },
          "execution_count": 55
        }
      ]
    },
    {
      "cell_type": "code",
      "metadata": {
        "colab": {
          "base_uri": "https://localhost:8080/"
        },
        "id": "SgiW8oioE-v7",
        "outputId": "68439145-6c37-428d-accb-55ccacffed0f"
      },
      "source": [
        "cols_2_and_3= np.array([False, False,True,True,False])\n",
        "bar[:,cols_2_and_3]"
      ],
      "execution_count": null,
      "outputs": [
        {
          "output_type": "execute_result",
          "data": {
            "text/plain": [
              "array([[37, 20],\n",
              "       [11, 37],\n",
              "       [ 0, 28]])"
            ]
          },
          "metadata": {
            "tags": []
          },
          "execution_count": 56
        }
      ]
    },
    {
      "cell_type": "code",
      "metadata": {
        "colab": {
          "base_uri": "https://localhost:8080/"
        },
        "id": "x6V3ui6qF6GJ",
        "outputId": "cc1cd680-99a4-4f99-c3c2-02f055331130"
      },
      "source": [
        "bar[rows_1_and_3, cols_2_and_3]"
      ],
      "execution_count": null,
      "outputs": [
        {
          "output_type": "execute_result",
          "data": {
            "text/plain": [
              "array([37, 28])"
            ]
          },
          "metadata": {
            "tags": []
          },
          "execution_count": 57
        }
      ]
    },
    {
      "cell_type": "markdown",
      "metadata": {
        "id": "TTcDtsxfJrK_"
      },
      "source": [
        "nan is a floating point constant and can be present in a float array"
      ]
    },
    {
      "cell_type": "code",
      "metadata": {
        "colab": {
          "base_uri": "https://localhost:8080/"
        },
        "id": "whhGRMqIHlbb",
        "outputId": "00acb53b-6a43-4e64-91e7-475e70124c83"
      },
      "source": [
        "bot= np.ones((3,4), dtype=float)\n",
        "bot"
      ],
      "execution_count": null,
      "outputs": [
        {
          "output_type": "execute_result",
          "data": {
            "text/plain": [
              "array([[1., 1., 1., 1.],\n",
              "       [1., 1., 1., 1.],\n",
              "       [1., 1., 1., 1.]])"
            ]
          },
          "metadata": {
            "tags": []
          },
          "execution_count": 58
        }
      ]
    },
    {
      "cell_type": "code",
      "metadata": {
        "colab": {
          "base_uri": "https://localhost:8080/"
        },
        "id": "K_WqsEGrKASu",
        "outputId": "eb907ef9-0f34-4e5c-b721-7317a59ea385"
      },
      "source": [
        "bot[[0,2], [1,2]]= np.nan\n",
        "print(bot)"
      ],
      "execution_count": null,
      "outputs": [
        {
          "output_type": "stream",
          "text": [
            "[[ 1. nan  1.  1.]\n",
            " [ 1.  1.  1.  1.]\n",
            " [ 1.  1. nan  1.]]\n"
          ],
          "name": "stdout"
        }
      ]
    },
    {
      "cell_type": "code",
      "metadata": {
        "colab": {
          "base_uri": "https://localhost:8080/"
        },
        "id": "erX_9aUpLbbC",
        "outputId": "d5407ca0-92b3-4d84-e50f-4cf59b441e2b"
      },
      "source": [
        "np.isnan(bot)"
      ],
      "execution_count": null,
      "outputs": [
        {
          "output_type": "execute_result",
          "data": {
            "text/plain": [
              "array([[False,  True, False, False],\n",
              "       [False, False, False, False],\n",
              "       [False, False,  True, False]])"
            ]
          },
          "metadata": {
            "tags": []
          },
          "execution_count": 60
        }
      ]
    },
    {
      "cell_type": "code",
      "metadata": {
        "colab": {
          "base_uri": "https://localhost:8080/"
        },
        "id": "fTnHSjcdLhjt",
        "outputId": "788f2068-cd7a-4791-da93-559a8e007131"
      },
      "source": [
        "np.array([np.inf, np.NINF])"
      ],
      "execution_count": null,
      "outputs": [
        {
          "output_type": "execute_result",
          "data": {
            "text/plain": [
              "array([ inf, -inf])"
            ]
          },
          "metadata": {
            "tags": []
          },
          "execution_count": 61
        }
      ]
    },
    {
      "cell_type": "markdown",
      "metadata": {
        "id": "GX29O-ySPIiC"
      },
      "source": [
        "Sampling rows and colums of array using random"
      ]
    },
    {
      "cell_type": "code",
      "metadata": {
        "colab": {
          "base_uri": "https://localhost:8080/"
        },
        "id": "Q2AHWqHmL2NV",
        "outputId": "8179f10a-a650-4719-fcf8-f9e86f5e557d"
      },
      "source": [
        "rand_cols=np.random.choice(\n",
        "    a=np.arange(start=0, stop= bar.shape[0]),\n",
        "    replace=False,\n",
        "    size=2,\n",
        "    p= None\n",
        ")\n",
        "rand_cols"
      ],
      "execution_count": null,
      "outputs": [
        {
          "output_type": "execute_result",
          "data": {
            "text/plain": [
              "array([2, 0])"
            ]
          },
          "metadata": {
            "tags": []
          },
          "execution_count": 62
        }
      ]
    },
    {
      "cell_type": "code",
      "metadata": {
        "colab": {
          "base_uri": "https://localhost:8080/"
        },
        "id": "YYTccNHdNudv",
        "outputId": "63a9f44b-9db9-47ff-941b-40ba885af223"
      },
      "source": [
        "bar[:,rand_cols]"
      ],
      "execution_count": null,
      "outputs": [
        {
          "output_type": "execute_result",
          "data": {
            "text/plain": [
              "array([[37,  0],\n",
              "       [11, 20],\n",
              "       [ 0, 31]])"
            ]
          },
          "metadata": {
            "tags": []
          },
          "execution_count": 63
        }
      ]
    },
    {
      "cell_type": "code",
      "metadata": {
        "colab": {
          "base_uri": "https://localhost:8080/"
        },
        "id": "HASZwhFXOtOH",
        "outputId": "b4606782-2b41-4bb6-de8c-562682969190"
      },
      "source": [
        "np.random.permutation(bar) #shuffles the rows and not columns"
      ],
      "execution_count": null,
      "outputs": [
        {
          "output_type": "execute_result",
          "data": {
            "text/plain": [
              "array([[ 0, 23, 37, 20, 24],\n",
              "       [31,  0,  0, 28, 31],\n",
              "       [20,  0, 11, 37, 22]])"
            ]
          },
          "metadata": {
            "tags": []
          },
          "execution_count": 64
        }
      ]
    },
    {
      "cell_type": "code",
      "metadata": {
        "colab": {
          "base_uri": "https://localhost:8080/"
        },
        "id": "pzK-VPHkPOYG",
        "outputId": "cc40b0c2-96f8-434e-fa66-dbeafb512f79"
      },
      "source": [
        "generator= np.random.default_rng(1010)\n",
        "generator.permutation(bar, axis=1) #shuffles by columns"
      ],
      "execution_count": null,
      "outputs": [
        {
          "output_type": "execute_result",
          "data": {
            "text/plain": [
              "array([[23, 37, 20,  0, 24],\n",
              "       [ 0, 11, 37, 20, 22],\n",
              "       [ 0,  0, 28, 31, 31]])"
            ]
          },
          "metadata": {
            "tags": []
          },
          "execution_count": 65
        }
      ]
    },
    {
      "cell_type": "code",
      "metadata": {
        "colab": {
          "base_uri": "https://localhost:8080/"
        },
        "id": "LSNerPr9Rndi",
        "outputId": "72e37aae-2781-4dc6-8a44-937644d146dd"
      },
      "source": [
        "love_scores= np.round(generator.uniform(low=0, high=10, size=10), 2)\n",
        "print(love_scores)"
      ],
      "execution_count": null,
      "outputs": [
        {
          "output_type": "stream",
          "text": [
            "[9.81 8.49 7.46 4.09 5.65 0.84 6.47 2.61 8.74 0.4 ]\n"
          ],
          "name": "stdout"
        }
      ]
    },
    {
      "cell_type": "code",
      "metadata": {
        "colab": {
          "base_uri": "https://localhost:8080/"
        },
        "id": "7hVBm6GpWNGx",
        "outputId": "2c738e71-19ef-4d83-fa8b-52ed0a0a90af"
      },
      "source": [
        "np.abs(love_scores[:,np.newaxis]-love_scores)"
      ],
      "execution_count": null,
      "outputs": [
        {
          "output_type": "execute_result",
          "data": {
            "text/plain": [
              "array([[0.  , 1.32, 2.35, 5.72, 4.16, 8.97, 3.34, 7.2 , 1.07, 9.41],\n",
              "       [1.32, 0.  , 1.03, 4.4 , 2.84, 7.65, 2.02, 5.88, 0.25, 8.09],\n",
              "       [2.35, 1.03, 0.  , 3.37, 1.81, 6.62, 0.99, 4.85, 1.28, 7.06],\n",
              "       [5.72, 4.4 , 3.37, 0.  , 1.56, 3.25, 2.38, 1.48, 4.65, 3.69],\n",
              "       [4.16, 2.84, 1.81, 1.56, 0.  , 4.81, 0.82, 3.04, 3.09, 5.25],\n",
              "       [8.97, 7.65, 6.62, 3.25, 4.81, 0.  , 5.63, 1.77, 7.9 , 0.44],\n",
              "       [3.34, 2.02, 0.99, 2.38, 0.82, 5.63, 0.  , 3.86, 2.27, 6.07],\n",
              "       [7.2 , 5.88, 4.85, 1.48, 3.04, 1.77, 3.86, 0.  , 6.13, 2.21],\n",
              "       [1.07, 0.25, 1.28, 4.65, 3.09, 7.9 , 2.27, 6.13, 0.  , 8.34],\n",
              "       [9.41, 8.09, 7.06, 3.69, 5.25, 0.44, 6.07, 2.21, 8.34, 0.  ]])"
            ]
          },
          "metadata": {
            "tags": []
          },
          "execution_count": 67
        }
      ]
    },
    {
      "cell_type": "code",
      "metadata": {
        "colab": {
          "base_uri": "https://localhost:8080/"
        },
        "id": "cHmcR39tWh-M",
        "outputId": "063331b7-5e2d-4f5c-8ff5-fe8dbdc146b9"
      },
      "source": [
        "np.abs(love_scores[:,np.newaxis]-love_scores[np.newaxis,:])"
      ],
      "execution_count": null,
      "outputs": [
        {
          "output_type": "execute_result",
          "data": {
            "text/plain": [
              "array([[0.  , 1.32, 2.35, 5.72, 4.16, 8.97, 3.34, 7.2 , 1.07, 9.41],\n",
              "       [1.32, 0.  , 1.03, 4.4 , 2.84, 7.65, 2.02, 5.88, 0.25, 8.09],\n",
              "       [2.35, 1.03, 0.  , 3.37, 1.81, 6.62, 0.99, 4.85, 1.28, 7.06],\n",
              "       [5.72, 4.4 , 3.37, 0.  , 1.56, 3.25, 2.38, 1.48, 4.65, 3.69],\n",
              "       [4.16, 2.84, 1.81, 1.56, 0.  , 4.81, 0.82, 3.04, 3.09, 5.25],\n",
              "       [8.97, 7.65, 6.62, 3.25, 4.81, 0.  , 5.63, 1.77, 7.9 , 0.44],\n",
              "       [3.34, 2.02, 0.99, 2.38, 0.82, 5.63, 0.  , 3.86, 2.27, 6.07],\n",
              "       [7.2 , 5.88, 4.85, 1.48, 3.04, 1.77, 3.86, 0.  , 6.13, 2.21],\n",
              "       [1.07, 0.25, 1.28, 4.65, 3.09, 7.9 , 2.27, 6.13, 0.  , 8.34],\n",
              "       [9.41, 8.09, 7.06, 3.69, 5.25, 0.44, 6.07, 2.21, 8.34, 0.  ]])"
            ]
          },
          "metadata": {
            "tags": []
          },
          "execution_count": 68
        }
      ]
    },
    {
      "cell_type": "markdown",
      "metadata": {
        "id": "rFW8pxbGshZq"
      },
      "source": [
        "# **Professor Prick Challenge problem, giving zeros to first three people who have scores less than 60**"
      ]
    },
    {
      "cell_type": "code",
      "metadata": {
        "colab": {
          "base_uri": "https://localhost:8080/"
        },
        "id": "CZQhJDhWdWLL",
        "outputId": "f3a05b72-1bbe-48a7-c1e9-d8ea7571d4c9"
      },
      "source": [
        "scores= np.round(generator.uniform(low=30, high=100, size=15))\n",
        "scores"
      ],
      "execution_count": null,
      "outputs": [
        {
          "output_type": "execute_result",
          "data": {
            "text/plain": [
              "array([99., 79., 89., 80., 35., 38., 42., 98., 92., 38., 32., 53., 59.,\n",
              "       48., 38.])"
            ]
          },
          "metadata": {
            "tags": []
          },
          "execution_count": 69
        }
      ]
    },
    {
      "cell_type": "code",
      "metadata": {
        "colab": {
          "base_uri": "https://localhost:8080/"
        },
        "id": "-HGYk29vqpgG",
        "outputId": "fa71b0a5-7780-4f5b-98e9-a590f06b1a12"
      },
      "source": [
        "musk= scores<60\n",
        "musk"
      ],
      "execution_count": null,
      "outputs": [
        {
          "output_type": "execute_result",
          "data": {
            "text/plain": [
              "array([False, False, False, False,  True,  True,  True, False, False,\n",
              "        True,  True,  True,  True,  True,  True])"
            ]
          },
          "metadata": {
            "tags": []
          },
          "execution_count": 70
        }
      ]
    },
    {
      "cell_type": "code",
      "metadata": {
        "colab": {
          "base_uri": "https://localhost:8080/"
        },
        "id": "LQ0padptrX9g",
        "outputId": "427d2dd0-d29c-4dc6-89c7-adb0609b53a9"
      },
      "source": [
        "scores[musk]"
      ],
      "execution_count": null,
      "outputs": [
        {
          "output_type": "execute_result",
          "data": {
            "text/plain": [
              "array([35., 38., 42., 38., 32., 53., 59., 48., 38.])"
            ]
          },
          "metadata": {
            "tags": []
          },
          "execution_count": 71
        }
      ]
    },
    {
      "cell_type": "markdown",
      "metadata": {
        "id": "FmxrDp8cr6Cg"
      },
      "source": [
        ".nonzero takes an array and returns index of places with non zero values"
      ]
    },
    {
      "cell_type": "code",
      "metadata": {
        "colab": {
          "base_uri": "https://localhost:8080/"
        },
        "id": "FyaRq3h5q6ec",
        "outputId": "6aadf67b-367f-4aea-cffd-48035ed5da58"
      },
      "source": [
        "scores[musk.nonzero()[0][:3]]=0\n",
        "print(scores)"
      ],
      "execution_count": null,
      "outputs": [
        {
          "output_type": "stream",
          "text": [
            "[99. 79. 89. 80.  0.  0.  0. 98. 92. 38. 32. 53. 59. 48. 38.]\n"
          ],
          "name": "stdout"
        }
      ]
    },
    {
      "cell_type": "code",
      "metadata": {
        "id": "Hu-RKLH4znMT"
      },
      "source": [
        ""
      ],
      "execution_count": null,
      "outputs": []
    },
    {
      "cell_type": "markdown",
      "metadata": {
        "id": "QWXoeMSEzn3n"
      },
      "source": [
        "# NumPy Fucntions\n"
      ]
    },
    {
      "cell_type": "code",
      "metadata": {
        "id": "pp92khkozzM4"
      },
      "source": [
        "mil_arr= generator.integers(6, size=2*10**6)\n",
        "mill_arr= generator.integers(6, size=2*10**6)"
      ],
      "execution_count": null,
      "outputs": []
    },
    {
      "cell_type": "code",
      "metadata": {
        "colab": {
          "base_uri": "https://localhost:8080/"
        },
        "id": "Pk37W6KP1-Zd",
        "outputId": "dcb6bb72-7b96-49d5-afee-a0541abb7aec"
      },
      "source": [
        "baz= np.where(mil_arr%2==0, mill_arr*2, mill_arr/2)\n",
        "baz"
      ],
      "execution_count": null,
      "outputs": [
        {
          "output_type": "execute_result",
          "data": {
            "text/plain": [
              "array([ 1. ,  2.5,  4. , ...,  6. , 10. ,  4. ])"
            ]
          },
          "metadata": {
            "tags": []
          },
          "execution_count": 74
        }
      ]
    },
    {
      "cell_type": "code",
      "metadata": {
        "colab": {
          "base_uri": "https://localhost:8080/"
        },
        "id": "rNncop8Z2PpK",
        "outputId": "0964a77c-cdb9-4906-e573-1786df9c3897"
      },
      "source": [
        "np.array_equal(baz, mil_arr)"
      ],
      "execution_count": null,
      "outputs": [
        {
          "output_type": "execute_result",
          "data": {
            "text/plain": [
              "False"
            ]
          },
          "metadata": {
            "tags": []
          },
          "execution_count": 75
        }
      ]
    },
    {
      "cell_type": "code",
      "metadata": {
        "colab": {
          "base_uri": "https://localhost:8080/"
        },
        "id": "9LR9Bv3I2lua",
        "outputId": "9621773c-2832-4662-9c6b-40cc57573385"
      },
      "source": [
        "squee= generator.random((3,3))\n",
        "squee"
      ],
      "execution_count": null,
      "outputs": [
        {
          "output_type": "execute_result",
          "data": {
            "text/plain": [
              "array([[0.30499935, 0.72225249, 0.278658  ],\n",
              "       [0.25621752, 0.04753404, 0.39941744],\n",
              "       [0.78903149, 0.12028152, 0.4007361 ]])"
            ]
          },
          "metadata": {
            "tags": []
          },
          "execution_count": 76
        }
      ]
    },
    {
      "cell_type": "code",
      "metadata": {
        "colab": {
          "base_uri": "https://localhost:8080/"
        },
        "id": "eMm7BFbA34cn",
        "outputId": "2c1a5b3d-1c81-48f6-b8b6-6cdb567459f0"
      },
      "source": [
        "np.sum(squee)"
      ],
      "execution_count": null,
      "outputs": [
        {
          "output_type": "execute_result",
          "data": {
            "text/plain": [
              "3.319127952971568"
            ]
          },
          "metadata": {
            "tags": []
          },
          "execution_count": 77
        }
      ]
    },
    {
      "cell_type": "code",
      "metadata": {
        "colab": {
          "base_uri": "https://localhost:8080/"
        },
        "id": "6pfGrlGm4L5k",
        "outputId": "124039b0-0c0c-4adc-8bf1-7ab4c3a3397e"
      },
      "source": [
        "np.sum(squee, axis= 0) #Adds alongs columns"
      ],
      "execution_count": null,
      "outputs": [
        {
          "output_type": "execute_result",
          "data": {
            "text/plain": [
              "array([1.35024837, 0.89006805, 1.07881154])"
            ]
          },
          "metadata": {
            "tags": []
          },
          "execution_count": 78
        }
      ]
    },
    {
      "cell_type": "code",
      "metadata": {
        "colab": {
          "base_uri": "https://localhost:8080/"
        },
        "id": "fxneUrjy4Pp7",
        "outputId": "001dc26d-318e-402c-dce9-a64325d33f62"
      },
      "source": [
        "squee[0,0]= np.nan\n",
        "np.sum(squee)"
      ],
      "execution_count": null,
      "outputs": [
        {
          "output_type": "execute_result",
          "data": {
            "text/plain": [
              "nan"
            ]
          },
          "metadata": {
            "tags": []
          },
          "execution_count": 79
        }
      ]
    },
    {
      "cell_type": "code",
      "metadata": {
        "colab": {
          "base_uri": "https://localhost:8080/"
        },
        "id": "T_JQPCrF4ZTq",
        "outputId": "0362477d-9fa5-4bf1-8d59-b96ff0293f36"
      },
      "source": [
        "np.sum(squee, where=~np.isnan(squee)) #ignores the nan value"
      ],
      "execution_count": null,
      "outputs": [
        {
          "output_type": "execute_result",
          "data": {
            "text/plain": [
              "3.014128600110576"
            ]
          },
          "metadata": {
            "tags": []
          },
          "execution_count": 80
        }
      ]
    },
    {
      "cell_type": "code",
      "metadata": {
        "colab": {
          "base_uri": "https://localhost:8080/"
        },
        "id": "7NjWwg_C46d4",
        "outputId": "347b1f2f-17a7-4343-c45b-8ca7f58d457f"
      },
      "source": [
        "np.isnan(squee)"
      ],
      "execution_count": null,
      "outputs": [
        {
          "output_type": "execute_result",
          "data": {
            "text/plain": [
              "array([[ True, False, False],\n",
              "       [False, False, False],\n",
              "       [False, False, False]])"
            ]
          },
          "metadata": {
            "tags": []
          },
          "execution_count": 81
        }
      ]
    },
    {
      "cell_type": "markdown",
      "metadata": {
        "id": "NlNmnO_8831Q"
      },
      "source": [
        "Returns True for any row that has atleast one nan value."
      ]
    },
    {
      "cell_type": "code",
      "metadata": {
        "colab": {
          "base_uri": "https://localhost:8080/"
        },
        "id": "XFZwHD1-40eP",
        "outputId": "7ed43f04-6049-49d2-a8cb-25f6cda204da"
      },
      "source": [
        "mask= np.any(np.isnan(squee), axis=1)\n",
        "mask"
      ],
      "execution_count": null,
      "outputs": [
        {
          "output_type": "execute_result",
          "data": {
            "text/plain": [
              "array([ True, False, False])"
            ]
          },
          "metadata": {
            "tags": []
          },
          "execution_count": 82
        }
      ]
    },
    {
      "cell_type": "code",
      "metadata": {
        "colab": {
          "base_uri": "https://localhost:8080/"
        },
        "id": "fYHUjnB180Uz",
        "outputId": "c4797bbc-7f8f-4e65-ed57-aeb29c10bb92"
      },
      "source": [
        "mask2= np.all(np.isnan(squee), axis=1)\n",
        "mask2"
      ],
      "execution_count": null,
      "outputs": [
        {
          "output_type": "execute_result",
          "data": {
            "text/plain": [
              "array([False, False, False])"
            ]
          },
          "metadata": {
            "tags": []
          },
          "execution_count": 83
        }
      ]
    },
    {
      "cell_type": "code",
      "metadata": {
        "colab": {
          "base_uri": "https://localhost:8080/"
        },
        "id": "Q9Rv75C69C7W",
        "outputId": "a35154bf-85ed-48ce-b8c9-efdf7ffed1f6"
      },
      "source": [
        "A=np.zeros(shape=(2,3))\n",
        "print(A)"
      ],
      "execution_count": null,
      "outputs": [
        {
          "output_type": "stream",
          "text": [
            "[[0. 0. 0.]\n",
            " [0. 0. 0.]]\n"
          ],
          "name": "stdout"
        }
      ]
    },
    {
      "cell_type": "code",
      "metadata": {
        "colab": {
          "base_uri": "https://localhost:8080/"
        },
        "id": "OVsxdFU49aWC",
        "outputId": "5a7f477c-4a4b-4d87-f274-534cd1a866d0"
      },
      "source": [
        "np.concatenate((A,A), axis=0)"
      ],
      "execution_count": null,
      "outputs": [
        {
          "output_type": "execute_result",
          "data": {
            "text/plain": [
              "array([[0., 0., 0.],\n",
              "       [0., 0., 0.],\n",
              "       [0., 0., 0.],\n",
              "       [0., 0., 0.]])"
            ]
          },
          "metadata": {
            "tags": []
          },
          "execution_count": 85
        }
      ]
    },
    {
      "cell_type": "code",
      "metadata": {
        "colab": {
          "base_uri": "https://localhost:8080/"
        },
        "id": "MDbW1RGm-l7P",
        "outputId": "36744a33-98c8-4d4e-c5c2-4f37ae21c5d0"
      },
      "source": [
        "np.concatenate((A,A), axis=1)"
      ],
      "execution_count": null,
      "outputs": [
        {
          "output_type": "execute_result",
          "data": {
            "text/plain": [
              "array([[0., 0., 0., 0., 0., 0.],\n",
              "       [0., 0., 0., 0., 0., 0.]])"
            ]
          },
          "metadata": {
            "tags": []
          },
          "execution_count": 86
        }
      ]
    },
    {
      "cell_type": "code",
      "metadata": {
        "id": "peTnCBfM-yt8"
      },
      "source": [
        "np.vstack?"
      ],
      "execution_count": null,
      "outputs": []
    },
    {
      "cell_type": "code",
      "metadata": {
        "id": "Yo9rF5TiI2p2"
      },
      "source": [
        "np.hstack?\n"
      ],
      "execution_count": null,
      "outputs": []
    }
  ]
}