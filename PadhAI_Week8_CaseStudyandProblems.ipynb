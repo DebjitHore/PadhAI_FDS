{
  "nbformat": 4,
  "nbformat_minor": 0,
  "metadata": {
    "colab": {
      "name": "PadhAI_Week8_CaseStudyandProblems.ipynb",
      "provenance": [],
      "collapsed_sections": [],
      "authorship_tag": "ABX9TyO7WN0+DjuJBfMArpYfj4Zl",
      "include_colab_link": true
    },
    "kernelspec": {
      "name": "python3",
      "display_name": "Python 3"
    },
    "language_info": {
      "name": "python"
    }
  },
  "cells": [
    {
      "cell_type": "markdown",
      "metadata": {
        "id": "view-in-github",
        "colab_type": "text"
      },
      "source": [
        "<a href=\"https://colab.research.google.com/github/DebjitHore/PadhAI_FDS/blob/master/PadhAI_Week8_CaseStudyandProblems.ipynb\" target=\"_parent\"><img src=\"https://colab.research.google.com/assets/colab-badge.svg\" alt=\"Open In Colab\"/></a>"
      ]
    },
    {
      "cell_type": "code",
      "metadata": {
        "id": "JiRamiwaecOB"
      },
      "source": [
        "import numpy as np"
      ],
      "execution_count": 2,
      "outputs": []
    },
    {
      "cell_type": "code",
      "metadata": {
        "id": "9oFtBRvUb_VN",
        "colab": {
          "base_uri": "https://localhost:8080/"
        },
        "outputId": "85109df6-6a9d-4c68-b193-66071f7e1651"
      },
      "source": [
        "!head cric_data.tsv"
      ],
      "execution_count": 1,
      "outputs": [
        {
          "output_type": "stream",
          "text": [
            "\tSachin Tendulkar\tRahul Dravid\tIndia\n",
            "0\t100\t78\t342\n",
            "1\t11\t62\t191\n",
            "2\t8\t85\t252\n",
            "3\t71\t24\t307\n",
            "4\t104\t17\t229\n",
            "5\t18\t104\t246\n",
            "6\t8\t76\t226\n",
            "7\t86\t74\t288\n",
            "8\t12\t60\t216\n"
          ],
          "name": "stdout"
        }
      ]
    },
    {
      "cell_type": "code",
      "metadata": {
        "id": "_751oK5teQ6u"
      },
      "source": [
        "scores= np.genfromtxt(\"cric_data.tsv\", skip_header=1, usecols=(1,2,3))"
      ],
      "execution_count": 8,
      "outputs": []
    },
    {
      "cell_type": "code",
      "metadata": {
        "colab": {
          "base_uri": "https://localhost:8080/"
        },
        "id": "tEE7UNEzgfSH",
        "outputId": "0afb1312-1dc1-482b-e480-718a1a2aa195"
      },
      "source": [
        "scores.shape"
      ],
      "execution_count": 9,
      "outputs": [
        {
          "output_type": "execute_result",
          "data": {
            "text/plain": [
              "(225, 3)"
            ]
          },
          "metadata": {
            "tags": []
          },
          "execution_count": 9
        }
      ]
    },
    {
      "cell_type": "code",
      "metadata": {
        "id": "zoC5Nolmgu20"
      },
      "source": [
        "mean_Sachin= np.mean(scores[:,0])\n",
        "median_Sachin= np.median(scores[:,0])\n",
        "mode_Sachin= np.percentile(scores[:,0], 75)- np.percentile(scores[:,0], 25)"
      ],
      "execution_count": 12,
      "outputs": []
    },
    {
      "cell_type": "code",
      "metadata": {
        "id": "1OSJamL3hLHr"
      },
      "source": [
        "mean_Dravid= np.mean(scores[:,1])\n",
        "median_Dravid= np.median(scores[:,1])\n",
        "mode_Dravid= np.percentile(scores[:,1], 75)- np.percentile(scores[:,1], 25)"
      ],
      "execution_count": 13,
      "outputs": []
    },
    {
      "cell_type": "code",
      "metadata": {
        "id": "tD8n3rBGh4ZM"
      },
      "source": [
        "mean_India= np.mean(scores[:,2])\n",
        "median_India= np.median(scores[:,2])\n",
        "mode_India= np.percentile(scores[:,2], 75)- np.percentile(scores[:,2], 25)"
      ],
      "execution_count": 14,
      "outputs": []
    },
    {
      "cell_type": "code",
      "metadata": {
        "colab": {
          "base_uri": "https://localhost:8080/"
        },
        "id": "eMgWJ3ehiAex",
        "outputId": "d8823eeb-0693-4b8b-ec06-2b0dbc91c7e7"
      },
      "source": [
        "print(mean_India)"
      ],
      "execution_count": 16,
      "outputs": [
        {
          "output_type": "stream",
          "text": [
            "220.79555555555555\n"
          ],
          "name": "stdout"
        }
      ]
    },
    {
      "cell_type": "code",
      "metadata": {
        "colab": {
          "base_uri": "https://localhost:8080/"
        },
        "id": "aJJU-8WviPvD",
        "outputId": "c362d55e-3ef1-4cdf-c776-b07594add826"
      },
      "source": [
        "np.mean(scores, axis=0)"
      ],
      "execution_count": 17,
      "outputs": [
        {
          "output_type": "execute_result",
          "data": {
            "text/plain": [
              "array([ 39.87555556,  32.06222222, 220.79555556])"
            ]
          },
          "metadata": {
            "tags": []
          },
          "execution_count": 17
        }
      ]
    },
    {
      "cell_type": "code",
      "metadata": {
        "colab": {
          "base_uri": "https://localhost:8080/"
        },
        "id": "LLOdNDVTimA5",
        "outputId": "3100a3bf-8711-48eb-bdd3-2430a8d3cbe5"
      },
      "source": [
        "np.median(scores, axis=0)"
      ],
      "execution_count": 18,
      "outputs": [
        {
          "output_type": "execute_result",
          "data": {
            "text/plain": [
              "array([ 27.,  22., 216.])"
            ]
          },
          "metadata": {
            "tags": []
          },
          "execution_count": 18
        }
      ]
    },
    {
      "cell_type": "code",
      "metadata": {
        "id": "PF3kRPGSipnU"
      },
      "source": [
        "sachin_histogram=np.histogram(scores[:,0])"
      ],
      "execution_count": 20,
      "outputs": []
    },
    {
      "cell_type": "code",
      "metadata": {
        "id": "4aC8An4Qiw53"
      },
      "source": [
        "sachin_scores= scores[:,0].reshape(9,25)"
      ],
      "execution_count": 21,
      "outputs": []
    },
    {
      "cell_type": "code",
      "metadata": {
        "colab": {
          "base_uri": "https://localhost:8080/"
        },
        "id": "kA8QtDtbjalw",
        "outputId": "3e385d3b-7cf9-45c3-9889-08e81e618095"
      },
      "source": [
        "A=np.mean(sachin_scores, axis=1)\n",
        "A"
      ],
      "execution_count": 23,
      "outputs": [
        {
          "output_type": "execute_result",
          "data": {
            "text/plain": [
              "array([33.96, 49.4 , 38.48, 40.16, 39.36, 38.2 , 44.6 , 39.52, 35.2 ])"
            ]
          },
          "metadata": {
            "tags": []
          },
          "execution_count": 23
        }
      ]
    },
    {
      "cell_type": "code",
      "metadata": {
        "id": "9NVOlimTlO0i"
      },
      "source": [
        "sachin= scores[:,0]\n",
        "dravid= scores[:,1]\n",
        "india= scores[:,2]"
      ],
      "execution_count": 30,
      "outputs": []
    },
    {
      "cell_type": "code",
      "metadata": {
        "colab": {
          "base_uri": "https://localhost:8080/"
        },
        "id": "TyZv9tTPjfBA",
        "outputId": "6bc2edd1-507a-4c29-875a-ab5a63aa36e9"
      },
      "source": [
        "sachin_mean_score100= np.mean(sachin[sachin>=100])\n",
        "sachin_mean_score100"
      ],
      "execution_count": 31,
      "outputs": [
        {
          "output_type": "execute_result",
          "data": {
            "text/plain": [
              "125.0"
            ]
          },
          "metadata": {
            "tags": []
          },
          "execution_count": 31
        }
      ]
    },
    {
      "cell_type": "code",
      "metadata": {
        "colab": {
          "base_uri": "https://localhost:8080/"
        },
        "id": "SLLPNYZEkcqE",
        "outputId": "b906d336-02d7-404b-a379-d1b0264e491c"
      },
      "source": [
        "sachin_mean_rahul_lessthan10= np.mean(sachin[dravid<10])\n",
        "sachin_mean_rahul_lessthan10"
      ],
      "execution_count": 33,
      "outputs": [
        {
          "output_type": "execute_result",
          "data": {
            "text/plain": [
              "40.74285714285714"
            ]
          },
          "metadata": {
            "tags": []
          },
          "execution_count": 33
        }
      ]
    },
    {
      "cell_type": "code",
      "metadata": {
        "id": "YJ8UgFpplvOa"
      },
      "source": [
        "qrs= np.percentile(india, [25,50,75,100])"
      ],
      "execution_count": 40,
      "outputs": []
    },
    {
      "cell_type": "markdown",
      "metadata": {
        "id": "LxIlLqdOqjVU"
      },
      "source": [
        "If India's score is in first quartile, Sachin's average is...\n",
        "If India's score is in second quartile, Sachin's average is...\n"
      ]
    },
    {
      "cell_type": "code",
      "metadata": {
        "colab": {
          "base_uri": "https://localhost:8080/"
        },
        "id": "QH1Ky60HqiAJ",
        "outputId": "ed4091f9-d979-4910-e782-1163569e78c1"
      },
      "source": [
        "np.mean(sachin[india<175])"
      ],
      "execution_count": 35,
      "outputs": [
        {
          "output_type": "execute_result",
          "data": {
            "text/plain": [
              "19.672727272727272"
            ]
          },
          "metadata": {
            "tags": []
          },
          "execution_count": 35
        }
      ]
    },
    {
      "cell_type": "code",
      "metadata": {
        "id": "eP9-UrNdq_UU"
      },
      "source": [
        "qrs= qrs.reshape(4,1)"
      ],
      "execution_count": 50,
      "outputs": []
    },
    {
      "cell_type": "code",
      "metadata": {
        "id": "5_W8Ak0hrorF"
      },
      "source": [
        "indices= india < qrs"
      ],
      "execution_count": 52,
      "outputs": []
    },
    {
      "cell_type": "code",
      "metadata": {
        "colab": {
          "base_uri": "https://localhost:8080/"
        },
        "id": "1hk-o1Jlsc7q",
        "outputId": "568b0235-3830-4dfb-e35b-45182d86313f"
      },
      "source": [
        "indices.shape"
      ],
      "execution_count": 53,
      "outputs": [
        {
          "output_type": "execute_result",
          "data": {
            "text/plain": [
              "(4, 225)"
            ]
          },
          "metadata": {
            "tags": []
          },
          "execution_count": 53
        }
      ]
    },
    {
      "cell_type": "code",
      "metadata": {
        "colab": {
          "base_uri": "https://localhost:8080/"
        },
        "id": "AgHnp6xtsrXl",
        "outputId": "b39b72ed-5fea-4135-85bb-72e13d67a534"
      },
      "source": [
        "print(\"For every quartile in India's score Sachin's mean scores is\")\n",
        "for i in range(1,5):\n",
        "  \n",
        "  print(i, np.mean(sachin[indices[i-1]]))"
      ],
      "execution_count": 61,
      "outputs": [
        {
          "output_type": "stream",
          "text": [
            "For every quartile in India's score Sachin's mean scores is\n",
            "1 19.672727272727272\n",
            "2 28.18018018018018\n",
            "3 31.688622754491018\n",
            "4 39.799107142857146\n"
          ],
          "name": "stdout"
        }
      ]
    },
    {
      "cell_type": "code",
      "metadata": {
        "id": "vx9ZQPZut6kf"
      },
      "source": [
        "snr= scores[:, 0:2]"
      ],
      "execution_count": 62,
      "outputs": []
    },
    {
      "cell_type": "code",
      "metadata": {
        "id": "wqt2sjYpu0RE"
      },
      "source": [
        "max_scores_who=np.argmax(snr, axis=1)  #In this case we get a (225,) array of 0 and 1, where 0 means Sachin has scores more and 1 means that Rahul has scored more"
      ],
      "execution_count": 67,
      "outputs": []
    },
    {
      "cell_type": "code",
      "metadata": {
        "colab": {
          "base_uri": "https://localhost:8080/"
        },
        "id": "bmDHB8Bhu73c",
        "outputId": "b7de3409-5edf-4c50-ed9f-3dad080e21e7"
      },
      "source": [
        "fraction_of_times_Rahul_Higher= np.sum(max_scores_who)/225\n",
        "fraction_of_times_Rahul_Higher"
      ],
      "execution_count": 69,
      "outputs": [
        {
          "output_type": "execute_result",
          "data": {
            "text/plain": [
              "0.4711111111111111"
            ]
          },
          "metadata": {
            "tags": []
          },
          "execution_count": 69
        }
      ]
    },
    {
      "cell_type": "code",
      "metadata": {
        "colab": {
          "base_uri": "https://localhost:8080/"
        },
        "id": "HTgPuqytvGIc",
        "outputId": "0548b01e-40c3-4844-84bf-da2a8f26e30f"
      },
      "source": [
        "np.where(max_scores_who==0, 'Sachin', 'Rahul')"
      ],
      "execution_count": 71,
      "outputs": [
        {
          "output_type": "execute_result",
          "data": {
            "text/plain": [
              "array(['Sachin', 'Rahul', 'Rahul', 'Sachin', 'Sachin', 'Rahul', 'Rahul',\n",
              "       'Sachin', 'Rahul', 'Sachin', 'Rahul', 'Rahul', 'Rahul', 'Sachin',\n",
              "       'Sachin', 'Rahul', 'Rahul', 'Sachin', 'Rahul', 'Rahul', 'Sachin',\n",
              "       'Rahul', 'Sachin', 'Sachin', 'Rahul', 'Sachin', 'Sachin', 'Sachin',\n",
              "       'Sachin', 'Sachin', 'Sachin', 'Sachin', 'Rahul', 'Rahul', 'Sachin',\n",
              "       'Rahul', 'Rahul', 'Sachin', 'Rahul', 'Sachin', 'Sachin', 'Sachin',\n",
              "       'Sachin', 'Rahul', 'Sachin', 'Rahul', 'Rahul', 'Sachin', 'Rahul',\n",
              "       'Sachin', 'Rahul', 'Rahul', 'Rahul', 'Rahul', 'Sachin', 'Rahul',\n",
              "       'Sachin', 'Sachin', 'Rahul', 'Rahul', 'Rahul', 'Sachin', 'Rahul',\n",
              "       'Sachin', 'Sachin', 'Sachin', 'Sachin', 'Rahul', 'Sachin', 'Rahul',\n",
              "       'Rahul', 'Sachin', 'Sachin', 'Rahul', 'Rahul', 'Sachin', 'Rahul',\n",
              "       'Rahul', 'Sachin', 'Rahul', 'Rahul', 'Rahul', 'Rahul', 'Rahul',\n",
              "       'Rahul', 'Sachin', 'Sachin', 'Sachin', 'Rahul', 'Sachin', 'Sachin',\n",
              "       'Sachin', 'Sachin', 'Sachin', 'Sachin', 'Rahul', 'Rahul', 'Sachin',\n",
              "       'Rahul', 'Sachin', 'Sachin', 'Rahul', 'Rahul', 'Rahul', 'Rahul',\n",
              "       'Sachin', 'Rahul', 'Rahul', 'Sachin', 'Sachin', 'Sachin', 'Sachin',\n",
              "       'Rahul', 'Sachin', 'Rahul', 'Sachin', 'Sachin', 'Sachin', 'Rahul',\n",
              "       'Sachin', 'Rahul', 'Sachin', 'Sachin', 'Sachin', 'Sachin', 'Rahul',\n",
              "       'Sachin', 'Rahul', 'Rahul', 'Sachin', 'Sachin', 'Rahul', 'Sachin',\n",
              "       'Rahul', 'Sachin', 'Sachin', 'Sachin', 'Sachin', 'Sachin',\n",
              "       'Sachin', 'Rahul', 'Rahul', 'Rahul', 'Sachin', 'Sachin', 'Sachin',\n",
              "       'Sachin', 'Rahul', 'Sachin', 'Rahul', 'Sachin', 'Sachin', 'Sachin',\n",
              "       'Sachin', 'Rahul', 'Rahul', 'Rahul', 'Sachin', 'Rahul', 'Sachin',\n",
              "       'Rahul', 'Sachin', 'Rahul', 'Sachin', 'Sachin', 'Rahul', 'Sachin',\n",
              "       'Rahul', 'Rahul', 'Sachin', 'Sachin', 'Rahul', 'Sachin', 'Sachin',\n",
              "       'Sachin', 'Sachin', 'Rahul', 'Sachin', 'Rahul', 'Rahul', 'Sachin',\n",
              "       'Sachin', 'Sachin', 'Sachin', 'Rahul', 'Rahul', 'Rahul', 'Sachin',\n",
              "       'Rahul', 'Rahul', 'Rahul', 'Rahul', 'Sachin', 'Rahul', 'Rahul',\n",
              "       'Sachin', 'Rahul', 'Rahul', 'Sachin', 'Rahul', 'Sachin', 'Sachin',\n",
              "       'Sachin', 'Rahul', 'Sachin', 'Rahul', 'Rahul', 'Rahul', 'Sachin',\n",
              "       'Sachin', 'Sachin', 'Rahul', 'Rahul', 'Sachin', 'Rahul', 'Sachin',\n",
              "       'Rahul', 'Rahul', 'Rahul', 'Rahul', 'Sachin', 'Sachin', 'Rahul',\n",
              "       'Sachin', 'Sachin'], dtype='<U6')"
            ]
          },
          "metadata": {
            "tags": []
          },
          "execution_count": 71
        }
      ]
    },
    {
      "cell_type": "code",
      "metadata": {
        "id": "JOFBA6UYwcR6"
      },
      "source": [
        "x_arr= np.arange(0, 101, 5)"
      ],
      "execution_count": 72,
      "outputs": []
    },
    {
      "cell_type": "code",
      "metadata": {
        "id": "MMioc_u72qeY"
      },
      "source": [
        "x_arr=x_arr.reshape((x_arr.shape[0],1))"
      ],
      "execution_count": 74,
      "outputs": []
    },
    {
      "cell_type": "code",
      "metadata": {
        "colab": {
          "base_uri": "https://localhost:8080/"
        },
        "id": "Ps96fP0826bW",
        "outputId": "0b05b53a-e44e-44c6-8502-ffd5edc68c97"
      },
      "source": [
        "indices= sachin>=x_arr\n",
        "indices.shape"
      ],
      "execution_count": 76,
      "outputs": [
        {
          "output_type": "execute_result",
          "data": {
            "text/plain": [
              "(21, 225)"
            ]
          },
          "metadata": {
            "tags": []
          },
          "execution_count": 76
        }
      ]
    },
    {
      "cell_type": "code",
      "metadata": {
        "colab": {
          "base_uri": "https://localhost:8080/"
        },
        "id": "pXsaQfJe3xdZ",
        "outputId": "4169973e-9dab-44b5-9393-6b60f862e300"
      },
      "source": [
        "for i in range(1, x_arr.shape[0]):\n",
        "  print(x_arr[i-1], np.mean(sachin[indices[i-1,:]]-x_arr[i-1]))"
      ],
      "execution_count": 84,
      "outputs": [
        {
          "output_type": "stream",
          "text": [
            "[0] 39.87555555555556\n",
            "[5] 45.61363636363637\n",
            "[10] 47.48026315789474\n",
            "[15] 47.45255474452555\n",
            "[20] 46.824\n",
            "[25] 44.10084033613445\n",
            "[30] 45.13461538461539\n",
            "[35] 43.24742268041237\n",
            "[40] 44.05882352941177\n",
            "[45] 43.41558441558441\n",
            "[50] 43.98529411764706\n",
            "[55] 42.317460317460316\n",
            "[60] 38.67213114754098\n",
            "[65] 37.654545454545456\n",
            "[70] 37.08163265306123\n",
            "[75] 34.34782608695652\n",
            "[80] 30.75\n",
            "[85] 28.65\n",
            "[90] 27.4\n",
            "[95] 26.433333333333334\n"
          ],
          "name": "stdout"
        }
      ]
    },
    {
      "cell_type": "code",
      "metadata": {
        "colab": {
          "base_uri": "https://localhost:8080/"
        },
        "id": "FHo2UFCk4Vg0",
        "outputId": "a85d566c-79a4-400c-b9cf-cbbed6a9dbc1"
      },
      "source": [
        "scores_Sachin_cumulative=np.cumsum(sachin)\n",
        "scores_Sachin_cumulative"
      ],
      "execution_count": 86,
      "outputs": [
        {
          "output_type": "execute_result",
          "data": {
            "text/plain": [
              "array([ 100.,  111.,  119.,  190.,  294.,  312.,  320.,  406.,  418.,\n",
              "        503.,  521.,  525.,  532.,  569.,  583.,  583.,  587.,  587.,\n",
              "        608.,  609.,  671.,  671.,  809.,  847.,  849.,  895.,  960.,\n",
              "        960.,  999., 1047., 1188., 1250., 1262., 1263., 1304., 1315.,\n",
              "       1318., 1504., 1515., 1542., 1569., 1620., 1638., 1670., 1816.,\n",
              "       1821., 1866., 2007., 2019., 2084., 2111., 2118., 2134., 2136.,\n",
              "       2164., 2170., 2293., 2413., 2420., 2423., 2423., 2504., 2506.,\n",
              "       2560., 2682., 2686., 2700., 2700., 2800., 2815., 2815., 2872.,\n",
              "       2971., 3008., 3046., 3078., 3099., 3131., 3171., 3171., 3176.,\n",
              "       3184., 3189., 3189., 3239., 3269., 3306., 3395., 3399., 3497.,\n",
              "       3580., 3673., 3673., 3725., 3877., 3878., 3886., 3979., 4024.,\n",
              "       4050., 4050., 4051., 4051., 4067., 4114., 4203., 4206., 4207.,\n",
              "       4260., 4276., 4276., 4357., 4371., 4449., 4455., 4560., 4682.,\n",
              "       4691., 4699., 4727., 4762., 4831., 4844., 4941., 5034., 5036.,\n",
              "       5072., 5111., 5113., 5142., 5154., 5173., 5207., 5209., 5309.,\n",
              "       5353., 5435., 5435., 5514., 5520., 5529., 5537., 5560., 5653.,\n",
              "       5688., 5751., 5825., 5833., 5950., 5989., 6038., 6102., 6145.,\n",
              "       6217., 6222., 6239., 6239., 6304., 6324., 6465., 6493., 6537.,\n",
              "       6564., 6624., 6692., 6695., 6834., 6865., 6867., 6911., 6958.,\n",
              "       6964., 6981., 7016., 7104., 7218., 7225., 7352., 7352., 7397.,\n",
              "       7430., 7540., 7686., 7693., 7718., 7727., 7729., 7740., 7757.,\n",
              "       7771., 7772., 7817., 7911., 7939., 7943., 8005., 8006., 8015.,\n",
              "       8082., 8092., 8191., 8246., 8246., 8247., 8348., 8350., 8351.,\n",
              "       8367., 8507., 8530., 8643., 8653., 8654., 8695., 8696., 8724.,\n",
              "       8726., 8748., 8777., 8778., 8803., 8905., 8905., 8932., 8972.])"
            ]
          },
          "metadata": {
            "tags": []
          },
          "execution_count": 86
        }
      ]
    },
    {
      "cell_type": "code",
      "metadata": {
        "colab": {
          "base_uri": "https://localhost:8080/"
        },
        "id": "zmt1T-0i5R0E",
        "outputId": "941b9d1e-7721-4884-eb5b-2219f75777d5"
      },
      "source": [
        "np.histogram(scores_Sachin_cumulative, bins=np.arange(0, 10000, 1000))"
      ],
      "execution_count": 87,
      "outputs": [
        {
          "output_type": "execute_result",
          "data": {
            "text/plain": [
              "(array([29, 18, 26, 25, 26, 26, 23, 22, 30]),\n",
              " array([   0, 1000, 2000, 3000, 4000, 5000, 6000, 7000, 8000, 9000]))"
            ]
          },
          "metadata": {
            "tags": []
          },
          "execution_count": 87
        }
      ]
    },
    {
      "cell_type": "code",
      "metadata": {
        "id": "WaMekWx95lcd"
      },
      "source": [
        ""
      ],
      "execution_count": null,
      "outputs": []
    }
  ]
}