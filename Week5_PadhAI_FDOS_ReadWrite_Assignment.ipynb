{
  "nbformat": 4,
  "nbformat_minor": 0,
  "metadata": {
    "colab": {
      "name": "Week5_PadhAI FDOS_ReadWrite_Assignment",
      "provenance": [],
      "collapsed_sections": [],
      "mount_file_id": "1bGIuDr8LkYcvHXb3JfWkDqfqirswEGU9",
      "authorship_tag": "ABX9TyMZ0eSkOURwXmYahwgRXqMv",
      "include_colab_link": true
    },
    "kernelspec": {
      "name": "python3",
      "display_name": "Python 3"
    },
    "language_info": {
      "name": "python"
    }
  },
  "cells": [
    {
      "cell_type": "markdown",
      "metadata": {
        "id": "view-in-github",
        "colab_type": "text"
      },
      "source": [
        "<a href=\"https://colab.research.google.com/github/DebjitHore/PadhAI_FDS/blob/master/Week5_PadhAI_FDOS_ReadWrite_Assignment.ipynb\" target=\"_parent\"><img src=\"https://colab.research.google.com/assets/colab-badge.svg\" alt=\"Open In Colab\"/></a>"
      ]
    },
    {
      "cell_type": "code",
      "metadata": {
        "colab": {
          "base_uri": "https://localhost:8080/"
        },
        "id": "2puobDluQ28O",
        "outputId": "93c6153f-bc68-4d3a-b0a4-ae46aaed2a33"
      },
      "source": [
        "f= open(\"poem.txt\", 'r')\n",
        "output= f.read()\n",
        "print(output)\n",
        "f.close()"
      ],
      "execution_count": 9,
      "outputs": [
        {
          "output_type": "stream",
          "text": [
            "Unending Love by Rabindranath Tagore\n",
            "\n",
            "I seem to have loved you in numberless forms, numberless times\n",
            "In life after life, in age after age, forever.\n",
            "My spellbound heart has made and remade the necklace of songs,\n",
            "That you take as a gift, wear round your neck in your many forms,\n",
            "In life after life, in age after age, forever.\n",
            "\n",
            "Whenever I hear old chronicles of love, its age-old pain,\n",
            "Its ancient tale of being apart or together.\n",
            "As I stare on and on into the past, in the end you emerge,\n",
            "Clad in the light of a pole-star piercing the darkness of time:\n",
            "You become an image of what is remembered forever.\n",
            "\n",
            "You and I have floated here on the stream that brings from the fount.\n",
            "At the heart of time, love of one for another.\n",
            "We have played along side millions of lovers, shared in the same\n",
            "Shy sweetness of meeting, the same distressful tears of farewell-\n",
            "Old love but in shapes that renew and renew forever.\n",
            "\n",
            "Today it is heaped at your feet, it has found its end in you\n",
            "The love of all man’s days both past and forever:\n",
            "Universal joy, universal sorrow, universal life.\n",
            "The memories of all loves merging with this one love of ours –\n",
            "And the songs of every poet past and forever.\n"
          ],
          "name": "stdout"
        }
      ]
    },
    {
      "cell_type": "code",
      "metadata": {
        "colab": {
          "base_uri": "https://localhost:8080/"
        },
        "id": "boS8zTlzGgJ3",
        "outputId": "d0c925b2-fa40-4c98-bc01-1d74254d5a0b"
      },
      "source": [
        "f= open(\"poem.txt\", 'r')\n",
        "out_Lines= f.readlines()\n",
        "print(out_Lines)\n",
        "f.close()"
      ],
      "execution_count": 10,
      "outputs": [
        {
          "output_type": "stream",
          "text": [
            "['Unending Love by Rabindranath Tagore\\n', '\\n', 'I seem to have loved you in numberless forms, numberless times\\n', 'In life after life, in age after age, forever.\\n', 'My spellbound heart has made and remade the necklace of songs,\\n', 'That you take as a gift, wear round your neck in your many forms,\\n', 'In life after life, in age after age, forever.\\n', '\\n', 'Whenever I hear old chronicles of love, its age-old pain,\\n', 'Its ancient tale of being apart or together.\\n', 'As I stare on and on into the past, in the end you emerge,\\n', 'Clad in the light of a pole-star piercing the darkness of time:\\n', 'You become an image of what is remembered forever.\\n', '\\n', 'You and I have floated here on the stream that brings from the fount.\\n', 'At the heart of time, love of one for another.\\n', 'We have played along side millions of lovers, shared in the same\\n', 'Shy sweetness of meeting, the same distressful tears of farewell-\\n', 'Old love but in shapes that renew and renew forever.\\n', '\\n', 'Today it is heaped at your feet, it has found its end in you\\n', 'The love of all man’s days both past and forever:\\n', 'Universal joy, universal sorrow, universal life.\\n', 'The memories of all loves merging with this one love of ours –\\n', 'And the songs of every poet past and forever.']\n"
          ],
          "name": "stdout"
        }
      ]
    },
    {
      "cell_type": "code",
      "metadata": {
        "colab": {
          "base_uri": "https://localhost:8080/"
        },
        "id": "p2XIInipHQip",
        "outputId": "fe81bfff-9fc3-4fe6-dbb7-24cb8cd4ff09"
      },
      "source": [
        "i=0\n",
        "for line in out_Lines:\n",
        "  print(i, '\\t', line.strip())\n",
        "  i+=1"
      ],
      "execution_count": 12,
      "outputs": [
        {
          "output_type": "stream",
          "text": [
            "0 \t Unending Love by Rabindranath Tagore\n",
            "1 \t \n",
            "2 \t I seem to have loved you in numberless forms, numberless times\n",
            "3 \t In life after life, in age after age, forever.\n",
            "4 \t My spellbound heart has made and remade the necklace of songs,\n",
            "5 \t That you take as a gift, wear round your neck in your many forms,\n",
            "6 \t In life after life, in age after age, forever.\n",
            "7 \t \n",
            "8 \t Whenever I hear old chronicles of love, its age-old pain,\n",
            "9 \t Its ancient tale of being apart or together.\n",
            "10 \t As I stare on and on into the past, in the end you emerge,\n",
            "11 \t Clad in the light of a pole-star piercing the darkness of time:\n",
            "12 \t You become an image of what is remembered forever.\n",
            "13 \t \n",
            "14 \t You and I have floated here on the stream that brings from the fount.\n",
            "15 \t At the heart of time, love of one for another.\n",
            "16 \t We have played along side millions of lovers, shared in the same\n",
            "17 \t Shy sweetness of meeting, the same distressful tears of farewell-\n",
            "18 \t Old love but in shapes that renew and renew forever.\n",
            "19 \t \n",
            "20 \t Today it is heaped at your feet, it has found its end in you\n",
            "21 \t The love of all man’s days both past and forever:\n",
            "22 \t Universal joy, universal sorrow, universal life.\n",
            "23 \t The memories of all loves merging with this one love of ours –\n",
            "24 \t And the songs of every poet past and forever.\n"
          ],
          "name": "stdout"
        }
      ]
    },
    {
      "cell_type": "code",
      "metadata": {
        "id": "95345D-_IeWD"
      },
      "source": [
        "f_out= open(\"Fav.txt\", \"w\")\n"
      ],
      "execution_count": 13,
      "outputs": []
    },
    {
      "cell_type": "code",
      "metadata": {
        "id": "Ht4Axwz_Iuxb"
      },
      "source": [
        "f_out.writelines(out_Lines[2])\n",
        "f_out.close()"
      ],
      "execution_count": 15,
      "outputs": []
    },
    {
      "cell_type": "code",
      "metadata": {
        "id": "18ATlcd8I1YH"
      },
      "source": [
        "f_new= open(\"poem.txt\", 'r')\n",
        "output=f_new.readlines()\n",
        "f_new.close()"
      ],
      "execution_count": 19,
      "outputs": []
    },
    {
      "cell_type": "code",
      "metadata": {
        "id": "jGUCOUI5KqUb"
      },
      "source": [
        "for i in range(len(output)):\n",
        "  output[i]=output[i].lower()"
      ],
      "execution_count": 22,
      "outputs": []
    },
    {
      "cell_type": "code",
      "metadata": {
        "id": "9aKvdo-oLKLG"
      },
      "source": [
        "chars_To_Replace= ['\\n', '-', '\"', ',','(',')', '.']\n",
        "for i in range(len(output)):\n",
        "  for s in chars_To_Replace:\n",
        "    output[i]=output[i].replace(s, ' ')"
      ],
      "execution_count": 26,
      "outputs": []
    },
    {
      "cell_type": "code",
      "metadata": {
        "colab": {
          "base_uri": "https://localhost:8080/"
        },
        "id": "pdqJV0L0Mb2L",
        "outputId": "4abc545e-b834-464e-c0d4-3586e390dd3f"
      },
      "source": [
        "print(output)"
      ],
      "execution_count": 27,
      "outputs": [
        {
          "output_type": "stream",
          "text": [
            "['unending love by rabindranath tagore ', ' ', 'i seem to have loved you in numberless forms  numberless times ', 'in life after life  in age after age  forever  ', 'my spellbound heart has made and remade the necklace of songs  ', 'that you take as a gift  wear round your neck in your many forms  ', 'in life after life  in age after age  forever  ', ' ', 'whenever i hear old chronicles of love  its age old pain  ', 'its ancient tale of being apart or together  ', 'as i stare on and on into the past  in the end you emerge  ', 'clad in the light of a pole star piercing the darkness of time: ', 'you become an image of what is remembered forever  ', ' ', 'you and i have floated here on the stream that brings from the fount  ', 'at the heart of time  love of one for another  ', 'we have played along side millions of lovers  shared in the same ', 'shy sweetness of meeting  the same distressful tears of farewell  ', 'old love but in shapes that renew and renew forever  ', ' ', 'today it is heaped at your feet  it has found its end in you ', 'the love of all man’s days both past and forever: ', 'universal joy  universal sorrow  universal life  ', 'the memories of all loves merging with this one love of ours – ', 'and the songs of every poet past and forever ']\n"
          ],
          "name": "stdout"
        }
      ]
    },
    {
      "cell_type": "code",
      "metadata": {
        "colab": {
          "base_uri": "https://localhost:8080/"
        },
        "id": "XCR775gQMdCA",
        "outputId": "707a73c0-9426-44ad-f039-e6407eb1f557"
      },
      "source": [
        "text= \" \".join(output)\n",
        "print(text)"
      ],
      "execution_count": 28,
      "outputs": [
        {
          "output_type": "stream",
          "text": [
            "unending love by rabindranath tagore    i seem to have loved you in numberless forms  numberless times  in life after life  in age after age  forever   my spellbound heart has made and remade the necklace of songs   that you take as a gift  wear round your neck in your many forms   in life after life  in age after age  forever     whenever i hear old chronicles of love  its age old pain   its ancient tale of being apart or together   as i stare on and on into the past  in the end you emerge   clad in the light of a pole star piercing the darkness of time:  you become an image of what is remembered forever     you and i have floated here on the stream that brings from the fount   at the heart of time  love of one for another   we have played along side millions of lovers  shared in the same  shy sweetness of meeting  the same distressful tears of farewell   old love but in shapes that renew and renew forever     today it is heaped at your feet  it has found its end in you  the love of all man’s days both past and forever:  universal joy  universal sorrow  universal life   the memories of all loves merging with this one love of ours –  and the songs of every poet past and forever \n"
          ],
          "name": "stdout"
        }
      ]
    },
    {
      "cell_type": "code",
      "metadata": {
        "id": "I_WNMog-NcfG"
      },
      "source": [
        "words=text.split()"
      ],
      "execution_count": 29,
      "outputs": []
    },
    {
      "cell_type": "code",
      "metadata": {
        "colab": {
          "base_uri": "https://localhost:8080/"
        },
        "id": "CeHITOWONmWx",
        "outputId": "a841e7a0-33c7-41d3-e29e-efc5e118e75b"
      },
      "source": [
        "print(words)"
      ],
      "execution_count": 30,
      "outputs": [
        {
          "output_type": "stream",
          "text": [
            "['unending', 'love', 'by', 'rabindranath', 'tagore', 'i', 'seem', 'to', 'have', 'loved', 'you', 'in', 'numberless', 'forms', 'numberless', 'times', 'in', 'life', 'after', 'life', 'in', 'age', 'after', 'age', 'forever', 'my', 'spellbound', 'heart', 'has', 'made', 'and', 'remade', 'the', 'necklace', 'of', 'songs', 'that', 'you', 'take', 'as', 'a', 'gift', 'wear', 'round', 'your', 'neck', 'in', 'your', 'many', 'forms', 'in', 'life', 'after', 'life', 'in', 'age', 'after', 'age', 'forever', 'whenever', 'i', 'hear', 'old', 'chronicles', 'of', 'love', 'its', 'age', 'old', 'pain', 'its', 'ancient', 'tale', 'of', 'being', 'apart', 'or', 'together', 'as', 'i', 'stare', 'on', 'and', 'on', 'into', 'the', 'past', 'in', 'the', 'end', 'you', 'emerge', 'clad', 'in', 'the', 'light', 'of', 'a', 'pole', 'star', 'piercing', 'the', 'darkness', 'of', 'time:', 'you', 'become', 'an', 'image', 'of', 'what', 'is', 'remembered', 'forever', 'you', 'and', 'i', 'have', 'floated', 'here', 'on', 'the', 'stream', 'that', 'brings', 'from', 'the', 'fount', 'at', 'the', 'heart', 'of', 'time', 'love', 'of', 'one', 'for', 'another', 'we', 'have', 'played', 'along', 'side', 'millions', 'of', 'lovers', 'shared', 'in', 'the', 'same', 'shy', 'sweetness', 'of', 'meeting', 'the', 'same', 'distressful', 'tears', 'of', 'farewell', 'old', 'love', 'but', 'in', 'shapes', 'that', 'renew', 'and', 'renew', 'forever', 'today', 'it', 'is', 'heaped', 'at', 'your', 'feet', 'it', 'has', 'found', 'its', 'end', 'in', 'you', 'the', 'love', 'of', 'all', 'man’s', 'days', 'both', 'past', 'and', 'forever:', 'universal', 'joy', 'universal', 'sorrow', 'universal', 'life', 'the', 'memories', 'of', 'all', 'loves', 'merging', 'with', 'this', 'one', 'love', 'of', 'ours', '–', 'and', 'the', 'songs', 'of', 'every', 'poet', 'past', 'and', 'forever']\n"
          ],
          "name": "stdout"
        }
      ]
    },
    {
      "cell_type": "code",
      "metadata": {
        "id": "q-dpJDvpNpzt"
      },
      "source": [
        "word_freq={}\n",
        "for word in words:\n",
        "  if word in word_freq:\n",
        "    word_freq[word]+=1\n",
        "  else:\n",
        "        word_freq[word]=1\n",
        "\n"
      ],
      "execution_count": 36,
      "outputs": []
    },
    {
      "cell_type": "code",
      "metadata": {
        "id": "1iF75XgxOLeN"
      },
      "source": [
        "sorted_List=sorted(word_freq.items(), key= lambda item: item[1], reverse=True)"
      ],
      "execution_count": 39,
      "outputs": []
    },
    {
      "cell_type": "code",
      "metadata": {
        "colab": {
          "base_uri": "https://localhost:8080/"
        },
        "id": "jYyY9yV3PvGn",
        "outputId": "e9550655-dbaf-4bf4-dc3c-d673065ef570"
      },
      "source": [
        "sorted_List[1:11]"
      ],
      "execution_count": 41,
      "outputs": [
        {
          "output_type": "execute_result",
          "data": {
            "text/plain": [
              "[('the', 13),\n",
              " ('in', 11),\n",
              " ('and', 7),\n",
              " ('love', 6),\n",
              " ('you', 6),\n",
              " ('life', 5),\n",
              " ('age', 5),\n",
              " ('forever', 5),\n",
              " ('i', 4),\n",
              " ('after', 4)]"
            ]
          },
          "metadata": {
            "tags": []
          },
          "execution_count": 41
        }
      ]
    },
    {
      "cell_type": "code",
      "metadata": {
        "id": "XbEO7gUiQlmr"
      },
      "source": [
        "with open('most_common_words.txt', \"w\") as f_output:\n",
        "  for item in sorted_List[1:11]:\n",
        "    f_output.write(item[0]+'\\n')\n",
        "    "
      ],
      "execution_count": 52,
      "outputs": []
    },
    {
      "cell_type": "code",
      "metadata": {
        "colab": {
          "base_uri": "https://localhost:8080/"
        },
        "id": "iWIFl5gQRNbS",
        "outputId": "18e5e036-15e5-4168-ed0b-395c07ed7f4a"
      },
      "source": [
        "print(words)"
      ],
      "execution_count": 53,
      "outputs": [
        {
          "output_type": "stream",
          "text": [
            "['unending', 'love', 'by', 'rabindranath', 'tagore', 'i', 'seem', 'to', 'have', 'loved', 'you', 'in', 'numberless', 'forms', 'numberless', 'times', 'in', 'life', 'after', 'life', 'in', 'age', 'after', 'age', 'forever', 'my', 'spellbound', 'heart', 'has', 'made', 'and', 'remade', 'the', 'necklace', 'of', 'songs', 'that', 'you', 'take', 'as', 'a', 'gift', 'wear', 'round', 'your', 'neck', 'in', 'your', 'many', 'forms', 'in', 'life', 'after', 'life', 'in', 'age', 'after', 'age', 'forever', 'whenever', 'i', 'hear', 'old', 'chronicles', 'of', 'love', 'its', 'age', 'old', 'pain', 'its', 'ancient', 'tale', 'of', 'being', 'apart', 'or', 'together', 'as', 'i', 'stare', 'on', 'and', 'on', 'into', 'the', 'past', 'in', 'the', 'end', 'you', 'emerge', 'clad', 'in', 'the', 'light', 'of', 'a', 'pole', 'star', 'piercing', 'the', 'darkness', 'of', 'time:', 'you', 'become', 'an', 'image', 'of', 'what', 'is', 'remembered', 'forever', 'you', 'and', 'i', 'have', 'floated', 'here', 'on', 'the', 'stream', 'that', 'brings', 'from', 'the', 'fount', 'at', 'the', 'heart', 'of', 'time', 'love', 'of', 'one', 'for', 'another', 'we', 'have', 'played', 'along', 'side', 'millions', 'of', 'lovers', 'shared', 'in', 'the', 'same', 'shy', 'sweetness', 'of', 'meeting', 'the', 'same', 'distressful', 'tears', 'of', 'farewell', 'old', 'love', 'but', 'in', 'shapes', 'that', 'renew', 'and', 'renew', 'forever', 'today', 'it', 'is', 'heaped', 'at', 'your', 'feet', 'it', 'has', 'found', 'its', 'end', 'in', 'you', 'the', 'love', 'of', 'all', 'man’s', 'days', 'both', 'past', 'and', 'forever:', 'universal', 'joy', 'universal', 'sorrow', 'universal', 'life', 'the', 'memories', 'of', 'all', 'loves', 'merging', 'with', 'this', 'one', 'love', 'of', 'ours', '–', 'and', 'the', 'songs', 'of', 'every', 'poet', 'past', 'and', 'forever']\n"
          ],
          "name": "stdout"
        }
      ]
    },
    {
      "cell_type": "code",
      "metadata": {
        "id": "rgT3GPTKYNTE"
      },
      "source": [
        "two_grams_zip= zip(words, words[1:])"
      ],
      "execution_count": 61,
      "outputs": []
    },
    {
      "cell_type": "code",
      "metadata": {
        "id": "w5IGy-64Ysv4"
      },
      "source": [
        "two_grams_list= [item for item in two_grams_zip]"
      ],
      "execution_count": 62,
      "outputs": []
    },
    {
      "cell_type": "code",
      "metadata": {
        "colab": {
          "base_uri": "https://localhost:8080/"
        },
        "id": "FojafM4JY9cM",
        "outputId": "f17b994a-de6b-4e4a-cf0b-030a32bcfe58"
      },
      "source": [
        "print(two_grams_list)"
      ],
      "execution_count": 63,
      "outputs": [
        {
          "output_type": "stream",
          "text": [
            "[('unending', 'love'), ('love', 'by'), ('by', 'rabindranath'), ('rabindranath', 'tagore'), ('tagore', 'i'), ('i', 'seem'), ('seem', 'to'), ('to', 'have'), ('have', 'loved'), ('loved', 'you'), ('you', 'in'), ('in', 'numberless'), ('numberless', 'forms'), ('forms', 'numberless'), ('numberless', 'times'), ('times', 'in'), ('in', 'life'), ('life', 'after'), ('after', 'life'), ('life', 'in'), ('in', 'age'), ('age', 'after'), ('after', 'age'), ('age', 'forever'), ('forever', 'my'), ('my', 'spellbound'), ('spellbound', 'heart'), ('heart', 'has'), ('has', 'made'), ('made', 'and'), ('and', 'remade'), ('remade', 'the'), ('the', 'necklace'), ('necklace', 'of'), ('of', 'songs'), ('songs', 'that'), ('that', 'you'), ('you', 'take'), ('take', 'as'), ('as', 'a'), ('a', 'gift'), ('gift', 'wear'), ('wear', 'round'), ('round', 'your'), ('your', 'neck'), ('neck', 'in'), ('in', 'your'), ('your', 'many'), ('many', 'forms'), ('forms', 'in'), ('in', 'life'), ('life', 'after'), ('after', 'life'), ('life', 'in'), ('in', 'age'), ('age', 'after'), ('after', 'age'), ('age', 'forever'), ('forever', 'whenever'), ('whenever', 'i'), ('i', 'hear'), ('hear', 'old'), ('old', 'chronicles'), ('chronicles', 'of'), ('of', 'love'), ('love', 'its'), ('its', 'age'), ('age', 'old'), ('old', 'pain'), ('pain', 'its'), ('its', 'ancient'), ('ancient', 'tale'), ('tale', 'of'), ('of', 'being'), ('being', 'apart'), ('apart', 'or'), ('or', 'together'), ('together', 'as'), ('as', 'i'), ('i', 'stare'), ('stare', 'on'), ('on', 'and'), ('and', 'on'), ('on', 'into'), ('into', 'the'), ('the', 'past'), ('past', 'in'), ('in', 'the'), ('the', 'end'), ('end', 'you'), ('you', 'emerge'), ('emerge', 'clad'), ('clad', 'in'), ('in', 'the'), ('the', 'light'), ('light', 'of'), ('of', 'a'), ('a', 'pole'), ('pole', 'star'), ('star', 'piercing'), ('piercing', 'the'), ('the', 'darkness'), ('darkness', 'of'), ('of', 'time:'), ('time:', 'you'), ('you', 'become'), ('become', 'an'), ('an', 'image'), ('image', 'of'), ('of', 'what'), ('what', 'is'), ('is', 'remembered'), ('remembered', 'forever'), ('forever', 'you'), ('you', 'and'), ('and', 'i'), ('i', 'have'), ('have', 'floated'), ('floated', 'here'), ('here', 'on'), ('on', 'the'), ('the', 'stream'), ('stream', 'that'), ('that', 'brings'), ('brings', 'from'), ('from', 'the'), ('the', 'fount'), ('fount', 'at'), ('at', 'the'), ('the', 'heart'), ('heart', 'of'), ('of', 'time'), ('time', 'love'), ('love', 'of'), ('of', 'one'), ('one', 'for'), ('for', 'another'), ('another', 'we'), ('we', 'have'), ('have', 'played'), ('played', 'along'), ('along', 'side'), ('side', 'millions'), ('millions', 'of'), ('of', 'lovers'), ('lovers', 'shared'), ('shared', 'in'), ('in', 'the'), ('the', 'same'), ('same', 'shy'), ('shy', 'sweetness'), ('sweetness', 'of'), ('of', 'meeting'), ('meeting', 'the'), ('the', 'same'), ('same', 'distressful'), ('distressful', 'tears'), ('tears', 'of'), ('of', 'farewell'), ('farewell', 'old'), ('old', 'love'), ('love', 'but'), ('but', 'in'), ('in', 'shapes'), ('shapes', 'that'), ('that', 'renew'), ('renew', 'and'), ('and', 'renew'), ('renew', 'forever'), ('forever', 'today'), ('today', 'it'), ('it', 'is'), ('is', 'heaped'), ('heaped', 'at'), ('at', 'your'), ('your', 'feet'), ('feet', 'it'), ('it', 'has'), ('has', 'found'), ('found', 'its'), ('its', 'end'), ('end', 'in'), ('in', 'you'), ('you', 'the'), ('the', 'love'), ('love', 'of'), ('of', 'all'), ('all', 'man’s'), ('man’s', 'days'), ('days', 'both'), ('both', 'past'), ('past', 'and'), ('and', 'forever:'), ('forever:', 'universal'), ('universal', 'joy'), ('joy', 'universal'), ('universal', 'sorrow'), ('sorrow', 'universal'), ('universal', 'life'), ('life', 'the'), ('the', 'memories'), ('memories', 'of'), ('of', 'all'), ('all', 'loves'), ('loves', 'merging'), ('merging', 'with'), ('with', 'this'), ('this', 'one'), ('one', 'love'), ('love', 'of'), ('of', 'ours'), ('ours', '–'), ('–', 'and'), ('and', 'the'), ('the', 'songs'), ('songs', 'of'), ('of', 'every'), ('every', 'poet'), ('poet', 'past'), ('past', 'and'), ('and', 'forever')]\n"
          ],
          "name": "stdout"
        }
      ]
    },
    {
      "cell_type": "code",
      "metadata": {
        "id": "ZyAN8uWDZCEg"
      },
      "source": [
        "word_freq_2gram={}\n",
        "for word in two_grams_list:\n",
        "  if word in word_freq_2gram:\n",
        "    word_freq_2gram[word]+=1\n",
        "  else:\n",
        "        word_freq_2gram[word]=1"
      ],
      "execution_count": 64,
      "outputs": []
    },
    {
      "cell_type": "code",
      "metadata": {
        "id": "GxUoDobnaCB0"
      },
      "source": [
        "sorted_List_2= sorted(word_freq_2gram.items(), key=lambda item: item[1], reverse=True)"
      ],
      "execution_count": 67,
      "outputs": []
    },
    {
      "cell_type": "code",
      "metadata": {
        "id": "jKFGJzS7aVXu"
      },
      "source": [
        "with open('most_common_twograms.txt', \"w\") as f_output:\n",
        "  for item in sorted_List_2[1:5]:\n",
        "    f_output.write(item[0][0]+ \" \" +item[0][1]+ '\\n')"
      ],
      "execution_count": 69,
      "outputs": []
    },
    {
      "cell_type": "code",
      "metadata": {
        "id": "UPGQb2LfbGjF"
      },
      "source": [
        ""
      ],
      "execution_count": null,
      "outputs": []
    }
  ]
}