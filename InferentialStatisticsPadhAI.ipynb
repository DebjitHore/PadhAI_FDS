{
 "cells": [
  {
   "cell_type": "code",
   "execution_count": 25,
   "id": "65373676-4aad-4c22-a7f4-a6e5c085b5dc",
   "metadata": {},
   "outputs": [],
   "source": [
    "import numpy as np\n",
    "import statistics\n",
    "import matplotlib.pyplot as plt\n",
    "import random"
   ]
  },
  {
   "cell_type": "markdown",
   "id": "bfd42058-8eac-4ee1-9496-79d874be41d2",
   "metadata": {
    "tags": []
   },
   "source": [
    "## For a Discrete Random Variable_ Dice Throw"
   ]
  },
  {
   "cell_type": "code",
   "execution_count": 26,
   "id": "2e9f879d-fb19-4ecf-b5c6-7fe1da709409",
   "metadata": {},
   "outputs": [],
   "source": [
    "def generateSampleSpace(n,k):  #function that generates k element sample space for n throws of a dice\n",
    "    sampleSpace=[]\n",
    "    for i in range(k):\n",
    "        tup= list(np.random.randint(1,7,n, dtype=int))\n",
    "        sampleSpace.append(tup)\n",
    "    return sampleSpace"
   ]
  },
  {
   "cell_type": "code",
   "execution_count": 27,
   "id": "63595d23-8eb1-419c-985f-a168659c4188",
   "metadata": {},
   "outputs": [
    {
     "data": {
      "text/plain": [
       "1.601965965965966"
      ]
     },
     "execution_count": 27,
     "metadata": {},
     "output_type": "execute_result"
    }
   ],
   "source": [
    "test_sampleSpace=generateSampleSpace(2, 1000) #generate 1000 sample space, for two consecutive die throws\n",
    "res= [np.mean(l) for l in test_sampleSpace] #calculate the mean for each sample \n",
    "statistics.variance(res) #calculate the variance"
   ]
  },
  {
   "cell_type": "code",
   "execution_count": 28,
   "id": "1a78f6f5-43ad-43c9-912b-9536b80f945c",
   "metadata": {},
   "outputs": [
    {
     "data": {
      "text/plain": [
       "0.5967957957957958"
      ]
     },
     "execution_count": 28,
     "metadata": {},
     "output_type": "execute_result"
    }
   ],
   "source": [
    "test_sampleSpace=generateSampleSpace(5, 1000) #generate 1000 sample space, for five consecutive die throws\n",
    "res= [np.mean(l) for l in test_sampleSpace] #calculate the mean for each sample \n",
    "statistics.variance(res) #calculate the variance"
   ]
  },
  {
   "cell_type": "code",
   "execution_count": 29,
   "id": "7164ce7f-2645-4a46-8009-90b79cd06d7a",
   "metadata": {},
   "outputs": [],
   "source": [
    "varianceList=[]\n",
    "for n in range(2, 50):\n",
    "    test_sampleSpace= generateSampleSpace(n, 1000)\n",
    "    res= [np.mean(l) for l in test_sampleSpace] #calculate the mean for each sample \n",
    "    varianceList.append(statistics.variance(res))"
   ]
  },
  {
   "cell_type": "code",
   "execution_count": 30,
   "id": "29935411-b60d-4908-a3f5-28b153bfc0f6",
   "metadata": {},
   "outputs": [
    {
     "data": {
      "text/plain": [
       "Text(0.5, 1.0, 'Sample Size vs Variance Plot')"
      ]
     },
     "execution_count": 30,
     "metadata": {},
     "output_type": "execute_result"
    },
    {
     "data": {
      "image/png": "[encoded data removed]",
      "text/plain": [
       "<Figure size 432x288 with 1 Axes>"
      ]
     },
     "metadata": {
      "needs_background": "light"
     },
     "output_type": "display_data"
    }
   ],
   "source": [
    "## PLOT\n",
    "x=[a for a in range(len(varianceList))]\n",
    "\n",
    "\n",
    "plt.Figure\n",
    "plt.plot(x, varianceList, 'bo')\n",
    "plt.title('Sample Size vs Variance Plot')\n"
   ]
  },
  {
   "cell_type": "markdown",
   "id": "c1f312cd-8b64-4c15-a390-9b29d1388e9d",
   "metadata": {},
   "source": [
    "## For a Normal Continuous Distribution"
   ]
  },
  {
   "cell_type": "code",
   "execution_count": 31,
   "id": "1181b44d-9af4-4e04-b66a-937e4253d96e",
   "metadata": {},
   "outputs": [],
   "source": [
    "def generateNormalSampleSpace(a,b, n=10,k=1000):  #function that generates k element sample space for n throws of a dice\n",
    "    sampleNormalSpace=[]\n",
    "    for i in range(k):\n",
    "        tupp= list(np.random.normal(loc=a, scale=b, size=n))\n",
    "        sampleNormalSpace.append(tupp)\n",
    "    return sampleNormalSpace"
   ]
  },
  {
   "cell_type": "code",
   "execution_count": 32,
   "id": "7ecfb1fc-4408-4954-a69e-9392afe26514",
   "metadata": {},
   "outputs": [],
   "source": [
    "mu= [-5, -4, -3, -2, -1, 0, 1, 2, 3, 4, 5]\n",
    "sdFix=1\n",
    "normal_SampleSpace= generateNormalSampleSpace(2,3) #generate 1000 example sample space"
   ]
  },
  {
   "cell_type": "code",
   "execution_count": 33,
   "id": "baf0ed9f-baee-497e-917f-fb3c9f66831e",
   "metadata": {},
   "outputs": [
    {
     "data": {
      "text/plain": [
       "0.8822803359913337"
      ]
     },
     "execution_count": 33,
     "metadata": {},
     "output_type": "execute_result"
    }
   ],
   "source": [
    "res= [np.mean(l) for l in normal_SampleSpace] #calculate the mean for each sample \n",
    "statistics.variance(res)"
   ]
  },
  {
   "cell_type": "code",
   "execution_count": 34,
   "id": "e3a09096-7630-46c6-96fb-05c8bd5f719e",
   "metadata": {},
   "outputs": [
    {
     "data": {
      "text/plain": [
       "Text(0.5, 1.0, 'Sample Size vs Variance Plot')"
      ]
     },
     "execution_count": 34,
     "metadata": {},
     "output_type": "execute_result"
    },
    {
     "data": {
      "image/png": "[encoded data removed]",
      "text/plain": [
       "<Figure size 432x288 with 1 Axes>"
      ]
     },
     "metadata": {
      "needs_background": "light"
     },
     "output_type": "display_data"
    }
   ],
   "source": [
    "## PLOT\n",
    "x=[a for a in range(len(varianceList))]\n",
    "\n",
    "\n",
    "plt.Figure\n",
    "plt.plot(x, varianceList, 'bo')\n",
    "plt.title('Sample Size vs Variance Plot')\n"
   ]
  },
  {
   "cell_type": "markdown",
   "id": "df535c77-b4ee-4dc1-b784-2a7af2e21017",
   "metadata": {
    "tags": []
   },
   "source": [
    "## Central Limit Theorem\n",
    "\n",
    "The sum of n random samples from a population has a Normal Distribution if the number of samples is large."
   ]
  },
  {
   "cell_type": "code",
   "execution_count": 35,
   "id": "250239d5-b2dd-45fb-9255-b8aeeb202783",
   "metadata": {},
   "outputs": [],
   "source": [
    "population= list(np.random.rand(100000))"
   ]
  },
  {
   "cell_type": "code",
   "execution_count": 36,
   "id": "0574a142-822d-4aab-b098-9fd27ed6ba6f",
   "metadata": {},
   "outputs": [],
   "source": [
    "def centrallimitTheorem(n, sampleSize): #n is number of samples\n",
    "    sumTemp=0\n",
    "    sampleSum=[] #Sum over n samples\n",
    "    for i in range(n):\n",
    "        sample= random.sample(population, sampleSize)\n",
    "        sumTemp= np.mean(sample)\n",
    "        sampleSum.append(sumTemp)\n",
    "        sumTemp=0\n",
    "    return sampleSum"
   ]
  },
  {
   "cell_type": "markdown",
   "id": "f255662d-f46a-4b90-b323-2098f206dfe5",
   "metadata": {},
   "source": [
    "## Histogram plot for varying number of samples."
   ]
  },
  {
   "cell_type": "code",
   "execution_count": 37,
   "id": "2c2d71a8-82cf-442d-b95a-5cbe8c2529ee",
   "metadata": {},
   "outputs": [
    {
     "data": {
      "image/png": "[encoded data removed]",
      "text/plain": [
       "<Figure size 432x288 with 1 Axes>"
      ]
     },
     "metadata": {
      "needs_background": "light"
     },
     "output_type": "display_data"
    },
    {
     "data": {
      "image/png": "[encoded data removed]",
      "text/plain": [
       "<Figure size 432x288 with 1 Axes>"
      ]
     },
     "metadata": {
      "needs_background": "light"
     },
     "output_type": "display_data"
    },
    {
     "data": {
      "image/png": "[encoded data removed]",
      "text/plain": [
       "<Figure size 432x288 with 1 Axes>"
      ]
     },
     "metadata": {
      "needs_background": "light"
     },
     "output_type": "display_data"
    },
    {
     "data": {
      "image/png": "[encoded data removed]",
      "text/plain": [
       "<Figure size 432x288 with 1 Axes>"
      ]
     },
     "metadata": {
      "needs_background": "light"
     },
     "output_type": "display_data"
    },
    {
     "data": {
      "image/png": "[encoded data removed]",
      "text/plain": [
       "<Figure size 432x288 with 1 Axes>"
      ]
     },
     "metadata": {
      "needs_background": "light"
     },
     "output_type": "display_data"
    },
    {
     "data": {
      "image/png": "[encoded data removed]",
      "text/plain": [
       "<Figure size 432x288 with 1 Axes>"
      ]
     },
     "metadata": {
      "needs_background": "light"
     },
     "output_type": "display_data"
    }
   ],
   "source": [
    "n=[10, 50, 100, 500, 1000, 10000]\n",
    "j=1\n",
    "for i in n:\n",
    "    sampleSumList= centrallimitTheorem(i, 10)\n",
    "    plt.subplot(2,3,j)\n",
    "    plt.hist(sampleSumList)\n",
    "    plt.show()\n",
    "    j+=1"
   ]
  },
  {
   "cell_type": "markdown",
   "id": "236150e9-fc12-4953-9b90-46f96f3f0af3",
   "metadata": {},
   "source": [
    "## Chi Square Distribution:\n",
    "Here we check out how the variance of the entire population relates to the average of the variance of a 1000 samples of size 3 each."
   ]
  },
  {
   "cell_type": "code",
   "execution_count": 38,
   "id": "db51ff12-26c9-408d-9abd-c1cd6370cbb5",
   "metadata": {},
   "outputs": [],
   "source": [
    "population= list(np.random.rand(1000))\n",
    "varPopulation= statistics.variance(population)"
   ]
  },
  {
   "cell_type": "code",
   "execution_count": 39,
   "id": "aa432d23-1b3d-45bd-8b51-f0fac1b19d95",
   "metadata": {},
   "outputs": [],
   "source": [
    "varSampleCollection=[]\n",
    "varSample=0\n",
    "def chiSquare(n=1000, sampleSize=3):   #10,15 sampleSize gives a normal distribution?\n",
    "    for i in range(n):\n",
    "        sample= random.sample(population, sampleSize)\n",
    "        varSample= statistics.variance(sample)\n",
    "        varSampleCollection.append(varSample)\n",
    "        varSample=0\n",
    "    meanVariance=np.mean(varSampleCollection)\n",
    "    return (meanVariance, varSampleCollection)"
   ]
  },
  {
   "cell_type": "code",
   "execution_count": 40,
   "id": "75a9d75c-dc56-4b0a-a1e8-98e27c2e9464",
   "metadata": {},
   "outputs": [
    {
     "data": {
      "text/plain": [
       "0.07839882343722519"
      ]
     },
     "execution_count": 40,
     "metadata": {},
     "output_type": "execute_result"
    }
   ],
   "source": [
    "varPopulation"
   ]
  },
  {
   "cell_type": "code",
   "execution_count": 41,
   "id": "769d310c-63a3-45ae-9b47-69ae4eb160a2",
   "metadata": {},
   "outputs": [
    {
     "data": {
      "text/plain": [
       "0.07975748469984921"
      ]
     },
     "execution_count": 41,
     "metadata": {},
     "output_type": "execute_result"
    }
   ],
   "source": [
    "(sampleVariance, varSample)= chiSquare()\n",
    "sampleVariance"
   ]
  },
  {
   "cell_type": "code",
   "execution_count": 42,
   "id": "6c7906a6-8a10-4902-a008-48dff94bdda4",
   "metadata": {},
   "outputs": [
    {
     "data": {
      "text/plain": [
       "(array([257., 181., 154., 138.,  77.,  83.,  54.,  31.,  14.,  11.]),\n",
       " array([1.32312193e-05, 2.79994775e-02, 5.59857238e-02, 8.39719701e-02,\n",
       "        1.11958216e-01, 1.39944463e-01, 1.67930709e-01, 1.95916955e-01,\n",
       "        2.23903202e-01, 2.51889448e-01, 2.79875694e-01]),\n",
       " <BarContainer object of 10 artists>)"
      ]
     },
     "execution_count": 42,
     "metadata": {},
     "output_type": "execute_result"
    },
    {
     "data": {
      "image/png": "[encoded data removed]",
      "text/plain": [
       "<Figure size 432x288 with 1 Axes>"
      ]
     },
     "metadata": {
      "needs_background": "light"
     },
     "output_type": "display_data"
    }
   ],
   "source": [
    " plt.hist(varSample)"
   ]
  },
  {
   "cell_type": "markdown",
   "id": "7e0415b0-57f7-4396-b1fe-f2d5d25dc2cd",
   "metadata": {},
   "source": [
    "### Distribution of Sum of standard normal variables:"
   ]
  },
  {
   "cell_type": "code",
   "execution_count": 43,
   "id": "78462192-2608-4eef-ba79-e4aae33c6a3b",
   "metadata": {},
   "outputs": [],
   "source": [
    "Z1= np.random.normal(loc=0.0, scale=1.0, size=10000)\n",
    "Z2= np.random.normal(loc=0.0, scale=1.0, size=10000)\n",
    "Z3= np.random.normal(loc=0.0, scale=1.0, size=10000)"
   ]
  },
  {
   "cell_type": "code",
   "execution_count": 44,
   "id": "5b3333aa-b0c6-4dad-9fcb-c43a72916db2",
   "metadata": {},
   "outputs": [],
   "source": [
    "Q= Z1**2+Z2**2\n",
    "Q2= Z1**2+Z2**2+Z3**2"
   ]
  },
  {
   "cell_type": "code",
   "execution_count": 51,
   "id": "7efec7b8-da3e-454e-9cb0-aec775644f96",
   "metadata": {},
   "outputs": [
    {
     "data": {
      "image/png": "[encoded data removed]",
      "text/plain": [
       "<Figure size 432x288 with 1 Axes>"
      ]
     },
     "metadata": {
      "needs_background": "light"
     },
     "output_type": "display_data"
    }
   ],
   "source": [
    "plt.hist(Z1, 50, density=True);\n",
    "plt.title('Plotting a standard normal variable');"
   ]
  },
  {
   "cell_type": "code",
   "execution_count": 52,
   "id": "4531f806-9438-46bd-8865-2dded919fe3b",
   "metadata": {},
   "outputs": [
    {
     "data": {
      "image/png": "[encoded data removed]",
      "text/plain": [
       "<Figure size 432x288 with 1 Axes>"
      ]
     },
     "metadata": {
      "needs_background": "light"
     },
     "output_type": "display_data"
    }
   ],
   "source": [
    "plt.hist(Z1**2, 50, density=True);\n",
    "plt.title('Plotting square of a standard normal variable');"
   ]
  },
  {
   "cell_type": "code",
   "execution_count": 53,
   "id": "049b0887-7b67-49c0-8d0d-bff0d56708df",
   "metadata": {},
   "outputs": [
    {
     "data": {
      "image/png": "[encoded data removed]",
      "text/plain": [
       "<Figure size 432x288 with 1 Axes>"
      ]
     },
     "metadata": {
      "needs_background": "light"
     },
     "output_type": "display_data"
    }
   ],
   "source": [
    "plt.hist(Q, 50, density=True);\n",
    "plt.title('Plotting sum of squares of two standard normal variable');"
   ]
  },
  {
   "cell_type": "markdown",
   "id": "df1605e2-6190-403d-ab63-1d8715b37d0e",
   "metadata": {},
   "source": [
    "**The tail is longer for Q with n=2 {Z1, Z2} as compared to Q with n=1 {Z1}**"
   ]
  },
  {
   "cell_type": "code",
   "execution_count": 54,
   "id": "f8d00d01-0015-42f2-85b9-a4fe5aa6c23a",
   "metadata": {},
   "outputs": [
    {
     "data": {
      "image/png": "[encoded data removed]",
      "text/plain": [
       "<Figure size 432x288 with 1 Axes>"
      ]
     },
     "metadata": {
      "needs_background": "light"
     },
     "output_type": "display_data"
    }
   ],
   "source": [
    "plt.hist(Q2, 70, density=True); #Q as a sum of squares of three standard normal variables. It is a non-monotonic function.\n",
    "plt.title('Plotting sum of squares of three standard normal variable');"
   ]
  },
  {
   "cell_type": "markdown",
   "id": "3d4503dd-5ce4-487c-b817-8dbdffeefd24",
   "metadata": {},
   "source": [
    "The distribution shifts toward right as the number of standard normal variables (SNV) in the squared summation keeps increasing. Till it reaches the point where with enough SNV in the summation term the distribution turns normal."
   ]
  },
  {
   "cell_type": "code",
   "execution_count": null,
   "id": "595a88e8-e0c1-4bd3-8676-c2c8a761180e",
   "metadata": {},
   "outputs": [],
   "source": []
  }
 ],
 "metadata": {
  "kernelspec": {
   "display_name": "Python 3 (ipykernel)",
   "language": "python",
   "name": "python3"
  },
  "language_info": {
   "codemirror_mode": {
    "name": "ipython",
    "version": 3
   },
   "file_extension": ".py",
   "mimetype": "text/x-python",
   "name": "python",
   "nbconvert_exporter": "python",
   "pygments_lexer": "ipython3",
   "version": "3.9.9"
  }
 },
 "nbformat": 4,
 "nbformat_minor": 5
}
