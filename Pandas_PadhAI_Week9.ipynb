{
  "nbformat": 4,
  "nbformat_minor": 0,
  "metadata": {
    "colab": {
      "name": "Pandas_PadhAI_Week9.ipynb",
      "provenance": [],
      "collapsed_sections": [],
      "authorship_tag": "ABX9TyOoQg6uZNxApY+5PqneleRe",
      "include_colab_link": true
    },
    "kernelspec": {
      "name": "python3",
      "display_name": "Python 3"
    },
    "language_info": {
      "name": "python"
    }
  },
  "cells": [
    {
      "cell_type": "markdown",
      "metadata": {
        "id": "view-in-github",
        "colab_type": "text"
      },
      "source": [
        "<a href=\"https://colab.research.google.com/github/DebjitHore/PadhAI_FDS/blob/master/Pandas_PadhAI_Week9.ipynb\" target=\"_parent\"><img src=\"https://colab.research.google.com/assets/colab-badge.svg\" alt=\"Open In Colab\"/></a>"
      ]
    },
    {
      "cell_type": "code",
      "metadata": {
        "id": "zULqnh_Ymw7V"
      },
      "source": [
        "import numpy as np\n",
        "import pandas as pd"
      ],
      "execution_count": 2,
      "outputs": []
    },
    {
      "cell_type": "code",
      "metadata": {
        "id": "wyRkjbxmnkR5",
        "colab": {
          "base_uri": "https://localhost:8080/"
        },
        "outputId": "ac208139-ba16-4062-be7c-446902497059"
      },
      "source": [
        "s= pd.Series([0,1,1,2,3,5])\n",
        "s"
      ],
      "execution_count": 3,
      "outputs": [
        {
          "output_type": "execute_result",
          "data": {
            "text/plain": [
              "0    0\n",
              "1    1\n",
              "2    1\n",
              "3    2\n",
              "4    3\n",
              "5    5\n",
              "dtype: int64"
            ]
          },
          "metadata": {
            "tags": []
          },
          "execution_count": 3
        }
      ]
    },
    {
      "cell_type": "code",
      "metadata": {
        "colab": {
          "base_uri": "https://localhost:8080/"
        },
        "id": "q7UeONsFCBGl",
        "outputId": "2123cb08-e81f-44d5-e87e-7bb650b69ed4"
      },
      "source": [
        "s.values"
      ],
      "execution_count": 4,
      "outputs": [
        {
          "output_type": "execute_result",
          "data": {
            "text/plain": [
              "array([0, 1, 1, 2, 3, 5])"
            ]
          },
          "metadata": {
            "tags": []
          },
          "execution_count": 4
        }
      ]
    },
    {
      "cell_type": "code",
      "metadata": {
        "colab": {
          "base_uri": "https://localhost:8080/"
        },
        "id": "s85Kdr1tCGrJ",
        "outputId": "45d460d0-cb51-41d1-beac-805f6b46eed0"
      },
      "source": [
        "s.index"
      ],
      "execution_count": 5,
      "outputs": [
        {
          "output_type": "execute_result",
          "data": {
            "text/plain": [
              "RangeIndex(start=0, stop=6, step=1)"
            ]
          },
          "metadata": {
            "tags": []
          },
          "execution_count": 5
        }
      ]
    },
    {
      "cell_type": "code",
      "metadata": {
        "colab": {
          "base_uri": "https://localhost:8080/"
        },
        "id": "RGjl0zB0CKRy",
        "outputId": "981a02b4-202a-4660-8152-8de91dd10df1"
      },
      "source": [
        "for item in zip(s.index, s.values):\n",
        "  print(item)\n",
        "#A tuple is returned "
      ],
      "execution_count": 6,
      "outputs": [
        {
          "output_type": "stream",
          "text": [
            "(0, 0)\n",
            "(1, 1)\n",
            "(2, 1)\n",
            "(3, 2)\n",
            "(4, 3)\n",
            "(5, 5)\n"
          ],
          "name": "stdout"
        }
      ]
    },
    {
      "cell_type": "code",
      "metadata": {
        "id": "O-cHDczTCaLA"
      },
      "source": [
        "#s=pd.DataFrame({'name': ['Bob', 'Sue', 'Mary'], 'age': [39, 57,21]})\n",
        "#s=pd.Series({'name': ['Bob', 'Sue', 'Mary'], 'age': [39, 57,21]})\n",
        "#CHECK THE DIFFERENCES."
      ],
      "execution_count": 7,
      "outputs": []
    },
    {
      "cell_type": "code",
      "metadata": {
        "id": "ZdcPMLLOEJ2L"
      },
      "source": [
        "#After describing the series if you eliminate the index to any particular value that particular value gets filtered out too.  "
      ],
      "execution_count": 8,
      "outputs": []
    },
    {
      "cell_type": "code",
      "metadata": {
        "id": "hEtWhREdELyR"
      },
      "source": [
        "#Check the PandasforGrandPa notebook in GitHub for details of indexing and etc"
      ],
      "execution_count": 9,
      "outputs": []
    },
    {
      "cell_type": "markdown",
      "metadata": {
        "id": "EcLRAgMUItDO"
      },
      "source": [
        "# Task 1\n",
        "\n",
        "Calculating the density series of planets when we have two series of their mass and diameters"
      ]
    },
    {
      "cell_type": "code",
      "metadata": {
        "id": "WpOcM8SpphzI"
      },
      "source": [
        "mass = pd.Series([0.33, 4.87, 5.97, 0.642, 1898, 568, 86.8, 102, 0.0146], \n",
        "                 index=['Mercury', 'Venus', 'Earth', 'Mars', 'Jupiter', 'Saturn', 'Uranus', 'Neptune', 'Pluto'])"
      ],
      "execution_count": 10,
      "outputs": []
    },
    {
      "cell_type": "code",
      "metadata": {
        "colab": {
          "base_uri": "https://localhost:8080/"
        },
        "id": "4Lo81H5qIqOK",
        "outputId": "e8b56108-4721-4e6f-fb9f-86a81d0e06e5"
      },
      "source": [
        "diameter = pd.Series([4879, 12104, 12756, 3475, 6792, 142984, 120536, 51118, 49528, 2370], \n",
        "                     index=['Mercury', 'Venus', 'Earth', 'Moon', 'Mars', 'Jupiter', 'Saturn', 'Uranus', 'Neptune', 'Pluto'])\n",
        "print(mass, diameter)"
      ],
      "execution_count": 11,
      "outputs": [
        {
          "output_type": "stream",
          "text": [
            "Mercury       0.3300\n",
            "Venus         4.8700\n",
            "Earth         5.9700\n",
            "Mars          0.6420\n",
            "Jupiter    1898.0000\n",
            "Saturn      568.0000\n",
            "Uranus       86.8000\n",
            "Neptune     102.0000\n",
            "Pluto         0.0146\n",
            "dtype: float64 Mercury      4879\n",
            "Venus       12104\n",
            "Earth       12756\n",
            "Moon         3475\n",
            "Mars         6792\n",
            "Jupiter    142984\n",
            "Saturn     120536\n",
            "Uranus      51118\n",
            "Neptune     49528\n",
            "Pluto        2370\n",
            "dtype: int64\n"
          ],
          "name": "stdout"
        }
      ]
    },
    {
      "cell_type": "code",
      "metadata": {
        "colab": {
          "base_uri": "https://localhost:8080/"
        },
        "id": "fh5GzsqgIsht",
        "outputId": "42caf484-a508-4308-9654-55ccfe1ddf4d"
      },
      "source": [
        "density= pd.Series([])"
      ],
      "execution_count": 12,
      "outputs": [
        {
          "output_type": "stream",
          "text": [
            "/usr/local/lib/python3.7/dist-packages/ipykernel_launcher.py:1: DeprecationWarning: The default dtype for empty Series will be 'object' instead of 'float64' in a future version. Specify a dtype explicitly to silence this warning.\n",
            "  \"\"\"Entry point for launching an IPython kernel.\n"
          ],
          "name": "stderr"
        }
      ]
    },
    {
      "cell_type": "code",
      "metadata": {
        "colab": {
          "base_uri": "https://localhost:8080/"
        },
        "id": "c-e1RMtsIzkk",
        "outputId": "62a66c8b-13b6-4b53-a4b3-8569ae3a52e8"
      },
      "source": [
        "for planet in mass.index:\n",
        "  density[planet]= mass.loc[planet]/((np.pi* (diameter.loc[planet]) **3)/6)\n",
        "\n",
        "density"
      ],
      "execution_count": 13,
      "outputs": [
        {
          "output_type": "execute_result",
          "data": {
            "text/plain": [
              "Mercury    5.426538e-12\n",
              "Venus      5.244977e-12\n",
              "Earth      5.493286e-12\n",
              "Mars       3.913302e-12\n",
              "Jupiter    1.240039e-12\n",
              "Saturn     6.194402e-13\n",
              "Uranus     1.241079e-12\n",
              "Neptune    1.603427e-12\n",
              "Pluto      2.094639e-12\n",
              "dtype: float64"
            ]
          },
          "metadata": {
            "tags": []
          },
          "execution_count": 13
        }
      ]
    },
    {
      "cell_type": "code",
      "metadata": {
        "colab": {
          "base_uri": "https://localhost:8080/"
        },
        "id": "a11Lef8IJRYK",
        "outputId": "d2017a81-cbcd-4925-8045-6a92074e8b6a"
      },
      "source": [
        "density_withoutloops= mass/(np.pi* np.power(diameter, 3)/6)\n",
        "density_withoutloops"
      ],
      "execution_count": 14,
      "outputs": [
        {
          "output_type": "execute_result",
          "data": {
            "text/plain": [
              "Earth      5.493286e-12\n",
              "Jupiter    1.240039e-12\n",
              "Mars       3.913302e-12\n",
              "Mercury    5.426538e-12\n",
              "Moon                NaN\n",
              "Neptune    1.603427e-12\n",
              "Pluto      2.094639e-12\n",
              "Saturn     6.194402e-13\n",
              "Uranus     1.241079e-12\n",
              "Venus      5.244977e-12\n",
              "dtype: float64"
            ]
          },
          "metadata": {
            "tags": []
          },
          "execution_count": 14
        }
      ]
    },
    {
      "cell_type": "markdown",
      "metadata": {
        "id": "oK7BX2DoKs-D"
      },
      "source": [
        "Task 2: Replace all NAN values in density with the mean value of density"
      ]
    },
    {
      "cell_type": "code",
      "metadata": {
        "colab": {
          "base_uri": "https://localhost:8080/"
        },
        "id": "4dOJ_FdvKBda",
        "outputId": "e0d7dcee-316e-4621-801f-0417f154c560"
      },
      "source": [
        "mean_density= np.mean(density)\n",
        "mean_density"
      ],
      "execution_count": 15,
      "outputs": [
        {
          "output_type": "execute_result",
          "data": {
            "text/plain": [
              "2.986303020944728e-12"
            ]
          },
          "metadata": {
            "tags": []
          },
          "execution_count": 15
        }
      ]
    },
    {
      "cell_type": "code",
      "metadata": {
        "id": "37gaT6gPK5r7"
      },
      "source": [
        "density_withoutloops[np.isnan(density_withoutloops)]= mean_density"
      ],
      "execution_count": 16,
      "outputs": []
    },
    {
      "cell_type": "code",
      "metadata": {
        "colab": {
          "base_uri": "https://localhost:8080/"
        },
        "id": "9RoQp5COLDA4",
        "outputId": "68ed3f1f-74db-4a72-b19e-e2f24a93655b"
      },
      "source": [
        "density_withoutloops"
      ],
      "execution_count": 17,
      "outputs": [
        {
          "output_type": "execute_result",
          "data": {
            "text/plain": [
              "Earth      5.493286e-12\n",
              "Jupiter    1.240039e-12\n",
              "Mars       3.913302e-12\n",
              "Mercury    5.426538e-12\n",
              "Moon       2.986303e-12\n",
              "Neptune    1.603427e-12\n",
              "Pluto      2.094639e-12\n",
              "Saturn     6.194402e-13\n",
              "Uranus     1.241079e-12\n",
              "Venus      5.244977e-12\n",
              "dtype: float64"
            ]
          },
          "metadata": {
            "tags": []
          },
          "execution_count": 17
        }
      ]
    },
    {
      "cell_type": "markdown",
      "metadata": {
        "id": "1JUOnkf-P9ys"
      },
      "source": [
        "## NIFTY CASE STUDY"
      ]
    },
    {
      "cell_type": "code",
      "metadata": {
        "colab": {
          "base_uri": "https://localhost:8080/"
        },
        "id": "XeMhxAuwLLnI",
        "outputId": "1347a489-8351-4481-9b77-19567093a9c2"
      },
      "source": [
        "nifty= pd.read_csv('nifty.csv', index_col=0).iloc[:,0]\n",
        "nifty"
      ],
      "execution_count": 20,
      "outputs": [
        {
          "output_type": "execute_result",
          "data": {
            "text/plain": [
              "Date\n",
              "01-Jan-2019    10910.10\n",
              "02-Jan-2019    10792.50\n",
              "03-Jan-2019    10672.25\n",
              "04-Jan-2019    10727.35\n",
              "07-Jan-2019    10771.80\n",
              "                 ...   \n",
              "24-Dec-2019    12214.55\n",
              "26-Dec-2019    12126.55\n",
              "27-Dec-2019    12245.80\n",
              "30-Dec-2019    12255.85\n",
              "31-Dec-2019    12168.45\n",
              "Name: Close, Length: 245, dtype: float64"
            ]
          },
          "metadata": {
            "tags": []
          },
          "execution_count": 20
        }
      ]
    },
    {
      "cell_type": "code",
      "metadata": {
        "colab": {
          "base_uri": "https://localhost:8080/"
        },
        "id": "YQYV8BswTiL-",
        "outputId": "26f80ccb-80dc-4ec3-f866-8d0758581339"
      },
      "source": [
        "nifty.head(25)"
      ],
      "execution_count": 21,
      "outputs": [
        {
          "output_type": "execute_result",
          "data": {
            "text/plain": [
              "Date\n",
              "01-Jan-2019    10910.10\n",
              "02-Jan-2019    10792.50\n",
              "03-Jan-2019    10672.25\n",
              "04-Jan-2019    10727.35\n",
              "07-Jan-2019    10771.80\n",
              "08-Jan-2019    10802.15\n",
              "09-Jan-2019    10855.15\n",
              "10-Jan-2019    10821.60\n",
              "11-Jan-2019    10794.95\n",
              "14-Jan-2019    10737.60\n",
              "15-Jan-2019    10886.80\n",
              "16-Jan-2019    10890.30\n",
              "17-Jan-2019    10905.20\n",
              "18-Jan-2019    10906.95\n",
              "21-Jan-2019    10961.85\n",
              "22-Jan-2019    10922.75\n",
              "23-Jan-2019    10831.50\n",
              "24-Jan-2019    10849.80\n",
              "25-Jan-2019    10780.55\n",
              "28-Jan-2019    10661.55\n",
              "29-Jan-2019    10652.20\n",
              "30-Jan-2019    10651.80\n",
              "31-Jan-2019    10830.95\n",
              "01-Feb-2019    10893.65\n",
              "04-Feb-2019    10912.25\n",
              "Name: Close, dtype: float64"
            ]
          },
          "metadata": {
            "tags": []
          },
          "execution_count": 21
        }
      ]
    },
    {
      "cell_type": "code",
      "metadata": {
        "colab": {
          "base_uri": "https://localhost:8080/"
        },
        "id": "gFwlp3fVUCFT",
        "outputId": "5d1d8941-3cca-4b38-a28c-fed854730a65"
      },
      "source": [
        "nifty.tail(25)"
      ],
      "execution_count": 23,
      "outputs": [
        {
          "output_type": "execute_result",
          "data": {
            "text/plain": [
              "Date\n",
              "26-Nov-2019    12037.70\n",
              "27-Nov-2019    12100.70\n",
              "28-Nov-2019    12151.15\n",
              "29-Nov-2019    12056.05\n",
              "02-Dec-2019    12048.20\n",
              "03-Dec-2019    11994.20\n",
              "04-Dec-2019    12043.20\n",
              "05-Dec-2019    12018.40\n",
              "06-Dec-2019    11921.50\n",
              "09-Dec-2019    11937.50\n",
              "10-Dec-2019    11856.80\n",
              "11-Dec-2019    11910.15\n",
              "12-Dec-2019    11971.80\n",
              "13-Dec-2019    12086.70\n",
              "16-Dec-2019    12053.95\n",
              "17-Dec-2019    12165.00\n",
              "18-Dec-2019    12221.65\n",
              "19-Dec-2019    12259.70\n",
              "20-Dec-2019    12271.80\n",
              "23-Dec-2019    12262.75\n",
              "24-Dec-2019    12214.55\n",
              "26-Dec-2019    12126.55\n",
              "27-Dec-2019    12245.80\n",
              "30-Dec-2019    12255.85\n",
              "31-Dec-2019    12168.45\n",
              "Name: Close, dtype: float64"
            ]
          },
          "metadata": {
            "tags": []
          },
          "execution_count": 23
        }
      ]
    },
    {
      "cell_type": "code",
      "metadata": {
        "colab": {
          "base_uri": "https://localhost:8080/"
        },
        "id": "Y0JbOFxKT0Ey",
        "outputId": "9253ec79-eca4-44fc-ec70-3894cc237aa7"
      },
      "source": [
        "np.mean(nifty)"
      ],
      "execution_count": 24,
      "outputs": [
        {
          "output_type": "execute_result",
          "data": {
            "text/plain": [
              "11432.632244897959"
            ]
          },
          "metadata": {
            "tags": []
          },
          "execution_count": 24
        }
      ]
    },
    {
      "cell_type": "markdown",
      "metadata": {
        "id": "C74lBYCTUL2p"
      },
      "source": [
        "What fraction of days did the market close higher than the previous day's close"
      ]
    },
    {
      "cell_type": "code",
      "metadata": {
        "colab": {
          "base_uri": "https://localhost:8080/"
        },
        "id": "q-CNSjuST7ww",
        "outputId": "d1543fe5-786a-4fb3-9203-9a5ec4fbdda9"
      },
      "source": [
        "count=0\n",
        "for i in range(0, len(nifty.index)-1):\n",
        "  if nifty.iloc[i+1]>nifty.iloc[i]:\n",
        "    count+=1\n",
        "\n",
        "count"
      ],
      "execution_count": 39,
      "outputs": [
        {
          "output_type": "execute_result",
          "data": {
            "text/plain": [
              "129"
            ]
          },
          "metadata": {
            "tags": []
          },
          "execution_count": 39
        }
      ]
    },
    {
      "cell_type": "code",
      "metadata": {
        "colab": {
          "base_uri": "https://localhost:8080/"
        },
        "id": "BAiz7Cq5UpcA",
        "outputId": "1122d8ae-1a82-4a68-9991-d2f7d8981b3b"
      },
      "source": [
        "fraction_higherthanPreviousDays= count/len(nifty.index)\n",
        "print(fraction_higherthanPreviousDays)"
      ],
      "execution_count": 33,
      "outputs": [
        {
          "output_type": "stream",
          "text": [
            "0.5265306122448979\n"
          ],
          "name": "stdout"
        }
      ]
    },
    {
      "cell_type": "markdown",
      "metadata": {
        "id": "vGvwvjL_WAa0"
      },
      "source": [
        "Vectorised Code"
      ]
    },
    {
      "cell_type": "code",
      "metadata": {
        "colab": {
          "base_uri": "https://localhost:8080/"
        },
        "id": "_T7qO3DhU9-d",
        "outputId": "21421ef2-288e-4b57-dd94-ad8076c72848"
      },
      "source": [
        "count_2= np.sum((nifty.values[1:]-nifty.values[:-1])>0)\n",
        "count_2"
      ],
      "execution_count": 40,
      "outputs": [
        {
          "output_type": "execute_result",
          "data": {
            "text/plain": [
              "129"
            ]
          },
          "metadata": {
            "tags": []
          },
          "execution_count": 40
        }
      ]
    },
    {
      "cell_type": "code",
      "metadata": {
        "id": "NAF4-C2RWbyq"
      },
      "source": [
        "#We get the same answer as before"
      ],
      "execution_count": 41,
      "outputs": []
    },
    {
      "cell_type": "markdown",
      "metadata": {
        "id": "QYVtmAdLXgxc"
      },
      "source": [
        "# Moving averages for time series data\n",
        "\n",
        "1.Compute moving average of the last 5 days\n",
        "\n",
        "2.Subset the data to include data for only Fridays"
      ]
    },
    {
      "cell_type": "code",
      "metadata": {
        "id": "0VvVRf91XOkb"
      },
      "source": [
        "d= pd.Timestamp(nifty.index[0])"
      ],
      "execution_count": 42,
      "outputs": []
    },
    {
      "cell_type": "code",
      "metadata": {
        "colab": {
          "base_uri": "https://localhost:8080/"
        },
        "id": "gZk-g5GPgrld",
        "outputId": "2f4bcaf9-9a9b-4b05-88ce-7d751002d6d4"
      },
      "source": [
        "d.dayofweek #0 for Monday and 1 for Tuesday"
      ],
      "execution_count": 44,
      "outputs": [
        {
          "output_type": "execute_result",
          "data": {
            "text/plain": [
              "1"
            ]
          },
          "metadata": {
            "tags": []
          },
          "execution_count": 44
        }
      ]
    },
    {
      "cell_type": "code",
      "metadata": {
        "id": "LiqrgVOngwJo"
      },
      "source": [
        "new_index= map(pd.Timestamp, nifty.index)"
      ],
      "execution_count": 47,
      "outputs": []
    },
    {
      "cell_type": "code",
      "metadata": {
        "id": "0uIhvZs4hiCZ"
      },
      "source": [
        "nifty_newindex= pd.Series(nifty, index= new_index)"
      ],
      "execution_count": 48,
      "outputs": []
    },
    {
      "cell_type": "code",
      "metadata": {
        "colab": {
          "base_uri": "https://localhost:8080/"
        },
        "id": "s8ppWW86hjFO",
        "outputId": "986e1fd5-dd30-4a50-8cb2-d723bd095250"
      },
      "source": [
        "nifty_newindex.head(5)"
      ],
      "execution_count": 49,
      "outputs": [
        {
          "output_type": "execute_result",
          "data": {
            "text/plain": [
              "2019-01-01    10910.10\n",
              "2019-01-02    10792.50\n",
              "2019-01-03    10672.25\n",
              "2019-01-04    10727.35\n",
              "2019-01-07    10771.80\n",
              "Name: Close, dtype: float64"
            ]
          },
          "metadata": {
            "tags": []
          },
          "execution_count": 49
        }
      ]
    },
    {
      "cell_type": "code",
      "metadata": {
        "colab": {
          "base_uri": "https://localhost:8080/"
        },
        "id": "yONAHseJh4p0",
        "outputId": "be353759-3c17-4612-a193-5fd99c9db179"
      },
      "source": [
        "nifty_newindex.index[0]"
      ],
      "execution_count": 50,
      "outputs": [
        {
          "output_type": "execute_result",
          "data": {
            "text/plain": [
              "Timestamp('2019-01-01 00:00:00')"
            ]
          },
          "metadata": {
            "tags": []
          },
          "execution_count": 50
        }
      ]
    },
    {
      "cell_type": "code",
      "metadata": {
        "colab": {
          "base_uri": "https://localhost:8080/"
        },
        "id": "UKXASRCoh79U",
        "outputId": "2a55df1b-933f-437d-938e-207b102f2702"
      },
      "source": [
        "nifty_newindex.rolling('5d').mean()"
      ],
      "execution_count": 51,
      "outputs": [
        {
          "output_type": "execute_result",
          "data": {
            "text/plain": [
              "2019-01-01    10910.100000\n",
              "2019-01-02    10851.300000\n",
              "2019-01-03    10791.616667\n",
              "2019-01-04    10775.550000\n",
              "2019-01-07    10723.800000\n",
              "                  ...     \n",
              "2019-12-24    12249.700000\n",
              "2019-12-26    12201.283333\n",
              "2019-12-27    12212.412500\n",
              "2019-12-30    12209.400000\n",
              "2019-12-31    12223.366667\n",
              "Name: Close, Length: 245, dtype: float64"
            ]
          },
          "metadata": {
            "tags": []
          },
          "execution_count": 51
        }
      ]
    },
    {
      "cell_type": "code",
      "metadata": {
        "colab": {
          "base_uri": "https://localhost:8080/"
        },
        "id": "l56bvNxniTg7",
        "outputId": "0ad14135-11cb-4ca6-a74c-f199304faefb"
      },
      "source": [
        "dow= nifty_newindex.copy()\n",
        "for i in dow.index:\n",
        "  dow[i]= i.dayofweek\n",
        "dow"
      ],
      "execution_count": 53,
      "outputs": [
        {
          "output_type": "execute_result",
          "data": {
            "text/plain": [
              "2019-01-01    1.0\n",
              "2019-01-02    2.0\n",
              "2019-01-03    3.0\n",
              "2019-01-04    4.0\n",
              "2019-01-07    0.0\n",
              "             ... \n",
              "2019-12-24    1.0\n",
              "2019-12-26    3.0\n",
              "2019-12-27    4.0\n",
              "2019-12-30    0.0\n",
              "2019-12-31    1.0\n",
              "Name: Close, Length: 245, dtype: float64"
            ]
          },
          "metadata": {
            "tags": []
          },
          "execution_count": 53
        }
      ]
    },
    {
      "cell_type": "code",
      "metadata": {
        "colab": {
          "base_uri": "https://localhost:8080/"
        },
        "id": "lu64kMIFjWYv",
        "outputId": "d9c81c8a-b7bb-4f57-b526-b0069449e24d"
      },
      "source": [
        "nifty_newindex[dow==4]    #Data for only Fridays with index 4"
      ],
      "execution_count": 55,
      "outputs": [
        {
          "output_type": "execute_result",
          "data": {
            "text/plain": [
              "2019-01-04    10727.35\n",
              "2019-01-11    10794.95\n",
              "2019-01-18    10906.95\n",
              "2019-01-25    10780.55\n",
              "2019-02-01    10893.65\n",
              "2019-02-08    10943.60\n",
              "2019-02-15    10724.40\n",
              "2019-02-22    10791.65\n",
              "2019-03-01    10863.50\n",
              "2019-03-08    11035.40\n",
              "2019-03-15    11426.85\n",
              "2019-03-22    11456.90\n",
              "2019-03-29    11623.90\n",
              "2019-04-05    11665.95\n",
              "2019-04-12    11643.45\n",
              "2019-04-26    11754.65\n",
              "2019-05-03    11712.25\n",
              "2019-05-10    11278.90\n",
              "2019-05-17    11407.15\n",
              "2019-05-24    11844.10\n",
              "2019-05-31    11922.80\n",
              "2019-06-07    11870.65\n",
              "2019-06-14    11823.30\n",
              "2019-06-21    11724.10\n",
              "2019-06-28    11788.85\n",
              "2019-07-05    11811.15\n",
              "2019-07-12    11552.50\n",
              "2019-07-19    11419.25\n",
              "2019-07-26    11284.30\n",
              "2019-08-02    10997.35\n",
              "2019-08-09    11109.65\n",
              "2019-08-16    11047.80\n",
              "2019-08-23    10829.35\n",
              "2019-08-30    11023.25\n",
              "2019-09-06    10946.20\n",
              "2019-09-13    11075.90\n",
              "2019-09-20    11274.20\n",
              "2019-09-27    11512.40\n",
              "2019-10-04    11174.75\n",
              "2019-10-11    11305.05\n",
              "2019-10-18    11661.85\n",
              "2019-10-25    11583.90\n",
              "2019-11-01    11890.60\n",
              "2019-11-08    11908.15\n",
              "2019-11-15    11895.45\n",
              "2019-11-22    11914.40\n",
              "2019-11-29    12056.05\n",
              "2019-12-06    11921.50\n",
              "2019-12-13    12086.70\n",
              "2019-12-20    12271.80\n",
              "2019-12-27    12245.80\n",
              "Name: Close, dtype: float64"
            ]
          },
          "metadata": {
            "tags": []
          },
          "execution_count": 55
        }
      ]
    },
    {
      "cell_type": "code",
      "metadata": {
        "id": "_7QZdd3MjbQf"
      },
      "source": [
        ""
      ],
      "execution_count": null,
      "outputs": []
    }
  ]
}