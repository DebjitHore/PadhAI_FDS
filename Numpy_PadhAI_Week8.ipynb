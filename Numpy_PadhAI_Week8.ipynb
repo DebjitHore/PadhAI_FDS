{
  "nbformat": 4,
  "nbformat_minor": 0,
  "metadata": {
    "colab": {
      "name": "Numpy_PadhAI_Week8.ipynb",
      "provenance": [],
      "collapsed_sections": [
        "Ewu_iRjZHdAD",
        "pipvS53BLLNj"
      ],
      "authorship_tag": "ABX9TyNhIQCMZfrsqLCZzETplwI2",
      "include_colab_link": true
    },
    "kernelspec": {
      "name": "python3",
      "display_name": "Python 3"
    },
    "language_info": {
      "name": "python"
    }
  },
  "cells": [
    {
      "cell_type": "markdown",
      "metadata": {
        "id": "view-in-github",
        "colab_type": "text"
      },
      "source": [
        "<a href=\"https://colab.research.google.com/github/DebjitHore/PadhAI_FDS/blob/master/Numpy_PadhAI_Week8.ipynb\" target=\"_parent\"><img src=\"https://colab.research.google.com/assets/colab-badge.svg\" alt=\"Open In Colab\"/></a>"
      ]
    },
    {
      "cell_type": "markdown",
      "metadata": {
        "id": "nqap-TAjNQs3"
      },
      "source": [
        "*Efficiently store n-dimensional arrays in vectorised form to benefit from DRAM locality.*\n",
        "*Enable easy file save and loading of n-dimensional array.*\n",
        "*Efficiently process data without type checking.*\n",
        "*Enable other packages to use Numpy arrays as an efficient data structure.*\n",
        "**Allows Broadcasting and other statistical and linear algebra operations.**"
      ]
    },
    {
      "cell_type": "code",
      "metadata": {
        "id": "H6hOf2yGY2xt"
      },
      "source": [
        "import numpy as np"
      ],
      "execution_count": 1,
      "outputs": []
    },
    {
      "cell_type": "code",
      "metadata": {
        "id": "wUYIAQg7NiPT"
      },
      "source": [
        "N=10000000\n",
        "list_= list(range(N))\n",
        "list2_= list(range(N))"
      ],
      "execution_count": 2,
      "outputs": []
    },
    {
      "cell_type": "code",
      "metadata": {
        "colab": {
          "base_uri": "https://localhost:8080/"
        },
        "id": "9LdtTdqCM4j5",
        "outputId": "64aecb8a-a162-4ae7-a667-6a0806884021"
      },
      "source": [
        "%%time\n",
        "\n",
        "for i in range(N):\n",
        "  list_[i]= list_[i]**2"
      ],
      "execution_count": 3,
      "outputs": [
        {
          "output_type": "stream",
          "text": [
            "CPU times: user 3.91 s, sys: 6.95 ms, total: 3.91 s\n",
            "Wall time: 3.92 s\n"
          ],
          "name": "stdout"
        }
      ]
    },
    {
      "cell_type": "code",
      "metadata": {
        "colab": {
          "base_uri": "https://localhost:8080/"
        },
        "id": "1Sz1yB50P-Lx",
        "outputId": "ad4a5d16-6ae9-43ee-f8d5-d712032f5e40"
      },
      "source": [
        "%%time\n",
        "\n",
        "list2_=[item*item for item in list2_]"
      ],
      "execution_count": 4,
      "outputs": [
        {
          "output_type": "stream",
          "text": [
            "CPU times: user 719 ms, sys: 287 ms, total: 1.01 s\n",
            "Wall time: 1 s\n"
          ],
          "name": "stdout"
        }
      ]
    },
    {
      "cell_type": "code",
      "metadata": {
        "colab": {
          "base_uri": "https://localhost:8080/"
        },
        "id": "1KejVxQMQmWR",
        "outputId": "711197b2-fa9a-4218-c6a4-c5a6aece8efb"
      },
      "source": [
        "%%time\n",
        "list_=list(range(N))\n",
        "list_=map(lambda x: x**2, list_)"
      ],
      "execution_count": 5,
      "outputs": [
        {
          "output_type": "stream",
          "text": [
            "CPU times: user 236 ms, sys: 154 ms, total: 389 ms\n",
            "Wall time: 387 ms\n"
          ],
          "name": "stdout"
        }
      ]
    },
    {
      "cell_type": "code",
      "metadata": {
        "colab": {
          "base_uri": "https://localhost:8080/"
        },
        "id": "vwd45td_TAck",
        "outputId": "1e4d7ce8-a1ef-44fd-fbff-31913424582f"
      },
      "source": [
        "%%time\n",
        "list_=np.arange(N)\n",
        "list_sum= np.sum(list_)"
      ],
      "execution_count": 6,
      "outputs": [
        {
          "output_type": "stream",
          "text": [
            "CPU times: user 111 ms, sys: 28.3 ms, total: 140 ms\n",
            "Wall time: 146 ms\n"
          ],
          "name": "stdout"
        }
      ]
    },
    {
      "cell_type": "code",
      "metadata": {
        "colab": {
          "base_uri": "https://localhost:8080/"
        },
        "id": "0sEOW1q2Y-Hs",
        "outputId": "aeb23030-9052-4e16-e22d-b846458ff69b"
      },
      "source": [
        "arr=np.arange(5)\n",
        "arr"
      ],
      "execution_count": 7,
      "outputs": [
        {
          "output_type": "execute_result",
          "data": {
            "text/plain": [
              "array([0, 1, 2, 3, 4])"
            ]
          },
          "metadata": {
            "tags": []
          },
          "execution_count": 7
        }
      ]
    },
    {
      "cell_type": "code",
      "metadata": {
        "colab": {
          "base_uri": "https://localhost:8080/"
        },
        "id": "xFy_8rTJswQE",
        "outputId": "6ed20b31-efe9-426b-d9f6-dec8fff0cfc4"
      },
      "source": [
        "arr.dtype"
      ],
      "execution_count": 8,
      "outputs": [
        {
          "output_type": "execute_result",
          "data": {
            "text/plain": [
              "dtype('int64')"
            ]
          },
          "metadata": {
            "tags": []
          },
          "execution_count": 8
        }
      ]
    },
    {
      "cell_type": "code",
      "metadata": {
        "colab": {
          "base_uri": "https://localhost:8080/"
        },
        "id": "jnYD4mjNtBlW",
        "outputId": "2439a403-3fe3-4b07-bca0-1e776b87c746"
      },
      "source": [
        "arr.ndim"
      ],
      "execution_count": 9,
      "outputs": [
        {
          "output_type": "execute_result",
          "data": {
            "text/plain": [
              "1"
            ]
          },
          "metadata": {
            "tags": []
          },
          "execution_count": 9
        }
      ]
    },
    {
      "cell_type": "code",
      "metadata": {
        "colab": {
          "base_uri": "https://localhost:8080/"
        },
        "id": "WjMiyLKbtHDz",
        "outputId": "94661edf-02b1-4490-af06-32ffc549b4e8"
      },
      "source": [
        "arr.shape"
      ],
      "execution_count": 10,
      "outputs": [
        {
          "output_type": "execute_result",
          "data": {
            "text/plain": [
              "(5,)"
            ]
          },
          "metadata": {
            "tags": []
          },
          "execution_count": 10
        }
      ]
    },
    {
      "cell_type": "code",
      "metadata": {
        "colab": {
          "base_uri": "https://localhost:8080/"
        },
        "id": "t5P4au4-tJON",
        "outputId": "99aa0439-4446-41a6-a190-9d9571cf3ed9"
      },
      "source": [
        "arr.size"
      ],
      "execution_count": 11,
      "outputs": [
        {
          "output_type": "execute_result",
          "data": {
            "text/plain": [
              "5"
            ]
          },
          "metadata": {
            "tags": []
          },
          "execution_count": 11
        }
      ]
    },
    {
      "cell_type": "code",
      "metadata": {
        "colab": {
          "base_uri": "https://localhost:8080/"
        },
        "id": "0VovL9zMtP7N",
        "outputId": "789e4443-b9e5-409d-fa42-50fa068d556c"
      },
      "source": [
        "arr.itemsize #int64 takes 8bytes"
      ],
      "execution_count": 12,
      "outputs": [
        {
          "output_type": "execute_result",
          "data": {
            "text/plain": [
              "8"
            ]
          },
          "metadata": {
            "tags": []
          },
          "execution_count": 12
        }
      ]
    },
    {
      "cell_type": "code",
      "metadata": {
        "id": "CcxhbLKWtRvz"
      },
      "source": [
        "arr3D= np.array([\n",
        "                 [\n",
        "                  [1,2,3],\n",
        "                  [4,5,6]\n",
        "                  ],\n",
        "                 [\n",
        "                  [7,8,9],\n",
        "                  [10,11,12]\n",
        "                 ]\n",
        "                 \n",
        "                   ])"
      ],
      "execution_count": 13,
      "outputs": []
    },
    {
      "cell_type": "code",
      "metadata": {
        "colab": {
          "base_uri": "https://localhost:8080/"
        },
        "id": "Z4wGen8EuXX8",
        "outputId": "0a7366ca-b61f-4a9c-9c2e-9d4ddbe79338"
      },
      "source": [
        "arr3D"
      ],
      "execution_count": 14,
      "outputs": [
        {
          "output_type": "execute_result",
          "data": {
            "text/plain": [
              "array([[[ 1,  2,  3],\n",
              "        [ 4,  5,  6]],\n",
              "\n",
              "       [[ 7,  8,  9],\n",
              "        [10, 11, 12]]])"
            ]
          },
          "metadata": {
            "tags": []
          },
          "execution_count": 14
        }
      ]
    },
    {
      "cell_type": "code",
      "metadata": {
        "colab": {
          "base_uri": "https://localhost:8080/"
        },
        "id": "H1sdx4TLuY2e",
        "outputId": "c5ea7960-e47a-42e0-97e0-f2a5f983ef6e"
      },
      "source": [
        "arr3D.shape"
      ],
      "execution_count": 15,
      "outputs": [
        {
          "output_type": "execute_result",
          "data": {
            "text/plain": [
              "(2, 2, 3)"
            ]
          },
          "metadata": {
            "tags": []
          },
          "execution_count": 15
        }
      ]
    },
    {
      "cell_type": "code",
      "metadata": {
        "colab": {
          "base_uri": "https://localhost:8080/"
        },
        "id": "R1Cyr9AzucSM",
        "outputId": "47552cdd-dbe5-485d-ab24-ea3e440ae532"
      },
      "source": [
        "arr3D.size"
      ],
      "execution_count": 16,
      "outputs": [
        {
          "output_type": "execute_result",
          "data": {
            "text/plain": [
              "12"
            ]
          },
          "metadata": {
            "tags": []
          },
          "execution_count": 16
        }
      ]
    },
    {
      "cell_type": "code",
      "metadata": {
        "id": "RRF1hEtPut6U",
        "colab": {
          "base_uri": "https://localhost:8080/"
        },
        "outputId": "533d0faa-2fe8-4453-8fd1-41ec28de8a3f"
      },
      "source": [
        "np.random.randn(2,3)"
      ],
      "execution_count": 17,
      "outputs": [
        {
          "output_type": "execute_result",
          "data": {
            "text/plain": [
              "array([[ 0.23079379,  0.34363867,  1.68585205],\n",
              "       [ 0.32024858, -1.76948074, -0.90645394]])"
            ]
          },
          "metadata": {
            "tags": []
          },
          "execution_count": 17
        }
      ]
    },
    {
      "cell_type": "code",
      "metadata": {
        "colab": {
          "base_uri": "https://localhost:8080/"
        },
        "id": "YsN1T_HI1M_U",
        "outputId": "89390120-05dc-4308-c14d-af34b4bc3ff9"
      },
      "source": [
        "np.random.rand(10,1)"
      ],
      "execution_count": 18,
      "outputs": [
        {
          "output_type": "execute_result",
          "data": {
            "text/plain": [
              "array([[0.5241442 ],\n",
              "       [0.30028691],\n",
              "       [0.2245672 ],\n",
              "       [0.21286521],\n",
              "       [0.73287414],\n",
              "       [0.40234442],\n",
              "       [0.18523405],\n",
              "       [0.59176597],\n",
              "       [0.89357328],\n",
              "       [0.89318625]])"
            ]
          },
          "metadata": {
            "tags": []
          },
          "execution_count": 18
        }
      ]
    },
    {
      "cell_type": "code",
      "metadata": {
        "colab": {
          "base_uri": "https://localhost:8080/"
        },
        "id": "_W6uH4Kt1TcV",
        "outputId": "10805088-2557-4429-c468-2c34a233dbff"
      },
      "source": [
        "np.random.rand(10,1)<0.5"
      ],
      "execution_count": 19,
      "outputs": [
        {
          "output_type": "execute_result",
          "data": {
            "text/plain": [
              "array([[False],\n",
              "       [False],\n",
              "       [ True],\n",
              "       [False],\n",
              "       [False],\n",
              "       [False],\n",
              "       [False],\n",
              "       [ True],\n",
              "       [False],\n",
              "       [ True]])"
            ]
          },
          "metadata": {
            "tags": []
          },
          "execution_count": 19
        }
      ]
    },
    {
      "cell_type": "code",
      "metadata": {
        "colab": {
          "base_uri": "https://localhost:8080/"
        },
        "id": "W3IDMX7E2HPD",
        "outputId": "438f870e-8944-4f66-bf5d-f38f30a24890"
      },
      "source": [
        "np.pi"
      ],
      "execution_count": 20,
      "outputs": [
        {
          "output_type": "execute_result",
          "data": {
            "text/plain": [
              "3.141592653589793"
            ]
          },
          "metadata": {
            "tags": []
          },
          "execution_count": 20
        }
      ]
    },
    {
      "cell_type": "markdown",
      "metadata": {
        "id": "Ewu_iRjZHdAD"
      },
      "source": [
        "## Problem 1"
      ]
    },
    {
      "cell_type": "markdown",
      "metadata": {
        "id": "8fZSzL5yHlnj"
      },
      "source": [
        "Check what fraction of area of an unit square is occupied by a quadrant of a circle.\n",
        "Hint: Generate a nx2 array of randn that are coordinates and then check which has distance that is less than 1."
      ]
    },
    {
      "cell_type": "code",
      "metadata": {
        "id": "zn_EFgQ-HjmT"
      },
      "source": [
        "array_of_coordinates= np.random.rand(100000,2)"
      ],
      "execution_count": 21,
      "outputs": []
    },
    {
      "cell_type": "code",
      "metadata": {
        "colab": {
          "base_uri": "https://localhost:8080/"
        },
        "id": "ZwUbw3-xIK4F",
        "outputId": "657c6e44-1267-4c85-c3f3-86cdb83a1c12"
      },
      "source": [
        "%%time\n",
        "mask_array= ((array_of_coordinates[:,0])**2+(array_of_coordinates[:,1])**2)<1\n",
        "array_inside_circle= array_of_coordinates[mask_array]\n",
        "print('Fraction of points outside the quarter circle is ', 1-np.size(array_inside_circle)/np.size(array_of_coordinates))\n",
        "print('This is the fraction of area outside the circle')"
      ],
      "execution_count": 22,
      "outputs": [
        {
          "output_type": "stream",
          "text": [
            "Fraction of points outside the quarter circle is  0.21406999999999998\n",
            "This is the fraction of area outside the circle\n",
            "CPU times: user 3.88 ms, sys: 3.84 ms, total: 7.72 ms\n",
            "Wall time: 16.2 ms\n"
          ],
          "name": "stdout"
        }
      ]
    },
    {
      "cell_type": "markdown",
      "metadata": {
        "id": "bL8PUmEMLsZM"
      },
      "source": [
        "Expand to higher dimensions "
      ]
    },
    {
      "cell_type": "markdown",
      "metadata": {
        "id": "pipvS53BLLNj"
      },
      "source": [
        "# Broadcasting"
      ]
    },
    {
      "cell_type": "markdown",
      "metadata": {
        "id": "QHyfR_Wy7zgs"
      },
      "source": [
        "Check from NumPy grandmas notebook\n"
      ]
    },
    {
      "cell_type": "markdown",
      "metadata": {
        "id": "ltTg-p5A7uKW"
      },
      "source": [
        "# File Handling"
      ]
    },
    {
      "cell_type": "code",
      "metadata": {
        "id": "rZKYtXVdJzJQ",
        "colab": {
          "base_uri": "https://localhost:8080/"
        },
        "outputId": "9b17975f-4cf5-4bfe-e2eb-ee342a02b8f3"
      },
      "source": [
        "planet_small= np.loadtxt(\"planets_small.txt\", skiprows=1,usecols=(1,2,3,4,5,6,7,8,9)) #use delimiter if CSV\n",
        "planet_small"
      ],
      "execution_count": 27,
      "outputs": [
        {
          "output_type": "execute_result",
          "data": {
            "text/plain": [
              "array([[3.3000e-01, 4.8700e+00, 5.9700e+00, 6.4200e-01, 1.8980e+03,\n",
              "        5.6800e+02, 8.6800e+01, 1.0200e+02, 1.4600e-02],\n",
              "       [5.7900e+01, 1.0820e+02, 1.4960e+02, 2.2790e+02, 7.7860e+02,\n",
              "        1.4335e+03, 2.8725e+03, 4.4951e+03, 5.9064e+03],\n",
              "       [4.2226e+03, 2.8020e+03, 2.4000e+01, 2.4700e+01, 9.9000e+00,\n",
              "        1.0700e+01, 1.7200e+01, 1.6100e+01, 1.5330e+02]])"
            ]
          },
          "metadata": {
            "tags": []
          },
          "execution_count": 27
        }
      ]
    },
    {
      "cell_type": "code",
      "metadata": {
        "colab": {
          "base_uri": "https://localhost:8080/"
        },
        "id": "M_9nwd2t9if7",
        "outputId": "2ad17a45-4f33-4221-946e-8180f79e7196"
      },
      "source": [
        "planet_small.shape"
      ],
      "execution_count": 28,
      "outputs": [
        {
          "output_type": "execute_result",
          "data": {
            "text/plain": [
              "(3, 9)"
            ]
          },
          "metadata": {
            "tags": []
          },
          "execution_count": 28
        }
      ]
    },
    {
      "cell_type": "code",
      "metadata": {
        "id": "e0IRrppf-irx"
      },
      "source": [
        "planet= np.genfromtxt(\"planets.txt\",\n",
        "                      skip_header=1,\n",
        "                      usecols=(1,2,3,4,5,6,7,8,9)) #since there are missing values we use this instead of loadtxt"
      ],
      "execution_count": 31,
      "outputs": []
    },
    {
      "cell_type": "code",
      "metadata": {
        "colab": {
          "base_uri": "https://localhost:8080/"
        },
        "id": "j4OsEjk5_A3F",
        "outputId": "e5910b98-7b5a-45d3-c88d-23f26d601e0f"
      },
      "source": [
        "planet #'Unknown values in txt values are added as nan"
      ],
      "execution_count": 32,
      "outputs": [
        {
          "output_type": "execute_result",
          "data": {
            "text/plain": [
              "array([[ 3.30000e-01,  4.87000e+00,  5.97000e+00,  7.30000e-02,\n",
              "         6.42000e-01,  1.89800e+03,  5.68000e+02,  8.68000e+01,\n",
              "         1.02000e+02],\n",
              "       [ 4.87900e+03,  1.21040e+04,  1.27560e+04,  3.47500e+03,\n",
              "         6.79200e+03,  1.42984e+05,  1.20536e+05,  5.11180e+04,\n",
              "         4.95280e+04],\n",
              "       [ 5.42700e+03,  5.24300e+03,  5.51400e+03,  3.34000e+03,\n",
              "         3.93300e+03,  1.32600e+03,  6.87000e+02,  1.27100e+03,\n",
              "         1.63800e+03],\n",
              "       [ 3.70000e+00,  8.90000e+00,  9.80000e+00,  1.60000e+00,\n",
              "         3.70000e+00,  2.31000e+01,  9.00000e+00,  8.70000e+00,\n",
              "         1.10000e+01],\n",
              "       [ 4.30000e+00,  1.04000e+01,  1.12000e+01,  2.40000e+00,\n",
              "         5.00000e+00,  5.95000e+01,  3.55000e+01,  2.13000e+01,\n",
              "         2.35000e+01],\n",
              "       [ 1.40760e+03, -5.83250e+03,  2.39000e+01,  6.55700e+02,\n",
              "         2.46000e+01,  9.90000e+00,  1.07000e+01, -1.72000e+01,\n",
              "         1.61000e+01],\n",
              "       [ 4.22260e+03,  2.80200e+03,  2.40000e+01,  7.08700e+02,\n",
              "         2.47000e+01,  9.90000e+00,  1.07000e+01,  1.72000e+01,\n",
              "         1.61000e+01],\n",
              "       [ 5.79000e+01,  1.08200e+02,  1.49600e+02,  3.84000e-01,\n",
              "         2.27900e+02,  7.78600e+02,  1.43350e+03,  2.87250e+03,\n",
              "         4.49510e+03],\n",
              "       [ 4.60000e+01,  1.07500e+02,  1.47100e+02,  3.63000e-01,\n",
              "         2.06600e+02,  7.40500e+02,  1.35260e+03,  2.74130e+03,\n",
              "         4.44450e+03],\n",
              "       [ 6.98000e+01,  1.08900e+02,  1.52100e+02,  4.06000e-01,\n",
              "         2.49200e+02,  8.16600e+02,  1.51450e+03,  3.00360e+03,\n",
              "         4.54570e+03],\n",
              "       [ 8.80000e+01,  2.24700e+02,  3.65200e+02,  2.73000e+01,\n",
              "         6.87000e+02,  4.33100e+03,  1.07470e+04,  3.05890e+04,\n",
              "         5.98000e+04],\n",
              "       [ 4.74000e+01,  3.50000e+01,  2.98000e+01,  1.00000e+00,\n",
              "         2.41000e+01,  1.31000e+01,  9.70000e+00,  6.80000e+00,\n",
              "         5.40000e+00],\n",
              "       [ 7.00000e+00,  3.40000e+00,  0.00000e+00,  5.10000e+00,\n",
              "         1.90000e+00,  1.30000e+00,  2.50000e+00,  8.00000e-01,\n",
              "         1.80000e+00],\n",
              "       [ 2.05000e-01,  7.00000e-03,  1.70000e-02,  5.50000e-02,\n",
              "         9.40000e-02,  4.90000e-02,  5.70000e-02,  4.60000e-02,\n",
              "         1.10000e-02],\n",
              "       [ 3.40000e-02,  1.77400e+02,  2.34000e+01,  6.70000e+00,\n",
              "         2.52000e+01,  3.10000e+00,  2.67000e+01,  9.78000e+01,\n",
              "         2.83000e+01],\n",
              "       [ 1.67000e+02,  4.64000e+02,  1.50000e+01, -2.00000e+01,\n",
              "        -6.50000e+01, -1.10000e+02, -1.40000e+02, -1.95000e+02,\n",
              "        -2.00000e+02],\n",
              "       [ 0.00000e+00,  9.20000e+01,  1.00000e+00,  0.00000e+00,\n",
              "         1.00000e-02,          nan,          nan,          nan,\n",
              "                 nan],\n",
              "       [ 0.00000e+00,  0.00000e+00,  1.00000e+00,  0.00000e+00,\n",
              "         2.00000e+00,  7.90000e+01,  8.20000e+01,  2.70000e+01,\n",
              "         1.40000e+01],\n",
              "       [ 0.00000e+00,  0.00000e+00,  0.00000e+00,  0.00000e+00,\n",
              "         0.00000e+00,  1.00000e+00,  1.00000e+00,  1.00000e+00,\n",
              "         1.00000e+00],\n",
              "       [ 1.00000e+00,  0.00000e+00,  1.00000e+00,  0.00000e+00,\n",
              "         0.00000e+00,  1.00000e+00,  1.00000e+00,  1.00000e+00,\n",
              "         1.00000e+00]])"
            ]
          },
          "metadata": {
            "tags": []
          },
          "execution_count": 32
        }
      ]
    },
    {
      "cell_type": "code",
      "metadata": {
        "colab": {
          "base_uri": "https://localhost:8080/"
        },
        "id": "3Hn_02CV_Xnm",
        "outputId": "a92007da-0d03-48fc-ea2a-08ce7a26d091"
      },
      "source": [
        "planet.shape"
      ],
      "execution_count": 33,
      "outputs": [
        {
          "output_type": "execute_result",
          "data": {
            "text/plain": [
              "(20, 9)"
            ]
          },
          "metadata": {
            "tags": []
          },
          "execution_count": 33
        }
      ]
    },
    {
      "cell_type": "code",
      "metadata": {
        "id": "R6tC9WmO_aN-"
      },
      "source": [
        "flag= np.isnan(planet)"
      ],
      "execution_count": 36,
      "outputs": []
    },
    {
      "cell_type": "code",
      "metadata": {
        "id": "CUuNiNRu_oYG"
      },
      "source": [
        "planet[flag]=-1\n",
        "#planet_new= np.nan_to_num(planet, nan=-1) Alternative way of doing it"
      ],
      "execution_count": 37,
      "outputs": []
    },
    {
      "cell_type": "code",
      "metadata": {
        "colab": {
          "base_uri": "https://localhost:8080/"
        },
        "id": "S2hnBwOH_6J8",
        "outputId": "9045c1c6-5429-4645-967d-769157e79b81"
      },
      "source": [
        "planet"
      ],
      "execution_count": 38,
      "outputs": [
        {
          "output_type": "execute_result",
          "data": {
            "text/plain": [
              "array([[ 3.30000e-01,  4.87000e+00,  5.97000e+00,  7.30000e-02,\n",
              "         6.42000e-01,  1.89800e+03,  5.68000e+02,  8.68000e+01,\n",
              "         1.02000e+02],\n",
              "       [ 4.87900e+03,  1.21040e+04,  1.27560e+04,  3.47500e+03,\n",
              "         6.79200e+03,  1.42984e+05,  1.20536e+05,  5.11180e+04,\n",
              "         4.95280e+04],\n",
              "       [ 5.42700e+03,  5.24300e+03,  5.51400e+03,  3.34000e+03,\n",
              "         3.93300e+03,  1.32600e+03,  6.87000e+02,  1.27100e+03,\n",
              "         1.63800e+03],\n",
              "       [ 3.70000e+00,  8.90000e+00,  9.80000e+00,  1.60000e+00,\n",
              "         3.70000e+00,  2.31000e+01,  9.00000e+00,  8.70000e+00,\n",
              "         1.10000e+01],\n",
              "       [ 4.30000e+00,  1.04000e+01,  1.12000e+01,  2.40000e+00,\n",
              "         5.00000e+00,  5.95000e+01,  3.55000e+01,  2.13000e+01,\n",
              "         2.35000e+01],\n",
              "       [ 1.40760e+03, -5.83250e+03,  2.39000e+01,  6.55700e+02,\n",
              "         2.46000e+01,  9.90000e+00,  1.07000e+01, -1.72000e+01,\n",
              "         1.61000e+01],\n",
              "       [ 4.22260e+03,  2.80200e+03,  2.40000e+01,  7.08700e+02,\n",
              "         2.47000e+01,  9.90000e+00,  1.07000e+01,  1.72000e+01,\n",
              "         1.61000e+01],\n",
              "       [ 5.79000e+01,  1.08200e+02,  1.49600e+02,  3.84000e-01,\n",
              "         2.27900e+02,  7.78600e+02,  1.43350e+03,  2.87250e+03,\n",
              "         4.49510e+03],\n",
              "       [ 4.60000e+01,  1.07500e+02,  1.47100e+02,  3.63000e-01,\n",
              "         2.06600e+02,  7.40500e+02,  1.35260e+03,  2.74130e+03,\n",
              "         4.44450e+03],\n",
              "       [ 6.98000e+01,  1.08900e+02,  1.52100e+02,  4.06000e-01,\n",
              "         2.49200e+02,  8.16600e+02,  1.51450e+03,  3.00360e+03,\n",
              "         4.54570e+03],\n",
              "       [ 8.80000e+01,  2.24700e+02,  3.65200e+02,  2.73000e+01,\n",
              "         6.87000e+02,  4.33100e+03,  1.07470e+04,  3.05890e+04,\n",
              "         5.98000e+04],\n",
              "       [ 4.74000e+01,  3.50000e+01,  2.98000e+01,  1.00000e+00,\n",
              "         2.41000e+01,  1.31000e+01,  9.70000e+00,  6.80000e+00,\n",
              "         5.40000e+00],\n",
              "       [ 7.00000e+00,  3.40000e+00,  0.00000e+00,  5.10000e+00,\n",
              "         1.90000e+00,  1.30000e+00,  2.50000e+00,  8.00000e-01,\n",
              "         1.80000e+00],\n",
              "       [ 2.05000e-01,  7.00000e-03,  1.70000e-02,  5.50000e-02,\n",
              "         9.40000e-02,  4.90000e-02,  5.70000e-02,  4.60000e-02,\n",
              "         1.10000e-02],\n",
              "       [ 3.40000e-02,  1.77400e+02,  2.34000e+01,  6.70000e+00,\n",
              "         2.52000e+01,  3.10000e+00,  2.67000e+01,  9.78000e+01,\n",
              "         2.83000e+01],\n",
              "       [ 1.67000e+02,  4.64000e+02,  1.50000e+01, -2.00000e+01,\n",
              "        -6.50000e+01, -1.10000e+02, -1.40000e+02, -1.95000e+02,\n",
              "        -2.00000e+02],\n",
              "       [ 0.00000e+00,  9.20000e+01,  1.00000e+00,  0.00000e+00,\n",
              "         1.00000e-02, -1.00000e+00, -1.00000e+00, -1.00000e+00,\n",
              "        -1.00000e+00],\n",
              "       [ 0.00000e+00,  0.00000e+00,  1.00000e+00,  0.00000e+00,\n",
              "         2.00000e+00,  7.90000e+01,  8.20000e+01,  2.70000e+01,\n",
              "         1.40000e+01],\n",
              "       [ 0.00000e+00,  0.00000e+00,  0.00000e+00,  0.00000e+00,\n",
              "         0.00000e+00,  1.00000e+00,  1.00000e+00,  1.00000e+00,\n",
              "         1.00000e+00],\n",
              "       [ 1.00000e+00,  0.00000e+00,  1.00000e+00,  0.00000e+00,\n",
              "         0.00000e+00,  1.00000e+00,  1.00000e+00,  1.00000e+00,\n",
              "         1.00000e+00]])"
            ]
          },
          "metadata": {
            "tags": []
          },
          "execution_count": 38
        }
      ]
    },
    {
      "cell_type": "code",
      "metadata": {
        "id": "q4rgIzrO_-YZ"
      },
      "source": [
        "np.savetxt(\"planets_new.txt\", planet, delimiter=',')"
      ],
      "execution_count": 39,
      "outputs": []
    },
    {
      "cell_type": "code",
      "metadata": {
        "id": "2Tk0nGw3Aixi"
      },
      "source": [
        "np.save(\"Planets_New\", planet) #Saves an .npy file"
      ],
      "execution_count": 41,
      "outputs": []
    },
    {
      "cell_type": "code",
      "metadata": {
        "colab": {
          "base_uri": "https://localhost:8080/"
        },
        "id": "4Ep7siugDjO_",
        "outputId": "2e27118e-4a70-4f4d-cff1-110f9fe40505"
      },
      "source": [
        "!ls -lh"
      ],
      "execution_count": 43,
      "outputs": [
        {
          "output_type": "stream",
          "text": [
            "total 24K\n",
            "-rw-r--r-- 1 root root 1.6K Jul  5 19:04 Planets_New.npy\n",
            "-rw-r--r-- 1 root root 4.5K Jul  5 18:50 planets_new.txt\n",
            "-rw-r--r-- 1 root root  254 Jul  5 18:35 planets_small.txt\n",
            "-rw-r--r-- 1 root root 1.5K Jul  5 18:35 planets.txt\n",
            "drwxr-xr-x 1 root root 4.0K Jun 15 13:37 sample_data\n"
          ],
          "name": "stdout"
        }
      ]
    },
    {
      "cell_type": "markdown",
      "metadata": {
        "id": "beD3YpVmELbk"
      },
      "source": [
        "npy takes less space than the txt file"
      ]
    },
    {
      "cell_type": "code",
      "metadata": {
        "id": "hJJ7ojVAHp-b"
      },
      "source": [
        "arr1= np.random.rand(1000,10)\n",
        "arr2= np.random.rand(2000,10)\n",
        "arr3= np.random.rand(533, 8)"
      ],
      "execution_count": 50,
      "outputs": []
    },
    {
      "cell_type": "code",
      "metadata": {
        "id": "ToyVOTgWD84Y"
      },
      "source": [
        "#np.savez?\n",
        "np.savez(\"many_arrays\", arr1, arr2, arr3)"
      ],
      "execution_count": 51,
      "outputs": []
    },
    {
      "cell_type": "code",
      "metadata": {
        "id": "P2AZYnXHHPel"
      },
      "source": [
        "arrrrays=np.load(\"many_arrays.npz\")"
      ],
      "execution_count": 54,
      "outputs": []
    },
    {
      "cell_type": "code",
      "metadata": {
        "colab": {
          "base_uri": "https://localhost:8080/"
        },
        "id": "hs148nRhHbCw",
        "outputId": "5c7a71cc-4312-4b5f-8047-60b4bd435ac5"
      },
      "source": [
        "type(arrrrays)"
      ],
      "execution_count": 55,
      "outputs": [
        {
          "output_type": "execute_result",
          "data": {
            "text/plain": [
              "numpy.lib.npyio.NpzFile"
            ]
          },
          "metadata": {
            "tags": []
          },
          "execution_count": 55
        }
      ]
    },
    {
      "cell_type": "code",
      "metadata": {
        "colab": {
          "base_uri": "https://localhost:8080/"
        },
        "id": "eu3tAVmcI7Rt",
        "outputId": "23a84c61-0b79-4cb0-b2ba-9ddb47554858"
      },
      "source": [
        "arrrrays.files"
      ],
      "execution_count": 56,
      "outputs": [
        {
          "output_type": "execute_result",
          "data": {
            "text/plain": [
              "['arr_0', 'arr_1', 'arr_2']"
            ]
          },
          "metadata": {
            "tags": []
          },
          "execution_count": 56
        }
      ]
    },
    {
      "cell_type": "code",
      "metadata": {
        "colab": {
          "base_uri": "https://localhost:8080/"
        },
        "id": "rpAVQcgOJEgL",
        "outputId": "d9069e51-bd38-45b9-ba03-530579f42481"
      },
      "source": [
        "arrrrays['arr_1']"
      ],
      "execution_count": 59,
      "outputs": [
        {
          "output_type": "execute_result",
          "data": {
            "text/plain": [
              "array([[0.8100435 , 0.40409391, 0.57970685, ..., 0.76962719, 0.91845329,\n",
              "        0.47247728],\n",
              "       [0.53700247, 0.29315531, 0.75991055, ..., 0.37448871, 0.87795687,\n",
              "        0.12786674],\n",
              "       [0.76432175, 0.14740864, 0.62428506, ..., 0.66540729, 0.4269833 ,\n",
              "        0.75423522],\n",
              "       ...,\n",
              "       [0.97502924, 0.94117313, 0.95756277, ..., 0.28784281, 0.43323755,\n",
              "        0.37994901],\n",
              "       [0.93587498, 0.90596702, 0.12097423, ..., 0.90467217, 0.39259384,\n",
              "        0.09836507],\n",
              "       [0.40859708, 0.44518463, 0.60625897, ..., 0.38573069, 0.25564217,\n",
              "        0.89420544]])"
            ]
          },
          "metadata": {
            "tags": []
          },
          "execution_count": 59
        }
      ]
    },
    {
      "cell_type": "code",
      "metadata": {
        "id": "y4IB_06rJIeP"
      },
      "source": [
        "np.savez_compressed(\"many_arrays_compressed\", arr1, arr2, arr3)"
      ],
      "execution_count": 60,
      "outputs": []
    },
    {
      "cell_type": "code",
      "metadata": {
        "colab": {
          "base_uri": "https://localhost:8080/"
        },
        "id": "qUSd3mPGJh2Y",
        "outputId": "516cc35e-01e5-4c61-872d-f4add0973d76"
      },
      "source": [
        "!ls -lh"
      ],
      "execution_count": 61,
      "outputs": [
        {
          "output_type": "stream",
          "text": [
            "total 552K\n",
            "-rw-r--r-- 1 root root 254K Jul  5 19:30 many_arrays_compressed.npz\n",
            "-rw-r--r-- 1 root root 269K Jul  5 19:23 many_arrays.npz\n",
            "-rw-r--r-- 1 root root 1.6K Jul  5 19:04 Planets_New.npy\n",
            "-rw-r--r-- 1 root root 4.5K Jul  5 18:50 planets_new.txt\n",
            "-rw-r--r-- 1 root root  254 Jul  5 18:35 planets_small.txt\n",
            "-rw-r--r-- 1 root root 1.5K Jul  5 18:35 planets.txt\n",
            "drwxr-xr-x 1 root root 4.0K Jun 15 13:37 sample_data\n"
          ],
          "name": "stdout"
        }
      ]
    },
    {
      "cell_type": "markdown",
      "metadata": {
        "id": "-OZXtMBEJ_DI"
      },
      "source": [
        "# Stats with NumPy"
      ]
    },
    {
      "cell_type": "code",
      "metadata": {
        "colab": {
          "base_uri": "https://localhost:8080/"
        },
        "id": "Tca4rK0_JjzE",
        "outputId": "d60a1d13-eb3d-4814-f7f5-acb1bc6fe3d3"
      },
      "source": [
        "np.amin(arr1)"
      ],
      "execution_count": 65,
      "outputs": [
        {
          "output_type": "execute_result",
          "data": {
            "text/plain": [
              "5.878701892558791e-05"
            ]
          },
          "metadata": {
            "tags": []
          },
          "execution_count": 65
        }
      ]
    },
    {
      "cell_type": "code",
      "metadata": {
        "colab": {
          "base_uri": "https://localhost:8080/"
        },
        "id": "2oAloqqyRiu1",
        "outputId": "3575089e-1f26-477d-a62d-b1eec224bc65"
      },
      "source": [
        "np.amax(arr1)"
      ],
      "execution_count": 66,
      "outputs": [
        {
          "output_type": "execute_result",
          "data": {
            "text/plain": [
              "0.9998903397448841"
            ]
          },
          "metadata": {
            "tags": []
          },
          "execution_count": 66
        }
      ]
    },
    {
      "cell_type": "code",
      "metadata": {
        "colab": {
          "base_uri": "https://localhost:8080/"
        },
        "id": "tVxwEsPURoRL",
        "outputId": "847335f2-9ebf-40bf-ccf6-13cf2698388f"
      },
      "source": [
        "np.mean(arr1)"
      ],
      "execution_count": 67,
      "outputs": [
        {
          "output_type": "execute_result",
          "data": {
            "text/plain": [
              "0.4993485219052139"
            ]
          },
          "metadata": {
            "tags": []
          },
          "execution_count": 67
        }
      ]
    },
    {
      "cell_type": "code",
      "metadata": {
        "colab": {
          "base_uri": "https://localhost:8080/"
        },
        "id": "VkhXJuJhRwap",
        "outputId": "5b1f48a3-184e-434c-8ce6-6e4754644b83"
      },
      "source": [
        "np.var(arr1)"
      ],
      "execution_count": 68,
      "outputs": [
        {
          "output_type": "execute_result",
          "data": {
            "text/plain": [
              "0.08287164024459473"
            ]
          },
          "metadata": {
            "tags": []
          },
          "execution_count": 68
        }
      ]
    },
    {
      "cell_type": "code",
      "metadata": {
        "colab": {
          "base_uri": "https://localhost:8080/"
        },
        "id": "SUt2-7fkR1oL",
        "outputId": "f3cce369-c009-4a44-a2f7-602faa84506a"
      },
      "source": [
        "np.std(arr1)"
      ],
      "execution_count": 70,
      "outputs": [
        {
          "output_type": "execute_result",
          "data": {
            "text/plain": [
              "0.2878743480141896"
            ]
          },
          "metadata": {
            "tags": []
          },
          "execution_count": 70
        }
      ]
    },
    {
      "cell_type": "code",
      "metadata": {
        "colab": {
          "base_uri": "https://localhost:8080/"
        },
        "id": "_bOqgde0R2wz",
        "outputId": "071de858-64d4-4219-c93d-e4bb08a01640"
      },
      "source": [
        "np.median(arr1)"
      ],
      "execution_count": 71,
      "outputs": [
        {
          "output_type": "execute_result",
          "data": {
            "text/plain": [
              "0.4951459179257613"
            ]
          },
          "metadata": {
            "tags": []
          },
          "execution_count": 71
        }
      ]
    },
    {
      "cell_type": "code",
      "metadata": {
        "colab": {
          "base_uri": "https://localhost:8080/"
        },
        "id": "I1ArqKZPSYVV",
        "outputId": "77249125-b03f-4d03-b90e-f054d642b496"
      },
      "source": [
        "np.percentile(arr1, 10)"
      ],
      "execution_count": 72,
      "outputs": [
        {
          "output_type": "execute_result",
          "data": {
            "text/plain": [
              "0.10023247756072397"
            ]
          },
          "metadata": {
            "tags": []
          },
          "execution_count": 72
        }
      ]
    },
    {
      "cell_type": "code",
      "metadata": {
        "colab": {
          "base_uri": "https://localhost:8080/"
        },
        "id": "XlpaeKH1Se4X",
        "outputId": "d8b71c7d-3d18-4d25-8210-b2afb4f5550b"
      },
      "source": [
        "np.percentile(arr1, 90)"
      ],
      "execution_count": 73,
      "outputs": [
        {
          "output_type": "execute_result",
          "data": {
            "text/plain": [
              "0.9010980501654705"
            ]
          },
          "metadata": {
            "tags": []
          },
          "execution_count": 73
        }
      ]
    },
    {
      "cell_type": "code",
      "metadata": {
        "colab": {
          "base_uri": "https://localhost:8080/"
        },
        "id": "_wgqC4vOSjkb",
        "outputId": "4bbc78e0-1235-480d-fc32-162e93ed5bd7"
      },
      "source": [
        "iqr=np.percentile(arr1, 75)-np.percentile(arr1, 25)\n",
        "iqr"
      ],
      "execution_count": 74,
      "outputs": [
        {
          "output_type": "execute_result",
          "data": {
            "text/plain": [
              "0.49267052413734236"
            ]
          },
          "metadata": {
            "tags": []
          },
          "execution_count": 74
        }
      ]
    },
    {
      "cell_type": "code",
      "metadata": {
        "colab": {
          "base_uri": "https://localhost:8080/"
        },
        "id": "JiVZQrKHTJ34",
        "outputId": "c0bac057-df70-4569-97d9-9a3863413d20"
      },
      "source": [
        "quartiles= np.percentile(arr1, [25, 75]) #vectorising code\n",
        "quartiles"
      ],
      "execution_count": 76,
      "outputs": [
        {
          "output_type": "execute_result",
          "data": {
            "text/plain": [
              "array([0.25471239, 0.74738292])"
            ]
          },
          "metadata": {
            "tags": []
          },
          "execution_count": 76
        }
      ]
    },
    {
      "cell_type": "code",
      "metadata": {
        "colab": {
          "base_uri": "https://localhost:8080/"
        },
        "id": "YSvZuO4oTe2-",
        "outputId": "61818530-b28e-43ee-a28d-beb6b7d97bed"
      },
      "source": [
        "z_scores= (arr1-np.mean(arr1))/np.std(arr1)\n",
        "z_scores"
      ],
      "execution_count": 78,
      "outputs": [
        {
          "output_type": "execute_result",
          "data": {
            "text/plain": [
              "array([[ 0.42512223,  1.36734404,  1.08225086, ...,  0.51629855,\n",
              "        -1.22633155,  0.30127076],\n",
              "       [ 1.28899924, -1.63060186,  0.43703894, ...,  0.15813441,\n",
              "        -1.07941098, -0.09633775],\n",
              "       [-1.00758779,  0.92484098, -1.50624397, ...,  0.26480584,\n",
              "        -0.65141847, -0.47630673],\n",
              "       ...,\n",
              "       [ 1.57831032, -0.73097291, -1.53769196, ..., -0.64623712,\n",
              "        -0.3552358 ,  0.21084651],\n",
              "       [ 1.55352605, -0.5304797 , -1.16193096, ..., -0.7827783 ,\n",
              "         0.88690482,  1.57466918],\n",
              "       [-0.12881669,  0.38554185,  0.1543623 , ..., -0.72701651,\n",
              "         0.10450871, -1.22200414]])"
            ]
          },
          "metadata": {
            "tags": []
          },
          "execution_count": 78
        }
      ]
    },
    {
      "cell_type": "code",
      "metadata": {
        "colab": {
          "base_uri": "https://localhost:8080/"
        },
        "id": "Vtsea2P6T_-l",
        "outputId": "608b758d-ac63-4eea-e010-65a88739b5c1"
      },
      "source": [
        "np.histogram(arr1, bins=5)\n",
        "#The second array gives us the bins of the histogram, and the first array is the count of data in each bin"
      ],
      "execution_count": 80,
      "outputs": [
        {
          "output_type": "execute_result",
          "data": {
            "text/plain": [
              "(array([1990, 2011, 2040, 1998, 1961]),\n",
              " array([5.87870189e-05, 2.00025098e-01, 3.99991408e-01, 5.99957719e-01,\n",
              "        7.99924029e-01, 9.99890340e-01]))"
            ]
          },
          "metadata": {
            "tags": []
          },
          "execution_count": 80
        }
      ]
    },
    {
      "cell_type": "code",
      "metadata": {
        "colab": {
          "base_uri": "https://localhost:8080/"
        },
        "id": "qV3GLQViUP9r",
        "outputId": "d0c44233-0609-42be-ff4a-6d7a206c0ef9"
      },
      "source": [
        "bins=[0, 0.5, 1]\n",
        "np.digitize(arr1, bins) #shows which element belongs to which bin"
      ],
      "execution_count": 82,
      "outputs": [
        {
          "output_type": "execute_result",
          "data": {
            "text/plain": [
              "array([[2, 2, 2, ..., 2, 1, 2],\n",
              "       [2, 1, 2, ..., 2, 1, 1],\n",
              "       [1, 2, 1, ..., 2, 1, 1],\n",
              "       ...,\n",
              "       [2, 1, 1, ..., 1, 1, 2],\n",
              "       [2, 1, 1, ..., 1, 2, 2],\n",
              "       [1, 2, 2, ..., 1, 2, 1]])"
            ]
          },
          "metadata": {
            "tags": []
          },
          "execution_count": 82
        }
      ]
    },
    {
      "cell_type": "code",
      "metadata": {
        "id": "pFDyCoyMU0Th"
      },
      "source": [
        " age= np.random.randint(17,22,100)\n",
        " height= np.random.randint(150, 180, 100)\n",
        " weight= np.random.randint(50,80, 100)"
      ],
      "execution_count": 83,
      "outputs": []
    },
    {
      "cell_type": "code",
      "metadata": {
        "colab": {
          "base_uri": "https://localhost:8080/"
        },
        "id": "WI-MLHBRWOeK",
        "outputId": "71f4c94d-b73b-48fb-9b12-9f63e6bfa9bc"
      },
      "source": [
        "np.concatenate((age, height, weight)).shape #not exactly what we want in this case"
      ],
      "execution_count": 85,
      "outputs": [
        {
          "output_type": "execute_result",
          "data": {
            "text/plain": [
              "(300,)"
            ]
          },
          "metadata": {
            "tags": []
          },
          "execution_count": 85
        }
      ]
    },
    {
      "cell_type": "code",
      "metadata": {
        "colab": {
          "base_uri": "https://localhost:8080/"
        },
        "id": "7HZWwYSGWWny",
        "outputId": "8f738ced-200b-4fa5-98fc-02f2fcc15b88"
      },
      "source": [
        "np.vstack((age, height, weight)).shape"
      ],
      "execution_count": 86,
      "outputs": [
        {
          "output_type": "execute_result",
          "data": {
            "text/plain": [
              "(3, 100)"
            ]
          },
          "metadata": {
            "tags": []
          },
          "execution_count": 86
        }
      ]
    },
    {
      "cell_type": "code",
      "metadata": {
        "colab": {
          "base_uri": "https://localhost:8080/"
        },
        "id": "hNVa6LyhWgO-",
        "outputId": "ae1e548c-9e4a-4ad2-c704-f34d46129ae2"
      },
      "source": [
        "np.hstack((age, height, weight)).shape"
      ],
      "execution_count": 87,
      "outputs": [
        {
          "output_type": "execute_result",
          "data": {
            "text/plain": [
              "(300,)"
            ]
          },
          "metadata": {
            "tags": []
          },
          "execution_count": 87
        }
      ]
    },
    {
      "cell_type": "code",
      "metadata": {
        "id": "wZbU9DBkWrPu"
      },
      "source": [
        "arr_all= np.vstack((age, height, weight))"
      ],
      "execution_count": 88,
      "outputs": []
    },
    {
      "cell_type": "code",
      "metadata": {
        "colab": {
          "base_uri": "https://localhost:8080/"
        },
        "id": "ziVcpn7oXKds",
        "outputId": "2dd626e6-e897-42e9-c06f-483e1e0e259e"
      },
      "source": [
        "np.amin(arr_all, axis=1)"
      ],
      "execution_count": 90,
      "outputs": [
        {
          "output_type": "execute_result",
          "data": {
            "text/plain": [
              "array([ 17, 150,  50])"
            ]
          },
          "metadata": {
            "tags": []
          },
          "execution_count": 90
        }
      ]
    },
    {
      "cell_type": "markdown",
      "metadata": {
        "id": "IaB01VUWYcFe"
      },
      "source": [
        "# Rules of Statistics"
      ]
    },
    {
      "cell_type": "code",
      "metadata": {
        "id": "0easCvv4XQM9"
      },
      "source": [
        "#Easy"
      ],
      "execution_count": 91,
      "outputs": []
    },
    {
      "cell_type": "code",
      "metadata": {
        "colab": {
          "base_uri": "https://localhost:8080/"
        },
        "id": "QYSjnvbGaFto",
        "outputId": "1e258752-a43f-4f10-f3de-b21cc99f1bb9"
      },
      "source": [
        "np.cumsum(arr1)"
      ],
      "execution_count": 92,
      "outputs": [
        {
          "output_type": "execute_result",
          "data": {
            "text/plain": [
              "array([6.21730305e-01, 1.51470210e+00, 2.32560288e+00, ...,\n",
              "       4.99280822e+03, 4.99333765e+03, 4.99348522e+03])"
            ]
          },
          "metadata": {
            "tags": []
          },
          "execution_count": 92
        }
      ]
    },
    {
      "cell_type": "code",
      "metadata": {
        "id": "ArwxzKrYaIqd"
      },
      "source": [
        ""
      ],
      "execution_count": null,
      "outputs": []
    }
  ]
}