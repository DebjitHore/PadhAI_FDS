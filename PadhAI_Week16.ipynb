{
  "nbformat": 4,
  "nbformat_minor": 0,
  "metadata": {
    "colab": {
      "name": "PadhAI_Week16.ipynb",
      "provenance": [],
      "authorship_tag": "ABX9TyOBR4l+2NwPIJJYT/Fg0yh8",
      "include_colab_link": true
    },
    "kernelspec": {
      "name": "python3",
      "display_name": "Python 3"
    },
    "language_info": {
      "name": "python"
    }
  },
  "cells": [
    {
      "cell_type": "markdown",
      "metadata": {
        "id": "view-in-github",
        "colab_type": "text"
      },
      "source": [
        "<a href=\"https://colab.research.google.com/github/DebjitHore/PadhAI_FDS/blob/main/PadhAI_Week16.ipynb\" target=\"_parent\"><img src=\"https://colab.research.google.com/assets/colab-badge.svg\" alt=\"Open In Colab\"/></a>"
      ]
    },
    {
      "cell_type": "markdown",
      "metadata": {
        "id": "vrt3mRbHwLan"
      },
      "source": [
        "# Distribution Plot."
      ]
    },
    {
      "cell_type": "code",
      "metadata": {
        "id": "I9R8XT0IwFmP"
      },
      "source": [
        "import numpy as np\n",
        "import seaborn as sb\n",
        "from scipy.stats import geom, binom"
      ],
      "execution_count": 1,
      "outputs": []
    },
    {
      "cell_type": "code",
      "metadata": {
        "id": "lWgX5bazwnus"
      },
      "source": [
        "x= np.arange(0, 25)\n",
        "n=len(x)"
      ],
      "execution_count": 6,
      "outputs": []
    },
    {
      "cell_type": "code",
      "metadata": {
        "id": "BkjuyF3ZwwnK"
      },
      "source": [
        "p=0.2 #probability of success.\n",
        "dist=geom(p)\n",
        "dist_=binom(n,p)"
      ],
      "execution_count": 7,
      "outputs": []
    },
    {
      "cell_type": "markdown",
      "metadata": {
        "id": "nBv8HE_jyVPo"
      },
      "source": [
        "## Geometric Distribution."
      ]
    },
    {
      "cell_type": "code",
      "metadata": {
        "colab": {
          "base_uri": "https://localhost:8080/",
          "height": 265
        },
        "id": "PthXx0uDxLv7",
        "outputId": "a5a9f6bf-362e-4d6a-a6d6-34804e4dac4b"
      },
      "source": [
        "ax= sb.barplot(x=x, y=dist.pmf(x))"
      ],
      "execution_count": 16,
      "outputs": [
        {
          "output_type": "display_data",
          "data": {
            "image/png": "[encoded data removed]",
            "text/plain": [
              "<Figure size 432x288 with 1 Axes>"
            ]
          },
          "metadata": {
            "needs_background": "light"
          }
        }
      ]
    },
    {
      "cell_type": "markdown",
      "metadata": {
        "id": "BupuXWvtyf3n"
      },
      "source": [
        "## Binomial Distribution."
      ]
    },
    {
      "cell_type": "code",
      "metadata": {
        "colab": {
          "base_uri": "https://localhost:8080/",
          "height": 265
        },
        "id": "ur06kYUuxrmq",
        "outputId": "7cf59e4a-1d20-4695-ac3e-c53deaf6df0d"
      },
      "source": [
        "ax= sb.barplot(x=x, y=dist_.pmf(x))"
      ],
      "execution_count": 17,
      "outputs": [
        {
          "output_type": "display_data",
          "data": {
            "image/png": "[encoded data removed]",
            "text/plain": [
              "<Figure size 432x288 with 1 Axes>"
            ]
          },
          "metadata": {
            "needs_background": "light"
          }
        }
      ]
    },
    {
      "cell_type": "code",
      "metadata": {
        "id": "nfkuSsZdyLPa"
      },
      "source": [
        ""
      ],
      "execution_count": null,
      "outputs": []
    }
  ]
}